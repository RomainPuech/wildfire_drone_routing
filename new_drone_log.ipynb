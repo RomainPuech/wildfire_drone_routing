{
 "cells": [
  {
   "cell_type": "code",
   "execution_count": null,
   "metadata": {},
   "outputs": [],
   "source": [
    "import os\n",
    "import json\n",
    "from Strategy import RandomDroneRoutingStrategy \n"
   ]
  },
  {
   "cell_type": "code",
   "execution_count": null,
   "metadata": {},
   "outputs": [],
   "source": [
    "automatic_init_params = {\n",
    "    \"N\": 20,\n",
    "    \"M\": 20,\n",
    "    \"n_drones\": 2,\n",
    "    \"charging_stations_locations\": [(5, 5), (15, 15)],\n",
    "    \"n_charging_stations\": 2  # optional but helpful if you want this in filenames\n",
    "}\n",
    "\n",
    "custom_init_params = {\n",
    "    \"burnmap_filename\": \"/Users/josephye/Desktop/wildfire_drone_routing/MinimalDataset/0001/burn_map.npy\",\n",
    "    \"call_every_n_steps\": 3,\n",
    "    \"optimization_horizon\": 5,\n",
    "    \"logfile\": \"./MinimalDataset/0001/scenarii/logs\"\n",
    "}"
   ]
  },
  {
   "cell_type": "code",
   "execution_count": null,
   "metadata": {},
   "outputs": [],
   "source": [
    "# instantiate the strategy\n",
    "strategy = RandomDroneRoutingStrategy(automatic_init_params, custom_init_params)\n"
   ]
  },
  {
   "cell_type": "code",
   "execution_count": null,
   "metadata": {},
   "outputs": [
    {
     "data": {
      "text/plain": [
       "Initial drone locations: [(5, 5), (15, 15)]\n"
      ]
     },
     "metadata": {},
     "output_type": "display_data"
    }
   ],
   "source": [
    "initial_positions = strategy.get_initial_drone_locations()\n",
    "\n",
    "print(\"Initial drone locations:\", initial_positions)\n",
    "assert len(initial_positions) == automatic_init_params[\"n_drones\"]\n"
   ]
  },
  {
   "cell_type": "code",
   "execution_count": null,
   "metadata": {},
   "outputs": [
    {
     "data": {
      "text/plain": [
       "Timestep 0: actions -> [('move', (0, -2)), ('move', (-4, -5))]\n",
       "Timestep 1: actions -> [('move', (0, 1)), ('move', (2, -1))]\n",
       "Timestep 2: actions -> [('move', (-1, 1)), ('move', (-4, -2))]\n",
       "Timestep 3: actions -> [('move', (-3, 5)), ('move', (4, 4))]\n",
       "Timestep 4: actions -> [('move', (1, 3)), ('move', (-3, 4))]\n",
       "Timestep 5: actions -> [('move', (2, -2)), ('move', (-4, 5))]\n",
       "Timestep 6: actions -> [('move', (1, 4)), ('move', (0, 1))]\n",
       "Timestep 7: actions -> [('move', (2, 0)), ('move', (5, -4))]\n",
       "Timestep 8: actions -> [('move', (5, 0)), ('move', (3, 4))]\n",
       "Timestep 9: actions -> [('move', (-4, -1)), ('move', (-2, 3))]\n"
      ]
     },
     "metadata": {},
     "output_type": "display_data"
    }
   ],
   "source": [
    "# simulate next_actions() over 10 timesteps\n",
    "for t in range(10):\n",
    "    automatic_step_parameters = {\n",
    "        \"drone_locations\": initial_positions,\n",
    "        \"drone_batteries\": [(100, 100)] * automatic_init_params[\"n_drones\"],\n",
    "        \"t\": t\n",
    "    }\n",
    "\n",
    "    actions = strategy.next_actions(automatic_step_parameters, custom_step_parameters={})\n",
    "    \n",
    "    print(f\"Timestep {t}: actions -> {actions}\")\n",
    "    assert len(actions) == automatic_init_params[\"n_drones\"]\n"
   ]
  },
  {
   "cell_type": "code",
   "execution_count": null,
   "metadata": {},
   "outputs": [
    {
     "data": {
      "text/plain": [
       "Logged steps: 10\n"
      ]
     },
     "metadata": {},
     "output_type": "display_data"
    }
   ],
   "source": [
    "log_file_path = custom_init_params.get(\"logfile\", None)\n",
    "\n",
    "if log_file_path is None:\n",
    "    log_dir = custom_init_params.get(\"log_dir\", \"logs\")\n",
    "    log_file_path = strategy.log_file  # fallback to strategy's filename\n",
    "\n",
    "assert os.path.exists(log_file_path), f\"Log file {log_file_path} does not exist!\"\n",
    "\n",
    "with open(log_file_path, \"r\") as f:\n",
    "    log_data = json.load(f)\n",
    "\n",
    "print(\"Logged steps:\", len(log_data[\"steps\"]))\n",
    "assert \"steps\" in log_data\n",
    "assert len(log_data[\"steps\"]) == 10\n"
   ]
  }
 ],
 "metadata": {
  "language_info": {
   "name": "python"
  }
 },
 "nbformat": 4,
 "nbformat_minor": 2
}
