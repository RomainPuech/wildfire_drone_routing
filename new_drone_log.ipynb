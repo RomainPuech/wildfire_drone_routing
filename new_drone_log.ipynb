{
 "cells": [
  {
   "cell_type": "code",
   "execution_count": null,
   "metadata": {},
   "outputs": [],
   "source": [
    "import os\n",
    "import json\n",
    "from Strategy import LoggedDroneRoutingStrategy \n"
   ]
  },
  {
   "cell_type": "code",
   "execution_count": null,
   "metadata": {},
   "outputs": [],
   "source": [
    "automatic_init_params = {\n",
    "    \"N\": 20,\n",
    "    \"M\": 20,\n",
    "    \"n_drones\": 2,\n",
    "    \"charging_stations_locations\": [(5, 5), (15, 15)],\n",
    "    \"n_charging_stations\": 2  # optional but helpful if you want this in filenames\n",
    "}\n",
    "\n",
    "custom_init_params = {\n",
    "    \"burnmap_filename\": \"/Users/josephye/Desktop/wildfire_drone_routing/MinimalDataset/0001/burn_map.npy\",\n",
    "    \"call_every_n_steps\": 3,\n",
    "    \"optimization_horizon\": 5,\n",
    "    \"logfile\": \"./MinimalDataset/0001/scenarii/logs\"\n",
    "}"
   ]
  },
  {
   "cell_type": "code",
   "execution_count": null,
   "metadata": {},
   "outputs": [
    {
     "data": {
      "text/plain": [
       "[LoggedDroneRoutingStrategy] Initialized with log file: ./MinimalDataset/0001/scenarii/logs\n"
      ]
     },
     "metadata": {},
     "output_type": "display_data"
    }
   ],
   "source": [
    "# instantiate the strategy\n",
    "strategy = LoggedDroneRoutingStrategy(automatic_init_params, custom_init_params)\n"
   ]
  },
  {
   "cell_type": "code",
   "execution_count": null,
   "metadata": {},
   "outputs": [
    {
     "data": {
      "text/plain": [
       "[LoggedDroneRoutingStrategy] Log successfully written to ./MinimalDataset/0001/scenarii/logs\n",
       "Initial drone locations: [(5, 5), (15, 15)]\n"
      ]
     },
     "metadata": {},
     "output_type": "display_data"
    }
   ],
   "source": [
    "initial_positions = strategy.get_initial_drone_locations()\n",
    "\n",
    "print(\"Initial drone locations:\", initial_positions)\n",
    "assert len(initial_positions) == automatic_init_params[\"n_drones\"]\n"
   ]
  },
  {
   "cell_type": "code",
   "execution_count": null,
   "metadata": {},
   "outputs": [
    {
     "data": {
      "text/plain": [
       "[LoggedDroneRoutingStrategy] Calling dummy optimizer at timestep 0\n",
       "[Dummy Function] Generating dummy routing solution...\n",
       "[LoggedDroneRoutingStrategy] Dummy optimization finished\n",
       "[LoggedDroneRoutingStrategy] Writing log to ./MinimalDataset/0001/scenarii/logs at timestep 0\n",
       "[LoggedDroneRoutingStrategy] Log successfully written to ./MinimalDataset/0001/scenarii/logs\n",
       "Timestep 0: actions -> [('move', (1, 0)), ('move', (1, 0))]\n",
       "[LoggedDroneRoutingStrategy] Writing log to ./MinimalDataset/0001/scenarii/logs at timestep 1\n",
       "[LoggedDroneRoutingStrategy] Log successfully written to ./MinimalDataset/0001/scenarii/logs\n",
       "Timestep 1: actions -> [('charge', None), ('charge', None)]\n",
       "[LoggedDroneRoutingStrategy] Writing log to ./MinimalDataset/0001/scenarii/logs at timestep 2\n",
       "[LoggedDroneRoutingStrategy] Log successfully written to ./MinimalDataset/0001/scenarii/logs\n",
       "Timestep 2: actions -> [('move', (1, 0)), ('move', (1, 0))]\n",
       "[LoggedDroneRoutingStrategy] Calling dummy optimizer at timestep 3\n",
       "[Dummy Function] Generating dummy routing solution...\n",
       "[LoggedDroneRoutingStrategy] Dummy optimization finished\n",
       "[LoggedDroneRoutingStrategy] Writing log to ./MinimalDataset/0001/scenarii/logs at timestep 3\n",
       "[LoggedDroneRoutingStrategy] Log successfully written to ./MinimalDataset/0001/scenarii/logs\n",
       "Timestep 3: actions -> [('move', (1, 0)), ('move', (1, 0))]\n",
       "[LoggedDroneRoutingStrategy] Writing log to ./MinimalDataset/0001/scenarii/logs at timestep 4\n",
       "[LoggedDroneRoutingStrategy] Log successfully written to ./MinimalDataset/0001/scenarii/logs\n",
       "Timestep 4: actions -> [('charge', None), ('charge', None)]\n",
       "[LoggedDroneRoutingStrategy] Writing log to ./MinimalDataset/0001/scenarii/logs at timestep 5\n",
       "[LoggedDroneRoutingStrategy] Log successfully written to ./MinimalDataset/0001/scenarii/logs\n",
       "Timestep 5: actions -> [('move', (1, 0)), ('move', (1, 0))]\n",
       "[LoggedDroneRoutingStrategy] Calling dummy optimizer at timestep 6\n",
       "[Dummy Function] Generating dummy routing solution...\n",
       "[LoggedDroneRoutingStrategy] Dummy optimization finished\n",
       "[LoggedDroneRoutingStrategy] Writing log to ./MinimalDataset/0001/scenarii/logs at timestep 6\n",
       "[LoggedDroneRoutingStrategy] Log successfully written to ./MinimalDataset/0001/scenarii/logs\n",
       "Timestep 6: actions -> [('move', (1, 0)), ('move', (1, 0))]\n",
       "[LoggedDroneRoutingStrategy] Writing log to ./MinimalDataset/0001/scenarii/logs at timestep 7\n",
       "[LoggedDroneRoutingStrategy] Log successfully written to ./MinimalDataset/0001/scenarii/logs\n",
       "Timestep 7: actions -> [('charge', None), ('charge', None)]\n",
       "[LoggedDroneRoutingStrategy] Writing log to ./MinimalDataset/0001/scenarii/logs at timestep 8\n",
       "[LoggedDroneRoutingStrategy] Log successfully written to ./MinimalDataset/0001/scenarii/logs\n",
       "Timestep 8: actions -> [('move', (1, 0)), ('move', (1, 0))]\n",
       "[LoggedDroneRoutingStrategy] Calling dummy optimizer at timestep 9\n",
       "[Dummy Function] Generating dummy routing solution...\n",
       "[LoggedDroneRoutingStrategy] Dummy optimization finished\n",
       "[LoggedDroneRoutingStrategy] Writing log to ./MinimalDataset/0001/scenarii/logs at timestep 9\n",
       "[LoggedDroneRoutingStrategy] Log successfully written to ./MinimalDataset/0001/scenarii/logs\n",
       "Timestep 9: actions -> [('move', (1, 0)), ('move', (1, 0))]\n"
      ]
     },
     "metadata": {},
     "output_type": "display_data"
    }
   ],
   "source": [
    "# simulate next_actions() over 10 timesteps\n",
    "for t in range(10):\n",
    "    automatic_step_parameters = {\n",
    "        \"drone_locations\": initial_positions,\n",
    "        \"drone_batteries\": [(100, 100)] * automatic_init_params[\"n_drones\"],\n",
    "        \"t\": t\n",
    "    }\n",
    "\n",
    "    actions = strategy.next_actions(automatic_step_parameters, custom_step_parameters={})\n",
    "    \n",
    "    print(f\"Timestep {t}: actions -> {actions}\")\n",
    "    assert len(actions) == automatic_init_params[\"n_drones\"]\n"
   ]
  },
  {
   "cell_type": "code",
   "execution_count": null,
   "metadata": {},
   "outputs": [
    {
     "data": {
      "text/plain": [
       "Logged steps: 10\n"
      ]
     },
     "metadata": {},
     "output_type": "display_data"
    }
   ],
   "source": [
    "log_file_path = custom_init_params.get(\"logfile\", None)\n",
    "\n",
    "if log_file_path is None:\n",
    "    log_dir = custom_init_params.get(\"log_dir\", \"logs\")\n",
    "    log_file_path = strategy.log_file  # fallback to strategy's filename\n",
    "\n",
    "assert os.path.exists(log_file_path), f\"Log file {log_file_path} does not exist!\"\n",
    "\n",
    "with open(log_file_path, \"r\") as f:\n",
    "    log_data = json.load(f)\n",
    "\n",
    "print(\"Logged steps:\", len(log_data[\"steps\"]))\n",
    "assert \"steps\" in log_data\n",
    "assert len(log_data[\"steps\"]) == 10\n"
   ]
  }
 ],
 "metadata": {
  "language_info": {
   "name": "python"
  }
 },
 "nbformat": 4,
 "nbformat_minor": 2
}
