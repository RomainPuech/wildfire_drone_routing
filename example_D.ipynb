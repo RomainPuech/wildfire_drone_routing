{
 "cells": [
  {
   "cell_type": "markdown",
   "metadata": {},
   "source": [
    "## Preprocess the Sim2Real dataset\n",
    "\n",
    "The Sim2Real dataset uses jpeg images to represent wildfire masks. This representation is very lightweight but slow to work with. \n",
    "To benchmark faster, we convert them to binary NumPy files. These files are ~100 times heavier and it requires an overhead time to convert from jpeg to them, but once they are created and stored, they allow 50--100x faster operations.\n",
    "\n",
    "1. Download the dataset from [Sim2Real-Fire GitHub repository](https://github.com/TJU-IDVLab/Sim2Real-Fire).\n",
    "2. Extract all files from the dataset into your `Dataset` folder\n",
    "3. Run the preprocessing function to convert from the jpeg representation to the NumPy one, and compute burn maps"
   ]
  },
  {
   "cell_type": "code",
   "execution_count": 1,
   "metadata": {},
   "outputs": [
    {
     "name": "stdout",
     "output_type": "stream",
     "text": [
      "dict_keys(['sys', 'builtins', '_frozen_importlib', '_imp', '_thread', '_warnings', '_weakref', '_io', 'marshal', 'posix', '_frozen_importlib_external', 'time', 'zipimport', '_codecs', 'codecs', 'encodings.aliases', 'encodings', 'encodings.utf_8', '_signal', '_abc', 'abc', 'io', '__main__', '_stat', 'stat', '_collections_abc', 'genericpath', 'posixpath', 'os.path', 'os', '_sitebuiltins', '_distutils_hack', 'site', 'importlib._bootstrap', 'importlib._bootstrap_external', 'warnings', 'importlib', 'importlib.machinery', 'importlib._abc', 'itertools', 'keyword', '_operator', 'operator', 'reprlib', '_collections', 'collections', 'types', '_functools', 'functools', '_weakrefset', 'threading', 'importlib.util', 'runpy', 'enum', '_sre', 're._constants', 're._parser', 're._casefix', 're._compiler', 'copyreg', 're', 'fnmatch', 'ntpath', 'errno', 'urllib', 'math', 'ipaddress', 'urllib.parse', 'pathlib', 'collections.abc', 'contextlib', '_typing', 'typing.io', 'typing.re', 'typing', 'ipykernel._version', '__future__', '_json', 'json.scanner', 'json.decoder', 'json.encoder', 'json', '_locale', 'locale', 'signal', 'fcntl', '_posixsubprocess', 'select', 'selectors', 'subprocess', 'jupyter_client._version', 'platform', 'zmq.backend.select', 'cython_runtime', '_cython_3_0_10', 'weakref', 'zmq.constants', 'zmq.error', 'zmq.backend.cython._zmq', 'zmq.backend.cython', 'zmq.backend', 'atexit', 'zmq._typing', 'zmq.utils', 'zmq.utils.interop', 'zmq.sugar.attrsettr', '_struct', 'struct', '_compat_pickle', '_pickle', 'pickle', '_bisect', 'bisect', '_random', '_sha2', 'random', 'zmq.utils.jsonapi', 'zmq.sugar.poll', 'zmq.sugar.socket', 'zmq.sugar.context', 'zmq.sugar.frame', 'zmq.sugar.tracker', 'zmq.sugar.version', 'zmq.sugar.stopwatch', 'zmq.sugar', 'zmq', 'concurrent', 'token', '_tokenize', 'tokenize', 'linecache', 'textwrap', 'traceback', '_string', 'string', 'logging', 'concurrent.futures._base', 'concurrent.futures', '_heapq', 'heapq', '_socket', 'array', 'socket', '_ssl', 'binascii', 'base64', 'ssl', 'asyncio.constants', '_ast', 'ast', '_opcode', 'opcode', 'dis', 'inspect', 'asyncio.coroutines', '_contextvars', 'contextvars', 'asyncio.format_helpers', 'asyncio.base_futures', 'asyncio.exceptions', 'asyncio.base_tasks', '_asyncio', 'asyncio.events', 'asyncio.futures', 'asyncio.protocols', 'asyncio.transports', 'asyncio.log', 'asyncio.sslproto', 'asyncio.mixins', 'asyncio.locks', 'asyncio.timeouts', 'asyncio.tasks', 'asyncio.staggered', 'asyncio.trsock', 'asyncio.base_events', 'asyncio.runners', 'asyncio.queues', 'asyncio.streams', 'asyncio.subprocess', 'asyncio.taskgroups', 'asyncio.threads', 'asyncio.base_subprocess', 'asyncio.selector_events', 'asyncio.unix_events', 'asyncio', 'zmq._future', 'zmq.asyncio', 'traitlets.utils', 'traitlets.utils.bunch', 'traitlets.utils.descriptions', 'traitlets.utils.getargspec', 'traitlets.utils.importstring', 'traitlets.utils.sentinel', 'traitlets.utils.warnings', 'traitlets.traitlets', 'traitlets._version', 'copy', 'traitlets.utils.decorators', 'traitlets', '_queue', 'queue', 'jupyter_core.version', 'jupyter_core', 'jupyter_core.utils', 'jupyter_client.channelsabc', '_hashlib', '_blake2', 'hashlib', 'hmac', 'dataclasses', 'pprint', '_datetime', 'datetime', 'tornado', 'numbers', 'logging.handlers', 'html.entities', 'html', 'zlib', 'tornado.speedups', 'tornado.util', 'tornado.escape', '_curses', 'curses', 'tornado.log', 'tornado.concurrent', 'tornado.ioloop', 'socketserver', 'logging.config', 'traitlets.utils.text', 'gettext', 'argparse', 'traitlets.config.loader', 'traitlets.config.configurable', 'traitlets.utils.nested_update', 'traitlets.config.application', 'traitlets.config', 'traitlets.log', 'zmq.eventloop', 'zmq.eventloop.zmqstream', 'jupyter_client.adapter', 'dateutil._version', 'dateutil', 'calendar', 'six', '_decimal', 'decimal', 'dateutil._common', 'dateutil.relativedelta', 'six.moves', 'dateutil.tz._common', 'dateutil.tz._factories', 'dateutil.tz.tz', 'dateutil.tz', 'dateutil.parser._parser', 'dateutil.parser.isoparser', 'dateutil.parser', '_strptime', 'jupyter_client.jsonutil', 'jupyter_client.session', 'jupyter_client.channels', 'termios', 'getpass', 'jupyter_client.clientabc', 'glob', '_compression', '_bz2', 'bz2', '_lzma', 'lzma', 'shutil', 'tempfile', 'platformdirs.api', 'platformdirs.version', 'platformdirs.macos', 'platformdirs', 'jupyter_core.paths', 'jupyter_client.localinterfaces', 'jupyter_client.utils', 'jupyter_client.connect', 'jupyter_client.client', 'jupyter_client.asynchronous.client', 'jupyter_client.asynchronous', 'jupyter_client.blocking.client', 'jupyter_client.blocking', 'jupyter_client.launcher', '_uuid', 'uuid', '_csv', 'csv', 'email', 'zipfile._path.glob', 'zipfile._path', 'zipfile', 'quopri', 'email._parseaddr', 'email.base64mime', 'email.quoprimime', 'email.errors', 'email.encoders', 'email.charset', 'email.utils', 'email.header', 'email._policybase', 'email._encoded_words', 'email.iterators', 'email.message', 'importlib.metadata._functools', 'importlib.metadata._text', 'importlib.metadata._adapters', 'importlib.metadata._meta', 'importlib.metadata._collections', 'importlib.metadata._itertools', 'importlib.resources.abc', 'importlib.resources._adapters', 'importlib.resources._common', 'importlib.resources._legacy', 'importlib.resources', 'importlib.abc', 'importlib.metadata', 'jupyter_client.provisioning.provisioner_base', 'jupyter_client.provisioning.factory', 'jupyter_client.provisioning.local_provisioner', 'jupyter_client.provisioning', 'jupyter_client.kernelspec', 'jupyter_client.managerabc', 'jupyter_client.manager', 'jupyter_client.multikernelmanager', 'jupyter_client', 'ipykernel.connect', 'ipykernel', 'IPython.core', 'IPython.core.getipython', 'IPython.core.release', 'pkgutil', 'sysconfig', '_sysconfigdata__darwin_darwin', '_osx_support', 'pydoc', 'executing._exceptions', 'executing._position_node_finder', 'executing.executing', 'executing.version', 'executing', 'asttokens.line_numbers', 'asttokens.util', 'asttokens.asttokens', 'asttokens', 'fractions', 'pure_eval.utils', 'pure_eval.my_getattr_static', 'pure_eval.core', 'pure_eval.version', 'pure_eval', 'stack_data.utils', 'stack_data.core', 'stack_data.formatting', 'stack_data.serializing', 'stack_data.version', 'stack_data', 'pygments', 'pygments.formatters._mapping', 'pygments.plugin', 'pygments.util', 'pygments.formatters', 'pygments.styles._mapping', 'pygments.styles', 'pygments.formatter', 'pygments.console', 'pygments.token', 'pygments.style', 'pygments.formatters.terminal256', 'IPython.utils', 'IPython.utils.colorable', 'IPython.utils.ipstruct', 'IPython.utils.coloransi', 'IPython.core.excolors', 'IPython.utils.PyColorize', 'IPython.utils.encoding', 'IPython.utils.py3compat', 'cmd', 'bdb', 'codeop', 'code', 'pdb', 'IPython.core.debugger', 'IPython.core.display_trap', 'shlex', 'IPython.utils._process_common', 'IPython.utils._process_posix', 'IPython.utils.process', 'IPython.utils.path', 'IPython.utils.terminal', 'IPython.core.ultratb', 'IPython.utils._sysinfo', 'IPython.utils.sysinfo', 'IPython.core.crashhandler', 'IPython.utils.importstring', 'IPython.paths', 'IPython.core.profiledir', 'IPython.core.application', 'IPython.terminal', 'IPython.core.compilerop', 'IPython.core.error', 'IPython.utils.docs', 'IPython.utils.decorators', 'IPython.utils.text', 'IPython.core.magic_arguments', 'getopt', 'IPython.core.display_functions', 'mimetypes', 'IPython.testing', 'IPython.testing.skipdoctest', 'IPython.core.display', 'IPython.lib', 'IPython.lib.display', 'IPython.display', 'IPython.utils.data', 'IPython.core.page', 'IPython.lib.pretty', 'IPython.utils.openpy', 'IPython.utils.dir2', 'IPython.utils.wildcard', 'pygments.lexers._mapping', 'pygments.modeline', 'pygments.lexers', 'pygments.filter', 'pygments.filters', 'pygments.regexopt', 'pygments.lexer', 'pygments.unistring', 'pygments.lexers.python', 'pygments.formatters.html', 'IPython.core.oinspect', 'IPython.utils.tokenutil', 'IPython.core.inputtransformer2', 'IPython.core.magic', 'IPython.core.hooks', 'IPython.core.autocall', 'IPython.core.macro', 'IPython.core.splitinput', 'IPython.core.prefilter', 'IPython.core.alias', 'IPython.core.builtin_trap', 'IPython.core.displayhook', 'IPython.core.displaypub', 'IPython.core.events', 'IPython.core.extensions', 'decorator', 'IPython.utils.sentinel', 'IPython.core.formatters', '_sqlite3', 'sqlite3.dbapi2', 'sqlite3', 'IPython.core.history', 'IPython.core.logger', 'IPython.core.payload', 'IPython.core.usage', 'IPython.utils.capture', 'IPython.utils.io', 'IPython.utils.strdispatch', 'IPython.utils.syspathcontext', 'IPython.core.async_helpers', 'IPython.core.interactiveshell', 'prompt_toolkit.application.current', 'prompt_toolkit.eventloop.utils', 'prompt_toolkit.eventloop.async_generator', 'prompt_toolkit.eventloop.inputhook', 'prompt_toolkit.eventloop', 'prompt_toolkit.application.run_in_terminal', 'prompt_toolkit.selection', 'prompt_toolkit.clipboard.base', 'prompt_toolkit.clipboard.in_memory', 'prompt_toolkit.clipboard', 'prompt_toolkit.cache', 'prompt_toolkit.enums', 'prompt_toolkit.filters.base', 'prompt_toolkit.filters.app', 'prompt_toolkit.filters.cli', 'prompt_toolkit.filters.utils', 'prompt_toolkit.filters', 'prompt_toolkit.document', 'prompt_toolkit.auto_suggest', 'prompt_toolkit.keys', 'prompt_toolkit.key_binding.key_bindings', 'wcwidth.table_vs16', 'wcwidth.table_wide', 'wcwidth.table_zero', 'wcwidth.unicode_versions', 'wcwidth.wcwidth', 'wcwidth', 'prompt_toolkit.utils', 'prompt_toolkit.key_binding.key_processor', 'prompt_toolkit.key_binding', 'prompt_toolkit.key_binding.vi_state', 'prompt_toolkit.cursor_shapes', 'prompt_toolkit.data_structures', 'prompt_toolkit.styles.base', 'prompt_toolkit.styles.named_colors', 'prompt_toolkit.styles.style', 'prompt_toolkit.styles.defaults', 'prompt_toolkit.styles.pygments', 'colorsys', 'prompt_toolkit.styles.style_transformation', 'prompt_toolkit.styles', 'prompt_toolkit.output.color_depth', 'prompt_toolkit.output.base', 'prompt_toolkit.output.flush_stdout', 'prompt_toolkit.output.plain_text', 'prompt_toolkit.output.defaults', 'prompt_toolkit.output', 'prompt_toolkit.output.vt100', 'prompt_toolkit.mouse_events', 'prompt_toolkit.formatted_text.base', 'prompt_toolkit.formatted_text.ansi', 'xml', 'xml.dom.domreg', 'xml.dom', 'xml.dom.minicompat', 'xml.dom.NodeFilter', 'xml.dom.xmlbuilder', 'xml.dom.minidom', 'prompt_toolkit.formatted_text.html', 'prompt_toolkit.formatted_text.pygments', 'prompt_toolkit.formatted_text.utils', 'prompt_toolkit.formatted_text', 'prompt_toolkit.completion.base', 'prompt_toolkit.completion.deduplicate', 'prompt_toolkit.completion.filesystem', 'prompt_toolkit.completion.word_completer', 'prompt_toolkit.completion.fuzzy_completer', 'prompt_toolkit.completion.nested', 'prompt_toolkit.completion', 'prompt_toolkit.history', 'prompt_toolkit.search', 'prompt_toolkit.validation', 'prompt_toolkit.buffer', 'prompt_toolkit.input.base', 'prompt_toolkit.input.defaults', 'prompt_toolkit.input', 'prompt_toolkit.input.typeahead', 'prompt_toolkit.key_binding.bindings', 'prompt_toolkit.key_binding.bindings.scroll', 'prompt_toolkit.key_binding.bindings.page_navigation', 'prompt_toolkit.lexers.base', 'prompt_toolkit.lexers.pygments', 'prompt_toolkit.lexers', 'prompt_toolkit.layout.utils', 'prompt_toolkit.layout.processors', 'prompt_toolkit.layout.controls', 'prompt_toolkit.layout.dimension', 'prompt_toolkit.layout.margins', 'prompt_toolkit.layout.mouse_handlers', 'prompt_toolkit.layout.screen', 'prompt_toolkit.layout.containers', 'prompt_toolkit.layout.layout', 'prompt_toolkit.layout.menus', 'prompt_toolkit.layout.scrollable_pane', 'prompt_toolkit.layout', 'prompt_toolkit.key_binding.bindings.completion', 'prompt_toolkit.key_binding.bindings.named_commands', 'prompt_toolkit.key_binding.bindings.basic', 'prompt_toolkit.key_binding.bindings.cpr', 'prompt_toolkit.key_binding.bindings.emacs', 'prompt_toolkit.key_binding.bindings.mouse', 'prompt_toolkit.input.ansi_escape_sequences', 'prompt_toolkit.input.vt100_parser', 'prompt_toolkit.key_binding.digraphs', 'prompt_toolkit.key_binding.bindings.vi', 'prompt_toolkit.key_binding.defaults', 'prompt_toolkit.key_binding.emacs_state', 'prompt_toolkit.layout.dummy', 'prompt_toolkit.renderer', 'prompt_toolkit.application.application', 'prompt_toolkit.application.dummy', 'prompt_toolkit.application', 'prompt_toolkit.key_binding.bindings.focus', 'prompt_toolkit.widgets.toolbars', 'prompt_toolkit.widgets.base', 'prompt_toolkit.widgets.dialogs', 'prompt_toolkit.widgets.menus', 'prompt_toolkit.widgets', 'prompt_toolkit.shortcuts.dialogs', 'prompt_toolkit.shortcuts.progress_bar.formatters', 'prompt_toolkit.shortcuts.progress_bar.base', 'prompt_toolkit.shortcuts.progress_bar', 'prompt_toolkit.key_binding.bindings.auto_suggest', 'prompt_toolkit.key_binding.bindings.open_in_editor', 'prompt_toolkit.shortcuts.prompt', 'prompt_toolkit.shortcuts.utils', 'prompt_toolkit.shortcuts', 'prompt_toolkit', 'prompt_toolkit.patch_stdout', 'unicodedata', 'IPython.core.guarded_eval', 'IPython.core.latex_symbols', 'IPython.utils.generics', 'parso.utils', 'parso.tree', 'parso.python', 'parso.python.token', 'parso.python.tokenize', 'parso.pgen2.grammar_parser', 'parso.pgen2.generator', 'parso.pgen2', 'parso.parser', 'parso._compatibility', 'difflib', 'parso.python.prefix', 'parso.python.tree', 'parso.python.parser', 'parso.python.diff', 'gc', 'parso.cache', 'parso.normalizer', 'parso.python.errors', 'parso.python.pep8', 'parso.file_io', 'parso.grammar', 'parso', 'jedi.parser_utils', 'jedi.debug', 'jedi.settings', 'jedi.cache', 'jedi.file_io', 'jedi.inference.cache', 'jedi.inference.helpers', 'jedi.inference.utils', 'jedi.inference.base_value', 'jedi.inference.sys_path', 'jedi.inference.recursion', 'jedi.inference.flow_analysis', 'jedi.common', 'jedi.inference.lazy_value', 'jedi.inference.docstrings', 'jedi.plugins', 'jedi.inference.names', 'jedi.inference.filters', 'jedi.inference.compiled.getattr_static', 'jedi.inference.compiled.access', 'jedi.inference.signature', 'jedi.inference.context', 'jedi.inference.compiled.value', 'jedi.inference.compiled', 'jedi.inference.analysis', 'jedi.inference.gradual', 'jedi.inference.value.module', 'jedi.inference.value.dynamic_arrays', 'jedi.inference.value.iterable', 'jedi.inference.arguments', 'jedi.inference.parser_cache', 'jedi.inference.gradual.generics', 'jedi.inference.value.function', 'jedi.inference.value.klass', 'jedi.inference.value.instance', 'jedi.inference.value', 'jedi.inference.gradual.base', 'jedi.inference.gradual.type_var', 'jedi.inference.gradual.typing', 'jedi.inference.gradual.stub_value', 'jedi.inference.gradual.typeshed', 'jedi._compatibility', 'jedi.inference.compiled.subprocess.functions', 'jedi.api.exceptions', 'jedi.inference.compiled.subprocess', 'jedi.inference.imports', 'jedi.inference.param', 'jedi.inference.gradual.annotation', 'jedi.inference.value.decorator', 'jedi.inference.syntax_tree', 'jedi.inference', 'jedi.inference.gradual.conversion', 'jedi.inference.compiled.mixed', 'pydoc_data', 'pydoc_data.topics', 'jedi.api.keywords', 'jedi.api.completion_cache', 'jedi.api.helpers', 'jedi.api.classes', 'jedi.api.interpreter', 'jedi.api.strings', 'jedi.api.file_name', 'jedi.inference.docstring_utils', 'jedi.api.completion', 'filecmp', 'jedi.api.environment', 'jedi.inference.references', 'jedi.api.project', 'jedi.api.errors', 'jedi.inference.value.namespace', 'jedi.api.refactoring', 'jedi.api.refactoring.extract', 'jedi.inference.gradual.utils', 'jedi.api', 'jedi.plugins.stdlib', 'jedi.plugins.flask', 'jedi.plugins.pytest', 'jedi.plugins.django', 'jedi.plugins.registry', 'jedi', 'IPython.core.completer', 'IPython.terminal.ptutils', 'IPython.terminal.shortcuts.auto_match', 'IPython.terminal.shortcuts.filters', 'IPython.terminal.shortcuts.auto_suggest', 'IPython.terminal.shortcuts', 'concurrent.futures.thread', 'IPython.terminal.debugger', 'IPython.lib.clipboard', 'IPython.terminal.magics', 'IPython.terminal.pt_inputhooks', 'IPython.terminal.prompts', 'IPython.terminal.interactiveshell', 'IPython.core.magics.auto', 'IPython.core.magics.basic', 'http', 'email.feedparser', 'email.parser', 'http.client', 'urllib.response', 'urllib.error', '_scproxy', 'urllib.request', 'IPython.utils.contexts', 'IPython.core.magics.code', 'IPython.core.magics.config', 'IPython.core.magics.display', '_lsprof', 'profile', 'cProfile', 'pstats', 'timeit', 'IPython.utils.module_paths', 'resource', 'IPython.utils.timing', 'IPython.core.magics.ast_mod', 'IPython.core.magics.execution', 'IPython.core.magics.extension', 'IPython.core.magics.history', 'IPython.core.magics.logging', 'IPython.core.magics.namespace', 'IPython.core.magics.osm', 'IPython.core.magics.packaging', 'IPython.core.magics.pylab', 'IPython.core.magics.script', 'IPython.core.magics', 'IPython.core.shellapp', 'IPython.extensions', 'IPython.extensions.storemagic', 'IPython.terminal.ipapp', 'IPython.terminal.embed', 'IPython.utils.frame', 'IPython', 'ipykernel.control', 'ipykernel.heartbeat', 'ipykernel.iostream', 'comm.base_comm', 'comm', 'ipykernel.jsonutil', 'pwd', 'psutil._common', 'psutil._compat', 'psutil._psutil_osx', 'psutil._psposix', 'psutil._psutil_posix', 'psutil._psosx', 'psutil', 'tornado.gen', 'tornado.locks', 'tornado.queues', 'ipykernel.kernelbase', 'ipykernel.comm.comm', 'ipykernel.comm.manager', 'ipykernel.comm', 'ipykernel.compiler', 'packaging', 'packaging._structures', 'packaging.version', 'ipykernel.eventloops', 'IPython.core.payloadpage', 'ipykernel.displayhook', 'ipykernel.zmqshell', 'ipykernel.ipkernel', '_ctypes', 'ctypes._endian', 'ctypes', 'ipykernel.parentpoller', 'ipykernel.kernelapp', 'tornado.platform', 'tornado.platform.asyncio', 'faulthandler', 'debugpy._version', 'debugpy.public_api', 'debugpy', 'debugpy._vendored._util', 'debugpy._vendored', '_pydevd_bundle', 'encodings.ascii', 'encodings.latin_1', 'stringprep', 'encodings.idna', '_pydevd_bundle.pydevd_vm_type', '_pydev_bundle', 'xmlrpc', 'xml.parsers', 'pyexpat.errors', 'pyexpat.model', 'pyexpat', 'xml.parsers.expat.model', 'xml.parsers.expat.errors', 'xml.parsers.expat', 'gzip', 'xmlrpc.client', 'http.server', 'xmlrpc.server', '_pydev_bundle._pydev_saved_modules', '_pydevd_bundle.pydevd_constants', '_pydev_runfiles', '_pydevd_frame_eval', 'pydev_ipython', 'pydevd_plugins', '_pydev_bundle.pydev_log', '_pydev_bundle._pydev_filesystem_encoding', '_pydevd_bundle.pydevd_comm_constants', 'pydevd_file_utils', '_pydev_bundle._pydev_execfile', '_pydevd_bundle.pydevd_exec2', '_pydev_bundle.pydev_imports', '_pydev_bundle.pydev_is_thread_alive', '_pydev_bundle.pydev_override', 'pydevd_plugins.extensions', '_pydevd_bundle.pydevd_extension_utils', '_pydevd_bundle.pydevd_frame_utils', '_pydevd_bundle.pydevd_filtering', '_pydevd_bundle.pydevd_io', '_pydevd_bundle.pydevd_defaults', '_pydevd_bundle.pydevd_utils', '_pydevd_bundle.pydevd_runpy', '_pydev_bundle._pydev_tipper_common', '_pydev_bundle._pydev_imports_tipper', '_pydev_bundle._pydev_calltip_util', '_pydevd_bundle.pydevd_safe_repr', '_pydevd_bundle.pydevd_resolver', '_pydevd_bundle.pydevd_extension_api', '_pydevd_bundle.pydevd_xml', '_pydevd_bundle.pydevd_dont_trace', '_pydevd_frame_eval.vendored', '_pydevd_frame_eval.vendored.bytecode.flags', '_pydevd_frame_eval.vendored.bytecode.instr', '_pydevd_frame_eval.vendored.bytecode.bytecode', '_pydevd_frame_eval.vendored.bytecode.concrete', '_pydevd_frame_eval.vendored.bytecode.cfg', '_pydevd_frame_eval.vendored.bytecode', '_pydevd_bundle.pydevd_bytecode_utils', '_pydevd_bundle.pydevd_frame', '_pydevd_bundle.pydevd_additional_thread_info_regular', '_pydevd_bundle.pydevd_additional_thread_info', '_pydevd_bundle.pydevd_thread_lifecycle', '_pydevd_bundle.pydevd_save_locals', '_pydev_bundle.pydev_monkey', 'pydevd_tracing', '_pydevd_bundle.pydevd_collect_bytecode_info', '_pydevd_bundle.pydevd_daemon_thread', '_pydevd_bundle.pydevd_timeout', '_pydevd_bundle.pydevd_vars', '_pydev_bundle.pydev_console_utils', '_pydevd_bundle.pydevd_import_class', '_pydevd_bundle.pydevd_breakpoints', '_pydevd_bundle.pydevd_custom_frames', '_pydevd_bundle.pydevd_dont_trace_files', '_pydevd_bundle.pydevd_net_command', '_pydevd_bundle.pydevconsole_code', '_pydev_bundle.pydev_umd', 'pydevconsole', '_pydev_bundle._pydev_completer', '_pydevd_bundle.pydevd_net_command_factory_xml', '_pydevd_bundle.pydevd_trace_dispatch_regular', '_pydevd_bundle.pydevd_trace_dispatch', '_pydevd_frame_eval.pydevd_frame_eval_main', '_pydevd_bundle.pydevd_source_mapping', '_pydevd_bundle.pydevd_concurrency_analyser', '_pydevd_bundle.pydevd_concurrency_analyser.pydevd_thread_wrappers', '_pydevd_bundle.pydevd_concurrency_analyser.pydevd_concurrency_logger', '_pydevd_bundle._debug_adapter', '_pydevd_bundle._debug_adapter.pydevd_schema_log', '_pydevd_bundle._debug_adapter.pydevd_base_schema', '_pydevd_bundle._debug_adapter.pydevd_schema', '_pydevd_bundle.pydevd_reload', '_pydev_bundle.fsnotify', '_pydevd_bundle.pydevd_console', '_pydevd_bundle.pydevd_comm', '_pydevd_bundle.pydevd_net_command_factory_json', '_pydevd_bundle.pydevd_api', '_pydevd_bundle.pydevd_json_debug_options', '_pydevd_bundle.pydevd_process_net_command_json', '_pydevd_bundle.pydevd_traceproperty', '_pydevd_bundle.pydevd_process_net_command', '_pydevd_bundle.pydevd_suspended_frames', '_pydevd_bundle.pydevd_trace_api', 'pydevd_plugins.pydevd_line_validation', 'pydevd_plugins.django_debug', 'pydevd_plugins.jinja2_debug', '_pydevd_bundle.pydevd_plugin_utils', 'pydevd_plugins.extensions.types', 'pydevd_plugins.extensions.types.pydevd_helpers', 'pydevd_plugins.extensions.types.pydevd_plugin_numpy_types', 'pydevd_plugins.extensions.types.pydevd_plugin_pandas_types', 'pydevd_plugins.extensions.types.pydevd_plugins_django_form_str', 'pydevd', 'debugpy._vendored.force_pydevd', 'debugpy.server', 'debugpy.adapter', 'debugpy.common', 'debugpy.common.json', 'debugpy.common.timestamp', 'debugpy.common.util', 'plistlib', 'debugpy.common.log', 'debugpy.common.sockets', 'debugpy.server.api', 'ipykernel.debugger', 'IPython.core.completerlib', 'ctypes.macholib', 'ctypes.macholib.framework', 'ctypes.macholib.dylib', 'ctypes.macholib.dyld', 'ctypes.util', 'appnope._nope', 'appnope', 'vscode'])\n",
      "['/Library/Frameworks/Python.framework/Versions/3.12/lib/python312.zip', '/Library/Frameworks/Python.framework/Versions/3.12/lib/python3.12', '/Library/Frameworks/Python.framework/Versions/3.12/lib/python3.12/lib-dynload', '', '/Library/Frameworks/Python.framework/Versions/3.12/lib/python3.12/site-packages']\n"
     ]
    }
   ],
   "source": [
    "import sys\n",
    "print(sys.modules.keys())\n",
    "print(sys.path)\n",
    "\n"
   ]
  },
  {
   "cell_type": "code",
   "execution_count": 1,
   "metadata": {},
   "outputs": [
    {
     "name": "stdout",
     "output_type": "stream",
     "text": [
      "Requirement already satisfied: numpy in /Library/Frameworks/Python.framework/Versions/3.12/lib/python3.12/site-packages (from -r requirements.txt (line 1)) (1.26.4)\n",
      "Requirement already satisfied: opencv-python in /Library/Frameworks/Python.framework/Versions/3.12/lib/python3.12/site-packages (from -r requirements.txt (line 2)) (4.11.0.86)\n",
      "Requirement already satisfied: matplotlib in /Library/Frameworks/Python.framework/Versions/3.12/lib/python3.12/site-packages (from -r requirements.txt (line 3)) (3.9.0)\n",
      "Requirement already satisfied: tqdm in /Library/Frameworks/Python.framework/Versions/3.12/lib/python3.12/site-packages (from -r requirements.txt (line 4)) (4.67.1)\n",
      "Requirement already satisfied: juliacall in /Library/Frameworks/Python.framework/Versions/3.12/lib/python3.12/site-packages (from -r requirements.txt (line 5)) (0.9.24)\n",
      "Requirement already satisfied: contourpy>=1.0.1 in /Library/Frameworks/Python.framework/Versions/3.12/lib/python3.12/site-packages (from matplotlib->-r requirements.txt (line 3)) (1.2.1)\n",
      "Requirement already satisfied: cycler>=0.10 in /Library/Frameworks/Python.framework/Versions/3.12/lib/python3.12/site-packages (from matplotlib->-r requirements.txt (line 3)) (0.12.1)\n",
      "Requirement already satisfied: fonttools>=4.22.0 in /Library/Frameworks/Python.framework/Versions/3.12/lib/python3.12/site-packages (from matplotlib->-r requirements.txt (line 3)) (4.51.0)\n",
      "Requirement already satisfied: kiwisolver>=1.3.1 in /Library/Frameworks/Python.framework/Versions/3.12/lib/python3.12/site-packages (from matplotlib->-r requirements.txt (line 3)) (1.4.5)\n",
      "Requirement already satisfied: packaging>=20.0 in /Library/Frameworks/Python.framework/Versions/3.12/lib/python3.12/site-packages (from matplotlib->-r requirements.txt (line 3)) (24.0)\n",
      "Requirement already satisfied: pillow>=8 in /Library/Frameworks/Python.framework/Versions/3.12/lib/python3.12/site-packages (from matplotlib->-r requirements.txt (line 3)) (10.3.0)\n",
      "Requirement already satisfied: pyparsing>=2.3.1 in /Library/Frameworks/Python.framework/Versions/3.12/lib/python3.12/site-packages (from matplotlib->-r requirements.txt (line 3)) (3.1.2)\n",
      "Requirement already satisfied: python-dateutil>=2.7 in /Library/Frameworks/Python.framework/Versions/3.12/lib/python3.12/site-packages (from matplotlib->-r requirements.txt (line 3)) (2.9.0.post0)\n",
      "Requirement already satisfied: juliapkg~=0.1.8 in /Library/Frameworks/Python.framework/Versions/3.12/lib/python3.12/site-packages (from juliacall->-r requirements.txt (line 5)) (0.1.16)\n",
      "Requirement already satisfied: filelock<4.0,>=3.16 in /Library/Frameworks/Python.framework/Versions/3.12/lib/python3.12/site-packages (from juliapkg~=0.1.8->juliacall->-r requirements.txt (line 5)) (3.17.0)\n",
      "Requirement already satisfied: semver<4.0,>=3.0 in /Library/Frameworks/Python.framework/Versions/3.12/lib/python3.12/site-packages (from juliapkg~=0.1.8->juliacall->-r requirements.txt (line 5)) (3.0.4)\n",
      "Requirement already satisfied: six>=1.5 in /Library/Frameworks/Python.framework/Versions/3.12/lib/python3.12/site-packages (from python-dateutil>=2.7->matplotlib->-r requirements.txt (line 3)) (1.16.0)\n",
      "Note: you may need to restart the kernel to use updated packages.\n"
     ]
    }
   ],
   "source": [
    "pip install -r requirements.txt"
   ]
  },
  {
   "cell_type": "code",
   "execution_count": 3,
   "metadata": {},
   "outputs": [
    {
     "name": "stdout",
     "output_type": "stream",
     "text": [
      "Collecting shapely\n",
      "  Downloading shapely-2.1.0-cp312-cp312-macosx_11_0_arm64.whl.metadata (6.8 kB)\n",
      "Requirement already satisfied: numpy>=1.21 in /Library/Frameworks/Python.framework/Versions/3.12/lib/python3.12/site-packages (from shapely) (1.26.4)\n",
      "Downloading shapely-2.1.0-cp312-cp312-macosx_11_0_arm64.whl (1.6 MB)\n",
      "\u001b[2K   \u001b[90m━━━━━━━━━━━━━━━━━━━━━━━━━━━━━━━━━━━━━━━━\u001b[0m \u001b[32m1.6/1.6 MB\u001b[0m \u001b[31m21.4 MB/s\u001b[0m eta \u001b[36m0:00:00\u001b[0m\n",
      "\u001b[?25hInstalling collected packages: shapely\n",
      "Successfully installed shapely-2.1.0\n",
      "\n",
      "\u001b[1m[\u001b[0m\u001b[34;49mnotice\u001b[0m\u001b[1;39;49m]\u001b[0m\u001b[39;49m A new release of pip is available: \u001b[0m\u001b[31;49m25.0.1\u001b[0m\u001b[39;49m -> \u001b[0m\u001b[32;49m25.1\u001b[0m\n",
      "\u001b[1m[\u001b[0m\u001b[34;49mnotice\u001b[0m\u001b[1;39;49m]\u001b[0m\u001b[39;49m To update, run: \u001b[0m\u001b[32;49mpip install --upgrade pip\u001b[0m\n"
     ]
    }
   ],
   "source": [
    "!pip install shapely\n"
   ]
  },
  {
   "cell_type": "code",
   "execution_count": 1,
   "metadata": {},
   "outputs": [
    {
     "name": "stdout",
     "output_type": "stream",
     "text": [
      "Detected IPython. Loading juliacall extension. See https://juliapy.github.io/PythonCall.jl/stable/compat/#IPython\n",
      "Initializing the Julia session. This can take up to 1 minute.\n",
      "initializing the ground sensor julia module\n",
      "installing packages\n",
      "initializing the drone julia module\n",
      "Julia session initialized.\n",
      "=== TEST PRINT: Entered RandomPlacementStrategy class definition ===\n",
      "=== TEST PRINT: Entered DroneRoutingOptimizationModelReuseIndex class definition ===\n",
      "=== TEST PRINT: Entered DroneRoutingOptimizationModelReuseIndex class definition ===\n"
     ]
    }
   ],
   "source": [
    "# import requred modules\n",
    "import sys\n",
    "import os\n",
    "import time\n",
    "import numpy as np\n",
    "\n",
    "# Add code to path\n",
    "module_path = os.path.abspath(\".\") + \"/code\"\n",
    "if module_path not in sys.path:\n",
    "    sys.path.append(module_path)\n",
    "\n",
    "from dataset import preprocess_sim2real_dataset, load_scenario_npy, compute_and_save_burn_maps_sim2real_dataset\n",
    "from Strategy import RandomDroneRoutingStrategy, return_no_custom_parameters, SensorPlacementOptimization, RandomSensorPlacementStrategy, LoggedOptimizationSensorPlacementStrategy,DroneRoutingOptimizationSlow, DroneRoutingOptimizationModelReuse, DroneRoutingOptimizationModelReuseIndex, LoggedDroneRoutingStrategy, LogWrapperDrone, LogWrapperSensor, DroneRoutingOptimizationModelReuseIndexRegularized\n",
    "from benchmark import run_benchmark_scenario,run_benchmark_scenarii_sequential, get_burnmap_parameters,run_benchmark_scenarii_sequential_precompute, benchmark_on_sim2real_dataset_precompute\n",
    "from displays import create_scenario_video\n",
    "from new_clustering import get_wrapped_strategy\n",
    "from wrappers import wrap_log_sensor_strategy, wrap_log_drone_strategy"
   ]
  },
  {
   "cell_type": "markdown",
   "metadata": {},
   "source": [
    "Uncomment the cell below to preprocess the dataset.\n",
    "- `n_max_scenarii_per_layout` controls the number of scenarios we convert from jpeg to NumPy files for each layout.\n",
    "- If executed on all ~50 layouts of the dataset, the code below takes ~15mins to run and generates **400 GB** of data. Make sure to have the space."
   ]
  },
  {
   "cell_type": "code",
   "execution_count": 2,
   "metadata": {},
   "outputs": [],
   "source": [
    "# preprocess_sim2real_dataset(\"WideDataset/\", n_max_scenarii_per_layout=100) "
   ]
  },
  {
   "cell_type": "markdown",
   "metadata": {},
   "source": [
    "We can now run the benchmark function on any scenario.\n",
    "1. We load the scenario using `load_scenario_npy` since it is in preprocessed `npy` format\n",
    "2. Werun the benchmark using `run_benchmark_scenario` that takes as input:\n",
    "    - The `scenario`, \n",
    "    - The sensor placement strategy and the drone routing strategy\n",
    "    - A dictionary `custom_initialization_parameters` that contains any custom initialization inputs for your strategy functions (such as the burn map if your strategy needs a burn map as input)\n",
    "    - A python function `custom_step_parameters_function` that returns a dictionary of custom inputs for your routing function. This function is executed by the benchmarking code at each time step. Your routing function will be called with: `routing(custom_step_parameters_function())` internally"
   ]
  },
  {
   "cell_type": "code",
   "execution_count": 2,
   "metadata": {},
   "outputs": [],
   "source": [
    "# change values here to change benchmarking parameters\n",
    "def my_automatic_layout_parameters(scenario:np.ndarray,b,c):\n",
    "    return {\n",
    "        \"N\": scenario.shape[1],\n",
    "        \"M\": scenario.shape[2],\n",
    "        \"max_battery_distance\": -1,\n",
    "        \"max_battery_time\": 10,\n",
    "        \"n_drones\": 20,\n",
    "        \"n_ground_stations\": 250,\n",
    "        \"n_charging_stations\": 16,\n",
    "        #tau\n",
    "        #reg_ground\n",
    "        #reg_charging\n",
    "        #reg_ground_charging\n",
    "        #cap_drones\n",
    "    }"
   ]
  },
  {
   "cell_type": "code",
   "execution_count": 3,
   "metadata": {},
   "outputs": [
    {
     "name": "stdout",
     "output_type": "stream",
     "text": [
      "starting benchmark\n",
      "calling julia optimization model\n",
      "NEW STRATEGY 3 - Optimized for speed\n",
      "Number of cells discarded: 29962\n",
      "Set parameter Username\n",
      "Set parameter LicenseID to value 2630735\n",
      "Academic license - for non-commercial use only - expires 2026-03-03\n",
      "Took 1.2672777082771063 seconds to create model\n",
      "optimization finished\n",
      "Charging Station Locations from Julia Optimization Model:  []\n",
      "ground sensor locations\n",
      "[(33, 108), (34, 108), (35, 108), (36, 108), (37, 108), (31, 109), (32, 109), (34, 109), (35, 109), (36, 109), (32, 110), (34, 110), (35, 110), (36, 110), (37, 110), (31, 111), (34, 111), (47, 114), (46, 115), (47, 115), (49, 115), (50, 115), (47, 116), (48, 116), (49, 116), (51, 116), (48, 117), (49, 117), (50, 117), (52, 117), (51, 118), (52, 118), (53, 118), (52, 119), (53, 119), (51, 120), (52, 120), (53, 120), (54, 120), (52, 121), (54, 121), (25, 127), (24, 128), (25, 128), (26, 128), (27, 128), (34, 128), (35, 128), (37, 128), (25, 129), (26, 129), (27, 129), (28, 129), (29, 129), (30, 129), (33, 129), (34, 129), (35, 129), (36, 129), (37, 129), (26, 130), (27, 130), (28, 130), (29, 130), (30, 130), (31, 130), (34, 130), (35, 130), (36, 130), (37, 130), (27, 131), (28, 131), (29, 131), (30, 131), (31, 131), (32, 131), (33, 131), (34, 131), (35, 131), (36, 131), (37, 131), (27, 132), (28, 132), (29, 132), (30, 132), (32, 132), (33, 132), (34, 132), (35, 132), (36, 132), (37, 132), (27, 133), (29, 133), (30, 133), (32, 133), (33, 133), (34, 133), (35, 133), (36, 133), (37, 133), (28, 134), (29, 134), (31, 134), (33, 134), (35, 134), (36, 134), (37, 134), (28, 135), (29, 135), (30, 135), (35, 135), (36, 135), (37, 135), (38, 135), (39, 135), (28, 136), (29, 136), (34, 136), (35, 136), (36, 136), (37, 136), (38, 136), (39, 136), (40, 136), (41, 136), (28, 137), (29, 137), (30, 137), (31, 137), (35, 137), (36, 137), (37, 137), (38, 137), (39, 137), (40, 137), (41, 137), (42, 137), (29, 138), (32, 138), (33, 138), (35, 138), (36, 138), (37, 138), (38, 138), (39, 138), (40, 138), (41, 138), (42, 138), (29, 139), (33, 139), (34, 139), (35, 139), (36, 139), (37, 139), (38, 139), (39, 139), (40, 139), (41, 139), (42, 139), (43, 139), (29, 140), (32, 140), (33, 140), (34, 140), (35, 140), (36, 140), (37, 140), (38, 140), (39, 140), (40, 140), (41, 140), (42, 140), (43, 140), (44, 140), (29, 141), (30, 141), (31, 141), (32, 141), (33, 141), (34, 141), (35, 141), (36, 141), (37, 141), (38, 141), (39, 141), (40, 141), (41, 141), (42, 141), (43, 141), (45, 141), (46, 141), (29, 142), (30, 142), (31, 142), (35, 142), (36, 142), (37, 142), (38, 142), (39, 142), (40, 142), (41, 142), (42, 142), (43, 142), (44, 142), (45, 142), (46, 142), (47, 142), (48, 142), (49, 142), (29, 143), (30, 143), (31, 143), (36, 143), (38, 143), (39, 143), (40, 143), (41, 143), (42, 143), (43, 143), (45, 143), (46, 143), (47, 143), (48, 143), (49, 143), (50, 143), (51, 143), (40, 144), (41, 144), (42, 144), (43, 144), (44, 144), (45, 144), (46, 144), (47, 144), (48, 144), (49, 144), (50, 144), (41, 145), (42, 145), (43, 145), (44, 145), (48, 145), (49, 145), (50, 145), (48, 146), (49, 146), (50, 146), (51, 146), (49, 147), (50, 147)]\n",
      "charging station locations\n",
      "[(43, 108), (25, 111), (17, 112), (40, 116), (45, 123), (51, 135), (21, 137), (57, 140), (23, 143), (31, 149), (38, 151), (25, 152), (44, 153), (50, 153), (31, 155), (43, 159)]\n",
      "Creating initial routing model (reusable)\n",
      "--- parameters for julia (Julia indexing) ---\n",
      "burnmap_filename: ./Dataset/0001/burn_map.npy\n",
      "n_drones: 5\n",
      "charging_stations_locations: [(44, 109), (41, 117), (46, 124)]\n",
      "ground_sensor_locations: []\n",
      "optimization_horizon: 6\n",
      "Took 3.944220875389874 seconds total\n",
      "Set parameter Username\n",
      "Set parameter LicenseID to value 2630735\n",
      "Academic license - for non-commercial use only - expires 2026-03-03\n",
      "Model created in 1.8249644171446562 seconds\n",
      "[(44, 109), (41, 117), (46, 124)]\n",
      "Initial optimization finished\n",
      "\n",
      "DEBUG: Available Charging Stations (after model creation): [(43, 108), (40, 116), (45, 123)]\n",
      "Creating initial routing model (reusable)\n",
      "--- parameters for julia (Julia indexing) ---\n",
      "burnmap_filename: ./Dataset/0001/burn_map.npy\n",
      "n_drones: 5\n",
      "charging_stations_locations: [(26, 112), (18, 113)]\n",
      "ground_sensor_locations: []\n",
      "optimization_horizon: 6\n",
      "Optimizing model took 1.0079653328284621 seconds\n",
      "Set parameter Username\n",
      "Set parameter LicenseID to value 2630735\n",
      "Academic license - for non-commercial use only - expires 2026-03-03\n",
      "Model created in 0.32108787540346384 seconds\n",
      "[(26, 112), (18, 113)]\n",
      "Initial optimization finished\n",
      "\n",
      "DEBUG: Available Charging Stations (after model creation): [(25, 111), (17, 112)]\n",
      "Creating initial routing model (reusable)\n",
      "--- parameters for julia (Julia indexing) ---\n",
      "burnmap_filename: ./Dataset/0001/burn_map.npy\n",
      "n_drones: 5\n",
      "charging_stations_locations: [(52, 136), (58, 141)]\n",
      "ground_sensor_locations: []\n",
      "optimization_horizon: 6\n",
      "Optimizing model took 0.05646595824509859 seconds\n",
      "Set parameter Username\n",
      "Set parameter LicenseID to value 2630735\n",
      "Academic license - for non-commercial use only - expires 2026-03-03\n",
      "Model created in 0.33054779190570116 seconds\n",
      "[(52, 136), (58, 141)]\n",
      "Initial optimization finished\n",
      "\n",
      "DEBUG: Available Charging Stations (after model creation): [(51, 135), (57, 140)]\n",
      "Creating initial routing model (reusable)\n",
      "--- parameters for julia (Julia indexing) ---\n",
      "burnmap_filename: ./Dataset/0001/burn_map.npy\n",
      "n_drones: 5\n",
      "charging_stations_locations: [(22, 138), (24, 144), (32, 150), (39, 152), (26, 153), (45, 154), (51, 154), (32, 156), (44, 160)]\n",
      "ground_sensor_locations: []\n",
      "optimization_horizon: 6\n",
      "Optimizing model took 0.2743565831333399 seconds\n",
      "Set parameter Username\n",
      "Set parameter LicenseID to value 2630735\n",
      "Academic license - for non-commercial use only - expires 2026-03-03\n",
      "Model created in 3.6039435416460037 seconds\n",
      "[(22, 138), (24, 144), (32, 150), (39, 152), (26, 153), (45, 154), (51, 154), (32, 156), (44, 160)]\n",
      "Initial optimization finished\n",
      "\n",
      "DEBUG: Available Charging Stations (after model creation): [(21, 137), (23, 143), (31, 149), (38, 151), (25, 152), (44, 153), (50, 153), (31, 155), (43, 159)]\n",
      "Creating initial routing model (reusable)\n",
      "--- parameters for julia (Julia indexing) ---\n",
      "burnmap_filename: ./Dataset/0001/burn_map.npy\n",
      "n_drones: 5\n",
      "charging_stations_locations: [(44, 109), (41, 117), (46, 124)]\n",
      "ground_sensor_locations: []\n",
      "optimization_horizon: 6\n",
      "Optimizing model took 2.104086791165173 seconds\n",
      "Set parameter Username\n",
      "Set parameter LicenseID to value 2630735\n",
      "Academic license - for non-commercial use only - expires 2026-03-03\n",
      "Model created in 0.6970270406454802 seconds\n",
      "[(44, 109), (41, 117), (46, 124)]\n",
      "Initial optimization finished\n",
      "\n",
      "DEBUG: Available Charging Stations (after model creation): [(43, 108), (40, 116), (45, 123)]\n",
      "Creating initial routing model (reusable)\n",
      "--- parameters for julia (Julia indexing) ---\n",
      "burnmap_filename: ./Dataset/0001/burn_map.npy\n",
      "n_drones: 5\n",
      "charging_stations_locations: [(26, 112), (18, 113)]\n",
      "ground_sensor_locations: []\n",
      "optimization_horizon: 6\n",
      "Optimizing model took 0.8486696248874068 seconds\n",
      "Set parameter Username\n",
      "Set parameter LicenseID to value 2630735\n",
      "Academic license - for non-commercial use only - expires 2026-03-03\n",
      "Model created in 0.3175869155675173 seconds\n",
      "[(26, 112), (18, 113)]\n",
      "Initial optimization finished\n",
      "\n",
      "DEBUG: Available Charging Stations (after model creation): [(25, 111), (17, 112)]\n",
      "Creating initial routing model (reusable)\n",
      "--- parameters for julia (Julia indexing) ---\n",
      "burnmap_filename: ./Dataset/0001/burn_map.npy\n",
      "n_drones: 5\n",
      "charging_stations_locations: [(52, 136), (58, 141)]\n",
      "ground_sensor_locations: []\n",
      "optimization_horizon: 6\n",
      "Optimizing model took 0.05751008354127407 seconds\n",
      "Set parameter Username\n",
      "Set parameter LicenseID to value 2630735\n",
      "Academic license - for non-commercial use only - expires 2026-03-03\n",
      "Model created in 0.45569024980068207 seconds\n",
      "[(52, 136), (58, 141)]\n",
      "Initial optimization finished\n",
      "\n",
      "DEBUG: Available Charging Stations (after model creation): [(51, 135), (57, 140)]\n",
      "Creating initial routing model (reusable)\n",
      "--- parameters for julia (Julia indexing) ---\n",
      "burnmap_filename: ./Dataset/0001/burn_map.npy\n",
      "n_drones: 5\n",
      "charging_stations_locations: [(22, 138), (24, 144), (32, 150), (39, 152), (26, 153), (45, 154), (51, 154), (32, 156), (44, 160)]\n",
      "ground_sensor_locations: []\n",
      "optimization_horizon: 6\n",
      "Optimizing model took 0.2666003331542015 seconds\n",
      "Set parameter Username\n",
      "Set parameter LicenseID to value 2630735\n",
      "Academic license - for non-commercial use only - expires 2026-03-03\n",
      "Model created in 3.4356925832107663 seconds\n",
      "[(22, 138), (24, 144), (32, 150), (39, 152), (26, 153), (45, 154), (51, 154), (32, 156), (44, 160)]\n",
      "Initial optimization finished\n",
      "\n",
      "DEBUG: Available Charging Stations (after model creation): [(21, 137), (23, 143), (31, 149), (38, 151), (25, 152), (44, 153), (50, 153), (31, 155), (43, 159)]\n",
      "Optimizing model took 2.0780104165896773 seconds\n",
      "Next move optimization finished\n",
      "Optimizing model took 0.058435749262571335 seconds\n",
      "Next move optimization finished\n",
      "Optimizing model took 0.025200333446264267 seconds\n",
      "Next move optimization finished\n",
      "Optimizing model took 0.1456770831719041 seconds\n",
      "Next move optimization finished\n",
      "Optimizing model took 0.16175974998623133 seconds\n",
      "Next move optimization finished\n",
      "Optimizing model took 0.03501558396965265 seconds\n",
      "Next move optimization finished\n",
      "Optimizing model took 0.04357900004833937 seconds\n",
      "Next move optimization finished\n",
      "Optimizing model took 0.06515954155474901 seconds\n",
      "Next move optimization finished\n",
      "Optimizing model took 0.14475383330136538 seconds\n",
      "Next move optimization finished\n",
      "Optimizing model took 0.08032787498086691 seconds\n",
      "Next move optimization finished\n",
      "Optimizing model took 0.023087834008038044 seconds\n",
      "Next move optimization finished\n",
      "Optimizing model took 0.12793624959886074 seconds\n",
      "Next move optimization finished\n",
      "Optimizing model took 0.1460188329219818 seconds\n",
      "Next move optimization finished\n",
      "Optimizing model took 0.029450624249875546 seconds\n",
      "Next move optimization finished\n",
      "Optimizing model took 0.04198720771819353 seconds\n",
      "Next move optimization finished\n",
      "Optimizing model took 0.04214554186910391 seconds\n",
      "Next move optimization finished\n",
      "Optimizing model took 0.08489920850843191 seconds\n",
      "Next move optimization finished\n",
      "Optimizing model took 0.06514408253133297 seconds\n",
      "Next move optimization finished\n",
      "Optimizing model took 0.03724774997681379 seconds\n",
      "Next move optimization finished\n",
      "Optimizing model took 0.062323582358658314 seconds\n",
      "Next move optimization finished\n",
      "Optimizing model took 0.19132854230701923 seconds\n",
      "Next move optimization finished\n",
      "Optimizing model took 0.059859249740839005 seconds\n",
      "Next move optimization finished\n",
      "Optimizing model took 0.03507345821708441 seconds\n",
      "Next move optimization finished\n",
      "Optimizing model took 0.056020249612629414 seconds\n",
      "Next move optimization finished\n",
      "Optimizing model took 0.20756554137915373 seconds\n",
      "Next move optimization finished\n",
      "Optimizing model took 0.08174700010567904 seconds\n",
      "Next move optimization finished\n",
      "Optimizing model took 0.02602295856922865 seconds\n",
      "Next move optimization finished\n",
      "Optimizing model took 0.06684091594070196 seconds\n",
      "Next move optimization finished\n",
      "Optimizing model took 0.10136333294212818 seconds\n",
      "Next move optimization finished\n",
      "Optimizing model took 0.05129775032401085 seconds\n",
      "Next move optimization finished\n",
      "Optimizing model took 0.028917750343680382 seconds\n",
      "Next move optimization finished\n",
      "Optimizing model took 0.05648466758430004 seconds\n",
      "Next move optimization finished\n",
      "Optimizing model took 0.20098537486046553 seconds\n",
      "Next move optimization finished\n",
      "Optimizing model took 0.0803863750770688 seconds\n",
      "Next move optimization finished\n",
      "Optimizing model took 0.033686124719679356 seconds\n",
      "Next move optimization finished\n",
      "Optimizing model took 0.06765870843082666 seconds\n",
      "Next move optimization finished\n",
      "Optimizing model took 0.09823887515813112 seconds\n",
      "Next move optimization finished\n",
      "Optimizing model took 0.05195458326488733 seconds\n",
      "Next move optimization finished\n",
      "Optimizing model took 0.029250875115394592 seconds\n",
      "Next move optimization finished\n",
      "Optimizing model took 0.056677624583244324 seconds\n",
      "Next move optimization finished\n",
      "Optimizing model took 0.16199870873242617 seconds\n",
      "Next move optimization finished\n",
      "Optimizing model took 0.10005374997854233 seconds\n",
      "Next move optimization finished\n",
      "Optimizing model took 0.024088791571557522 seconds\n",
      "Next move optimization finished\n",
      "Optimizing model took 0.06766058318316936 seconds\n",
      "Next move optimization finished\n",
      "Optimizing model took 0.09860816691070795 seconds\n",
      "Next move optimization finished\n",
      "Optimizing model took 0.054074957966804504 seconds\n",
      "Next move optimization finished\n",
      "Optimizing model took 0.04532158374786377 seconds\n",
      "Next move optimization finished\n",
      "Optimizing model took 0.05625770892947912 seconds\n",
      "Next move optimization finished\n",
      "Optimizing model took 0.17191429156810045 seconds\n",
      "Next move optimization finished\n",
      "Optimizing model took 0.08575412537902594 seconds\n",
      "Next move optimization finished\n",
      "Optimizing model took 0.023595375008881092 seconds\n",
      "Next move optimization finished\n",
      "Optimizing model took 0.06793241668492556 seconds\n",
      "Next move optimization finished\n",
      "Optimizing model took 0.09977845847606659 seconds\n",
      "Next move optimization finished\n",
      "Optimizing model took 0.05158525053411722 seconds\n",
      "Next move optimization finished\n",
      "Optimizing model took 0.04405570775270462 seconds\n",
      "Next move optimization finished\n",
      "Optimizing model took 0.05721245799213648 seconds\n",
      "Next move optimization finished\n",
      "{'delta_t': -1, 'device': 'undetected', 'avg_execution_time': 0.0702538788318634, 'fire_size_cells': 1521, 'fire_size_percentage': 4.568665144779526, 'percentage_map_explored': 0.42652889583083026, 'total_distance_traveled': 1757, 'avg_drone_entropy': 2.705863799964835, 'sensor_entropy': 5.521460917862246}\n",
      "Optimizing model took 0.17696412466466427 seconds\n"
     ]
    }
   ],
   "source": [
    "# That's very fast to run!\n",
    "print(\"starting benchmark\")\n",
    "time_start = time.time()\n",
    "scenario = load_scenario_npy(\"Dataset/0001/scenarii/0001_00002.npy\")\n",
    "results, (position_history, ground, charging)  = run_benchmark_scenario(scenario, SensorPlacementOptimization, get_wrapped_strategy(DroneRoutingOptimizationModelReuseIndex), custom_initialization_parameters = {\"burnmap_filename\": \"./Dataset/0001/burn_map.npy\", \"load_from_logfile\": False, \"reevaluation_step\": 6, \"optimization_horizon\":6, \"regularization_param\": 0.0001}, custom_step_parameters_function = return_no_custom_parameters, automatic_initialization_parameters_function=my_automatic_layout_parameters, return_history=True)\n",
    "print(results)\n",
    "\n",
    "\n"
   ]
  },
  {
   "cell_type": "code",
   "execution_count": null,
   "metadata": {},
   "outputs": [],
   "source": [
    "def custom_initialization_parameters_function(input_dir:str):\n",
    "    print(f\"input_dir: {input_dir}\")\n",
    "    return {\"burnmap_filename\": f\"{'/'.join(input_dir.strip('/').split('/')[:-1])}/burn_map.npy\", \"reevaluation_step\": 5, \"optimization_horizon\":5}\n",
    "#run_benchmark_scenarii_sequential_precompute(input_dir=\"WideDataset/0001/scenarii/\", sensor_placement_strategy=LogWrapperSensor, drone_routing_strategy=LogWrapperDrone, custom_initialization_parameters_function=custom_initialization_parameters_function, custom_step_parameters_function = return_no_custom_parameters, starting_time=0, max_n_scenarii=100)\n",
    "benchmark_on_sim2real_dataset_precompute(\"Dataset/\", LogWrapperSensor, LogWrapperDrone, custom_initialization_parameters_function, return_no_custom_parameters, max_n_scenarii=100, starting_time=0)\n",
    "    "
   ]
  },
  {
   "cell_type": "code",
   "execution_count": 5,
   "metadata": {},
   "outputs": [
    {
     "ename": "AttributeError",
     "evalue": "'function' object has no attribute 'cluster_data'",
     "output_type": "error",
     "traceback": [
      "\u001b[0;31m---------------------------------------------------------------------------\u001b[0m",
      "\u001b[0;31mAttributeError\u001b[0m                            Traceback (most recent call last)",
      "Cell \u001b[0;32mIn[5], line 1\u001b[0m\n\u001b[0;32m----> 1\u001b[0m create_scenario_video(scenario[:\u001b[38;5;28mlen\u001b[39m(position_history)],drone_locations_history\u001b[38;5;241m=\u001b[39mposition_history,starting_time\u001b[38;5;241m=\u001b[39m\u001b[38;5;241m0\u001b[39m,out_filename\u001b[38;5;241m=\u001b[39m\u001b[38;5;124m'\u001b[39m\u001b[38;5;124mtest_simulation\u001b[39m\u001b[38;5;124m'\u001b[39m, ground_sensor_locations \u001b[38;5;241m=\u001b[39m ground, charging_stations_locations \u001b[38;5;241m=\u001b[39m charging, cluster_data \u001b[38;5;241m=\u001b[39m \u001b[43mget_wrapped_strategy\u001b[49m\u001b[38;5;241;43m.\u001b[39;49m\u001b[43mcluster_data\u001b[49m)\n",
      "\u001b[0;31mAttributeError\u001b[0m: 'function' object has no attribute 'cluster_data'"
     ]
    }
   ],
   "source": [
    "create_scenario_video(scenario[:len(position_history)],drone_locations_history=position_history,starting_time=0,out_filename='test_simulation', ground_sensor_locations = ground, charging_stations_locations = charging)"
   ]
  },
  {
   "cell_type": "markdown",
   "metadata": {},
   "source": [
    "We can visualize the strategy in action by creating a video of the scenario. \n",
    "1. Use the `return_history` parameter or `run_benchmark_scenario` to output the log of ground sensor and drone positions during the benchmark\n",
    "2. Use the `create_scenario_video` function to compile the video. This can take a couple seconds"
   ]
  },
  {
   "cell_type": "code",
   "execution_count": 4,
   "metadata": {},
   "outputs": [
    {
     "name": "stdout",
     "output_type": "stream",
     "text": [
      "calling julia optimization model\n",
      "In julia fuinction\n",
      "Set parameter Username\n",
      "Set parameter LicenseID to value 2612529\n",
      "Academic license - for non-commercial use only - expires 2026-01-21\n",
      "Took 8.259267374873161 seconds\n",
      "optimization finished\n",
      "Video saved at: display_test_simulation/test_simulation.mp4\n"
     ]
    }
   ],
   "source": [
    "delta , device , (position_history, ground, charging)  = run_benchmark_scenario(scenario, SensorPlacementOptimization, RandomDroneRoutingStrategy, custom_initialization_parameters = {\"burnmap_filename\": \"./Dataset/0001/burn_map.npy\"}, custom_step_parameters_function = return_no_custom_parameters, automatic_initialization_parameters_function=my_automatic_layout_parameters, return_history=True)\n",
    "create_scenario_video(scenario[:len(position_history)],drone_locations_history=position_history,starting_time=0,out_filename='test_simulation', ground_sensor_locations = ground, charging_stations_locations = charging)"
   ]
  },
  {
   "cell_type": "markdown",
   "metadata": {},
   "source": [
    "Instead of running a benchmark on a single scenario, we are interested in running the benchmark on all scenarii of a given layout (potentially in parallel!)\n",
    "\n",
    "1. We use `run_benchmark_scenarii_sequential`"
   ]
  },
  {
   "cell_type": "code",
   "execution_count": 3,
   "metadata": {},
   "outputs": [
    {
     "name": "stderr",
     "output_type": "stream",
     "text": [
      "100%|██████████| 3/3 [00:00<00:00, 91.85it/s]\n"
     ]
    },
    {
     "name": "stdout",
     "output_type": "stream",
     "text": [
      "Processing scenario MinimalDataset/0001/scenarii/0001_00033.npy\n",
      "Processing scenario MinimalDataset/0001/scenarii/0001_00034.npy\n",
      "Processing scenario MinimalDataset/0001/scenarii/0001_00005.npy\n",
      "Avg time steps to fire detection: 0.0\n",
      "Fire found 0.0% of the time by ground sensor\n",
      "Fire found 0.0% of the time by charging station\n",
      "Fire found 0.0% of the time by drone\n",
      "Fire found 100.0% of the time by undetected\n",
      "Avg routing execution time: 0.0000 sec\n",
      "Avg fire size at detection (cells): 0.00\n",
      "Avg fire size at detection (% of map): 0.00%\n",
      "Avg percentage of map explored by drones: 0.20%\n",
      "Avg total distance traveled by drones: 357.33 units\n",
      "Avg drone entropy per timestep: 0.0000\n",
      "Avg sensor placement entropy: 0.0000\n"
     ]
    },
    {
     "name": "stderr",
     "output_type": "stream",
     "text": [
      "100%|██████████| 3/3 [00:00<00:00, 23.72it/s]"
     ]
    },
    {
     "name": "stdout",
     "output_type": "stream",
     "text": [
      "Processing scenario MinimalDataset/0001/Satellite_Images_Mask/0001_00005\n",
      "Processing scenario MinimalDataset/0001/Satellite_Images_Mask/0001_00002\n",
      "Processing scenario MinimalDataset/0001/Satellite_Images_Mask/0001_00003\n",
      "Avg time steps to fire detection: 0.0\n",
      "Fire found 0.0% of the time by ground sensor\n",
      "Fire found 0.0% of the time by charging station\n",
      "Fire found 0.0% of the time by drone\n",
      "Fire found 100.0% of the time by undetected\n",
      "Avg routing execution time: 0.0000 sec\n",
      "Avg fire size at detection (cells): 0.00\n",
      "Avg fire size at detection (% of map): 0.00%\n",
      "Avg percentage of map explored by drones: 0.20%\n",
      "Avg total distance traveled by drones: 373.33 units\n",
      "Avg drone entropy per timestep: 0.0000\n",
      "Avg sensor placement entropy: 0.0000\n"
     ]
    },
    {
     "name": "stderr",
     "output_type": "stream",
     "text": [
      "\n"
     ]
    }
   ],
   "source": [
    "run_benchmark_scenarii_sequential(\"MinimalDataset/0001/scenarii/\", RandomSensorPlacementStrategy, RandomDroneRoutingStrategy, custom_initialization_parameters_function = get_burnmap_parameters, custom_step_parameters_function = return_no_custom_parameters, starting_time=0, max_n_scenarii=3)\n",
    "run_benchmark_scenarii_sequential(\"MinimalDataset/0001/Satellite_Images_Mask/\", RandomSensorPlacementStrategy, RandomDroneRoutingStrategy, custom_initialization_parameters_function = get_burnmap_parameters, custom_step_parameters_function = return_no_custom_parameters, starting_time=0, max_n_scenarii=3, file_format=\"jpg\")"
   ]
  },
  {
   "cell_type": "markdown",
   "metadata": {},
   "source": [
    "On all of the dataset!"
   ]
  },
  {
   "cell_type": "code",
   "execution_count": null,
   "metadata": {},
   "outputs": [],
   "source": [
    "benchmark_on_sim2real_dataset(\"WideDataset/\", SensorPlacementStrategy, DroneRoutingStrategy, custom_initialization_parameters_function = lambda x: None, custom_step_parameters_function = return_no_custom_parameters, max_n_scenarii=100, starting_time=0)"
   ]
  },
  {
   "cell_type": "code",
   "execution_count": 4,
   "metadata": {},
   "outputs": [
    {
     "name": "stdout",
     "output_type": "stream",
     "text": [
      "calling julia optimization model\n",
      "optimization finished\n",
      "calling julia optimization model\n",
      "optimization finished\n",
      "calling julia optimization model\n",
      "optimization finished\n",
      "calling julia optimization model\n",
      "optimization finished\n",
      "calling julia optimization model\n",
      "optimization finished\n",
      "calling julia optimization model\n",
      "optimization finished\n",
      "calling julia optimization model\n",
      "optimization finished\n",
      "calling julia optimization model\n",
      "optimization finished\n",
      "calling julia optimization model\n",
      "optimization finished\n",
      "calling julia optimization model\n",
      "optimization finished\n",
      "calling julia optimization model\n",
      "optimization finished\n",
      "calling julia optimization model\n",
      "optimization finished\n",
      "calling julia optimization model\n",
      "optimization finished\n",
      "calling julia optimization model\n",
      "optimization finished\n",
      "calling julia optimization model\n",
      "optimization finished\n",
      "calling julia optimization model\n",
      "optimization finished\n",
      "calling julia optimization model\n",
      "optimization finished\n",
      "calling julia optimization model\n",
      "optimization finished\n",
      "calling julia optimization model\n",
      "optimization finished\n",
      "calling julia optimization model\n",
      "optimization finished\n",
      "calling julia optimization model\n",
      "optimization finished\n",
      "calling julia optimization model\n",
      "optimization finished\n",
      "calling julia optimization model\n",
      "optimization finished\n",
      "calling julia optimization model\n",
      "optimization finished\n",
      "calling julia optimization model\n",
      "optimization finished\n",
      "calling julia optimization model\n",
      "optimization finished\n",
      "calling julia optimization model\n",
      "optimization finished\n",
      "calling julia optimization model\n",
      "optimization finished\n",
      "calling julia optimization model\n",
      "optimization finished\n",
      "calling julia optimization model\n",
      "optimization finished\n",
      "calling julia optimization model\n",
      "optimization finished\n",
      "calling julia optimization model\n",
      "optimization finished\n",
      "calling julia optimization model\n",
      "optimization finished\n",
      "calling julia optimization model\n",
      "optimization finished\n",
      "calling julia optimization model\n",
      "optimization finished\n",
      "calling julia optimization model\n",
      "optimization finished\n",
      "calling julia optimization model\n",
      "optimization finished\n",
      "calling julia optimization model\n",
      "optimization finished\n",
      "calling julia optimization model\n",
      "optimization finished\n",
      "calling julia optimization model\n",
      "optimization finished\n",
      "calling julia optimization model\n",
      "optimization finished\n",
      "calling julia optimization model\n",
      "optimization finished\n",
      "calling julia optimization model\n",
      "optimization finished\n",
      "calling julia optimization model\n",
      "optimization finished\n",
      "calling julia optimization model\n",
      "optimization finished\n",
      "Fire detected in  ground sensor time steps by device:  45\n",
      "Time taken to run benchmark on the scenario: 0.43914222717285156 seconds\n"
     ]
    }
   ],
   "source": [
    "# That's very fast to run!\n",
    "time_start = time.time()\n",
    "scenario = load_scenario_npy(\"WideDataset/0001/scenarii/0001_00002.npy\")\n",
    "device, delta_t, _ = run_benchmark_scenario(scenario, RandomSensorPlacementStrategy, DroneRoutingOptimizationSlow, custom_initialization_parameters = {\"burnmap_filename\": \"./WideDataset/0001/burn_map.npy\", \"call_every_n_steps\": 5, \"optimization_horizon\": 10}, custom_step_parameters_function = return_no_custom_parameters, automatic_initialization_parameters_function=my_automatic_layout_parameters, return_history=True)\n",
    "print(\"Fire detected in \", delta_t, \"time steps by device: \", device)\n",
    "print(f\"Time taken to run benchmark on the scenario: {time.time() - time_start} seconds\")\n"
   ]
  },
  {
   "cell_type": "markdown",
   "metadata": {},
   "source": []
  },
  {
   "cell_type": "code",
   "execution_count": 13,
   "metadata": {},
   "outputs": [],
   "source": [
    "# define function to get parameters for optimal drone routing strategy\n",
    "# def get_routing_optimization_parameters(input_dir:str):\n",
    "#     return {\n",
    "#         \"burnmap_filename\": f\"{input_dir}/burn_map.npy\",\n",
    "#         \"call_every_n_steps\": 5,\n",
    "#         \"optimization_horizon\": 10\n",
    "#     }\n",
    "\n",
    "# add the log\n"
   ]
  },
  {
   "cell_type": "code",
   "execution_count": null,
   "metadata": {},
   "outputs": [],
   "source": []
  }
 ],
 "metadata": {
  "kernelspec": {
   "display_name": "base",
   "language": "python",
   "name": "python3"
  },
  "language_info": {
   "codemirror_mode": {
    "name": "ipython",
    "version": 3
   },
   "file_extension": ".py",
   "mimetype": "text/x-python",
   "name": "python",
   "nbconvert_exporter": "python",
   "pygments_lexer": "ipython3",
   "version": "3.12.3"
  }
 },
 "nbformat": 4,
 "nbformat_minor": 2
}
