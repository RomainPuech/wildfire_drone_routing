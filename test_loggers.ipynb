{
 "cells": [
  {
   "cell_type": "code",
   "execution_count": null,
   "metadata": {},
   "outputs": [],
   "source": [
    "# === 1. Import ===\n",
    "import sys\n",
    "import os\n",
    "\n",
    "# Add the folder where wrappers.py is located\n",
    "sys.path.append('/Users/josephye/Desktop/wildfire_drone_routing/code')  # <== update this path\n",
    "\n",
    "from wrappers import wrap_log_strategy\n",
    "\n",
    "# If you have strategies in a different file:\n",
    "from Strategy import RandomSensorPlacementStrategy\n"
   ]
  },
  {
   "cell_type": "code",
   "execution_count": null,
   "metadata": {},
   "outputs": [],
   "source": [
    "# === 2. Set up parameters ===\n",
    "\n",
    "automatic_params = {\n",
    "    \"N\": 10,\n",
    "    \"M\": 10,\n",
    "    \"n_ground_stations\": 5,\n",
    "    \"n_charging_stations\": 5\n",
    "}\n",
    "\n",
    "custom_params = {\n",
    "    \"log_file\": \"./MinimalDataset/0001/scenarii\",  # base dir\n",
    "    \"layout_name\": \"layout_A\",\n",
    "    \"burnmap_filename\": \"./MinimalDataset/0001/burn_map.npy\"\n",
    "}\n",
    "\n",
    "# make sure logs directory exists\n",
    "os.makedirs('./MinimalDataset/0001/logs', exist_ok=True)\n"
   ]
  },
  {
   "cell_type": "code",
   "execution_count": null,
   "metadata": {},
   "outputs": [
    {
     "data": {
      "text/plain": [
       "First run (should compute and save):\n",
       "[wrap_log_strategy] Log not found, running RandomSensorPlacementStrategy...\n",
       "[wrap_log_strategy] Placements saved to: logs/layout_A_RandomSensorPlacementStrategy_10N_10M_5ground_5charge.json\n",
       "\n",
       "Ground sensor locations: [(6, 3), (6, 0), (7, 1), (5, 5), (5, 0)]\n",
       "Charging station locations: [(5, 7), (2, 0), (5, 3), (8, 4), (3, 4)]\n"
      ]
     },
     "metadata": {},
     "output_type": "display_data"
    }
   ],
   "source": [
    "# === 3. Wrap the strategy ===\n",
    "\n",
    "WrappedStrategy = wrap_log_strategy(RandomSensorPlacementStrategy)\n",
    "\n",
    "# === 4. Instantiate and run ===\n",
    "print(\"First run (should compute and save):\")\n",
    "strategy_instance_1 = WrappedStrategy(automatic_params, custom_params)\n",
    "ground_1, charge_1 = strategy_instance_1.get_locations()\n",
    "\n",
    "print(\"\\nGround sensor locations:\", ground_1)\n",
    "print(\"Charging station locations:\", charge_1)\n"
   ]
  },
  {
   "cell_type": "code",
   "execution_count": null,
   "metadata": {},
   "outputs": [
    {
     "data": {
      "text/plain": [
       "Second run (should load from cache):\n",
       "[wrap_log_strategy] Loading placement from: logs/layout_A_RandomSensorPlacementStrategy_10N_10M_5ground_5charge.json\n",
       "\n",
       "Ground sensor locations (second run): [[6, 3], [6, 0], [7, 1], [5, 5], [5, 0]]\n",
       "Charging station locations (second run): [[5, 7], [2, 0], [5, 3], [8, 4], [3, 4]]\n"
      ]
     },
     "metadata": {},
     "output_type": "display_data"
    }
   ],
   "source": [
    "# === 5. Run again (should load from log) ===\n",
    "print(\"Second run (should load from cache):\")\n",
    "strategy_instance_2 = WrappedStrategy(automatic_params, custom_params)\n",
    "ground_2, charge_2 = strategy_instance_2.get_locations()\n",
    "\n",
    "print(\"\\nGround sensor locations (second run):\", ground_2)\n",
    "print(\"Charging station locations (second run):\", charge_2)\n"
   ]
  }
 ],
 "metadata": {
  "language_info": {
   "name": "python"
  }
 },
 "nbformat": 4,
 "nbformat_minor": 2
}
