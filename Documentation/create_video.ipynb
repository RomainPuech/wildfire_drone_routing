{
 "cells": [
  {
   "cell_type": "markdown",
   "id": "fe3c84e6",
   "metadata": {},
   "source": [
    "# 📽️ Documentation: Generating a Video\n",
    "\n",
    "The library provides functionality to create **video visualizations** of wildfire scenarios. This is useful for visually inspecting the **progression of wildfires over time** and evaluating the effectiveness of **drone and sensor strategies**.\n",
    "\n",
    "---\n",
    "\n",
    "## 🛠️ Function: `create_scenario_video(...)`\n",
    "\n",
    "Generates a video from a wildfire scenario and saves it to a specified output file.\n",
    "\n",
    "### **Function Signature**\n",
    "\n",
    "```python\n",
    "create_scenario_video(\n",
    "    scenario,\n",
    "    burn_map=True,\n",
    "    out_filename=\"output.mp4\"\n",
    ")\n"
   ]
  },
  {
   "cell_type": "markdown",
   "id": "c5e92c75",
   "metadata": {},
   "source": [
    "## 📥 Parameters\n",
    "\n",
    "### `scenario` *(np.ndarray)*\n",
    "A NumPy array representing the wildfire scenario. Expected shape is `(T, N, M)`, where:\n",
    "- `T` is the number of timesteps\n",
    "- `N x M` is the spatial layout of the scenario\n",
    "\n",
    "### `burn_map` *(bool, optional)*\n",
    "If `True`, visualizes the progression of the burn map over time.  \n",
    "Defaults to `True`.\n",
    "\n",
    "### `out_filename` *(str, optional)*\n",
    "The name of the output video file (including `.mp4` extension).  \n",
    "Defaults to `\"output.mp4\"`.\n",
    "\n",
    "---\n",
    "\n",
    "## 📤 Returns\n",
    "\n",
    "This function does **not return a value**. Instead, it generates and saves a video file to the path specified by `out_filename`.\n"
   ]
  },
  {
   "cell_type": "code",
   "execution_count": null,
   "id": "0e6becf8",
   "metadata": {},
   "outputs": [
    {
     "name": "stdout",
     "output_type": "stream",
     "text": [
      "Video saved at: display_wildfire_progression.mp4/wildfire_progression.mp4.mp4\n",
      "Video saved to: wildfire_progression.mp4\n"
     ]
    }
   ],
   "source": [
    "# Import necessary modules\n",
    "import os\n",
    "import numpy as np\n",
    "import sys\n",
    "\n",
    "module_path = os.path.abspath(\"..\") + \"/code\"\n",
    "if module_path not in sys.path:\n",
    "    sys.path.append(module_path)\n",
    "    print(f\"Added {module_path} to sys.path\")\n",
    "\n",
    "\n",
    "from dataset import load_scenario_npy\n",
    "from displays import create_scenario_video\n",
    "\n",
    "# Define paths and parameters\n",
    "scenario_file = \"../MinimalDataset/0001/burn_map.npy\"\n",
    "output_video_file = \"wildfire_progression\"\n",
    "\n",
    "# Load scenario from NPY file\n",
    "scenario = load_scenario_npy(scenario_file)\n",
    "\n",
    "# Generate video visualization\n",
    "create_scenario_video(scenario, is_burn_map=True, out_filename=output_video_file)\n",
    "\n",
    "print(f\"Video saved to: {output_video_file}\")"
   ]
  }
 ],
 "metadata": {
  "kernelspec": {
   "display_name": "Python 3",
   "language": "python",
   "name": "python3"
  },
  "language_info": {
   "codemirror_mode": {
    "name": "ipython",
    "version": 3
   },
   "file_extension": ".py",
   "mimetype": "text/x-python",
   "name": "python",
   "nbconvert_exporter": "python",
   "pygments_lexer": "ipython3",
   "version": "3.9.6"
  }
 },
 "nbformat": 4,
 "nbformat_minor": 5
}
