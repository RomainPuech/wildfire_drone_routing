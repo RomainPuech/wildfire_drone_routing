{
 "cells": [
  {
   "cell_type": "markdown",
   "id": "c0fee0f0",
   "metadata": {},
   "source": [
    "## 📊 Documentation: Benchmarking a Scenario on One Layout\n",
    "\n",
    "The library provides functionality to **benchmark wildfire scenarios** using customizable **drone routing** and **sensor placement** strategies. This allows users to evaluate the performance of different approaches under a specific layout and scenario.\n",
    "\n",
    "---\n",
    "\n",
    "### 🛠️ Function: `run_benchmark_scenario(...)`\n",
    "\n",
    "Benchmarks a single wildfire scenario on a given layout using user-specified strategies and simulation parameters.\n",
    "\n",
    "### **Function Signature**\n",
    "\n",
    "```python\n",
    "run_benchmark_scenario(\n",
    "    scenario,\n",
    "    sensor_placement_strategy,\n",
    "    drone_routing_strategy,\n",
    "    custom_initialization_parameters_function,\n",
    "    custom_step_parameters_function,\n",
    "    simulation_parameters\n",
    ")\n"
   ]
  },
  {
   "cell_type": "code",
   "execution_count": 14,
   "id": "c32a807a",
   "metadata": {},
   "outputs": [
    {
     "name": "stdout",
     "output_type": "stream",
     "text": [
      "Creating initial routing model (reusable)\n",
      "--- parameters for julia (Julia indexing) ---\n",
      "burnmap_filename: ../MinimalDataset/0001/burn_map_rescaled_5x14_substeps_63.npy\n",
      "n_drones: 3\n",
      "charging_stations_locations: [(1, 11), (3, 12)]\n",
      "ground_sensor_locations: [(1, 1), (1, 13), (4, 2), (5, 8)]\n",
      "optimization_horizon: 10\n"
     ]
    },
    {
     "ename": "NameError",
     "evalue": "name 'jl' is not defined",
     "output_type": "error",
     "traceback": [
      "\u001b[0;31m---------------------------------------------------------------------------\u001b[0m",
      "\u001b[0;31mNameError\u001b[0m                                 Traceback (most recent call last)",
      "Cell \u001b[0;32mIn[14], line 48\u001b[0m\n\u001b[1;32m     40\u001b[0m     \u001b[38;5;28;01mreturn\u001b[39;00m {\n\u001b[1;32m     41\u001b[0m         \u001b[38;5;124m\"\u001b[39m\u001b[38;5;124mburnmap_filename\u001b[39m\u001b[38;5;124m\"\u001b[39m: \u001b[38;5;124mf\u001b[39m\u001b[38;5;124m\"\u001b[39m\u001b[38;5;132;01m{\u001b[39;00minput_dir\u001b[38;5;241m.\u001b[39mstrip(\u001b[38;5;124m'\u001b[39m\u001b[38;5;124m/\u001b[39m\u001b[38;5;124m'\u001b[39m)\u001b[38;5;132;01m}\u001b[39;00m\u001b[38;5;124m/burn_map.npy\u001b[39m\u001b[38;5;124m\"\u001b[39m,  \u001b[38;5;66;03m# Correct path construction\u001b[39;00m\n\u001b[1;32m     42\u001b[0m         \u001b[38;5;124m\"\u001b[39m\u001b[38;5;124mreevaluation_step\u001b[39m\u001b[38;5;124m\"\u001b[39m: \u001b[38;5;241m5\u001b[39m,\n\u001b[1;32m     43\u001b[0m         \u001b[38;5;124m\"\u001b[39m\u001b[38;5;124moptimization_horizon\u001b[39m\u001b[38;5;124m\"\u001b[39m: \u001b[38;5;241m10\u001b[39m,\n\u001b[1;32m     44\u001b[0m         \u001b[38;5;124m\"\u001b[39m\u001b[38;5;124mregularization_param\u001b[39m\u001b[38;5;124m\"\u001b[39m: \u001b[38;5;241m1\u001b[39m,\n\u001b[1;32m     45\u001b[0m     }\n\u001b[1;32m     47\u001b[0m \u001b[38;5;66;03m# Run benchmark on the scenario\u001b[39;00m\n\u001b[0;32m---> 48\u001b[0m results, _ \u001b[38;5;241m=\u001b[39m \u001b[43mrun_benchmark_scenario\u001b[49m\u001b[43m(\u001b[49m\n\u001b[1;32m     49\u001b[0m \u001b[43m    \u001b[49m\u001b[43mscenario\u001b[49m\u001b[43m,\u001b[49m\n\u001b[1;32m     50\u001b[0m \u001b[43m    \u001b[49m\u001b[43msensor_strategy\u001b[49m\u001b[43m,\u001b[49m\n\u001b[1;32m     51\u001b[0m \u001b[43m    \u001b[49m\u001b[43mdrone_strategy\u001b[49m\u001b[43m,\u001b[49m\n\u001b[1;32m     52\u001b[0m \u001b[43m    \u001b[49m\u001b[43mcustom_initialization_parameters_function\u001b[49m\u001b[43m(\u001b[49m\u001b[38;5;124;43m\"\u001b[39;49m\u001b[38;5;124;43m../MinimalDataset/0001/\u001b[39;49m\u001b[38;5;124;43m\"\u001b[39;49m\u001b[43m)\u001b[49m\u001b[43m,\u001b[49m\u001b[43m \u001b[49m\n\u001b[1;32m     53\u001b[0m \u001b[43m    \u001b[49m\u001b[38;5;28;43;01mlambda\u001b[39;49;00m\u001b[43m:\u001b[49m\u001b[43m \u001b[49m\u001b[43m{\u001b[49m\u001b[43m}\u001b[49m\u001b[43m,\u001b[49m\u001b[43m  \u001b[49m\u001b[38;5;66;43;03m# No custom step parameters\u001b[39;49;00m\n\u001b[1;32m     54\u001b[0m \u001b[43m    \u001b[49m\u001b[43msimulation_parameters\u001b[49m\u001b[38;5;241;43m=\u001b[39;49m\u001b[43msimulation_parameters\u001b[49m\u001b[43m,\u001b[49m\n\u001b[1;32m     55\u001b[0m \u001b[43m    \u001b[49m\u001b[43mreturn_history\u001b[49m\u001b[38;5;241;43m=\u001b[39;49m\u001b[38;5;28;43;01mTrue\u001b[39;49;00m\n\u001b[1;32m     56\u001b[0m \u001b[43m)\u001b[49m\n\u001b[1;32m     58\u001b[0m \u001b[38;5;66;03m# Print benchmark results\u001b[39;00m\n\u001b[1;32m     59\u001b[0m \u001b[38;5;28mprint\u001b[39m(\u001b[38;5;124m\"\u001b[39m\u001b[38;5;124mBenchmark Results:\u001b[39m\u001b[38;5;124m\"\u001b[39m)\n",
      "File \u001b[0;32m~/Desktop/UROP/wildfire_drone_routing/code/benchmark.py:614\u001b[0m, in \u001b[0;36mrun_benchmark_scenario\u001b[0;34m(scenario, sensor_placement_strategy, drone_routing_strategy, custom_initialization_parameters, custom_step_parameters_function, starting_time, return_history, return_history_scale, custom_initialization_parameters_function, automatic_initialization_parameters_function, input_dir, simulation_parameters, progress_bar)\u001b[0m\n\u001b[1;32m    610\u001b[0m \u001b[38;5;66;03m# 3. Initialize drones\u001b[39;00m\n\u001b[1;32m    612\u001b[0m Routing_Strat \u001b[38;5;241m=\u001b[39m drone_routing_strategy(rescaled_automatic_initialization_parameters, rescaled_custom_initialization_parameters)\n\u001b[0;32m--> 614\u001b[0m initial_drone_locations_and_state_opt_scale \u001b[38;5;241m=\u001b[39m \u001b[43mRouting_Strat\u001b[49m\u001b[38;5;241;43m.\u001b[39;49m\u001b[43mget_initial_drone_locations\u001b[49m\u001b[43m(\u001b[49m\u001b[43m)\u001b[49m\n\u001b[1;32m    615\u001b[0m drones \u001b[38;5;241m=\u001b[39m [Drone(x\u001b[38;5;241m*\u001b[39mcoverage_width_cells\u001b[38;5;241m+\u001b[39mcoverage_width_cells\u001b[38;5;241m/\u001b[39m\u001b[38;5;241m/\u001b[39m\u001b[38;5;241m2\u001b[39m,y\u001b[38;5;241m*\u001b[39mcoverage_width_cells\u001b[38;5;241m+\u001b[39mcoverage_width_cells\u001b[38;5;241m/\u001b[39m\u001b[38;5;241m/\u001b[39m\u001b[38;5;241m2\u001b[39m,state,charging_stations_locations_data_scale,automatic_initialization_parameters[\u001b[38;5;124m\"\u001b[39m\u001b[38;5;124mN\u001b[39m\u001b[38;5;124m\"\u001b[39m],automatic_initialization_parameters[\u001b[38;5;124m\"\u001b[39m\u001b[38;5;124mM\u001b[39m\u001b[38;5;124m\"\u001b[39m], automatic_initialization_parameters[\u001b[38;5;124m\"\u001b[39m\u001b[38;5;124mmax_battery_distance\u001b[39m\u001b[38;5;124m\"\u001b[39m], automatic_initialization_parameters[\u001b[38;5;124m\"\u001b[39m\u001b[38;5;124mmax_battery_time\u001b[39m\u001b[38;5;124m\"\u001b[39m],automatic_initialization_parameters[\u001b[38;5;124m\"\u001b[39m\u001b[38;5;124mmax_battery_distance\u001b[39m\u001b[38;5;124m\"\u001b[39m]\u001b[38;5;241m-\u001b[39m\u001b[38;5;241m1\u001b[39m\u001b[38;5;241m*\u001b[39m(state\u001b[38;5;241m==\u001b[39m\u001b[38;5;124m'\u001b[39m\u001b[38;5;124mfly\u001b[39m\u001b[38;5;124m'\u001b[39m), automatic_initialization_parameters[\u001b[38;5;124m\"\u001b[39m\u001b[38;5;124mmax_battery_time\u001b[39m\u001b[38;5;124m\"\u001b[39m]\u001b[38;5;241m-\u001b[39m\u001b[38;5;241m1\u001b[39m\u001b[38;5;241m*\u001b[39m(state\u001b[38;5;241m==\u001b[39m\u001b[38;5;124m'\u001b[39m\u001b[38;5;124mfly\u001b[39m\u001b[38;5;124m'\u001b[39m)) \u001b[38;5;28;01mfor\u001b[39;00m (state,(x,y)) \u001b[38;5;129;01min\u001b[39;00m initial_drone_locations_and_state_opt_scale]\n\u001b[1;32m    617\u001b[0m drone_locations_data_scale \u001b[38;5;241m=\u001b[39m [drone\u001b[38;5;241m.\u001b[39mget_position() \u001b[38;5;28;01mfor\u001b[39;00m drone \u001b[38;5;129;01min\u001b[39;00m drones]\n",
      "File \u001b[0;32m~/Desktop/UROP/wildfire_drone_routing/code/wrappers.py:193\u001b[0m, in \u001b[0;36mwrap_log_drone_strategy.<locals>.LoggedDroneRoutingStrategy.get_initial_drone_locations\u001b[0;34m(self)\u001b[0m\n\u001b[1;32m    190\u001b[0m     \u001b[38;5;28;01mreturn\u001b[39;00m \u001b[38;5;28mself\u001b[39m\u001b[38;5;241m.\u001b[39mlog_data[\u001b[38;5;124m\"\u001b[39m\u001b[38;5;124minitial_drone_locations\u001b[39m\u001b[38;5;124m\"\u001b[39m]\n\u001b[1;32m    192\u001b[0m \u001b[38;5;66;03m# otherwise, call the parent's method\u001b[39;00m\n\u001b[0;32m--> 193\u001b[0m raw_locations \u001b[38;5;241m=\u001b[39m \u001b[38;5;28;43msuper\u001b[39;49m\u001b[43m(\u001b[49m\u001b[43m)\u001b[49m\u001b[38;5;241;43m.\u001b[39;49m\u001b[43mget_initial_drone_locations\u001b[49m\u001b[43m(\u001b[49m\u001b[43m)\u001b[49m\n\u001b[1;32m    195\u001b[0m \u001b[38;5;66;03m# unify format to a list of (state, (x,y))\u001b[39;00m\n\u001b[1;32m    196\u001b[0m init_list \u001b[38;5;241m=\u001b[39m \u001b[38;5;28mself\u001b[39m\u001b[38;5;241m.\u001b[39m_normalize_initial_locations(raw_locations)\n",
      "File \u001b[0;32m~/Desktop/UROP/wildfire_drone_routing/code/new_clustering.py:157\u001b[0m, in \u001b[0;36mget_wrapped_clustering_strategy.<locals>.ClusteredDroneStrategyWrapped.get_initial_drone_locations\u001b[0;34m(self)\u001b[0m\n\u001b[1;32m    153\u001b[0m \u001b[38;5;66;03m# print(f\"\\n📍 [ClusteredDroneStrategyWrapper] Fetching initial drone locations for {len(self.strategy_instances)} clusters...\")\u001b[39;00m\n\u001b[1;32m    155\u001b[0m \u001b[38;5;28;01mfor\u001b[39;00m i, strat \u001b[38;5;129;01min\u001b[39;00m \u001b[38;5;28menumerate\u001b[39m(\u001b[38;5;28mself\u001b[39m\u001b[38;5;241m.\u001b[39mstrategy_instances):\n\u001b[1;32m    156\u001b[0m     \u001b[38;5;66;03m# print(f\"\\n📦 Cluster {i}: Calling strategy to get initial positions and states...\")\u001b[39;00m\n\u001b[0;32m--> 157\u001b[0m     raw \u001b[38;5;241m=\u001b[39m \u001b[43mstrat\u001b[49m\u001b[38;5;241;43m.\u001b[39;49m\u001b[43mget_initial_drone_locations\u001b[49m\u001b[43m(\u001b[49m\u001b[43m)\u001b[49m\n\u001b[1;32m    159\u001b[0m     \u001b[38;5;66;03m# if it's a list of (state, position) tuples, extract both\u001b[39;00m\n\u001b[1;32m    160\u001b[0m     \u001b[38;5;28;01mif\u001b[39;00m \u001b[38;5;28misinstance\u001b[39m(raw, \u001b[38;5;28mlist\u001b[39m) \u001b[38;5;129;01mand\u001b[39;00m \u001b[38;5;28misinstance\u001b[39m(raw[\u001b[38;5;241m0\u001b[39m], \u001b[38;5;28mtuple\u001b[39m) \u001b[38;5;129;01mand\u001b[39;00m \u001b[38;5;28misinstance\u001b[39m(raw[\u001b[38;5;241m0\u001b[39m][\u001b[38;5;241m0\u001b[39m], \u001b[38;5;28mstr\u001b[39m):\n",
      "File \u001b[0;32m~/Desktop/UROP/wildfire_drone_routing/code/Strategy.py:1553\u001b[0m, in \u001b[0;36mDroneRoutingUniformMaxCoverageResetStatic.get_initial_drone_locations\u001b[0;34m(self)\u001b[0m\n\u001b[1;32m   1551\u001b[0m \u001b[38;5;66;03m# Create the reusable routing model\u001b[39;00m\n\u001b[1;32m   1552\u001b[0m start_time \u001b[38;5;241m=\u001b[39m time\u001b[38;5;241m.\u001b[39mtime()\n\u001b[0;32m-> 1553\u001b[0m \u001b[38;5;28mself\u001b[39m\u001b[38;5;241m.\u001b[39mrouting_model \u001b[38;5;241m=\u001b[39m \u001b[43mjl\u001b[49m\u001b[38;5;241m.\u001b[39mcreate_index_routing_model(\n\u001b[1;32m   1554\u001b[0m     \u001b[38;5;28mself\u001b[39m\u001b[38;5;241m.\u001b[39mcurrent_burnmap_filename,\n\u001b[1;32m   1555\u001b[0m     \u001b[38;5;28mself\u001b[39m\u001b[38;5;241m.\u001b[39mautomatic_initialization_parameters[\u001b[38;5;124m\"\u001b[39m\u001b[38;5;124mn_drones\u001b[39m\u001b[38;5;124m\"\u001b[39m],\n\u001b[1;32m   1556\u001b[0m     \u001b[38;5;28mself\u001b[39m\u001b[38;5;241m.\u001b[39mjulia_charging_stations_locations,\n\u001b[1;32m   1557\u001b[0m     \u001b[38;5;28mself\u001b[39m\u001b[38;5;241m.\u001b[39mjulia_ground_sensor_locations,\n\u001b[1;32m   1558\u001b[0m     \u001b[38;5;28mself\u001b[39m\u001b[38;5;241m.\u001b[39mcustom_initialization_parameters[\u001b[38;5;124m\"\u001b[39m\u001b[38;5;124moptimization_horizon\u001b[39m\u001b[38;5;124m\"\u001b[39m],\n\u001b[1;32m   1559\u001b[0m     \u001b[38;5;28mself\u001b[39m\u001b[38;5;241m.\u001b[39mautomatic_initialization_parameters[\u001b[38;5;124m\"\u001b[39m\u001b[38;5;124mmax_battery_time\u001b[39m\u001b[38;5;124m\"\u001b[39m],\n\u001b[1;32m   1560\u001b[0m )\n\u001b[1;32m   1561\u001b[0m \u001b[38;5;28mself\u001b[39m\u001b[38;5;241m.\u001b[39mexecution_time \u001b[38;5;241m+\u001b[39m\u001b[38;5;241m=\u001b[39m time\u001b[38;5;241m.\u001b[39mtime() \u001b[38;5;241m-\u001b[39m start_time\n\u001b[1;32m   1562\u001b[0m \u001b[38;5;66;03m# Solve the initial routing problem with the model\u001b[39;00m\n",
      "\u001b[0;31mNameError\u001b[0m: name 'jl' is not defined"
     ]
    }
   ],
   "source": [
    "# Import necessary modules\n",
    "import os\n",
    "import numpy as np\n",
    "import sys\n",
    "\n",
    "module_path = os.path.abspath(\"..\") + \"/code\"\n",
    "if module_path not in sys.path:\n",
    "    sys.path.append(module_path)\n",
    "    print(f\"Added {module_path} to sys.path\")\n",
    "\n",
    "from dataset import load_scenario_npy\n",
    "from benchmark import run_benchmark_scenario\n",
    "from wrappers import wrap_log_sensor_strategy, wrap_log_drone_strategy\n",
    "from Strategy import RandomSensorPlacementStrategy, DroneRoutingUniformMaxCoverageResetStatic\n",
    "from new_clustering import get_wrapped_clustering_strategy\n",
    "\n",
    "# Define paths and parameters\n",
    "scenario_file = \"../MinimalDataset/0001/burn_map.npy\"\n",
    "scenario = load_scenario_npy(scenario_file)\n",
    "\n",
    "# Define simulation parameters\n",
    "simulation_parameters = {\n",
    "    \"max_battery_distance\": -1,\n",
    "    \"max_battery_time\": 1,\n",
    "    \"n_drones\": 3,\n",
    "    \"n_ground_stations\": 4,\n",
    "    \"n_charging_stations\": 2,\n",
    "    \"drone_speed_m_per_min\": 600,\n",
    "    \"coverage_radius_m\": 300,\n",
    "    \"cell_size_m\": 30,\n",
    "    \"transmission_range\": 50000,\n",
    "}\n",
    "\n",
    "# Define strategies\n",
    "sensor_strategy = wrap_log_sensor_strategy(RandomSensorPlacementStrategy)\n",
    "drone_strategy = wrap_log_drone_strategy(get_wrapped_clustering_strategy(DroneRoutingUniformMaxCoverageResetStatic))\n",
    "\n",
    "# Define custom initialization parameters\n",
    "def custom_initialization_parameters_function(input_dir: str):\n",
    "    return {\n",
    "        \"burnmap_filename\": f\"{input_dir.strip('/')}/burn_map.npy\",  # Correct path construction\n",
    "        \"reevaluation_step\": 5,\n",
    "        \"optimization_horizon\": 10,\n",
    "        \"regularization_param\": 1,\n",
    "    }\n",
    "\n",
    "# Run benchmark on the scenario\n",
    "results, _ = run_benchmark_scenario(\n",
    "    scenario,\n",
    "    sensor_strategy,\n",
    "    drone_strategy,\n",
    "    custom_initialization_parameters_function(\"../MinimalDataset/0001/\"), \n",
    "    lambda: {},  # No custom step parameters\n",
    "    simulation_parameters=simulation_parameters,\n",
    "    return_history=True\n",
    ")\n",
    "\n",
    "# Print benchmark results\n",
    "print(\"Benchmark Results:\")\n",
    "print(results)"
   ]
  },
  {
   "cell_type": "markdown",
   "id": "556d3303",
   "metadata": {},
   "source": [
    "### Expected Output\n",
    "A dictionary containing benchmark results, such as:\n",
    "\n",
    "avg_execution_time: Average time taken for the simulation.\n",
    "\n",
    "fire_size_cells: Total size of the fire in cells.\n",
    "\n",
    "percentage_map_explored: Percentage of the map explored by drones.\n",
    "\n",
    "total_distance_traveled: Total distance traveled by drones.\n"
   ]
  },
  {
   "cell_type": "code",
   "execution_count": 16,
   "id": "af332b26",
   "metadata": {},
   "outputs": [
    {
     "name": "stdout",
     "output_type": "stream",
     "text": [
      "[juliapkg] Found dependencies: /Users/josephye/Library/Python/3.9/lib/python/site-packages/juliapkg/juliapkg.json\n",
      "[juliapkg] Found dependencies: /Users/josephye/Library/Python/3.9/lib/python/site-packages/juliacall/juliapkg.json\n",
      "[juliapkg] Locating Julia 1.6.1 - 1.10.0, ^1.10.3\n",
      "[juliapkg] Using Julia 1.11.5 at /Users/josephye/.julia/environments/pyjuliapkg/pyjuliapkg/install/bin/julia\n",
      "[juliapkg] Using Julia project at /Users/josephye/.julia/environments/pyjuliapkg\n",
      "[juliapkg] Writing Project.toml:\n",
      "             [deps]\n",
      "             PythonCall = \"6099a3de-0909-46bc-b1f4-468b9a2dfc0d\"\n",
      "             OpenSSL_jll = \"458c3c95-2e84-50aa-8efc-19380b2a3a95\"\n",
      "             [compat]\n",
      "             PythonCall = \"=0.9.25\"\n",
      "             OpenSSL_jll = \"=2.0.0\"\n",
      "[juliapkg] Installing packages:\n",
      "             import Pkg\n",
      "             Pkg.Registry.update()\n",
      "             Pkg.add([\n",
      "               Pkg.PackageSpec(name=\"PythonCall\", uuid=\"6099a3de-0909-46bc-b1f4-468b9a2dfc0d\"),\n",
      "               Pkg.PackageSpec(name=\"OpenSSL_jll\", uuid=\"458c3c95-2e84-50aa-8efc-19380b2a3a95\"),\n",
      "             ])\n",
      "             Pkg.resolve()\n",
      "             Pkg.precompile()\n"
     ]
    },
    {
     "ename": "KeyboardInterrupt",
     "evalue": "",
     "output_type": "error",
     "traceback": [
      "\u001b[0;31m---------------------------------------------------------------------------\u001b[0m",
      "\u001b[0;31mKeyboardInterrupt\u001b[0m                         Traceback (most recent call last)",
      "Cell \u001b[0;32mIn[16], line 3\u001b[0m\n\u001b[1;32m      1\u001b[0m os\u001b[38;5;241m.\u001b[39menviron[\u001b[38;5;124m\"\u001b[39m\u001b[38;5;124mJULIA_EXE\u001b[39m\u001b[38;5;124m\"\u001b[39m] \u001b[38;5;241m=\u001b[39m \u001b[38;5;124m\"\u001b[39m\u001b[38;5;124m/Applications/Julia-1.10.app/Contents/Resources/julia/bin/julia\u001b[39m\u001b[38;5;124m\"\u001b[39m  \u001b[38;5;66;03m# Replace with actual path\u001b[39;00m\n\u001b[0;32m----> 3\u001b[0m \u001b[38;5;28;01mfrom\u001b[39;00m\u001b[38;5;250m \u001b[39m\u001b[38;5;21;01mjuliacall\u001b[39;00m\u001b[38;5;250m \u001b[39m\u001b[38;5;28;01mimport\u001b[39;00m Main \u001b[38;5;28;01mas\u001b[39;00m jl\n\u001b[1;32m      5\u001b[0m \u001b[38;5;28mprint\u001b[39m(jl\u001b[38;5;241m.\u001b[39meval(\u001b[38;5;124m\"\u001b[39m\u001b[38;5;124m1 + 1\u001b[39m\u001b[38;5;124m\"\u001b[39m))  \u001b[38;5;66;03m# Should print 2\u001b[39;00m\n",
      "File \u001b[0;32m~/Library/Python/3.9/lib/python/site-packages/juliacall/__init__.py:288\u001b[0m\n\u001b[1;32m    285\u001b[0m     \u001b[38;5;28;01mimport\u001b[39;00m\u001b[38;5;250m \u001b[39m\u001b[38;5;21;01mjuliacall\u001b[39;00m\u001b[38;5;21;01m.\u001b[39;00m\u001b[38;5;21;01mipython\u001b[39;00m\n\u001b[1;32m    286\u001b[0m     juliacall\u001b[38;5;241m.\u001b[39mipython\u001b[38;5;241m.\u001b[39mload_ipython_extension(ip)\n\u001b[0;32m--> 288\u001b[0m \u001b[43minit\u001b[49m\u001b[43m(\u001b[49m\u001b[43m)\u001b[49m\n",
      "File \u001b[0;32m~/Library/Python/3.9/lib/python/site-packages/juliacall/__init__.py:160\u001b[0m, in \u001b[0;36minit\u001b[0;34m()\u001b[0m\n\u001b[1;32m    157\u001b[0m \u001b[38;5;28;01mimport\u001b[39;00m\u001b[38;5;250m \u001b[39m\u001b[38;5;21;01mjuliapkg\u001b[39;00m\n\u001b[1;32m    159\u001b[0m \u001b[38;5;66;03m# Find the Julia executable and project\u001b[39;00m\n\u001b[0;32m--> 160\u001b[0m CONFIG[\u001b[38;5;124m'\u001b[39m\u001b[38;5;124mexepath\u001b[39m\u001b[38;5;124m'\u001b[39m] \u001b[38;5;241m=\u001b[39m exepath \u001b[38;5;241m=\u001b[39m \u001b[43mjuliapkg\u001b[49m\u001b[38;5;241;43m.\u001b[39;49m\u001b[43mexecutable\u001b[49m\u001b[43m(\u001b[49m\u001b[43m)\u001b[49m\n\u001b[1;32m    161\u001b[0m CONFIG[\u001b[38;5;124m'\u001b[39m\u001b[38;5;124mproject\u001b[39m\u001b[38;5;124m'\u001b[39m] \u001b[38;5;241m=\u001b[39m project \u001b[38;5;241m=\u001b[39m juliapkg\u001b[38;5;241m.\u001b[39mproject()\n\u001b[1;32m    163\u001b[0m \u001b[38;5;66;03m# Find the Julia library\u001b[39;00m\n",
      "File \u001b[0;32m~/Library/Python/3.9/lib/python/site-packages/juliapkg/deps.py:435\u001b[0m, in \u001b[0;36mexecutable\u001b[0;34m()\u001b[0m\n\u001b[1;32m    434\u001b[0m \u001b[38;5;28;01mdef\u001b[39;00m\u001b[38;5;250m \u001b[39m\u001b[38;5;21mexecutable\u001b[39m():\n\u001b[0;32m--> 435\u001b[0m     \u001b[43mresolve\u001b[49m\u001b[43m(\u001b[49m\u001b[43m)\u001b[49m\n\u001b[1;32m    436\u001b[0m     \u001b[38;5;28;01mreturn\u001b[39;00m STATE[\u001b[38;5;124m\"\u001b[39m\u001b[38;5;124mexecutable\u001b[39m\u001b[38;5;124m\"\u001b[39m]\n",
      "File \u001b[0;32m~/Library/Python/3.9/lib/python/site-packages/juliapkg/deps.py:396\u001b[0m, in \u001b[0;36mresolve\u001b[0;34m(force, dry_run)\u001b[0m\n\u001b[1;32m    391\u001b[0m     \u001b[38;5;28;01mif\u001b[39;00m sys\u001b[38;5;241m.\u001b[39mexecutable:\n\u001b[1;32m    392\u001b[0m         \u001b[38;5;66;03m# prefer PythonCall to use the current Python executable\u001b[39;00m\n\u001b[1;32m    393\u001b[0m         \u001b[38;5;66;03m# TODO: this is a hack, it would be better for PythonCall to detect that\u001b[39;00m\n\u001b[1;32m    394\u001b[0m         \u001b[38;5;66;03m#   Julia is being called from Python\u001b[39;00m\n\u001b[1;32m    395\u001b[0m         env\u001b[38;5;241m.\u001b[39msetdefault(\u001b[38;5;124m\"\u001b[39m\u001b[38;5;124mJULIA_PYTHONCALL_EXE\u001b[39m\u001b[38;5;124m\"\u001b[39m, sys\u001b[38;5;241m.\u001b[39mexecutable)\n\u001b[0;32m--> 396\u001b[0m     \u001b[43mrun\u001b[49m\u001b[43m(\u001b[49m\n\u001b[1;32m    397\u001b[0m \u001b[43m        \u001b[49m\u001b[43m[\u001b[49m\n\u001b[1;32m    398\u001b[0m \u001b[43m            \u001b[49m\u001b[43mexe\u001b[49m\u001b[43m,\u001b[49m\n\u001b[1;32m    399\u001b[0m \u001b[43m            \u001b[49m\u001b[38;5;124;43m\"\u001b[39;49m\u001b[38;5;124;43m--project=\u001b[39;49m\u001b[38;5;124;43m\"\u001b[39;49m\u001b[43m \u001b[49m\u001b[38;5;241;43m+\u001b[39;49m\u001b[43m \u001b[49m\u001b[43mproject\u001b[49m\u001b[43m,\u001b[49m\n\u001b[1;32m    400\u001b[0m \u001b[43m            \u001b[49m\u001b[38;5;124;43m\"\u001b[39;49m\u001b[38;5;124;43m--startup-file=no\u001b[39;49m\u001b[38;5;124;43m\"\u001b[39;49m\u001b[43m,\u001b[49m\n\u001b[1;32m    401\u001b[0m \u001b[43m            \u001b[49m\u001b[38;5;124;43m\"\u001b[39;49m\u001b[38;5;124;43m-e\u001b[39;49m\u001b[38;5;124;43m\"\u001b[39;49m\u001b[43m,\u001b[49m\n\u001b[1;32m    402\u001b[0m \u001b[43m            \u001b[49m\u001b[38;5;124;43m\"\u001b[39;49m\u001b[38;5;130;43;01m\\n\u001b[39;49;00m\u001b[38;5;124;43m\"\u001b[39;49m\u001b[38;5;241;43m.\u001b[39;49m\u001b[43mjoin\u001b[49m\u001b[43m(\u001b[49m\u001b[43mscript\u001b[49m\u001b[43m)\u001b[49m\u001b[43m,\u001b[49m\n\u001b[1;32m    403\u001b[0m \u001b[43m        \u001b[49m\u001b[43m]\u001b[49m\u001b[43m,\u001b[49m\n\u001b[1;32m    404\u001b[0m \u001b[43m        \u001b[49m\u001b[43mcheck\u001b[49m\u001b[38;5;241;43m=\u001b[39;49m\u001b[38;5;28;43;01mTrue\u001b[39;49;00m\u001b[43m,\u001b[49m\n\u001b[1;32m    405\u001b[0m \u001b[43m        \u001b[49m\u001b[43menv\u001b[49m\u001b[38;5;241;43m=\u001b[39;49m\u001b[43menv\u001b[49m\u001b[43m,\u001b[49m\n\u001b[1;32m    406\u001b[0m \u001b[43m    \u001b[49m\u001b[43m)\u001b[49m\n\u001b[1;32m    407\u001b[0m \u001b[38;5;66;03m# record that we resolved\u001b[39;00m\n\u001b[1;32m    408\u001b[0m save_meta(\n\u001b[1;32m    409\u001b[0m     {\n\u001b[1;32m    410\u001b[0m         \u001b[38;5;124m\"\u001b[39m\u001b[38;5;124mmeta_version\u001b[39m\u001b[38;5;124m\"\u001b[39m: META_VERSION,\n\u001b[0;32m   (...)\u001b[0m\n\u001b[1;32m    424\u001b[0m     }\n\u001b[1;32m    425\u001b[0m )\n",
      "File \u001b[0;32m/Library/Developer/CommandLineTools/Library/Frameworks/Python3.framework/Versions/3.9/lib/python3.9/subprocess.py:507\u001b[0m, in \u001b[0;36mrun\u001b[0;34m(input, capture_output, timeout, check, *popenargs, **kwargs)\u001b[0m\n\u001b[1;32m    505\u001b[0m \u001b[38;5;28;01mwith\u001b[39;00m Popen(\u001b[38;5;241m*\u001b[39mpopenargs, \u001b[38;5;241m*\u001b[39m\u001b[38;5;241m*\u001b[39mkwargs) \u001b[38;5;28;01mas\u001b[39;00m process:\n\u001b[1;32m    506\u001b[0m     \u001b[38;5;28;01mtry\u001b[39;00m:\n\u001b[0;32m--> 507\u001b[0m         stdout, stderr \u001b[38;5;241m=\u001b[39m \u001b[43mprocess\u001b[49m\u001b[38;5;241;43m.\u001b[39;49m\u001b[43mcommunicate\u001b[49m\u001b[43m(\u001b[49m\u001b[38;5;28;43minput\u001b[39;49m\u001b[43m,\u001b[49m\u001b[43m \u001b[49m\u001b[43mtimeout\u001b[49m\u001b[38;5;241;43m=\u001b[39;49m\u001b[43mtimeout\u001b[49m\u001b[43m)\u001b[49m\n\u001b[1;32m    508\u001b[0m     \u001b[38;5;28;01mexcept\u001b[39;00m TimeoutExpired \u001b[38;5;28;01mas\u001b[39;00m exc:\n\u001b[1;32m    509\u001b[0m         process\u001b[38;5;241m.\u001b[39mkill()\n",
      "File \u001b[0;32m/Library/Developer/CommandLineTools/Library/Frameworks/Python3.framework/Versions/3.9/lib/python3.9/subprocess.py:1126\u001b[0m, in \u001b[0;36mPopen.communicate\u001b[0;34m(self, input, timeout)\u001b[0m\n\u001b[1;32m   1124\u001b[0m         stderr \u001b[38;5;241m=\u001b[39m \u001b[38;5;28mself\u001b[39m\u001b[38;5;241m.\u001b[39mstderr\u001b[38;5;241m.\u001b[39mread()\n\u001b[1;32m   1125\u001b[0m         \u001b[38;5;28mself\u001b[39m\u001b[38;5;241m.\u001b[39mstderr\u001b[38;5;241m.\u001b[39mclose()\n\u001b[0;32m-> 1126\u001b[0m     \u001b[38;5;28;43mself\u001b[39;49m\u001b[38;5;241;43m.\u001b[39;49m\u001b[43mwait\u001b[49m\u001b[43m(\u001b[49m\u001b[43m)\u001b[49m\n\u001b[1;32m   1127\u001b[0m \u001b[38;5;28;01melse\u001b[39;00m:\n\u001b[1;32m   1128\u001b[0m     \u001b[38;5;28;01mif\u001b[39;00m timeout \u001b[38;5;129;01mis\u001b[39;00m \u001b[38;5;129;01mnot\u001b[39;00m \u001b[38;5;28;01mNone\u001b[39;00m:\n",
      "File \u001b[0;32m/Library/Developer/CommandLineTools/Library/Frameworks/Python3.framework/Versions/3.9/lib/python3.9/subprocess.py:1189\u001b[0m, in \u001b[0;36mPopen.wait\u001b[0;34m(self, timeout)\u001b[0m\n\u001b[1;32m   1187\u001b[0m     endtime \u001b[38;5;241m=\u001b[39m _time() \u001b[38;5;241m+\u001b[39m timeout\n\u001b[1;32m   1188\u001b[0m \u001b[38;5;28;01mtry\u001b[39;00m:\n\u001b[0;32m-> 1189\u001b[0m     \u001b[38;5;28;01mreturn\u001b[39;00m \u001b[38;5;28;43mself\u001b[39;49m\u001b[38;5;241;43m.\u001b[39;49m\u001b[43m_wait\u001b[49m\u001b[43m(\u001b[49m\u001b[43mtimeout\u001b[49m\u001b[38;5;241;43m=\u001b[39;49m\u001b[43mtimeout\u001b[49m\u001b[43m)\u001b[49m\n\u001b[1;32m   1190\u001b[0m \u001b[38;5;28;01mexcept\u001b[39;00m \u001b[38;5;167;01mKeyboardInterrupt\u001b[39;00m:\n\u001b[1;32m   1191\u001b[0m     \u001b[38;5;66;03m# https://bugs.python.org/issue25942\u001b[39;00m\n\u001b[1;32m   1192\u001b[0m     \u001b[38;5;66;03m# The first keyboard interrupt waits briefly for the child to\u001b[39;00m\n\u001b[1;32m   1193\u001b[0m     \u001b[38;5;66;03m# exit under the common assumption that it also received the ^C\u001b[39;00m\n\u001b[1;32m   1194\u001b[0m     \u001b[38;5;66;03m# generated SIGINT and will exit rapidly.\u001b[39;00m\n\u001b[1;32m   1195\u001b[0m     \u001b[38;5;28;01mif\u001b[39;00m timeout \u001b[38;5;129;01mis\u001b[39;00m \u001b[38;5;129;01mnot\u001b[39;00m \u001b[38;5;28;01mNone\u001b[39;00m:\n",
      "File \u001b[0;32m/Library/Developer/CommandLineTools/Library/Frameworks/Python3.framework/Versions/3.9/lib/python3.9/subprocess.py:1917\u001b[0m, in \u001b[0;36mPopen._wait\u001b[0;34m(self, timeout)\u001b[0m\n\u001b[1;32m   1915\u001b[0m \u001b[38;5;28;01mif\u001b[39;00m \u001b[38;5;28mself\u001b[39m\u001b[38;5;241m.\u001b[39mreturncode \u001b[38;5;129;01mis\u001b[39;00m \u001b[38;5;129;01mnot\u001b[39;00m \u001b[38;5;28;01mNone\u001b[39;00m:\n\u001b[1;32m   1916\u001b[0m     \u001b[38;5;28;01mbreak\u001b[39;00m  \u001b[38;5;66;03m# Another thread waited.\u001b[39;00m\n\u001b[0;32m-> 1917\u001b[0m (pid, sts) \u001b[38;5;241m=\u001b[39m \u001b[38;5;28;43mself\u001b[39;49m\u001b[38;5;241;43m.\u001b[39;49m\u001b[43m_try_wait\u001b[49m\u001b[43m(\u001b[49m\u001b[38;5;241;43m0\u001b[39;49m\u001b[43m)\u001b[49m\n\u001b[1;32m   1918\u001b[0m \u001b[38;5;66;03m# Check the pid and loop as waitpid has been known to\u001b[39;00m\n\u001b[1;32m   1919\u001b[0m \u001b[38;5;66;03m# return 0 even without WNOHANG in odd situations.\u001b[39;00m\n\u001b[1;32m   1920\u001b[0m \u001b[38;5;66;03m# http://bugs.python.org/issue14396.\u001b[39;00m\n\u001b[1;32m   1921\u001b[0m \u001b[38;5;28;01mif\u001b[39;00m pid \u001b[38;5;241m==\u001b[39m \u001b[38;5;28mself\u001b[39m\u001b[38;5;241m.\u001b[39mpid:\n",
      "File \u001b[0;32m/Library/Developer/CommandLineTools/Library/Frameworks/Python3.framework/Versions/3.9/lib/python3.9/subprocess.py:1875\u001b[0m, in \u001b[0;36mPopen._try_wait\u001b[0;34m(self, wait_flags)\u001b[0m\n\u001b[1;32m   1873\u001b[0m \u001b[38;5;250m\u001b[39m\u001b[38;5;124;03m\"\"\"All callers to this function MUST hold self._waitpid_lock.\"\"\"\u001b[39;00m\n\u001b[1;32m   1874\u001b[0m \u001b[38;5;28;01mtry\u001b[39;00m:\n\u001b[0;32m-> 1875\u001b[0m     (pid, sts) \u001b[38;5;241m=\u001b[39m \u001b[43mos\u001b[49m\u001b[38;5;241;43m.\u001b[39;49m\u001b[43mwaitpid\u001b[49m\u001b[43m(\u001b[49m\u001b[38;5;28;43mself\u001b[39;49m\u001b[38;5;241;43m.\u001b[39;49m\u001b[43mpid\u001b[49m\u001b[43m,\u001b[49m\u001b[43m \u001b[49m\u001b[43mwait_flags\u001b[49m\u001b[43m)\u001b[49m\n\u001b[1;32m   1876\u001b[0m \u001b[38;5;28;01mexcept\u001b[39;00m \u001b[38;5;167;01mChildProcessError\u001b[39;00m:\n\u001b[1;32m   1877\u001b[0m     \u001b[38;5;66;03m# This happens if SIGCLD is set to be ignored or waiting\u001b[39;00m\n\u001b[1;32m   1878\u001b[0m     \u001b[38;5;66;03m# for child processes has otherwise been disabled for our\u001b[39;00m\n\u001b[1;32m   1879\u001b[0m     \u001b[38;5;66;03m# process.  This child is dead, we can't get the status.\u001b[39;00m\n\u001b[1;32m   1880\u001b[0m     pid \u001b[38;5;241m=\u001b[39m \u001b[38;5;28mself\u001b[39m\u001b[38;5;241m.\u001b[39mpid\n",
      "\u001b[0;31mKeyboardInterrupt\u001b[0m: "
     ]
    }
   ],
   "source": [
    "\n",
    "os.environ[\"JULIA_EXE\"] = \"/Applications/Julia-1.10.app/Contents/Resources/julia/bin/julia\"  # Replace with actual path\n",
    "\n",
    "from juliacall import Main as jl\n",
    "\n",
    "print(jl.eval(\"1 + 1\"))  # Should print 2\n"
   ]
  }
 ],
 "metadata": {
  "kernelspec": {
   "display_name": "Python 3",
   "language": "python",
   "name": "python3"
  },
  "language_info": {
   "codemirror_mode": {
    "name": "ipython",
    "version": 3
   },
   "file_extension": ".py",
   "mimetype": "text/x-python",
   "name": "python",
   "nbconvert_exporter": "python",
   "pygments_lexer": "ipython3",
   "version": "3.9.6"
  }
 },
 "nbformat": 4,
 "nbformat_minor": 5
}
