{
 "cells": [
  {
   "cell_type": "code",
   "execution_count": 417,
   "metadata": {},
   "outputs": [],
   "source": [
    "import pandas as pd\n",
    "\n",
    "# Create a sample DataFrame\n",
    "data = {\n",
    "    'layout': ['USA1', 'USA1', 'USA1', 'USA2', 'USA2', 'USA2', 'USA3', 'USA3', 'USA3'],\n",
    "    'scenario': [1, 2, 3, 1, 2, 3, 1, 2, 3],\n",
    "    'historical': [True, True, False, True, False, False, True, False, False],\n",
    "    'fast': [True, False, True, True, False, False, False, False, True],\n",
    "    'big': [True, True, False, False, True, False, False, True, True],\n",
    "}\n",
    "\n",
    "df = pd.DataFrame(data)\n",
    "\n",
    "import pandas as pd\n",
    "import numpy as np\n",
    "import random\n",
    "\n",
    "# Define parameters\n",
    "layouts = ['USA1', 'USA2', 'USA3']\n",
    "scenarios = [1, 2, 3]\n",
    "ground_sensors = ['strategy1', 'strategy2']\n",
    "drones = ['dstrategy1', 'dstrategy2', 'dstrategy3']\n",
    "\n",
    "# Generate all combinations\n",
    "data = []\n",
    "for layout in layouts:\n",
    "    for scenario in scenarios:\n",
    "        for gs in ground_sensors:\n",
    "            for dr in drones:\n",
    "                # Simulate detection time: 20% chance of being -1 (not detected)\n",
    "                dt = round(random.uniform(0, 60), 1) if random.random() > 0.2 else -1\n",
    "                data.append((layout, scenario, gs, dr, dt))\n",
    "\n",
    "# Create DataFrame\n",
    "results = pd.DataFrame(data, columns=['layout', 'scenario', 'ground_sensor', 'drone_strategy_strategy', 'detection_time'])"
   ]
  },
  {
   "cell_type": "code",
   "execution_count": 489,
   "metadata": {},
   "outputs": [],
   "source": [
    "df = pd.read_csv('results/scenario_summary.csv')\n",
    "results = pd.read_csv('results/combined_benchmark_resultsRandomSensorPlacementStrategy_DroneRoutingMaxCoverageResetStatic (1).csv')"
   ]
  },
  {
   "cell_type": "code",
   "execution_count": 490,
   "metadata": {},
   "outputs": [
    {
     "data": {
      "text/html": [
       "<div>\n",
       "<style scoped>\n",
       "    .dataframe tbody tr th:only-of-type {\n",
       "        vertical-align: middle;\n",
       "    }\n",
       "\n",
       "    .dataframe tbody tr th {\n",
       "        vertical-align: top;\n",
       "    }\n",
       "\n",
       "    .dataframe thead th {\n",
       "        text-align: right;\n",
       "    }\n",
       "</style>\n",
       "<table border=\"1\" class=\"dataframe\">\n",
       "  <thead>\n",
       "    <tr style=\"text-align: right;\">\n",
       "      <th></th>\n",
       "      <th>sensor_strategy</th>\n",
       "      <th>drone_strategy</th>\n",
       "      <th>layout</th>\n",
       "      <th>scenario</th>\n",
       "      <th>delta_t</th>\n",
       "      <th>device</th>\n",
       "      <th>execution_time</th>\n",
       "      <th>fire_size_cells</th>\n",
       "      <th>fire_percentage</th>\n",
       "      <th>map_explored</th>\n",
       "      <th>total_distance</th>\n",
       "    </tr>\n",
       "  </thead>\n",
       "  <tbody>\n",
       "    <tr>\n",
       "      <th>0</th>\n",
       "      <td>RandomSensorPlacementStrategy</td>\n",
       "      <td>DroneRoutingMaxCoverageResetStatic</td>\n",
       "      <td>4</td>\n",
       "      <td>225</td>\n",
       "      <td>0</td>\n",
       "      <td>drone</td>\n",
       "      <td>0.000002</td>\n",
       "      <td>450</td>\n",
       "      <td>0.140148</td>\n",
       "      <td>0.019932</td>\n",
       "      <td>2465</td>\n",
       "    </tr>\n",
       "    <tr>\n",
       "      <th>1</th>\n",
       "      <td>RandomSensorPlacementStrategy</td>\n",
       "      <td>DroneRoutingMaxCoverageResetStatic</td>\n",
       "      <td>4</td>\n",
       "      <td>640</td>\n",
       "      <td>11</td>\n",
       "      <td>ground sensor</td>\n",
       "      <td>0.000002</td>\n",
       "      <td>3139</td>\n",
       "      <td>0.977608</td>\n",
       "      <td>0.135787</td>\n",
       "      <td>62144</td>\n",
       "    </tr>\n",
       "    <tr>\n",
       "      <th>2</th>\n",
       "      <td>RandomSensorPlacementStrategy</td>\n",
       "      <td>DroneRoutingMaxCoverageResetStatic</td>\n",
       "      <td>4</td>\n",
       "      <td>591</td>\n",
       "      <td>2</td>\n",
       "      <td>drone</td>\n",
       "      <td>0.000002</td>\n",
       "      <td>120</td>\n",
       "      <td>0.037373</td>\n",
       "      <td>0.080351</td>\n",
       "      <td>13979</td>\n",
       "    </tr>\n",
       "    <tr>\n",
       "      <th>3</th>\n",
       "      <td>RandomSensorPlacementStrategy</td>\n",
       "      <td>DroneRoutingMaxCoverageResetStatic</td>\n",
       "      <td>4</td>\n",
       "      <td>993</td>\n",
       "      <td>15</td>\n",
       "      <td>drone</td>\n",
       "      <td>0.000002</td>\n",
       "      <td>26355</td>\n",
       "      <td>8.207979</td>\n",
       "      <td>0.142016</td>\n",
       "      <td>87509</td>\n",
       "    </tr>\n",
       "    <tr>\n",
       "      <th>4</th>\n",
       "      <td>RandomSensorPlacementStrategy</td>\n",
       "      <td>DroneRoutingMaxCoverageResetStatic</td>\n",
       "      <td>4</td>\n",
       "      <td>732</td>\n",
       "      <td>16</td>\n",
       "      <td>drone</td>\n",
       "      <td>0.000002</td>\n",
       "      <td>3570</td>\n",
       "      <td>1.111838</td>\n",
       "      <td>0.142328</td>\n",
       "      <td>94729</td>\n",
       "    </tr>\n",
       "  </tbody>\n",
       "</table>\n",
       "</div>"
      ],
      "text/plain": [
       "                 sensor_strategy                      drone_strategy  layout  \\\n",
       "0  RandomSensorPlacementStrategy  DroneRoutingMaxCoverageResetStatic       4   \n",
       "1  RandomSensorPlacementStrategy  DroneRoutingMaxCoverageResetStatic       4   \n",
       "2  RandomSensorPlacementStrategy  DroneRoutingMaxCoverageResetStatic       4   \n",
       "3  RandomSensorPlacementStrategy  DroneRoutingMaxCoverageResetStatic       4   \n",
       "4  RandomSensorPlacementStrategy  DroneRoutingMaxCoverageResetStatic       4   \n",
       "\n",
       "   scenario  delta_t         device  execution_time  fire_size_cells  \\\n",
       "0       225        0          drone        0.000002              450   \n",
       "1       640       11  ground sensor        0.000002             3139   \n",
       "2       591        2          drone        0.000002              120   \n",
       "3       993       15          drone        0.000002            26355   \n",
       "4       732       16          drone        0.000002             3570   \n",
       "\n",
       "   fire_percentage  map_explored  total_distance  \n",
       "0         0.140148      0.019932            2465  \n",
       "1         0.977608      0.135787           62144  \n",
       "2         0.037373      0.080351           13979  \n",
       "3         8.207979      0.142016           87509  \n",
       "4         1.111838      0.142328           94729  "
      ]
     },
     "execution_count": 490,
     "metadata": {},
     "output_type": "execute_result"
    }
   ],
   "source": [
    "results.head()"
   ]
  },
  {
   "cell_type": "code",
   "execution_count": 483,
   "metadata": {},
   "outputs": [
    {
     "data": {
      "text/plain": [
       "device\n",
       "drone           -0.516667\n",
       "undetected      -0.616667\n",
       "ground sensor   -0.866667\n",
       "Name: proportion, dtype: float64"
      ]
     },
     "execution_count": 483,
     "metadata": {},
     "output_type": "execute_result"
    }
   ],
   "source": [
    "# value counts and percentage\n",
    "\n",
    "results.device.value_counts(normalize=True)-1"
   ]
  },
  {
   "cell_type": "code",
   "execution_count": 487,
   "metadata": {},
   "outputs": [],
   "source": [
    "# drop where device == undetected\n",
    "\n",
    "results = results[results.device != 'undetected']"
   ]
  },
  {
   "cell_type": "code",
   "execution_count": 491,
   "metadata": {},
   "outputs": [
    {
     "name": "stdout",
     "output_type": "stream",
     "text": [
      "36.78 ± 29.26\n"
     ]
    }
   ],
   "source": [
    "# print with 2 decimal places\n",
    "\n",
    "\n",
    "print(f\"{results.delta_t.mean():.2f} ± {results.delta_t.std():.2f}\")"
   ]
  },
  {
   "cell_type": "code",
   "execution_count": 492,
   "metadata": {},
   "outputs": [
    {
     "data": {
      "text/plain": [
       "device\n",
       "drone            48.333333\n",
       "undetected       38.333333\n",
       "ground sensor    13.333333\n",
       "Name: proportion, dtype: float64"
      ]
     },
     "execution_count": 492,
     "metadata": {},
     "output_type": "execute_result"
    }
   ],
   "source": [
    "results.device.value_counts(normalize=True)*100"
   ]
  },
  {
   "cell_type": "code",
   "execution_count": null,
   "metadata": {},
   "outputs": [],
   "source": []
  },
  {
   "cell_type": "code",
   "execution_count": 419,
   "metadata": {},
   "outputs": [
    {
     "data": {
      "text/plain": [
       "49"
      ]
     },
     "execution_count": 419,
     "metadata": {},
     "output_type": "execute_result"
    }
   ],
   "source": [
    "df.layout_number.nunique() # 49 layouts, 7746 scenarios, 248 historical matches"
   ]
  },
  {
   "cell_type": "code",
   "execution_count": 420,
   "metadata": {},
   "outputs": [],
   "source": [
    "# rename layout to layout_number and scenario to scenario_number\n",
    "results.rename(columns={'layout': 'layout_number', 'scenario': 'scenario_number'}, inplace=True)"
   ]
  },
  {
   "cell_type": "code",
   "execution_count": 421,
   "metadata": {},
   "outputs": [],
   "source": [
    "merged_df = df.merge(results, how='left', on=[\"layout_number\",\"scenario_number\"])"
   ]
  },
  {
   "cell_type": "code",
   "execution_count": 422,
   "metadata": {},
   "outputs": [
    {
     "data": {
      "text/html": [
       "<div>\n",
       "<style scoped>\n",
       "    .dataframe tbody tr th:only-of-type {\n",
       "        vertical-align: middle;\n",
       "    }\n",
       "\n",
       "    .dataframe tbody tr th {\n",
       "        vertical-align: top;\n",
       "    }\n",
       "\n",
       "    .dataframe thead th {\n",
       "        text-align: right;\n",
       "    }\n",
       "</style>\n",
       "<table border=\"1\" class=\"dataframe\">\n",
       "  <thead>\n",
       "    <tr style=\"text-align: right;\">\n",
       "      <th></th>\n",
       "      <th>layout_number</th>\n",
       "      <th>scenario_number</th>\n",
       "      <th>season_number</th>\n",
       "      <th>seasonal_match</th>\n",
       "      <th>historical_match</th>\n",
       "      <th>big_fire</th>\n",
       "      <th>small_fire</th>\n",
       "      <th>fast_fire</th>\n",
       "      <th>slow_fire</th>\n",
       "      <th>sensor_strategy</th>\n",
       "      <th>drone_strategy</th>\n",
       "      <th>delta_t</th>\n",
       "      <th>device</th>\n",
       "      <th>execution_time</th>\n",
       "      <th>fire_size_cells</th>\n",
       "      <th>fire_percentage</th>\n",
       "      <th>map_explored</th>\n",
       "      <th>total_distance</th>\n",
       "    </tr>\n",
       "  </thead>\n",
       "  <tbody>\n",
       "    <tr>\n",
       "      <th>0</th>\n",
       "      <td>4</td>\n",
       "      <td>225</td>\n",
       "      <td>2.0</td>\n",
       "      <td>False</td>\n",
       "      <td>False</td>\n",
       "      <td>True</td>\n",
       "      <td>False</td>\n",
       "      <td>False</td>\n",
       "      <td>True</td>\n",
       "      <td>RandomSensorPlacementStrategy</td>\n",
       "      <td>DroneRoutingMaxCoverageResetStatic</td>\n",
       "      <td>0.0</td>\n",
       "      <td>drone</td>\n",
       "      <td>0.000002</td>\n",
       "      <td>450.0</td>\n",
       "      <td>0.140148</td>\n",
       "      <td>0.019932</td>\n",
       "      <td>2465.0</td>\n",
       "    </tr>\n",
       "    <tr>\n",
       "      <th>1</th>\n",
       "      <td>4</td>\n",
       "      <td>640</td>\n",
       "      <td>2.0</td>\n",
       "      <td>False</td>\n",
       "      <td>False</td>\n",
       "      <td>True</td>\n",
       "      <td>False</td>\n",
       "      <td>False</td>\n",
       "      <td>True</td>\n",
       "      <td>RandomSensorPlacementStrategy</td>\n",
       "      <td>DroneRoutingMaxCoverageResetStatic</td>\n",
       "      <td>11.0</td>\n",
       "      <td>ground sensor</td>\n",
       "      <td>0.000002</td>\n",
       "      <td>3139.0</td>\n",
       "      <td>0.977608</td>\n",
       "      <td>0.135787</td>\n",
       "      <td>62144.0</td>\n",
       "    </tr>\n",
       "    <tr>\n",
       "      <th>2</th>\n",
       "      <td>4</td>\n",
       "      <td>591</td>\n",
       "      <td>2.0</td>\n",
       "      <td>False</td>\n",
       "      <td>False</td>\n",
       "      <td>True</td>\n",
       "      <td>False</td>\n",
       "      <td>False</td>\n",
       "      <td>True</td>\n",
       "      <td>RandomSensorPlacementStrategy</td>\n",
       "      <td>DroneRoutingMaxCoverageResetStatic</td>\n",
       "      <td>2.0</td>\n",
       "      <td>drone</td>\n",
       "      <td>0.000002</td>\n",
       "      <td>120.0</td>\n",
       "      <td>0.037373</td>\n",
       "      <td>0.080351</td>\n",
       "      <td>13979.0</td>\n",
       "    </tr>\n",
       "    <tr>\n",
       "      <th>3</th>\n",
       "      <td>4</td>\n",
       "      <td>993</td>\n",
       "      <td>2.0</td>\n",
       "      <td>False</td>\n",
       "      <td>False</td>\n",
       "      <td>True</td>\n",
       "      <td>False</td>\n",
       "      <td>False</td>\n",
       "      <td>True</td>\n",
       "      <td>RandomSensorPlacementStrategy</td>\n",
       "      <td>DroneRoutingMaxCoverageResetStatic</td>\n",
       "      <td>15.0</td>\n",
       "      <td>drone</td>\n",
       "      <td>0.000002</td>\n",
       "      <td>26355.0</td>\n",
       "      <td>8.207979</td>\n",
       "      <td>0.142016</td>\n",
       "      <td>87509.0</td>\n",
       "    </tr>\n",
       "    <tr>\n",
       "      <th>4</th>\n",
       "      <td>4</td>\n",
       "      <td>732</td>\n",
       "      <td>2.0</td>\n",
       "      <td>False</td>\n",
       "      <td>False</td>\n",
       "      <td>True</td>\n",
       "      <td>False</td>\n",
       "      <td>False</td>\n",
       "      <td>True</td>\n",
       "      <td>RandomSensorPlacementStrategy</td>\n",
       "      <td>DroneRoutingMaxCoverageResetStatic</td>\n",
       "      <td>16.0</td>\n",
       "      <td>drone</td>\n",
       "      <td>0.000002</td>\n",
       "      <td>3570.0</td>\n",
       "      <td>1.111838</td>\n",
       "      <td>0.142328</td>\n",
       "      <td>94729.0</td>\n",
       "    </tr>\n",
       "  </tbody>\n",
       "</table>\n",
       "</div>"
      ],
      "text/plain": [
       "   layout_number  scenario_number  season_number  seasonal_match  \\\n",
       "0              4              225            2.0           False   \n",
       "1              4              640            2.0           False   \n",
       "2              4              591            2.0           False   \n",
       "3              4              993            2.0           False   \n",
       "4              4              732            2.0           False   \n",
       "\n",
       "   historical_match  big_fire  small_fire  fast_fire  slow_fire  \\\n",
       "0             False      True       False      False       True   \n",
       "1             False      True       False      False       True   \n",
       "2             False      True       False      False       True   \n",
       "3             False      True       False      False       True   \n",
       "4             False      True       False      False       True   \n",
       "\n",
       "                 sensor_strategy                      drone_strategy  delta_t  \\\n",
       "0  RandomSensorPlacementStrategy  DroneRoutingMaxCoverageResetStatic      0.0   \n",
       "1  RandomSensorPlacementStrategy  DroneRoutingMaxCoverageResetStatic     11.0   \n",
       "2  RandomSensorPlacementStrategy  DroneRoutingMaxCoverageResetStatic      2.0   \n",
       "3  RandomSensorPlacementStrategy  DroneRoutingMaxCoverageResetStatic     15.0   \n",
       "4  RandomSensorPlacementStrategy  DroneRoutingMaxCoverageResetStatic     16.0   \n",
       "\n",
       "          device  execution_time  fire_size_cells  fire_percentage  \\\n",
       "0          drone        0.000002            450.0         0.140148   \n",
       "1  ground sensor        0.000002           3139.0         0.977608   \n",
       "2          drone        0.000002            120.0         0.037373   \n",
       "3          drone        0.000002          26355.0         8.207979   \n",
       "4          drone        0.000002           3570.0         1.111838   \n",
       "\n",
       "   map_explored  total_distance  \n",
       "0      0.019932          2465.0  \n",
       "1      0.135787         62144.0  \n",
       "2      0.080351         13979.0  \n",
       "3      0.142016         87509.0  \n",
       "4      0.142328         94729.0  "
      ]
     },
     "execution_count": 422,
     "metadata": {},
     "output_type": "execute_result"
    }
   ],
   "source": [
    "merged_df.head()"
   ]
  },
  {
   "cell_type": "code",
   "execution_count": 423,
   "metadata": {},
   "outputs": [],
   "source": [
    "merged_df.rename(columns={'delta_t': 'detection_time'}, inplace=True)\n",
    "results.rename(columns={'delta_t': 'detection_time'}, inplace=True)"
   ]
  },
  {
   "cell_type": "code",
   "execution_count": 424,
   "metadata": {},
   "outputs": [],
   "source": [
    "# if df.undetected is True, then detection_time should be -1\n",
    "\n",
    "merged_df['detection_time'] = np.where(\n",
    "    merged_df['device'] == 'undetected',\n",
    "    -1,\n",
    "    merged_df['detection_time']\n",
    ")\n",
    "results['detection_time'] = np.where(\n",
    "    results['device'] == 'undetected',\n",
    "    -1,\n",
    "    results['detection_time']\n",
    ")"
   ]
  },
  {
   "cell_type": "code",
   "execution_count": 393,
   "metadata": {},
   "outputs": [],
   "source": [
    "# replace 72 in delta_time with -1\n",
    "# merged_df['delta_t'] = merged_df['delta_t'].replace(72, -1)\n",
    "# results['delta_t'] = results['delta_t'].replace(72, -1)"
   ]
  },
  {
   "cell_type": "markdown",
   "metadata": {},
   "source": [
    "# Subgroup Score"
   ]
  },
  {
   "cell_type": "code",
   "execution_count": 443,
   "metadata": {},
   "outputs": [],
   "source": [
    "\n",
    "# Make sure 'detection_time' is in your columns\n",
    "assert 'detection_time' in merged_df.columns, \"'detection_time' not found in DataFrame columns\"\n",
    "\n",
    "# Step 1: Filter out -1 values for mean and std calculations\n",
    "filtered_df = merged_df[merged_df['detection_time'] != -1]\n",
    "\n",
    "# Step 2: Group and aggregate only valid values\n",
    "agg_df = filtered_df.groupby(['sensor_strategy', 'drone_strategy', 'fast_fire', 'big_fire']).agg(\n",
    "    detection_time_mean=('detection_time', 'mean'),\n",
    "    detection_time_std=('detection_time', 'std')\n",
    ")\n",
    "\n",
    "# Step 3: Format into a single string column\n",
    "agg_df['detection_summary'] = agg_df.apply(\n",
    "    lambda row: f\"{row['detection_time_mean']:.2f} ({row['detection_time_std']:.2f})\" \n",
    "    if pd.notnull(row['detection_time_mean']) and pd.notnull(row['detection_time_std']) \n",
    "    else \"\", axis=1\n",
    ")\n",
    "\n",
    "agg_df = agg_df.drop(columns=['detection_time_mean', 'detection_time_std'])\n",
    "\n",
    "\n",
    "# Step 3: Define valid percentage calculation (based on original, unfiltered df)\n",
    "def valid_percentage(subgroup):\n",
    "    total = len(subgroup)\n",
    "    valid = (subgroup != -1).sum()\n",
    "    return (valid / total) * 100 if total > 0 else 0\n",
    "\n",
    "# Apply percentage function on the unfiltered data\n",
    "valid_pct = merged_df.groupby(['sensor_strategy', 'drone_strategy', 'fast_fire', 'big_fire'])['detection_time'].apply(valid_percentage)\n",
    "valid_pct.name = 'detection_time_valid_pct'\n",
    "\n",
    "# Step 4: Combine results\n",
    "result = agg_df.join(valid_pct, how='outer').reset_index()\n",
    "\n",
    "result['summary'] = result.apply(\n",
    "    lambda row: f\"{row['detection_time_valid_pct']:.0f}%\\n{row['detection_summary']}\" \n",
    "    if pd.notnull(row['detection_time_valid_pct']) and pd.notnull(row['detection_summary']) \n",
    "    else \"\", axis=1\n",
    ")\n",
    "\n",
    "result = result.drop(columns=['detection_summary', 'detection_time_valid_pct'])"
   ]
  },
  {
   "cell_type": "code",
   "execution_count": 448,
   "metadata": {},
   "outputs": [
    {
     "data": {
      "text/plain": [
       "sensor_strategy                drone_strategy                      fast_fire  big_fire\n",
       "RandomSensorPlacementStrategy  DroneRoutingMaxCoverageResetStatic  False      True        10.871795\n",
       "                                                                   True       True         5.000000\n",
       "Name: detection_time, dtype: float64"
      ]
     },
     "execution_count": 448,
     "metadata": {},
     "output_type": "execute_result"
    }
   ],
   "source": [
    "merged_df.groupby(['sensor_strategy', 'drone_strategy', 'fast_fire', 'big_fire'])['detection_time'].mean()"
   ]
  },
  {
   "cell_type": "code",
   "execution_count": 427,
   "metadata": {},
   "outputs": [],
   "source": [
    "# Assuming 'result' is the DataFrame from previous steps:\n",
    "pivoted_result = result.pivot_table(\n",
    "    index=['sensor_strategy', 'drone_strategy'],\n",
    "    columns=['fast_fire', 'big_fire'],\n",
    "    values=['summary'],\n",
    "    aggfunc='first'\n",
    ")\n",
    "\n",
    "# Optional: flatten MultiIndex columns for easier viewing\n",
    "pivoted_result.columns = ['_'.join(map(str, col)) for col in pivoted_result.columns]\n",
    "pivoted_result = pivoted_result.reset_index()"
   ]
  },
  {
   "cell_type": "code",
   "execution_count": 428,
   "metadata": {},
   "outputs": [],
   "source": [
    "results_pt2 = pivoted_result"
   ]
  },
  {
   "cell_type": "markdown",
   "metadata": {},
   "source": [
    "# Overall Score"
   ]
  },
  {
   "cell_type": "code",
   "execution_count": 401,
   "metadata": {},
   "outputs": [],
   "source": [
    "results.rename(columns={'delta_t': 'detection_time'}, inplace=True)"
   ]
  },
  {
   "cell_type": "code",
   "execution_count": 442,
   "metadata": {},
   "outputs": [
    {
     "data": {
      "text/html": [
       "<div>\n",
       "<style scoped>\n",
       "    .dataframe tbody tr th:only-of-type {\n",
       "        vertical-align: middle;\n",
       "    }\n",
       "\n",
       "    .dataframe tbody tr th {\n",
       "        vertical-align: top;\n",
       "    }\n",
       "\n",
       "    .dataframe thead th {\n",
       "        text-align: right;\n",
       "    }\n",
       "</style>\n",
       "<table border=\"1\" class=\"dataframe\">\n",
       "  <thead>\n",
       "    <tr style=\"text-align: right;\">\n",
       "      <th></th>\n",
       "      <th></th>\n",
       "      <th>detection_summary</th>\n",
       "    </tr>\n",
       "    <tr>\n",
       "      <th>sensor_strategy</th>\n",
       "      <th>drone_strategy</th>\n",
       "      <th></th>\n",
       "    </tr>\n",
       "  </thead>\n",
       "  <tbody>\n",
       "    <tr>\n",
       "      <th>RandomSensorPlacementStrategy</th>\n",
       "      <th>DroneRoutingMaxCoverageResetStatic</th>\n",
       "      <td>10.72 (16.92)</td>\n",
       "    </tr>\n",
       "  </tbody>\n",
       "</table>\n",
       "</div>"
      ],
      "text/plain": [
       "                                                                 detection_summary\n",
       "sensor_strategy               drone_strategy                                      \n",
       "RandomSensorPlacementStrategy DroneRoutingMaxCoverageResetStatic     10.72 (16.92)"
      ]
     },
     "execution_count": 442,
     "metadata": {},
     "output_type": "execute_result"
    }
   ],
   "source": [
    "results_pt1.head()"
   ]
  },
  {
   "cell_type": "code",
   "execution_count": 441,
   "metadata": {},
   "outputs": [
    {
     "data": {
      "text/html": [
       "<div>\n",
       "<style scoped>\n",
       "    .dataframe tbody tr th:only-of-type {\n",
       "        vertical-align: middle;\n",
       "    }\n",
       "\n",
       "    .dataframe tbody tr th {\n",
       "        vertical-align: top;\n",
       "    }\n",
       "\n",
       "    .dataframe thead th {\n",
       "        text-align: right;\n",
       "    }\n",
       "</style>\n",
       "<table border=\"1\" class=\"dataframe\">\n",
       "  <thead>\n",
       "    <tr style=\"text-align: right;\">\n",
       "      <th></th>\n",
       "      <th>sensor_strategy</th>\n",
       "      <th>drone_strategy</th>\n",
       "      <th>summary</th>\n",
       "    </tr>\n",
       "  </thead>\n",
       "  <tbody>\n",
       "    <tr>\n",
       "      <th>0</th>\n",
       "      <td>RandomSensorPlacementStrategy</td>\n",
       "      <td>DroneRoutingMaxCoverageResetStatic</td>\n",
       "      <td>57%\\n10.72 (16.92)</td>\n",
       "    </tr>\n",
       "  </tbody>\n",
       "</table>\n",
       "</div>"
      ],
      "text/plain": [
       "                 sensor_strategy                      drone_strategy  \\\n",
       "0  RandomSensorPlacementStrategy  DroneRoutingMaxCoverageResetStatic   \n",
       "\n",
       "              summary  \n",
       "0  57%\\n10.72 (16.92)  "
      ]
     },
     "execution_count": 441,
     "metadata": {},
     "output_type": "execute_result"
    }
   ],
   "source": [
    "results_pt1 = results.groupby(['sensor_strategy', 'drone_strategy']).agg(\n",
    "    detection_time_mean=('detection_time', 'mean'),\n",
    "    detection_time_std=('detection_time', 'std')\n",
    ")\n",
    "\n",
    "results_pt1['detection_summary'] = results_pt1.apply(\n",
    "    lambda row: f\"{row['detection_time_mean']:.2f} ({row['detection_time_std']:.2f})\" \n",
    "    if pd.notnull(row['detection_time_mean']) and pd.notnull(row['detection_time_std']) \n",
    "    else \"\", axis=1\n",
    ")\n",
    "\n",
    "results_pt1 = results_pt1.drop(columns=['detection_time_mean', 'detection_time_std'])\n",
    "\n",
    "# Apply percentage function on the unfiltered data\n",
    "valid_pct = results.groupby(['sensor_strategy', 'drone_strategy'])['detection_time'].apply(valid_percentage)\n",
    "valid_pct.name = 'detection_time_valid_pct'\n",
    "\n",
    "# Step 4: Combine results\n",
    "result = results_pt1.merge(valid_pct, how='outer', on=['sensor_strategy', 'drone_strategy']).reset_index()\n",
    "\n",
    "result['summary'] = result.apply(\n",
    "    lambda row: f\"{row['detection_time_valid_pct']:.0f}%\\n{row['detection_summary']}\" \n",
    "    if pd.notnull(row['detection_time_valid_pct']) and pd.notnull(row['detection_summary']) \n",
    "    else \"\", axis=1\n",
    ")\n",
    "\n",
    "result = result.drop(columns=['detection_summary', 'detection_time_valid_pct'])\n",
    "\n",
    "result\n"
   ]
  },
  {
   "cell_type": "code",
   "execution_count": 432,
   "metadata": {},
   "outputs": [
    {
     "data": {
      "text/html": [
       "<div>\n",
       "<style scoped>\n",
       "    .dataframe tbody tr th:only-of-type {\n",
       "        vertical-align: middle;\n",
       "    }\n",
       "\n",
       "    .dataframe tbody tr th {\n",
       "        vertical-align: top;\n",
       "    }\n",
       "\n",
       "    .dataframe thead th {\n",
       "        text-align: right;\n",
       "    }\n",
       "</style>\n",
       "<table border=\"1\" class=\"dataframe\">\n",
       "  <thead>\n",
       "    <tr style=\"text-align: right;\">\n",
       "      <th></th>\n",
       "      <th>sensor_strategy</th>\n",
       "      <th>drone_strategy</th>\n",
       "      <th>summary</th>\n",
       "    </tr>\n",
       "  </thead>\n",
       "  <tbody>\n",
       "    <tr>\n",
       "      <th>0</th>\n",
       "      <td>RandomSensorPlacementStrategy</td>\n",
       "      <td>DroneRoutingMaxCoverageResetStatic</td>\n",
       "      <td>57%\\n10.72 (16.92)</td>\n",
       "    </tr>\n",
       "  </tbody>\n",
       "</table>\n",
       "</div>"
      ],
      "text/plain": [
       "                 sensor_strategy                      drone_strategy  \\\n",
       "0  RandomSensorPlacementStrategy  DroneRoutingMaxCoverageResetStatic   \n",
       "\n",
       "              summary  \n",
       "0  57%\\n10.72 (16.92)  "
      ]
     },
     "execution_count": 432,
     "metadata": {},
     "output_type": "execute_result"
    }
   ],
   "source": [
    "results_pt1 = result\n",
    "results_pt1"
   ]
  },
  {
   "cell_type": "markdown",
   "metadata": {},
   "source": [
    "# Historical Score"
   ]
  },
  {
   "cell_type": "code",
   "execution_count": 433,
   "metadata": {},
   "outputs": [
    {
     "data": {
      "text/html": [
       "<div>\n",
       "<style scoped>\n",
       "    .dataframe tbody tr th:only-of-type {\n",
       "        vertical-align: middle;\n",
       "    }\n",
       "\n",
       "    .dataframe tbody tr th {\n",
       "        vertical-align: top;\n",
       "    }\n",
       "\n",
       "    .dataframe thead th {\n",
       "        text-align: right;\n",
       "    }\n",
       "</style>\n",
       "<table border=\"1\" class=\"dataframe\">\n",
       "  <thead>\n",
       "    <tr style=\"text-align: right;\">\n",
       "      <th></th>\n",
       "      <th>layout_number</th>\n",
       "      <th>scenario_number</th>\n",
       "      <th>season_number</th>\n",
       "      <th>seasonal_match</th>\n",
       "      <th>historical_match</th>\n",
       "      <th>big_fire</th>\n",
       "      <th>small_fire</th>\n",
       "      <th>fast_fire</th>\n",
       "      <th>slow_fire</th>\n",
       "      <th>sensor_strategy</th>\n",
       "      <th>drone_strategy</th>\n",
       "      <th>detection_time</th>\n",
       "      <th>device</th>\n",
       "      <th>execution_time</th>\n",
       "      <th>fire_size_cells</th>\n",
       "      <th>fire_percentage</th>\n",
       "      <th>map_explored</th>\n",
       "      <th>total_distance</th>\n",
       "    </tr>\n",
       "  </thead>\n",
       "  <tbody>\n",
       "    <tr>\n",
       "      <th>0</th>\n",
       "      <td>4</td>\n",
       "      <td>225</td>\n",
       "      <td>2.0</td>\n",
       "      <td>False</td>\n",
       "      <td>False</td>\n",
       "      <td>True</td>\n",
       "      <td>False</td>\n",
       "      <td>False</td>\n",
       "      <td>True</td>\n",
       "      <td>RandomSensorPlacementStrategy</td>\n",
       "      <td>DroneRoutingMaxCoverageResetStatic</td>\n",
       "      <td>0.0</td>\n",
       "      <td>drone</td>\n",
       "      <td>0.000002</td>\n",
       "      <td>450.0</td>\n",
       "      <td>0.140148</td>\n",
       "      <td>0.019932</td>\n",
       "      <td>2465.0</td>\n",
       "    </tr>\n",
       "    <tr>\n",
       "      <th>1</th>\n",
       "      <td>4</td>\n",
       "      <td>640</td>\n",
       "      <td>2.0</td>\n",
       "      <td>False</td>\n",
       "      <td>False</td>\n",
       "      <td>True</td>\n",
       "      <td>False</td>\n",
       "      <td>False</td>\n",
       "      <td>True</td>\n",
       "      <td>RandomSensorPlacementStrategy</td>\n",
       "      <td>DroneRoutingMaxCoverageResetStatic</td>\n",
       "      <td>11.0</td>\n",
       "      <td>ground sensor</td>\n",
       "      <td>0.000002</td>\n",
       "      <td>3139.0</td>\n",
       "      <td>0.977608</td>\n",
       "      <td>0.135787</td>\n",
       "      <td>62144.0</td>\n",
       "    </tr>\n",
       "    <tr>\n",
       "      <th>2</th>\n",
       "      <td>4</td>\n",
       "      <td>591</td>\n",
       "      <td>2.0</td>\n",
       "      <td>False</td>\n",
       "      <td>False</td>\n",
       "      <td>True</td>\n",
       "      <td>False</td>\n",
       "      <td>False</td>\n",
       "      <td>True</td>\n",
       "      <td>RandomSensorPlacementStrategy</td>\n",
       "      <td>DroneRoutingMaxCoverageResetStatic</td>\n",
       "      <td>2.0</td>\n",
       "      <td>drone</td>\n",
       "      <td>0.000002</td>\n",
       "      <td>120.0</td>\n",
       "      <td>0.037373</td>\n",
       "      <td>0.080351</td>\n",
       "      <td>13979.0</td>\n",
       "    </tr>\n",
       "    <tr>\n",
       "      <th>3</th>\n",
       "      <td>4</td>\n",
       "      <td>993</td>\n",
       "      <td>2.0</td>\n",
       "      <td>False</td>\n",
       "      <td>False</td>\n",
       "      <td>True</td>\n",
       "      <td>False</td>\n",
       "      <td>False</td>\n",
       "      <td>True</td>\n",
       "      <td>RandomSensorPlacementStrategy</td>\n",
       "      <td>DroneRoutingMaxCoverageResetStatic</td>\n",
       "      <td>15.0</td>\n",
       "      <td>drone</td>\n",
       "      <td>0.000002</td>\n",
       "      <td>26355.0</td>\n",
       "      <td>8.207979</td>\n",
       "      <td>0.142016</td>\n",
       "      <td>87509.0</td>\n",
       "    </tr>\n",
       "    <tr>\n",
       "      <th>4</th>\n",
       "      <td>4</td>\n",
       "      <td>732</td>\n",
       "      <td>2.0</td>\n",
       "      <td>False</td>\n",
       "      <td>False</td>\n",
       "      <td>True</td>\n",
       "      <td>False</td>\n",
       "      <td>False</td>\n",
       "      <td>True</td>\n",
       "      <td>RandomSensorPlacementStrategy</td>\n",
       "      <td>DroneRoutingMaxCoverageResetStatic</td>\n",
       "      <td>16.0</td>\n",
       "      <td>drone</td>\n",
       "      <td>0.000002</td>\n",
       "      <td>3570.0</td>\n",
       "      <td>1.111838</td>\n",
       "      <td>0.142328</td>\n",
       "      <td>94729.0</td>\n",
       "    </tr>\n",
       "  </tbody>\n",
       "</table>\n",
       "</div>"
      ],
      "text/plain": [
       "   layout_number  scenario_number  season_number  seasonal_match  \\\n",
       "0              4              225            2.0           False   \n",
       "1              4              640            2.0           False   \n",
       "2              4              591            2.0           False   \n",
       "3              4              993            2.0           False   \n",
       "4              4              732            2.0           False   \n",
       "\n",
       "   historical_match  big_fire  small_fire  fast_fire  slow_fire  \\\n",
       "0             False      True       False      False       True   \n",
       "1             False      True       False      False       True   \n",
       "2             False      True       False      False       True   \n",
       "3             False      True       False      False       True   \n",
       "4             False      True       False      False       True   \n",
       "\n",
       "                 sensor_strategy                      drone_strategy  \\\n",
       "0  RandomSensorPlacementStrategy  DroneRoutingMaxCoverageResetStatic   \n",
       "1  RandomSensorPlacementStrategy  DroneRoutingMaxCoverageResetStatic   \n",
       "2  RandomSensorPlacementStrategy  DroneRoutingMaxCoverageResetStatic   \n",
       "3  RandomSensorPlacementStrategy  DroneRoutingMaxCoverageResetStatic   \n",
       "4  RandomSensorPlacementStrategy  DroneRoutingMaxCoverageResetStatic   \n",
       "\n",
       "   detection_time         device  execution_time  fire_size_cells  \\\n",
       "0             0.0          drone        0.000002            450.0   \n",
       "1            11.0  ground sensor        0.000002           3139.0   \n",
       "2             2.0          drone        0.000002            120.0   \n",
       "3            15.0          drone        0.000002          26355.0   \n",
       "4            16.0          drone        0.000002           3570.0   \n",
       "\n",
       "   fire_percentage  map_explored  total_distance  \n",
       "0         0.140148      0.019932          2465.0  \n",
       "1         0.977608      0.135787         62144.0  \n",
       "2         0.037373      0.080351         13979.0  \n",
       "3         8.207979      0.142016         87509.0  \n",
       "4         1.111838      0.142328         94729.0  "
      ]
     },
     "execution_count": 433,
     "metadata": {},
     "output_type": "execute_result"
    }
   ],
   "source": [
    "merged_df.head()"
   ]
  },
  {
   "cell_type": "code",
   "execution_count": 406,
   "metadata": {},
   "outputs": [
    {
     "data": {
      "text/plain": [
       "nan"
      ]
     },
     "execution_count": 406,
     "metadata": {},
     "output_type": "execute_result"
    }
   ],
   "source": [
    "hist_df.detection_time.mean()"
   ]
  },
  {
   "cell_type": "code",
   "execution_count": 434,
   "metadata": {},
   "outputs": [
    {
     "data": {
      "text/html": [
       "<div>\n",
       "<style scoped>\n",
       "    .dataframe tbody tr th:only-of-type {\n",
       "        vertical-align: middle;\n",
       "    }\n",
       "\n",
       "    .dataframe tbody tr th {\n",
       "        vertical-align: top;\n",
       "    }\n",
       "\n",
       "    .dataframe thead th {\n",
       "        text-align: right;\n",
       "    }\n",
       "</style>\n",
       "<table border=\"1\" class=\"dataframe\">\n",
       "  <thead>\n",
       "    <tr style=\"text-align: right;\">\n",
       "      <th></th>\n",
       "      <th>sensor_strategy</th>\n",
       "      <th>drone_strategy</th>\n",
       "      <th>summary</th>\n",
       "    </tr>\n",
       "  </thead>\n",
       "  <tbody>\n",
       "  </tbody>\n",
       "</table>\n",
       "</div>"
      ],
      "text/plain": [
       "Empty DataFrame\n",
       "Columns: [sensor_strategy, drone_strategy, summary]\n",
       "Index: []"
      ]
     },
     "execution_count": 434,
     "metadata": {},
     "output_type": "execute_result"
    }
   ],
   "source": [
    "hist_df = merged_df[merged_df['historical_match'] == True]\n",
    "\n",
    "results_pt3 = hist_df.groupby(['sensor_strategy', 'drone_strategy']).agg(\n",
    "    detection_time_mean=('detection_time', 'mean'),\n",
    "    detection_time_std=('detection_time', 'std')\n",
    ")\n",
    "\n",
    "results_pt3['detection_summary'] = results_pt3.apply(\n",
    "    lambda row: f\"{row['detection_time_mean']:.2f} ({row['detection_time_std']:.2f})\" \n",
    "    if pd.notnull(row['detection_time_mean']) and pd.notnull(row['detection_time_std']) \n",
    "    else \"\", axis=1\n",
    ")\n",
    "results_pt3 = results_pt3.drop(columns=['detection_time_mean', 'detection_time_std'])\n",
    "\n",
    "\n",
    "# Apply percentage function on the unfiltered data\n",
    "valid_pct = hist_df.groupby(['sensor_strategy', 'drone_strategy'])['detection_time'].apply(valid_percentage)\n",
    "valid_pct.name = 'detection_time_valid_pct'\n",
    "\n",
    "# Step 4: Combine results\n",
    "result = results_pt3.join(valid_pct, how='outer').reset_index()\n",
    "\n",
    "result['summary'] = result.apply(\n",
    "    lambda row: f\"{row['detection_time_valid_pct']:.0f}%\\n{row['detection_summary']}\" \n",
    "    if pd.notnull(row['detection_time_valid_pct']) and pd.notnull(row['detection_summary']) \n",
    "    else \"\", axis=1\n",
    ")\n",
    "\n",
    "result = result.drop(columns=['detection_summary', 'detection_time_valid_pct'])\n",
    "\n",
    "results_pt3 = result\n",
    "results_pt3"
   ]
  },
  {
   "cell_type": "code",
   "execution_count": 436,
   "metadata": {},
   "outputs": [],
   "source": [
    "results_merged = results_pt1.merge(results_pt2, how='left', on=['sensor_strategy', 'drone_strategy'])\n",
    "    # results_pt3, how='left', on=['sensor_strategy', 'drone_strategy'], suffixes=('', '_historical')).merge(\n",
    "        "
   ]
  },
  {
   "cell_type": "code",
   "execution_count": 437,
   "metadata": {},
   "outputs": [
    {
     "data": {
      "text/html": [
       "<div>\n",
       "<style scoped>\n",
       "    .dataframe tbody tr th:only-of-type {\n",
       "        vertical-align: middle;\n",
       "    }\n",
       "\n",
       "    .dataframe tbody tr th {\n",
       "        vertical-align: top;\n",
       "    }\n",
       "\n",
       "    .dataframe thead th {\n",
       "        text-align: right;\n",
       "    }\n",
       "</style>\n",
       "<table border=\"1\" class=\"dataframe\">\n",
       "  <thead>\n",
       "    <tr style=\"text-align: right;\">\n",
       "      <th></th>\n",
       "      <th>sensor_strategy</th>\n",
       "      <th>drone_strategy</th>\n",
       "      <th>summary</th>\n",
       "      <th>summary_False_True</th>\n",
       "      <th>summary_True_True</th>\n",
       "    </tr>\n",
       "  </thead>\n",
       "  <tbody>\n",
       "    <tr>\n",
       "      <th>0</th>\n",
       "      <td>RandomSensorPlacementStrategy</td>\n",
       "      <td>DroneRoutingMaxCoverageResetStatic</td>\n",
       "      <td>57%\\n10.72 (16.92)</td>\n",
       "      <td>56%\\n20.05 (18.10)</td>\n",
       "      <td>100%\\n</td>\n",
       "    </tr>\n",
       "  </tbody>\n",
       "</table>\n",
       "</div>"
      ],
      "text/plain": [
       "                 sensor_strategy                      drone_strategy  \\\n",
       "0  RandomSensorPlacementStrategy  DroneRoutingMaxCoverageResetStatic   \n",
       "\n",
       "              summary  summary_False_True summary_True_True  \n",
       "0  57%\\n10.72 (16.92)  56%\\n20.05 (18.10)            100%\\n  "
      ]
     },
     "execution_count": 437,
     "metadata": {},
     "output_type": "execute_result"
    }
   ],
   "source": [
    "results_merged"
   ]
  },
  {
   "cell_type": "code",
   "execution_count": 438,
   "metadata": {},
   "outputs": [],
   "source": [
    "results_merged.set_index(['sensor_strategy', 'drone_strategy'], inplace=True)"
   ]
  },
  {
   "cell_type": "code",
   "execution_count": 449,
   "metadata": {},
   "outputs": [],
   "source": [
    "latex_str = results_merged.to_latex(\n",
    "    index=True,\n",
    "    escape=False,\n",
    "    formatters={\"name\": str.upper},\n",
    "    float_format=\"{:.3f}\".format,\n",
    ")\n",
    "\n",
    "# Optional: escape percent signs\n",
    "latex_str = latex_str.replace('%', r'\\%')\n",
    "\n",
    "# Insert \\midrule after every data row (i.e., every '\\\\' that ends a row)\n",
    "lines = latex_str.splitlines()\n",
    "new_lines = []\n",
    "\n",
    "for line in lines:\n",
    "    new_lines.append(line)\n",
    "    if line.strip().endswith('\\\\\\\\') and not line.strip().startswith(r'\\toprule') and not line.strip().startswith(r'\\midrule') and not line.strip().startswith(r'\\bottomrule'):\n",
    "        new_lines.append(r'\\midrule')\n",
    "\n",
    "# Join back into one LaTeX string\n",
    "final_latex = '\\n'.join(new_lines)\n",
    "\n",
    "with open(\"leaderboards.txt\", \"w\") as f:\n",
    "    f.write(final_latex)"
   ]
  },
  {
   "cell_type": "code",
   "execution_count": null,
   "metadata": {},
   "outputs": [],
   "source": []
  }
 ],
 "metadata": {
  "kernelspec": {
   "display_name": ".venv",
   "language": "python",
   "name": "python3"
  },
  "language_info": {
   "codemirror_mode": {
    "name": "ipython",
    "version": 3
   },
   "file_extension": ".py",
   "mimetype": "text/x-python",
   "name": "python",
   "nbconvert_exporter": "python",
   "pygments_lexer": "ipython3",
   "version": "3.12.0"
  }
 },
 "nbformat": 4,
 "nbformat_minor": 2
}
