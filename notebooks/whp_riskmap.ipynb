{
 "cells": [
  {
   "cell_type": "markdown",
   "metadata": {},
   "source": [
    "# Wildfire Hazard Potential for the United States (270-m), version 2023 (4th Edition)\n",
    "\n",
    "Dataset source: https://www.fs.usda.gov/rds/archive/products/RDS-2015-0047-4/_fileindex_RDS-2015-0047-4.html\n",
    "\n",
    "Documentation: https://firelab.org/sites/default/files/2024-02/whp2023_cls_conus_metadata.pdf\n",
    "\n",
    "https://data-usfs.hub.arcgis.com/datasets/usfs::wildfire-hazard-potential-version-2023-classified-image-service/explore?location=35.134247%2C-116.251988%2C6.95\n",
    "\n",
    "https://www.fs.usda.gov/rds/archive/catalog/RDS-2015-0047-4\n",
    "\n",
    "\n",
    "## Data dictionary\n",
    "\n",
    "https://www.fs.usda.gov/rds/archive/products/RDS-2015-0047-4/_metadata_RDS-2015-0047-4.html"
   ]
  },
  {
   "cell_type": "code",
   "execution_count": 63,
   "metadata": {},
   "outputs": [],
   "source": [
    "import json\n",
    "import os\n",
    "import random\n",
    "\n",
    "from glob import glob\n",
    "\n",
    "import geopandas as gpd\n",
    "import matplotlib.pyplot as plt\n",
    "import numpy as np\n",
    "import pandas as pd\n",
    "import rasterio\n",
    "import rioxarray\n",
    "import xarray as xr\n",
    "\n",
    "from rasterio.enums import Resampling\n",
    "from rasterio.errors import WindowError\n",
    "from rasterio.features import geometry_mask\n",
    "from rasterio.mask import mask\n",
    "from rasterio.windows import Window\n",
    "\n",
    "from shapely.geometry import Point, box"
   ]
  },
  {
   "cell_type": "code",
   "execution_count": null,
   "metadata": {},
   "outputs": [],
   "source": [
    "whp_filename = '../../wildfire-risk/data/Data-2/whp2023_GeoTIF/whp2023_cnt_conus.tif'\n",
    "\n",
    "with rasterio.open(whp_filename) as src2:\n",
    "    bounds = src2.bounds\n",
    "    bbox = box(*bounds)\n",
    "    geo = gpd.GeoDataFrame({'geometry': [bbox]}, crs=src2.crs)\n",
    "    geo_json = [json.loads(geo.to_json())['features'][0]['geometry']]\n"
   ]
  },
  {
   "cell_type": "code",
   "execution_count": null,
   "metadata": {},
   "outputs": [],
   "source": [
    "# Path to the folder containing .tif files\n",
    "folder_path = \"sim2real_layouts\"\n",
    "\n",
    "# Get a list of all .tif files in the folder\n",
    "tif_files = glob(os.path.join(folder_path, \"*.tif\"))\n",
    "\n",
    "layout_list = []\n",
    "\n",
    "# Open each .tif file\n",
    "for tif_file in tif_files:\n",
    "    id = tif_file.split('/')[1].split('_E')[0]\n",
    "    print(f\"Processing {id}...\")\n",
    "\n",
    "    output_path = os.path.join(\"risk_layouts\", f\"whpi2023_cnt_{id}.tif\")\n",
    "    try:\n",
    "        with rasterio.open(tif_file) as src1:\n",
    "            out_image, out_transform = mask(src1, geo_json, crop=True)\n",
    "            out_meta = src1.meta.copy()\n",
    "            out_meta.update({\n",
    "                \"driver\": \"GTiff\",\n",
    "                \"height\": out_image.shape[1],\n",
    "                \"width\": out_image.shape[2],\n",
    "                \"transform\": out_transform\n",
    "            })\n",
    "\n",
    "            # Save cropped image\n",
    "            with rasterio.open(output_path, \"w\", **out_meta) as dest:\n",
    "                dest.write(out_image)\n",
    "    except (ValueError, WindowError) as e:\n",
    "        print(f\"Error masking raster: {e}\")\n",
    "        \n",
    "    print(f\"Saved cropped intersection as {output_path}\")"
   ]
  },
  {
   "cell_type": "code",
   "execution_count": null,
   "metadata": {},
   "outputs": [],
   "source": [
    "tif_files = glob(os.path.join(\"risk_layouts\", \"*.tif\"))\n",
    "for tif_file in tif_files:\n",
    "    # print(f\"Processing {tif_file}...\")\n",
    "    with rasterio.open(tif_file) as src:\n",
    "        wfpi_data = src.read(1)\n",
    "    plt.imshow(wfpi_data, cmap='hot', vmin=0, vmax=500)\n",
    "    plt.colorbar(label=\"WFPI Value\")\n",
    "    plt.title(\"Wind-enhanced Fire Potential Index (WFPI)\")\n",
    "    plt.show()"
   ]
  },
  {
   "cell_type": "code",
   "execution_count": null,
   "metadata": {},
   "outputs": [],
   "source": [
    "# move the .npy files from the risk_layouts folder to the appropriate folder\n",
    "import shutil\n",
    "\n",
    "# Path to the folder containing .tif files\n",
    "folder_path = \"sim2real_layouts\"\n",
    "\n",
    "# Get a list of all .tif files in the folder\n",
    "tif_files = glob(os.path.join(folder_path, \"*.tif\"))\n",
    "\n",
    "layout_list = []\n",
    "\n",
    "# Open each .tif file\n",
    "for tif_file in tif_files:\n",
    "    id = tif_file.split('/')[1].split('_E')[0]\n",
    "    rskfile_path = os.path.join(\"risk_layouts_npy\", f\"whpi2023_cnt_{id}.npy\")\n",
    "    print(\"copying\", rskfile_path, \"to\", os.path.join(\"applicable_layouts\", f\"{id}/static_risk.npy\"))\n",
    "    #shutil.copy(rskfile_path, os.path.join(\"applicable_layouts\", f\"whpi2023_cnt_{id}.npy\"))\n"
   ]
  }
 ],
 "metadata": {
  "kernelspec": {
   "display_name": ".venv",
   "language": "python",
   "name": "python3"
  },
  "language_info": {
   "codemirror_mode": {
    "name": "ipython",
    "version": 3
   },
   "file_extension": ".py",
   "mimetype": "text/x-python",
   "name": "python",
   "nbconvert_exporter": "python",
   "pygments_lexer": "ipython3",
   "version": "3.12.0"
  }
 },
 "nbformat": 4,
 "nbformat_minor": 2
}
