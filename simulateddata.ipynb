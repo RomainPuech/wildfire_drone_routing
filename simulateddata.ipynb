{
 "cells": [
  {
   "cell_type": "code",
   "execution_count": 4,
   "metadata": {},
   "outputs": [],
   "source": [
    "from dataset import preprocess_sim2real_dataset,compute_and_save_burn_maps_sim2real_dataset, load_scenario_npy\n",
    "from benchmark import run_benchmark_scenario, run_benchmark_scenarii_sequential, benchmark_on_sim2real_dataset\n",
    "from Strategy import GroundPlacementStrategy, RoutingStrategy\n",
    "import timeit, time"
   ]
  },
  {
   "cell_type": "code",
   "execution_count": 2,
   "metadata": {},
   "outputs": [
    {
     "name": "stdout",
     "output_type": "stream",
     "text": [
      "Converting JPG scenarios to NPY for ./WFDataset\n",
      "Converting JPG scenarios to NPY for ./WFDataset/.DS_Store\n",
      "Converting JPG scenarios to NPY for ./WFDataset/0002\n"
     ]
    },
    {
     "name": "stderr",
     "output_type": "stream",
     "text": [
      "100%|██████████| 715/715 [00:51<00:00, 13.89it/s]\n"
     ]
    },
    {
     "name": "stdout",
     "output_type": "stream",
     "text": [
      "Converting JPG scenarios to NPY for ./WFDataset/0001\n"
     ]
    },
    {
     "name": "stderr",
     "output_type": "stream",
     "text": [
      "100%|██████████| 2615/2615 [04:01<00:00, 10.81it/s]\n"
     ]
    },
    {
     "name": "stdout",
     "output_type": "stream",
     "text": [
      "Computing burn maps...\n"
     ]
    },
    {
     "name": "stderr",
     "output_type": "stream",
     "text": [
      "  0%|          | 0/3 [00:00<?, ?it/s]\n"
     ]
    },
    {
     "name": "stdout",
     "output_type": "stream",
     "text": [
      "Computing burn map for ./WFDataset/.DS_Store/scenarii/\n"
     ]
    },
    {
     "ename": "NotADirectoryError",
     "evalue": "[Errno 20] Not a directory: './WFDataset/.DS_Store/scenarii/'",
     "output_type": "error",
     "traceback": [
      "\u001b[0;31m---------------------------------------------------------------------------\u001b[0m",
      "\u001b[0;31mNotADirectoryError\u001b[0m                        Traceback (most recent call last)",
      "Cell \u001b[0;32mIn[2], line 1\u001b[0m\n\u001b[0;32m----> 1\u001b[0m preprocess_sim2real_dataset(\u001b[38;5;124m\"\u001b[39m\u001b[38;5;124m./WFDataset\u001b[39m\u001b[38;5;124m\"\u001b[39m)\n",
      "File \u001b[0;32m~/Desktop/Climate/wildfire_drone_routing/dataset.py:318\u001b[0m, in \u001b[0;36mpreprocess_sim2real_dataset\u001b[0;34m(dataset_folder_name)\u001b[0m\n\u001b[1;32m    316\u001b[0m sim2real_scenario_jpg_folders_to_npy(dataset_folder_name)\n\u001b[1;32m    317\u001b[0m \u001b[38;5;28mprint\u001b[39m(\u001b[38;5;124m\"\u001b[39m\u001b[38;5;124mComputing burn maps...\u001b[39m\u001b[38;5;124m\"\u001b[39m)\n\u001b[0;32m--> 318\u001b[0m compute_and_save_burn_maps_sim2real_dataset(dataset_folder_name)\n",
      "File \u001b[0;32m~/Desktop/Climate/wildfire_drone_routing/dataset.py:312\u001b[0m, in \u001b[0;36mcompute_and_save_burn_maps_sim2real_dataset\u001b[0;34m(dataset_folder_name)\u001b[0m\n\u001b[1;32m    309\u001b[0m     dataset_folder_name \u001b[38;5;241m+\u001b[39m\u001b[38;5;241m=\u001b[39m \u001b[38;5;124m\"\u001b[39m\u001b[38;5;124m/\u001b[39m\u001b[38;5;124m\"\u001b[39m\n\u001b[1;32m    311\u001b[0m \u001b[38;5;28;01mfor\u001b[39;00m layout_folder \u001b[38;5;129;01min\u001b[39;00m tqdm\u001b[38;5;241m.\u001b[39mtqdm(os\u001b[38;5;241m.\u001b[39mlistdir(dataset_folder_name)):\n\u001b[0;32m--> 312\u001b[0m     burn_map \u001b[38;5;241m=\u001b[39m compute_burn_map(dataset_folder_name \u001b[38;5;241m+\u001b[39m layout_folder \u001b[38;5;241m+\u001b[39m \u001b[38;5;124m\"\u001b[39m\u001b[38;5;124m/scenarii/\u001b[39m\u001b[38;5;124m\"\u001b[39m)\n\u001b[1;32m    313\u001b[0m     save_burn_map(burn_map, dataset_folder_name \u001b[38;5;241m+\u001b[39m layout_folder \u001b[38;5;241m+\u001b[39m \u001b[38;5;124m\"\u001b[39m\u001b[38;5;124m/burn_map.npy\u001b[39m\u001b[38;5;124m\"\u001b[39m)\n",
      "File \u001b[0;32m~/Desktop/Climate/wildfire_drone_routing/dataset.py:274\u001b[0m, in \u001b[0;36mcompute_burn_map\u001b[0;34m(folder_name)\u001b[0m\n\u001b[1;32m    271\u001b[0m N \u001b[38;5;241m=\u001b[39m M \u001b[38;5;241m=\u001b[39m \u001b[38;5;28;01mNone\u001b[39;00m\n\u001b[1;32m    273\u001b[0m \u001b[38;5;66;03m# Process all scenarios in a single pass\u001b[39;00m\n\u001b[0;32m--> 274\u001b[0m \u001b[38;5;28;01mfor\u001b[39;00m filename \u001b[38;5;129;01min\u001b[39;00m tqdm\u001b[38;5;241m.\u001b[39mtqdm(os\u001b[38;5;241m.\u001b[39mlistdir(folder_name)):\n\u001b[1;32m    275\u001b[0m     \u001b[38;5;28;01mif\u001b[39;00m filename\u001b[38;5;241m.\u001b[39mendswith(\u001b[38;5;124m\"\u001b[39m\u001b[38;5;124m.npy\u001b[39m\u001b[38;5;124m\"\u001b[39m):\n\u001b[1;32m    276\u001b[0m         scenario, _ \u001b[38;5;241m=\u001b[39m load_scenario_npy(folder_name \u001b[38;5;241m+\u001b[39m filename)\n",
      "\u001b[0;31mNotADirectoryError\u001b[0m: [Errno 20] Not a directory: './WFDataset/.DS_Store/scenarii/'"
     ]
    }
   ],
   "source": [
    "preprocess_sim2real_dataset(\"./WFDataset\")"
   ]
  },
  {
   "cell_type": "code",
   "execution_count": 2,
   "metadata": {},
   "outputs": [
    {
     "name": "stderr",
     "output_type": "stream",
     "text": [
      "  0%|          | 0/3 [00:00<?, ?it/s]"
     ]
    },
    {
     "name": "stdout",
     "output_type": "stream",
     "text": [
      "Computing burn map for ./WFDataset/0002/scenarii/\n"
     ]
    },
    {
     "name": "stderr",
     "output_type": "stream",
     "text": [
      "100%|██████████| 714/714 [00:04<00:00, 157.63it/s]\n",
      " 67%|██████▋   | 2/3 [00:04<00:02,  2.27s/it]"
     ]
    },
    {
     "name": "stdout",
     "output_type": "stream",
     "text": [
      "Computing burn map for ./WFDataset/0001/scenarii/\n"
     ]
    },
    {
     "name": "stderr",
     "output_type": "stream",
     "text": [
      "100%|██████████| 2614/2614 [00:12<00:00, 203.03it/s]\n",
      "100%|██████████| 3/3 [00:17<00:00,  5.81s/it]\n"
     ]
    }
   ],
   "source": [
    "compute_and_save_burn_maps_sim2real_dataset(\"./WFDataset\")"
   ]
  },
  {
   "cell_type": "code",
   "execution_count": 3,
   "metadata": {},
   "outputs": [
    {
     "name": "stdout",
     "output_type": "stream",
     "text": [
      "0.002833843231201172\n",
      "delta=60, device='charging station', starting_time=0, len(position_history)=61\n"
     ]
    }
   ],
   "source": [
    "scenario, starting_time = load_scenario_npy(\"./WFDataset/0001/scenarii/0001_00001.npy\")\n",
    "start = time.time()\n",
    "delta , device , (position_history, ground, charging) = run_benchmark_scenario(scenario,starting_time,GroundPlacementStrategy,RoutingStrategy,(20,20,100), (10,), return_history=True)\n",
    "print(time.time() - start)\n",
    "print(f\"{delta=}, {device=}, {starting_time=}, {len(position_history)=}\")\n",
    "\n",
    "#create_scenario_video(scenario[:len(position_history)],drone_locations_history=position_history,starting_time=starting_time,out_filename='test_simulation', ground_sensor_locations = ground, charging_stations_locations = charging)"
   ]
  },
  {
   "cell_type": "code",
   "execution_count": 5,
   "metadata": {},
   "outputs": [
    {
     "name": "stderr",
     "output_type": "stream",
     "text": [
      "100%|██████████| 2614/2614 [00:13<00:00, 195.10it/s]"
     ]
    },
    {
     "name": "stdout",
     "output_type": "stream",
     "text": [
      "This strategy took on average 22.314443676572218 time steps to find the fire.\n",
      "Fire found 18.55% of the time by ground sensor\n",
      "Fire found 11.44% of the time by charging station\n",
      "Fire found 25.36% of the time by drone\n",
      "Fire found 44.64% of the time by undetected\n",
      "13.402504920959473\n"
     ]
    },
    {
     "name": "stderr",
     "output_type": "stream",
     "text": [
      "\n"
     ]
    }
   ],
   "source": [
    "start = time.time()\n",
    "benchmark_on_sim2real_dataset(\"./Z\",GroundPlacementStrategy,RoutingStrategy,(10,10,100), (10,))\n",
    "print(time.time() - start)"
   ]
  },
  {
   "cell_type": "code",
   "execution_count": null,
   "metadata": {},
   "outputs": [],
   "source": []
  }
 ],
 "metadata": {
  "kernelspec": {
   "display_name": "base",
   "language": "python",
   "name": "python3"
  },
  "language_info": {
   "codemirror_mode": {
    "name": "ipython",
    "version": 3
   },
   "file_extension": ".py",
   "mimetype": "text/x-python",
   "name": "python",
   "nbconvert_exporter": "python",
   "pygments_lexer": "ipython3",
   "version": "3.12.7"
  }
 },
 "nbformat": 4,
 "nbformat_minor": 2
}
