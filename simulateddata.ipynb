{
 "cells": [
  {
   "cell_type": "code",
   "execution_count": 1,
   "metadata": {},
   "outputs": [],
   "source": [
    "from dataset import preprocess_sim2real_dataset\n",
    "import timeit"
   ]
  },
  {
   "cell_type": "code",
   "execution_count": 1,
   "metadata": {},
   "outputs": [
    {
     "ename": "NameError",
     "evalue": "name 'load_scenario_jpg' is not defined",
     "output_type": "error",
     "traceback": [
      "\u001b[0;31m---------------------------------------------------------------------------\u001b[0m",
      "\u001b[0;31mNameError\u001b[0m                                 Traceback (most recent call last)",
      "Cell \u001b[0;32mIn[1], line 1\u001b[0m\n\u001b[0;32m----> 1\u001b[0m scenario, start_time \u001b[38;5;241m=\u001b[39m load_scenario_jpg(\u001b[38;5;124m\"\u001b[39m\u001b[38;5;124m./WFDataset/0001/Satellite_Images_Mask/0001_00001\u001b[39m\u001b[38;5;124m\"\u001b[39m, binary\u001b[38;5;241m=\u001b[39m\u001b[38;5;28;01mTrue\u001b[39;00m)\n\u001b[1;32m      2\u001b[0m save_scenario_npy(scenario, \u001b[38;5;241m0\u001b[39m, out_filename\u001b[38;5;241m=\u001b[39m\u001b[38;5;124m\"\u001b[39m\u001b[38;5;124mmy_scenario\u001b[39m\u001b[38;5;124m\"\u001b[39m)\n",
      "\u001b[0;31mNameError\u001b[0m: name 'load_scenario_jpg' is not defined"
     ]
    }
   ],
   "source": [
    "scenario, start_time = load_scenario_jpg(\"./WFDataset/0001/Satellite_Images_Mask/0001_00001\", binary=True)\n",
    "save_scenario_npy(scenario, 0, out_filename=\"my_scenario\")\n"
   ]
  },
  {
   "cell_type": "code",
   "execution_count": 5,
   "metadata": {},
   "outputs": [],
   "source": [
    "\n"
   ]
  },
  {
   "cell_type": "code",
   "execution_count": null,
   "metadata": {},
   "outputs": [],
   "source": []
  },
  {
   "cell_type": "code",
   "execution_count": 13,
   "metadata": {},
   "outputs": [
    {
     "name": "stdout",
     "output_type": "stream",
     "text": [
      "Average time loading from JPG (100 runs): 0.0301 seconds\n",
      "Average time loading from TXT (100 runs): 0.0523 seconds\n",
      "Average time loading from NPY (100 runs): 0.0016 seconds\n",
      "TXT is 0.6x faster than JPG\n",
      "NPY is 18.7x faster than JPG\n",
      "NPY is 32.5x faster than TXT\n"
     ]
    }
   ],
   "source": [
    "# Setup code to import necessary functions\n",
    "setup_code = \"\"\"\n",
    "from dataset import load_scenario_jpg, load_scenario, save_scenario_npy, load_scenario_npy\n",
    "\"\"\"\n",
    "\n",
    "# Test loading from JPG\n",
    "jpg_timing = timeit.timeit(\n",
    "    'load_scenario_jpg(\"./WFDataset/0001/Satellite_Images_Mask/0001_00001\", binary=True)',\n",
    "    setup=setup_code,\n",
    "    number=100\n",
    ")\n",
    "\n",
    "# Test loading from txt\n",
    "txt_timing = timeit.timeit(\n",
    "    'load_scenario(\"my_scenario.txt\")',\n",
    "    setup=setup_code,\n",
    "    number=100\n",
    ")\n",
    "\n",
    "# Test loading from npy \n",
    "npy_timing = timeit.timeit(\n",
    "    'load_scenario_npy(\"my_scenario.npy\")',\n",
    "    setup=setup_code,\n",
    "    number=100\n",
    ")\n",
    "\n",
    "\n",
    "print(f\"Average time loading from JPG (100 runs): {jpg_timing/100:.4f} seconds\")\n",
    "print(f\"Average time loading from TXT (100 runs): {txt_timing/100:.4f} seconds\")\n",
    "print(f\"Average time loading from NPY (100 runs): {npy_timing/100:.4f} seconds\")\n",
    "\n",
    "print(f\"TXT is {jpg_timing/txt_timing:.1f}x faster than JPG\")\n",
    "print(f\"NPY is {jpg_timing/npy_timing:.1f}x faster than JPG\")\n",
    "print(f\"NPY is {txt_timing/npy_timing:.1f}x faster than TXT\")\n",
    "\n",
    "\n",
    "\n"
   ]
  },
  {
   "cell_type": "code",
   "execution_count": 2,
   "metadata": {},
   "outputs": [
    {
     "name": "stdout",
     "output_type": "stream",
     "text": [
      "Converting JPG scenarios to NPY for ./WFDataset\n",
      "Converting JPG scenarios to NPY for ./WFDataset/.DS_Store\n",
      "Converting JPG scenarios to NPY for ./WFDataset/0002\n"
     ]
    },
    {
     "name": "stderr",
     "output_type": "stream",
     "text": [
      "  0%|          | 0/715 [00:00<?, ?it/s]"
     ]
    },
    {
     "name": "stderr",
     "output_type": "stream",
     "text": [
      "  0%|          | 0/715 [00:00<?, ?it/s]"
     ]
    },
    {
     "name": "stdout",
     "output_type": "stream",
     "text": [
      "Saving scenario to ./WFDataset/0002/scenarii/0002_00302.npy\n"
     ]
    },
    {
     "name": "stderr",
     "output_type": "stream",
     "text": [
      "\n"
     ]
    },
    {
     "ename": "Exception",
     "evalue": "Stop here",
     "output_type": "error",
     "traceback": [
      "\u001b[0;31m---------------------------------------------------------------------------\u001b[0m",
      "\u001b[0;31mException\u001b[0m                                 Traceback (most recent call last)",
      "Cell \u001b[0;32mIn[2], line 1\u001b[0m\n\u001b[0;32m----> 1\u001b[0m preprocess_sim2real_dataset(\u001b[38;5;124m\"\u001b[39m\u001b[38;5;124m./WFDataset\u001b[39m\u001b[38;5;124m\"\u001b[39m)\n",
      "File \u001b[0;32m~/Desktop/Climate/wildfire_drone_routing/dataset.py:318\u001b[0m, in \u001b[0;36mpreprocess_sim2real_dataset\u001b[0;34m(dataset_folder_name)\u001b[0m\n\u001b[1;32m    317\u001b[0m \u001b[38;5;28;01mdef\u001b[39;00m \u001b[38;5;21mpreprocess_sim2real_dataset\u001b[39m(dataset_folder_name):\n\u001b[0;32m--> 318\u001b[0m     sim2real_scenario_jpg_folders_to_npy(dataset_folder_name)\n\u001b[1;32m    319\u001b[0m     \u001b[38;5;28mprint\u001b[39m(\u001b[38;5;124m\"\u001b[39m\u001b[38;5;124mComputing burn maps...\u001b[39m\u001b[38;5;124m\"\u001b[39m)\n\u001b[1;32m    320\u001b[0m     compute_and_save_burn_maps_sim2real_dataset(dataset_folder_name)\n",
      "File \u001b[0;32m~/Desktop/Climate/wildfire_drone_routing/dataset.py:263\u001b[0m, in \u001b[0;36msim2real_scenario_jpg_folders_to_npy\u001b[0;34m(dataset_folder_name, npy_folder_name)\u001b[0m\n\u001b[1;32m    261\u001b[0m \u001b[38;5;28;01mfor\u001b[39;00m scenario_folder \u001b[38;5;129;01min\u001b[39;00m tqdm\u001b[38;5;241m.\u001b[39mtqdm(os\u001b[38;5;241m.\u001b[39mlistdir(dataset_folder_name \u001b[38;5;241m+\u001b[39m layout_folder \u001b[38;5;241m+\u001b[39m \u001b[38;5;124m\"\u001b[39m\u001b[38;5;124m/Satellite_Images_Mask/\u001b[39m\u001b[38;5;124m\"\u001b[39m)):\n\u001b[1;32m    262\u001b[0m     \u001b[38;5;28;01mif\u001b[39;00m scenario_folder \u001b[38;5;241m==\u001b[39m \u001b[38;5;124m\"\u001b[39m\u001b[38;5;124m.DS_Store\u001b[39m\u001b[38;5;124m\"\u001b[39m:\u001b[38;5;28;01mcontinue\u001b[39;00m\n\u001b[0;32m--> 263\u001b[0m     jpg_scenario_to_npy(dataset_folder_name \u001b[38;5;241m+\u001b[39m layout_folder \u001b[38;5;241m+\u001b[39m \u001b[38;5;124m\"\u001b[39m\u001b[38;5;124m/Satellite_Images_Mask/\u001b[39m\u001b[38;5;124m\"\u001b[39m \u001b[38;5;241m+\u001b[39m scenario_folder, npy_folder_name \u001b[38;5;241m+\u001b[39m layout_folder \u001b[38;5;241m+\u001b[39m \u001b[38;5;124m\"\u001b[39m\u001b[38;5;124m/scenarii/\u001b[39m\u001b[38;5;124m\"\u001b[39m, scenario_folder\u001b[38;5;241m.\u001b[39mstrip(\u001b[38;5;124m\"\u001b[39m\u001b[38;5;124m/\u001b[39m\u001b[38;5;124m\"\u001b[39m))\n",
      "File \u001b[0;32m~/Desktop/Climate/wildfire_drone_routing/dataset.py:245\u001b[0m, in \u001b[0;36mjpg_scenario_to_npy\u001b[0;34m(jpg_folder_name, npy_folder_name, npy_filename)\u001b[0m\n\u001b[1;32m    243\u001b[0m scenario, _ \u001b[38;5;241m=\u001b[39m load_scenario_jpg(jpg_folder_name)\n\u001b[1;32m    244\u001b[0m \u001b[38;5;28mprint\u001b[39m(\u001b[38;5;124mf\u001b[39m\u001b[38;5;124m\"\u001b[39m\u001b[38;5;124mSaving scenario to \u001b[39m\u001b[38;5;132;01m{\u001b[39;00mnpy_folder_name\u001b[38;5;250m \u001b[39m\u001b[38;5;241m+\u001b[39m\u001b[38;5;250m \u001b[39mnpy_filename\u001b[38;5;250m \u001b[39m\u001b[38;5;241m+\u001b[39m\u001b[38;5;250m \u001b[39m\u001b[38;5;124m\"\u001b[39m\u001b[38;5;124m.npy\u001b[39m\u001b[38;5;124m\"\u001b[39m\u001b[38;5;132;01m}\u001b[39;00m\u001b[38;5;124m\"\u001b[39m)\n\u001b[0;32m--> 245\u001b[0m \u001b[38;5;28;01mraise\u001b[39;00m \u001b[38;5;167;01mException\u001b[39;00m(\u001b[38;5;124m\"\u001b[39m\u001b[38;5;124mStop here\u001b[39m\u001b[38;5;124m\"\u001b[39m)\n\u001b[1;32m    246\u001b[0m save_scenario_npy(scenario, \u001b[38;5;241m0\u001b[39m, npy_folder_name \u001b[38;5;241m+\u001b[39m npy_filename \u001b[38;5;241m+\u001b[39m \u001b[38;5;124m\"\u001b[39m\u001b[38;5;124m.npy\u001b[39m\u001b[38;5;124m\"\u001b[39m)\n",
      "\u001b[0;31mException\u001b[0m: Stop here"
     ]
    }
   ],
   "source": [
    "preprocess_sim2real_dataset(\"./WFDataset\")"
   ]
  },
  {
   "cell_type": "code",
   "execution_count": null,
   "metadata": {},
   "outputs": [],
   "source": [
    "from tqdm import tqdm, trange\n",
    "\n",
    "for i in trange(100):\n",
    "    for j in trange(100):\n",
    "        for k in trange(100):\n",
    "            for l in trange(100):\n",
    "                for m in trange(100):\n",
    "                    for n in trange(100):\n",
    "                        for o in trange(100):\n",
    "                            pass"
   ]
  }
 ],
 "metadata": {
  "kernelspec": {
   "display_name": "base",
   "language": "python",
   "name": "python3"
  },
  "language_info": {
   "codemirror_mode": {
    "name": "ipython",
    "version": 3
   },
   "file_extension": ".py",
   "mimetype": "text/x-python",
   "name": "python",
   "nbconvert_exporter": "python",
   "pygments_lexer": "ipython3",
   "version": "3.12.7"
  }
 },
 "nbformat": 4,
 "nbformat_minor": 2
}
