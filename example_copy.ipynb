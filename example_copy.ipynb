{
 "cells": [
  {
   "cell_type": "markdown",
   "metadata": {},
   "source": [
    "## Preprocess the Sim2Real dataset\n",
    "\n",
    "The Sim2Real dataset uses jpeg images to represent wildfire masks. This representation is very lightweight but slow to work with. \n",
    "To benchmark faster, we convert them to binary NumPy files. These files are ~100 times heavier and it requires an overhead time to convert from jpeg to them, but once they are created and stored, they allow 50--100x faster operations.\n",
    "\n",
    "1. Download the dataset from [Sim2Real-Fire GitHub repository](https://github.com/TJU-IDVLab/Sim2Real-Fire).\n",
    "2. Extract all files from the dataset into your `Dataset` folder\n",
    "3. Run the preprocessing function to convert from the jpeg representation to the NumPy one, and compute burn maps"
   ]
  },
  {
   "cell_type": "code",
   "execution_count": 1,
   "metadata": {},
   "outputs": [
    {
     "name": "stdout",
     "output_type": "stream",
     "text": [
      "Requirement already satisfied: numpy in /Library/Frameworks/Python.framework/Versions/3.10/lib/python3.10/site-packages (from -r requirements.txt (line 1)) (1.24.1)\n",
      "Requirement already satisfied: opencv-python in /Library/Frameworks/Python.framework/Versions/3.10/lib/python3.10/site-packages (from -r requirements.txt (line 2)) (4.10.0.84)\n",
      "Requirement already satisfied: matplotlib in /Library/Frameworks/Python.framework/Versions/3.10/lib/python3.10/site-packages (from -r requirements.txt (line 3)) (3.6.3)\n",
      "Requirement already satisfied: tqdm in /Library/Frameworks/Python.framework/Versions/3.10/lib/python3.10/site-packages (from -r requirements.txt (line 4)) (4.67.0)\n",
      "Requirement already satisfied: juliacall in /Library/Frameworks/Python.framework/Versions/3.10/lib/python3.10/site-packages (from -r requirements.txt (line 5)) (0.9.24)\n",
      "Requirement already satisfied: contourpy>=1.0.1 in /Library/Frameworks/Python.framework/Versions/3.10/lib/python3.10/site-packages (from matplotlib->-r requirements.txt (line 3)) (1.0.7)\n",
      "Requirement already satisfied: cycler>=0.10 in /Library/Frameworks/Python.framework/Versions/3.10/lib/python3.10/site-packages (from matplotlib->-r requirements.txt (line 3)) (0.11.0)\n",
      "Requirement already satisfied: fonttools>=4.22.0 in /Library/Frameworks/Python.framework/Versions/3.10/lib/python3.10/site-packages (from matplotlib->-r requirements.txt (line 3)) (4.38.0)\n",
      "Requirement already satisfied: kiwisolver>=1.0.1 in /Library/Frameworks/Python.framework/Versions/3.10/lib/python3.10/site-packages (from matplotlib->-r requirements.txt (line 3)) (1.4.4)\n",
      "Requirement already satisfied: packaging>=20.0 in /Library/Frameworks/Python.framework/Versions/3.10/lib/python3.10/site-packages (from matplotlib->-r requirements.txt (line 3)) (24.0)\n",
      "Requirement already satisfied: pillow>=6.2.0 in /Library/Frameworks/Python.framework/Versions/3.10/lib/python3.10/site-packages (from matplotlib->-r requirements.txt (line 3)) (9.2.0)\n",
      "Requirement already satisfied: pyparsing>=2.2.1 in /Library/Frameworks/Python.framework/Versions/3.10/lib/python3.10/site-packages (from matplotlib->-r requirements.txt (line 3)) (3.0.9)\n",
      "Requirement already satisfied: python-dateutil>=2.7 in /Library/Frameworks/Python.framework/Versions/3.10/lib/python3.10/site-packages (from matplotlib->-r requirements.txt (line 3)) (2.8.2)\n",
      "Requirement already satisfied: juliapkg~=0.1.8 in /Library/Frameworks/Python.framework/Versions/3.10/lib/python3.10/site-packages (from juliacall->-r requirements.txt (line 5)) (0.1.16)\n",
      "Requirement already satisfied: filelock<4.0,>=3.16 in /Library/Frameworks/Python.framework/Versions/3.10/lib/python3.10/site-packages (from juliapkg~=0.1.8->juliacall->-r requirements.txt (line 5)) (3.16.1)\n",
      "Requirement already satisfied: semver<4.0,>=3.0 in /Library/Frameworks/Python.framework/Versions/3.10/lib/python3.10/site-packages (from juliapkg~=0.1.8->juliacall->-r requirements.txt (line 5)) (3.0.4)\n",
      "Requirement already satisfied: six>=1.5 in /Library/Frameworks/Python.framework/Versions/3.10/lib/python3.10/site-packages (from python-dateutil>=2.7->matplotlib->-r requirements.txt (line 3)) (1.16.0)\n",
      "\n",
      "\u001b[1m[\u001b[0m\u001b[34;49mnotice\u001b[0m\u001b[1;39;49m]\u001b[0m\u001b[39;49m A new release of pip is available: \u001b[0m\u001b[31;49m24.3.1\u001b[0m\u001b[39;49m -> \u001b[0m\u001b[32;49m25.0.1\u001b[0m\n",
      "\u001b[1m[\u001b[0m\u001b[34;49mnotice\u001b[0m\u001b[1;39;49m]\u001b[0m\u001b[39;49m To update, run: \u001b[0m\u001b[32;49mpip install --upgrade pip\u001b[0m\n",
      "Note: you may need to restart the kernel to use updated packages.\n"
     ]
    }
   ],
   "source": [
    "pip install -r requirements.txt"
   ]
  },
  {
   "cell_type": "code",
   "execution_count": 3,
   "metadata": {},
   "outputs": [],
   "source": [
    "# import requred modules\n",
    "import sys\n",
    "import os\n",
    "import time\n",
    "import numpy as np\n",
    "import pandas as pd\n",
    "import matplotlib.pyplot as plt\n",
    "\n",
    "# Add code to path\n",
    "module_path = os.path.abspath(\".\") + \"/code\"\n",
    "if module_path not in sys.path:\n",
    "    sys.path.append(module_path)\n",
    "\n",
    "\n",
    "from dataset import preprocess_sim2real_dataset, load_scenario_npy, compute_and_save_burn_maps_sim2real_dataset\n",
    "from wrappers import wrap_log_sensor_strategy, wrap_log_drone_strategy\n",
    "from Strategy import RandomDroneRoutingStrategy, return_no_custom_parameters, SensorPlacementOptimization, RandomSensorPlacementStrategy, LoggedOptimizationSensorPlacementStrategy,DroneRoutingOptimizationSlow, DroneRoutingOptimizationModelReuse, DroneRoutingOptimizationModelReuseIndex, LoggedDroneRoutingStrategy, LogWrapperDrone, LogWrapperSensor\n",
    "from benchmark import run_benchmark_scenario,run_benchmark_scenarii_sequential, get_burnmap_parameters,run_benchmark_scenarii_sequential_precompute, benchmark_on_sim2real_dataset_precompute\n",
    "from displays import create_scenario_video\n",
    "from new_clustering import get_wrapped_strategy"
   ]
  },
  {
   "cell_type": "markdown",
   "metadata": {},
   "source": [
    "Uncomment the cell below to preprocess the dataset.\n",
    "- `n_max_scenarii_per_layout` controls the number of scenarios we convert from jpeg to NumPy files for each layout.\n",
    "- If executed on all ~50 layouts of the dataset, the code below takes ~15mins to run and generates **400 GB** of data. Make sure to have the space."
   ]
  },
  {
   "cell_type": "code",
   "execution_count": null,
   "metadata": {},
   "outputs": [
    {
     "name": "stdout",
     "output_type": "stream",
     "text": [
      "Converting JPG scenarios to NPY for MinimalDataset/\n",
      "Computing burn maps...\n",
      "Computing burn map for MinimalDataset/0002/scenarii/ and files with extension .npy\n"
     ]
    },
    {
     "name": "stderr",
     "output_type": "stream",
     "text": [
      "100%|██████████| 5/5 [00:00<00:00, 31.16it/s]\n"
     ]
    },
    {
     "name": "stdout",
     "output_type": "stream",
     "text": [
      "Computing burn map for MinimalDataset/0001/scenarii/ and files with extension .npy\n"
     ]
    },
    {
     "name": "stderr",
     "output_type": "stream",
     "text": [
      "100%|██████████| 5/5 [00:00<00:00, 50.21it/s]\n"
     ]
    }
   ],
   "source": [
    "preprocess_sim2real_dataset(\"MinimalDataset/\", n_max_scenarii_per_layout=100) "
   ]
  },
  {
   "cell_type": "markdown",
   "metadata": {},
   "source": [
    "We can now run the benchmark function on any scenario.\n",
    "1. We load the scenario using `load_scenario_npy` since it is in preprocessed `npy` format\n",
    "2. Werun the benchmark using `run_benchmark_scenario` that takes as input:\n",
    "    - The `scenario`, \n",
    "    - The sensor placement strategy and the drone routing strategy\n",
    "    - A dictionary `custom_initialization_parameters` that contains any custom initialization inputs for your strategy functions (such as the burn map if your strategy needs a burn map as input)\n",
    "    - A python function `custom_step_parameters_function` that returns a dictionary of custom inputs for your routing function. This function is executed by the benchmarking code at each time step. Your routing function will be called with: `routing(custom_step_parameters_function())` internally"
   ]
  },
  {
   "cell_type": "code",
   "execution_count": null,
   "metadata": {},
   "outputs": [],
   "source": [
    "# change values here to change benchmarking parameters\n",
    "def my_automatic_layout_parameters(scenario:np.ndarray):\n",
    "    return {\n",
    "        \"N\": scenario.shape[1],\n",
    "        \"M\": scenario.shape[2],\n",
    "        \"max_battery_distance\": -10,\n",
    "        \"max_battery_time\": 20,\n",
    "        \"n_drones\": 10,\n",
    "        \"n_ground_stations\": 1,\n",
    "        \"n_charging_stations\": 5,\n",
    "    }"
   ]
  },
  {
   "cell_type": "code",
   "execution_count": null,
   "metadata": {},
   "outputs": [],
   "source": [
    "# That's very fast to run!\n",
    "print(\"starting benchmark\")\n",
    "time_start = time.time()\n",
    "scenario = load_scenario_npy(\"MinimalDataset/0001/scenarii/0001_00002.npy\")\n",
    "results, (position_history, ground, charging)  = run_benchmark_scenario(scenario, SensorPlacementOptimization, DroneRoutingOptimizationModelReuseIndex, custom_initialization_parameters = {\"burnmap_filename\": \"./MinimalDataset/0001/burn_map.npy\", \"load_from_logfile\": False, \"reevaluation_step\": 5, \"optimization_horizon\":5, \"strategy_drone\": DroneRoutingOptimizationModelReuseIndex, \"strategy_sensor\": RandomSensorPlacementStrategy}, custom_step_parameters_function = return_no_custom_parameters, automatic_initialization_parameters_function=my_automatic_layout_parameters, return_history=True)\n",
    "print(results)\n",
    "print(f\"Time taken to run benchmark on the scenario: {time.time() - time_start} seconds\")\n",
    "\n",
    "\n"
   ]
  },
  {
   "cell_type": "code",
   "execution_count": null,
   "metadata": {},
   "outputs": [],
   "source": [
    "def make_clustered_drone_strategy(auto_params, custom_params):\n",
    "    \n",
    "    # Wrap strategy\n",
    "    LoggedDroneStrategy = wrap_log_drone_strategy(DroneRoutingOptimizationModelReuseIndex)\n",
    "\n",
    "    # Use clustering helper to split drones\n",
    "    dummy_helper = get_wrapped_strategy(LoggedDroneStrategy, [], 6.0, [])\n",
    "    clusters = dummy_helper.find_clusters(dummy_helper, auto_params[\"charging_stations_locations\"], 6.0)\n",
    "\n",
    "    total_drones = auto_params[\"n_drones\"]\n",
    "    num_clusters = len(clusters)\n",
    "    base = total_drones // num_clusters\n",
    "    drones_per_cluster = [base] * num_clusters\n",
    "    for i in range(total_drones % num_clusters):\n",
    "        drones_per_cluster[i] += 1\n",
    "\n",
    "    # Create wrapped class with layout-specific cluster info\n",
    "    ClusteredStrategyClass = get_wrapped_strategy(\n",
    "        BaseStrategy=LoggedDroneStrategy,\n",
    "        charging_stations=auto_params[\"charging_stations_locations\"],\n",
    "        drone_battery=6.0,\n",
    "        drones_per_cluster=drones_per_cluster\n",
    "    )\n",
    "\n",
    "    # Instantiate strategy\n",
    "    return ClusteredStrategyClass(auto_params, custom_params)\n"
   ]
  },
  {
   "cell_type": "code",
   "execution_count": null,
   "metadata": {},
   "outputs": [
    {
     "name": "stdout",
     "output_type": "stream",
     "text": [
      "Running benchmarks...\n",
      "\n",
      " --- \n",
      " Processing layout MinimalDataset/0002\n",
      "input_dir: MinimalDataset/0002/scenarii/\n",
      "RandomSensorPlacementStrategy\n",
      "[init] Number of clusters: 5\n",
      "  Cluster 0: [(57, 96)]\n",
      "  Cluster 1: [(58, 189)]\n",
      "  Cluster 2: [(33, 92)]\n",
      "  Cluster 3: [(85, 29)]\n",
      "  Cluster 4: [(170, 217)]\n",
      "\n",
      "🚀 Running cluster 0 with 1 charging stations and 1 drones\n",
      "  🧱 Bounding grid: 7 x 7, origin: (54, 93)\n",
      "[wrap_log_drone_strategy] 🚫 No log file found at MinimalDataset/0002/logs/DroneRoutingOptimizationModelReuseIndex_5_drones_5_charging_stations_10_ground_stations_33-92_57-96_58-189_85-29_170-217_10_logged_drone_routing.json. Logging will be enabled.\n",
      "  ✅ Strategy initialized for cluster 0\n",
      "\n",
      "🚀 Running cluster 1 with 1 charging stations and 1 drones\n",
      "  🧱 Bounding grid: 7 x 7, origin: (55, 186)\n",
      "[wrap_log_drone_strategy] 🚫 No log file found at MinimalDataset/0002/logs/DroneRoutingOptimizationModelReuseIndex_5_drones_5_charging_stations_10_ground_stations_33-92_57-96_58-189_85-29_170-217_10_logged_drone_routing.json. Logging will be enabled.\n",
      "  ✅ Strategy initialized for cluster 1\n",
      "\n",
      "🚀 Running cluster 2 with 1 charging stations and 1 drones\n",
      "  🧱 Bounding grid: 7 x 7, origin: (30, 89)\n",
      "[wrap_log_drone_strategy] 🚫 No log file found at MinimalDataset/0002/logs/DroneRoutingOptimizationModelReuseIndex_5_drones_5_charging_stations_10_ground_stations_33-92_57-96_58-189_85-29_170-217_10_logged_drone_routing.json. Logging will be enabled.\n",
      "  ✅ Strategy initialized for cluster 2\n",
      "\n",
      "🚀 Running cluster 3 with 1 charging stations and 1 drones\n",
      "  🧱 Bounding grid: 7 x 7, origin: (82, 26)\n",
      "[wrap_log_drone_strategy] 🚫 No log file found at MinimalDataset/0002/logs/DroneRoutingOptimizationModelReuseIndex_5_drones_5_charging_stations_10_ground_stations_33-92_57-96_58-189_85-29_170-217_10_logged_drone_routing.json. Logging will be enabled.\n",
      "  ✅ Strategy initialized for cluster 3\n",
      "\n",
      "🚀 Running cluster 4 with 1 charging stations and 1 drones\n",
      "  🧱 Bounding grid: 7 x 7, origin: (167, 214)\n",
      "[wrap_log_drone_strategy] 🚫 No log file found at MinimalDataset/0002/logs/DroneRoutingOptimizationModelReuseIndex_5_drones_5_charging_stations_10_ground_stations_33-92_57-96_58-189_85-29_170-217_10_logged_drone_routing.json. Logging will be enabled.\n",
      "  ✅ Strategy initialized for cluster 4\n",
      "\n",
      "📍 [ClusteredDroneStrategyWrapper] Fetching initial drone locations for 5 clusters...\n",
      "\n",
      "📦 Cluster 0: Calling strategy to get initial positions and states...\n",
      "Creating initial routing model (reusable)\n",
      "--- parameters for julia (Julia indexing) ---\n",
      "burnmap_filename: MinimalDataset/0002/burn_map.npy\n",
      "n_drones: 5\n",
      "charging_stations_locations: [(58, 97), (59, 190), (34, 93), (86, 30), (171, 218)]\n",
      "ground_sensor_locations: [(16, 161), (55, 21), (175, 215), (154, 15), (26, 143), (49, 83), (166, 97), (81, 73), (38, 184), (188, 9)]\n",
      "optimization_horizon: 10\n",
      "Set parameter Username\n",
      "Set parameter LicenseID to value 2638288\n",
      "Academic license - for non-commercial use only - expires 2026-03-18\n",
      "Model created in 67.19267220899928 seconds\n",
      "DEBUG: Charging Stations received in Julia:\n",
      "[(58, 97), (59, 190), (34, 93), (86, 30), (171, 218)]\n",
      "Creating init constraints took 0.006221538002137095 seconds\n",
      "Optimizing model took 5.123657049960457 seconds\n",
      "Drone starting positions (Julia): [639, 980, 330, 1266, 814]\n",
      "Charging Stations (Julia): [(58, 97), (59, 190), (34, 93), (86, 30), (171, 218)]\n",
      "Solver Status: OPTIMAL\n",
      "Objective Value: -0.0\n",
      "Initial optimization finished\n",
      "\n",
      "DEBUG: Available Charging Stations (after model creation): [(57, 96), (58, 189), (33, 92), (85, 29), (170, 217)]\n",
      "[wrap_log_drone_strategy] 💾 Log updated and written to MinimalDataset/0002/logs/DroneRoutingOptimizationModelReuseIndex_5_drones_5_charging_stations_10_ground_stations_33-92_57-96_58-189_85-29_170-217_10_logged_drone_routing.json\n",
      "[wrap_log_drone_strategy] ✏️ Logging initial drone positions to MinimalDataset/0002/logs/DroneRoutingOptimizationModelReuseIndex_5_drones_5_charging_stations_10_ground_stations_33-92_57-96_58-189_85-29_170-217_10_logged_drone_routing.json\n",
      "  Drone 0: charge at (33, 92)\n",
      "  Drone 1: charge at (33, 92)\n",
      "  Drone 2: charge at (57, 96)\n",
      "  Drone 3: charge at (57, 96)\n",
      "  Drone 4: fly at (170, 217)\n",
      "   🛰️ Drone 0: charge at (33, 92)\n",
      "   🛰️ Drone 1: charge at (33, 92)\n",
      "   🛰️ Drone 2: charge at (57, 96)\n",
      "   🛰️ Drone 3: charge at (57, 96)\n",
      "   🛰️ Drone 4: fly at (170, 217)\n",
      "\n",
      "📦 Cluster 1: Calling strategy to get initial positions and states...\n",
      "Creating initial routing model (reusable)\n",
      "--- parameters for julia (Julia indexing) ---\n",
      "burnmap_filename: MinimalDataset/0002/burn_map.npy\n",
      "n_drones: 5\n",
      "charging_stations_locations: [(58, 97), (59, 190), (34, 93), (86, 30), (171, 218)]\n",
      "ground_sensor_locations: [(16, 161), (55, 21), (175, 215), (154, 15), (26, 143), (49, 83), (166, 97), (81, 73), (38, 184), (188, 9)]\n",
      "optimization_horizon: 10\n",
      "movement_plan: [[(\"charge\", (34, 93)), (\"charge\", (34, 93)), (\"charge\", (58, 97)), (\"charge\", (58, 97)), (\"fly\", (171, 218))], [(\"fly\", (34, 93)), (\"fly\", (34, 93)), (\"fly\", (58, 97)), (\"fly\", (58, 97)), (\"fly\", (171, 217))], [(\"fly\", (34, 93)), (\"fly\", (34, 93)), (\"fly\", (58, 98)), (\"fly\", (58, 98)), (\"fly\", (170, 216))], [(\"fly\", (34, 93)), (\"fly\", (34, 93)), (\"fly\", (58, 98)), (\"fly\", (58, 98)), (\"fly\", (170, 216))], [(\"fly\", (34, 93)), (\"fly\", (34, 93)), (\"fly\", (58, 98)), (\"fly\", (58, 98)), (\"fly\", (170, 216))]]\n",
      "Set parameter Username\n",
      "Set parameter LicenseID to value 2638288\n",
      "Academic license - for non-commercial use only - expires 2026-03-18\n",
      "Model created in 72.06494323798688 seconds\n",
      "DEBUG: Charging Stations received in Julia:\n",
      "[(58, 97), (59, 190), (34, 93), (86, 30), (171, 218)]\n",
      "Creating init constraints took 0.006736726965755224 seconds\n",
      "Optimizing model took 4.030889232002664 seconds\n",
      "Drone starting positions (Julia): [639, 980, 330, 1266, 814]\n",
      "Charging Stations (Julia): [(58, 97), (59, 190), (34, 93), (86, 30), (171, 218)]\n",
      "Solver Status: OPTIMAL\n",
      "Objective Value: -0.0\n",
      "Initial optimization finished\n",
      "\n",
      "DEBUG: Available Charging Stations (after model creation): [(57, 96), (58, 189), (33, 92), (85, 29), (170, 217)]\n",
      "[wrap_log_drone_strategy] 💾 Log updated and written to MinimalDataset/0002/logs/DroneRoutingOptimizationModelReuseIndex_5_drones_5_charging_stations_10_ground_stations_33-92_57-96_58-189_85-29_170-217_10_logged_drone_routing.json\n",
      "[wrap_log_drone_strategy] ✏️ Logging initial drone positions to MinimalDataset/0002/logs/DroneRoutingOptimizationModelReuseIndex_5_drones_5_charging_stations_10_ground_stations_33-92_57-96_58-189_85-29_170-217_10_logged_drone_routing.json\n",
      "  Drone 0: charge at (33, 92)\n",
      "  Drone 1: charge at (33, 92)\n",
      "  Drone 2: charge at (57, 96)\n",
      "  Drone 3: charge at (57, 96)\n",
      "  Drone 4: fly at (170, 217)\n",
      "   🛰️ Drone 0: charge at (33, 92)\n",
      "   🛰️ Drone 1: charge at (33, 92)\n",
      "   🛰️ Drone 2: charge at (57, 96)\n",
      "   🛰️ Drone 3: charge at (57, 96)\n",
      "   🛰️ Drone 4: fly at (170, 217)\n",
      "\n",
      "📦 Cluster 2: Calling strategy to get initial positions and states...\n",
      "Creating initial routing model (reusable)\n",
      "--- parameters for julia (Julia indexing) ---\n",
      "burnmap_filename: MinimalDataset/0002/burn_map.npy\n",
      "n_drones: 5\n",
      "charging_stations_locations: [(58, 97), (59, 190), (34, 93), (86, 30), (171, 218)]\n",
      "ground_sensor_locations: [(16, 161), (55, 21), (175, 215), (154, 15), (26, 143), (49, 83), (166, 97), (81, 73), (38, 184), (188, 9)]\n",
      "optimization_horizon: 10\n",
      "movement_plan: [[(\"charge\", (34, 93)), (\"charge\", (34, 93)), (\"charge\", (58, 97)), (\"charge\", (58, 97)), (\"fly\", (171, 218))], [(\"fly\", (34, 93)), (\"fly\", (34, 93)), (\"fly\", (58, 97)), (\"fly\", (58, 97)), (\"fly\", (171, 217))], [(\"fly\", (34, 93)), (\"fly\", (34, 93)), (\"fly\", (58, 98)), (\"fly\", (58, 98)), (\"fly\", (170, 216))], [(\"fly\", (34, 93)), (\"fly\", (34, 93)), (\"fly\", (58, 98)), (\"fly\", (58, 98)), (\"fly\", (170, 216))], [(\"fly\", (34, 93)), (\"fly\", (34, 93)), (\"fly\", (58, 98)), (\"fly\", (58, 98)), (\"fly\", (170, 216))]]\n",
      "Set parameter Username\n",
      "Set parameter LicenseID to value 2638288\n",
      "Academic license - for non-commercial use only - expires 2026-03-18\n",
      "Model created in 67.89342704799492 seconds\n",
      "DEBUG: Charging Stations received in Julia:\n",
      "[(58, 97), (59, 190), (34, 93), (86, 30), (171, 218)]\n",
      "Creating init constraints took 0.007661719981115311 seconds\n",
      "Optimizing model took 4.699581153981853 seconds\n",
      "Drone starting positions (Julia): [639, 980, 330, 1266, 814]\n",
      "Charging Stations (Julia): [(58, 97), (59, 190), (34, 93), (86, 30), (171, 218)]\n",
      "Solver Status: OPTIMAL\n",
      "Objective Value: -0.0\n",
      "Initial optimization finished\n",
      "\n",
      "DEBUG: Available Charging Stations (after model creation): [(57, 96), (58, 189), (33, 92), (85, 29), (170, 217)]\n",
      "[wrap_log_drone_strategy] 💾 Log updated and written to MinimalDataset/0002/logs/DroneRoutingOptimizationModelReuseIndex_5_drones_5_charging_stations_10_ground_stations_33-92_57-96_58-189_85-29_170-217_10_logged_drone_routing.json\n",
      "[wrap_log_drone_strategy] ✏️ Logging initial drone positions to MinimalDataset/0002/logs/DroneRoutingOptimizationModelReuseIndex_5_drones_5_charging_stations_10_ground_stations_33-92_57-96_58-189_85-29_170-217_10_logged_drone_routing.json\n",
      "  Drone 0: charge at (33, 92)\n",
      "  Drone 1: charge at (33, 92)\n",
      "  Drone 2: charge at (57, 96)\n",
      "  Drone 3: charge at (57, 96)\n",
      "  Drone 4: fly at (170, 217)\n",
      "   🛰️ Drone 0: charge at (33, 92)\n",
      "   🛰️ Drone 1: charge at (33, 92)\n",
      "   🛰️ Drone 2: charge at (57, 96)\n",
      "   🛰️ Drone 3: charge at (57, 96)\n",
      "   🛰️ Drone 4: fly at (170, 217)\n",
      "\n",
      "📦 Cluster 3: Calling strategy to get initial positions and states...\n",
      "Creating initial routing model (reusable)\n",
      "--- parameters for julia (Julia indexing) ---\n",
      "burnmap_filename: MinimalDataset/0002/burn_map.npy\n",
      "n_drones: 5\n",
      "charging_stations_locations: [(58, 97), (59, 190), (34, 93), (86, 30), (171, 218)]\n",
      "ground_sensor_locations: [(16, 161), (55, 21), (175, 215), (154, 15), (26, 143), (49, 83), (166, 97), (81, 73), (38, 184), (188, 9)]\n",
      "optimization_horizon: 10\n",
      "movement_plan: [[(\"charge\", (34, 93)), (\"charge\", (34, 93)), (\"charge\", (58, 97)), (\"charge\", (58, 97)), (\"fly\", (171, 218))], [(\"fly\", (34, 93)), (\"fly\", (34, 93)), (\"fly\", (58, 97)), (\"fly\", (58, 97)), (\"fly\", (171, 217))], [(\"fly\", (34, 93)), (\"fly\", (34, 93)), (\"fly\", (58, 98)), (\"fly\", (58, 98)), (\"fly\", (170, 216))], [(\"fly\", (34, 93)), (\"fly\", (34, 93)), (\"fly\", (58, 98)), (\"fly\", (58, 98)), (\"fly\", (170, 216))], [(\"fly\", (34, 93)), (\"fly\", (34, 93)), (\"fly\", (58, 98)), (\"fly\", (58, 98)), (\"fly\", (170, 216))]]\n",
      "Set parameter Username\n",
      "Set parameter LicenseID to value 2638288\n",
      "Academic license - for non-commercial use only - expires 2026-03-18\n",
      "Model created in 75.91740859701531 seconds\n",
      "DEBUG: Charging Stations received in Julia:\n",
      "[(58, 97), (59, 190), (34, 93), (86, 30), (171, 218)]\n",
      "Creating init constraints took 0.006776816037017852 seconds\n",
      "Optimizing model took 4.271616382990032 seconds\n",
      "Drone starting positions (Julia): [639, 980, 330, 1266, 814]\n",
      "Charging Stations (Julia): [(58, 97), (59, 190), (34, 93), (86, 30), (171, 218)]\n",
      "Solver Status: OPTIMAL\n",
      "Objective Value: -0.0\n",
      "Initial optimization finished\n",
      "\n",
      "DEBUG: Available Charging Stations (after model creation): [(57, 96), (58, 189), (33, 92), (85, 29), (170, 217)]\n",
      "[wrap_log_drone_strategy] 💾 Log updated and written to MinimalDataset/0002/logs/DroneRoutingOptimizationModelReuseIndex_5_drones_5_charging_stations_10_ground_stations_33-92_57-96_58-189_85-29_170-217_10_logged_drone_routing.json\n",
      "[wrap_log_drone_strategy] ✏️ Logging initial drone positions to MinimalDataset/0002/logs/DroneRoutingOptimizationModelReuseIndex_5_drones_5_charging_stations_10_ground_stations_33-92_57-96_58-189_85-29_170-217_10_logged_drone_routing.json\n",
      "  Drone 0: charge at (33, 92)\n",
      "  Drone 1: charge at (33, 92)\n",
      "  Drone 2: charge at (57, 96)\n",
      "  Drone 3: charge at (57, 96)\n",
      "  Drone 4: fly at (170, 217)\n",
      "   🛰️ Drone 0: charge at (33, 92)\n",
      "   🛰️ Drone 1: charge at (33, 92)\n",
      "   🛰️ Drone 2: charge at (57, 96)\n",
      "   🛰️ Drone 3: charge at (57, 96)\n",
      "   🛰️ Drone 4: fly at (170, 217)\n",
      "\n",
      "📦 Cluster 4: Calling strategy to get initial positions and states...\n",
      "Creating initial routing model (reusable)\n",
      "--- parameters for julia (Julia indexing) ---\n",
      "burnmap_filename: MinimalDataset/0002/burn_map.npy\n",
      "n_drones: 5\n",
      "charging_stations_locations: [(58, 97), (59, 190), (34, 93), (86, 30), (171, 218)]\n",
      "ground_sensor_locations: [(16, 161), (55, 21), (175, 215), (154, 15), (26, 143), (49, 83), (166, 97), (81, 73), (38, 184), (188, 9)]\n",
      "optimization_horizon: 10\n",
      "movement_plan: [[(\"charge\", (34, 93)), (\"charge\", (34, 93)), (\"charge\", (58, 97)), (\"charge\", (58, 97)), (\"fly\", (171, 218))], [(\"fly\", (34, 93)), (\"fly\", (34, 93)), (\"fly\", (58, 97)), (\"fly\", (58, 97)), (\"fly\", (171, 217))], [(\"fly\", (34, 93)), (\"fly\", (34, 93)), (\"fly\", (58, 98)), (\"fly\", (58, 98)), (\"fly\", (170, 216))], [(\"fly\", (34, 93)), (\"fly\", (34, 93)), (\"fly\", (58, 98)), (\"fly\", (58, 98)), (\"fly\", (170, 216))], [(\"fly\", (34, 93)), (\"fly\", (34, 93)), (\"fly\", (58, 98)), (\"fly\", (58, 98)), (\"fly\", (170, 216))]]\n",
      "Set parameter Username\n",
      "Set parameter LicenseID to value 2638288\n",
      "Academic license - for non-commercial use only - expires 2026-03-18\n",
      "Model created in 77.44234948104713 seconds\n",
      "DEBUG: Charging Stations received in Julia:\n",
      "[(58, 97), (59, 190), (34, 93), (86, 30), (171, 218)]\n",
      "Creating init constraints took 0.007194239995442331 seconds\n",
      "Optimizing model took 4.171293237013742 seconds\n",
      "Drone starting positions (Julia): [639, 980, 330, 1266, 814]\n",
      "Charging Stations (Julia): [(58, 97), (59, 190), (34, 93), (86, 30), (171, 218)]\n",
      "Solver Status: OPTIMAL\n",
      "Objective Value: -0.0\n",
      "Initial optimization finished\n",
      "\n",
      "DEBUG: Available Charging Stations (after model creation): [(57, 96), (58, 189), (33, 92), (85, 29), (170, 217)]\n",
      "[wrap_log_drone_strategy] 💾 Log updated and written to MinimalDataset/0002/logs/DroneRoutingOptimizationModelReuseIndex_5_drones_5_charging_stations_10_ground_stations_33-92_57-96_58-189_85-29_170-217_10_logged_drone_routing.json\n",
      "[wrap_log_drone_strategy] ✏️ Logging initial drone positions to MinimalDataset/0002/logs/DroneRoutingOptimizationModelReuseIndex_5_drones_5_charging_stations_10_ground_stations_33-92_57-96_58-189_85-29_170-217_10_logged_drone_routing.json\n",
      "  Drone 0: charge at (33, 92)\n",
      "  Drone 1: charge at (33, 92)\n",
      "  Drone 2: charge at (57, 96)\n",
      "  Drone 3: charge at (57, 96)\n",
      "  Drone 4: fly at (170, 217)\n",
      "   🛰️ Drone 0: charge at (33, 92)\n",
      "   🛰️ Drone 1: charge at (33, 92)\n",
      "   🛰️ Drone 2: charge at (57, 96)\n",
      "   🛰️ Drone 3: charge at (57, 96)\n",
      "   🛰️ Drone 4: fly at (170, 217)\n",
      "\n",
      "✅ [ClusteredDroneStrategyWrapper] Combined total drones: 25\n"
     ]
    },
    {
     "ename": "ValueError",
     "evalue": "too many values to unpack (expected 2)",
     "output_type": "error",
     "traceback": [
      "\u001b[0;31m---------------------------------------------------------------------------\u001b[0m",
      "\u001b[0;31mValueError\u001b[0m                                Traceback (most recent call last)",
      "Cell \u001b[0;32mIn[6], line 18\u001b[0m\n\u001b[1;32m     16\u001b[0m \u001b[38;5;66;03m# Run the benchmark and collect metrics\u001b[39;00m\n\u001b[1;32m     17\u001b[0m \u001b[38;5;28mprint\u001b[39m(\u001b[38;5;124m\"\u001b[39m\u001b[38;5;124mRunning benchmarks...\u001b[39m\u001b[38;5;124m\"\u001b[39m)\n\u001b[0;32m---> 18\u001b[0m metrics_by_layout \u001b[38;5;241m=\u001b[39m \u001b[43mbenchmark_on_sim2real_dataset_precompute\u001b[49m\u001b[43m(\u001b[49m\n\u001b[1;32m     19\u001b[0m \u001b[43m    \u001b[49m\u001b[43mdataset_folder_name\u001b[49m\u001b[38;5;241;43m=\u001b[39;49m\u001b[38;5;124;43m\"\u001b[39;49m\u001b[38;5;124;43mMinimalDataset/\u001b[39;49m\u001b[38;5;124;43m\"\u001b[39;49m\u001b[43m,\u001b[49m\n\u001b[1;32m     20\u001b[0m \u001b[43m    \u001b[49m\u001b[43mground_placement_strategy\u001b[49m\u001b[38;5;241;43m=\u001b[39;49m\u001b[43mRandomSensorPlacementStrategy\u001b[49m\u001b[43m,\u001b[49m\n\u001b[1;32m     21\u001b[0m \u001b[43m    \u001b[49m\u001b[43mdrone_routing_strategy\u001b[49m\u001b[38;5;241;43m=\u001b[39;49m\u001b[43mmake_clustered_drone_strategy\u001b[49m\u001b[43m,\u001b[49m\n\u001b[1;32m     22\u001b[0m \u001b[43m    \u001b[49m\u001b[43mcustom_initialization_parameters_function\u001b[49m\u001b[38;5;241;43m=\u001b[39;49m\u001b[43mcustom_initialization_parameters_function\u001b[49m\u001b[43m,\u001b[49m\n\u001b[1;32m     23\u001b[0m \u001b[43m    \u001b[49m\u001b[43mcustom_step_parameters_function\u001b[49m\u001b[38;5;241;43m=\u001b[39;49m\u001b[43mreturn_no_custom_parameters\u001b[49m\u001b[43m,\u001b[49m\n\u001b[1;32m     24\u001b[0m \u001b[43m    \u001b[49m\u001b[43mmax_n_scenarii\u001b[49m\u001b[38;5;241;43m=\u001b[39;49m\u001b[38;5;241;43m100\u001b[39;49m\u001b[43m,\u001b[49m\n\u001b[1;32m     25\u001b[0m \u001b[43m    \u001b[49m\u001b[43mstarting_time\u001b[49m\u001b[38;5;241;43m=\u001b[39;49m\u001b[38;5;241;43m0\u001b[39;49m\n\u001b[1;32m     26\u001b[0m \u001b[43m)\u001b[49m\n",
      "File \u001b[0;32m~/Desktop/wildfire_drone_routing/code/benchmark.py:648\u001b[0m, in \u001b[0;36mbenchmark_on_sim2real_dataset_precompute\u001b[0;34m(dataset_folder_name, ground_placement_strategy, drone_routing_strategy, custom_initialization_parameters_function, custom_step_parameters_function, max_n_scenarii, starting_time, max_n_layouts)\u001b[0m\n\u001b[1;32m    645\u001b[0m         \u001b[38;5;28mprint\u001b[39m(\u001b[38;5;124mf\u001b[39m\u001b[38;5;124m\"\u001b[39m\u001b[38;5;124mNo scenarii folder found in \u001b[39m\u001b[38;5;132;01m{\u001b[39;00mlayout_folder\u001b[38;5;132;01m}\u001b[39;00m\u001b[38;5;124m, skipping...\u001b[39m\u001b[38;5;124m\"\u001b[39m)\n\u001b[1;32m    646\u001b[0m         \u001b[38;5;28;01mcontinue\u001b[39;00m\n\u001b[0;32m--> 648\u001b[0m     metrics \u001b[38;5;241m=\u001b[39m \u001b[43mrun_benchmark_scenarii_sequential_precompute\u001b[49m\u001b[43m(\u001b[49m\n\u001b[1;32m    649\u001b[0m \u001b[43m        \u001b[49m\u001b[43mlayout_folder\u001b[49m\u001b[43m \u001b[49m\u001b[38;5;241;43m+\u001b[39;49m\u001b[43m \u001b[49m\u001b[38;5;124;43m\"\u001b[39;49m\u001b[38;5;124;43m/scenarii/\u001b[39;49m\u001b[38;5;124;43m\"\u001b[39;49m\u001b[43m,\u001b[49m\n\u001b[1;32m    650\u001b[0m \u001b[43m        \u001b[49m\u001b[43mground_placement_strategy\u001b[49m\u001b[43m,\u001b[49m\u001b[43m \u001b[49m\n\u001b[1;32m    651\u001b[0m \u001b[43m        \u001b[49m\u001b[43mdrone_routing_strategy\u001b[49m\u001b[43m,\u001b[49m\u001b[43m \u001b[49m\n\u001b[1;32m    652\u001b[0m \u001b[43m        \u001b[49m\u001b[43mcustom_initialization_parameters_function\u001b[49m\u001b[43m,\u001b[49m\u001b[43m \u001b[49m\n\u001b[1;32m    653\u001b[0m \u001b[43m        \u001b[49m\u001b[43mcustom_step_parameters_function\u001b[49m\u001b[43m,\u001b[49m\u001b[43m \u001b[49m\n\u001b[1;32m    654\u001b[0m \u001b[43m        \u001b[49m\u001b[43mstarting_time\u001b[49m\u001b[38;5;241;43m=\u001b[39;49m\u001b[43mstarting_time\u001b[49m\u001b[43m,\u001b[49m\u001b[43m \u001b[49m\n\u001b[1;32m    655\u001b[0m \u001b[43m        \u001b[49m\u001b[43mmax_n_scenarii\u001b[49m\u001b[38;5;241;43m=\u001b[39;49m\u001b[43mmax_n_scenarii\u001b[49m\n\u001b[1;32m    656\u001b[0m \u001b[43m    \u001b[49m\u001b[43m)\u001b[49m\n\u001b[1;32m    658\u001b[0m     all_metrics[layout_name] \u001b[38;5;241m=\u001b[39m metrics\n\u001b[1;32m    660\u001b[0m \u001b[38;5;28;01mreturn\u001b[39;00m all_metrics\n",
      "File \u001b[0;32m~/Desktop/wildfire_drone_routing/code/benchmark.py:615\u001b[0m, in \u001b[0;36mrun_benchmark_scenarii_sequential_precompute\u001b[0;34m(input_dir, sensor_placement_strategy, drone_routing_strategy, custom_initialization_parameters_function, custom_step_parameters_function, starting_time, max_n_scenarii, file_format)\u001b[0m\n\u001b[1;32m    611\u001b[0m         canonical_scenario \u001b[38;5;241m=\u001b[39m scenario\n\u001b[1;32m    613\u001b[0m \u001b[38;5;66;03m# precompute the sensor placement and drone routing strategy on canonical scenario\u001b[39;00m\n\u001b[1;32m    614\u001b[0m \u001b[38;5;66;03m#print(\"Precomputing sensor placement and drone routing strategy on canonical scenario...\")\u001b[39;00m\n\u001b[0;32m--> 615\u001b[0m \u001b[43mrun_drone_routing_strategy\u001b[49m\u001b[43m(\u001b[49m\u001b[43mdrone_routing_strategy\u001b[49m\u001b[43m,\u001b[49m\u001b[43m \u001b[49m\u001b[43msensor_placement_strategy\u001b[49m\u001b[43m,\u001b[49m\u001b[43m \u001b[49m\u001b[43mmax_scenario_length\u001b[49m\u001b[43m,\u001b[49m\u001b[43m \u001b[49m\u001b[43mcanonical_scenario\u001b[49m\u001b[43m,\u001b[49m\u001b[43m \u001b[49m\u001b[43mget_automatic_layout_parameters\u001b[49m\u001b[43m,\u001b[49m\u001b[43m \u001b[49m\u001b[43mcustom_initialization_parameters_function\u001b[49m\u001b[43m,\u001b[49m\u001b[43m \u001b[49m\u001b[43mcustom_step_parameters_function\u001b[49m\u001b[43m,\u001b[49m\u001b[43m \u001b[49m\u001b[43minput_dir\u001b[49m\u001b[43m)\u001b[49m \n\u001b[1;32m    616\u001b[0m \u001b[38;5;66;03m#print(\"running on all scenarios...\")\u001b[39;00m\n\u001b[1;32m    617\u001b[0m \u001b[38;5;28;01mreturn\u001b[39;00m run_benchmark_scenarii_sequential(input_dir, sensor_placement_strategy, drone_routing_strategy, custom_initialization_parameters_function, custom_step_parameters_function, starting_time, max_n_scenarii, file_format)\n",
      "File \u001b[0;32m~/Desktop/wildfire_drone_routing/code/benchmark.py:104\u001b[0m, in \u001b[0;36mrun_drone_routing_strategy\u001b[0;34m(drone_routing_strategy, sensor_placement_strategy, T, canonical_scenario, automatic_initialization_parameters_function, custom_initialization_parameters_function, custom_step_parameters_function, input_dir)\u001b[0m\n\u001b[1;32m    102\u001b[0m \u001b[38;5;66;03m# 3. Initialize drones\u001b[39;00m\n\u001b[1;32m    103\u001b[0m Routing_Strat \u001b[38;5;241m=\u001b[39m drone_routing_strategy(automatic_initialization_parameters, custom_initialization_parameters)\n\u001b[0;32m--> 104\u001b[0m drones \u001b[38;5;241m=\u001b[39m [Drone(x,y,state,charging_stations_locations,automatic_initialization_parameters[\u001b[38;5;124m\"\u001b[39m\u001b[38;5;124mN\u001b[39m\u001b[38;5;124m\"\u001b[39m],automatic_initialization_parameters[\u001b[38;5;124m\"\u001b[39m\u001b[38;5;124mM\u001b[39m\u001b[38;5;124m\"\u001b[39m], automatic_initialization_parameters[\u001b[38;5;124m\"\u001b[39m\u001b[38;5;124mmax_battery_distance\u001b[39m\u001b[38;5;124m\"\u001b[39m], automatic_initialization_parameters[\u001b[38;5;124m\"\u001b[39m\u001b[38;5;124mmax_battery_time\u001b[39m\u001b[38;5;124m\"\u001b[39m],automatic_initialization_parameters[\u001b[38;5;124m\"\u001b[39m\u001b[38;5;124mmax_battery_distance\u001b[39m\u001b[38;5;124m\"\u001b[39m]\u001b[38;5;241m-\u001b[39m\u001b[38;5;241m1\u001b[39m\u001b[38;5;241m*\u001b[39m(state\u001b[38;5;241m==\u001b[39m\u001b[38;5;124m'\u001b[39m\u001b[38;5;124mfly\u001b[39m\u001b[38;5;124m'\u001b[39m), automatic_initialization_parameters[\u001b[38;5;124m\"\u001b[39m\u001b[38;5;124mmax_battery_time\u001b[39m\u001b[38;5;124m\"\u001b[39m]\u001b[38;5;241m-\u001b[39m\u001b[38;5;241m1\u001b[39m\u001b[38;5;241m*\u001b[39m(state\u001b[38;5;241m==\u001b[39m\u001b[38;5;124m'\u001b[39m\u001b[38;5;124mfly\u001b[39m\u001b[38;5;124m'\u001b[39m)) \u001b[38;5;28;01mfor\u001b[39;00m (state,(x,y)) \u001b[38;5;129;01min\u001b[39;00m Routing_Strat\u001b[38;5;241m.\u001b[39mget_initial_drone_locations()]\n\u001b[1;32m    105\u001b[0m drone_locations \u001b[38;5;241m=\u001b[39m [drone\u001b[38;5;241m.\u001b[39mget_position() \u001b[38;5;28;01mfor\u001b[39;00m drone \u001b[38;5;129;01min\u001b[39;00m drones]\n\u001b[1;32m    106\u001b[0m drone_batteries \u001b[38;5;241m=\u001b[39m [drone\u001b[38;5;241m.\u001b[39mget_battery() \u001b[38;5;28;01mfor\u001b[39;00m drone \u001b[38;5;129;01min\u001b[39;00m drones]\n",
      "File \u001b[0;32m~/Desktop/wildfire_drone_routing/code/benchmark.py:104\u001b[0m, in \u001b[0;36m<listcomp>\u001b[0;34m(.0)\u001b[0m\n\u001b[1;32m    102\u001b[0m \u001b[38;5;66;03m# 3. Initialize drones\u001b[39;00m\n\u001b[1;32m    103\u001b[0m Routing_Strat \u001b[38;5;241m=\u001b[39m drone_routing_strategy(automatic_initialization_parameters, custom_initialization_parameters)\n\u001b[0;32m--> 104\u001b[0m drones \u001b[38;5;241m=\u001b[39m [Drone(x,y,state,charging_stations_locations,automatic_initialization_parameters[\u001b[38;5;124m\"\u001b[39m\u001b[38;5;124mN\u001b[39m\u001b[38;5;124m\"\u001b[39m],automatic_initialization_parameters[\u001b[38;5;124m\"\u001b[39m\u001b[38;5;124mM\u001b[39m\u001b[38;5;124m\"\u001b[39m], automatic_initialization_parameters[\u001b[38;5;124m\"\u001b[39m\u001b[38;5;124mmax_battery_distance\u001b[39m\u001b[38;5;124m\"\u001b[39m], automatic_initialization_parameters[\u001b[38;5;124m\"\u001b[39m\u001b[38;5;124mmax_battery_time\u001b[39m\u001b[38;5;124m\"\u001b[39m],automatic_initialization_parameters[\u001b[38;5;124m\"\u001b[39m\u001b[38;5;124mmax_battery_distance\u001b[39m\u001b[38;5;124m\"\u001b[39m]\u001b[38;5;241m-\u001b[39m\u001b[38;5;241m1\u001b[39m\u001b[38;5;241m*\u001b[39m(state\u001b[38;5;241m==\u001b[39m\u001b[38;5;124m'\u001b[39m\u001b[38;5;124mfly\u001b[39m\u001b[38;5;124m'\u001b[39m), automatic_initialization_parameters[\u001b[38;5;124m\"\u001b[39m\u001b[38;5;124mmax_battery_time\u001b[39m\u001b[38;5;124m\"\u001b[39m]\u001b[38;5;241m-\u001b[39m\u001b[38;5;241m1\u001b[39m\u001b[38;5;241m*\u001b[39m(state\u001b[38;5;241m==\u001b[39m\u001b[38;5;124m'\u001b[39m\u001b[38;5;124mfly\u001b[39m\u001b[38;5;124m'\u001b[39m)) \u001b[38;5;28;01mfor\u001b[39;00m (state,(x,y)) \u001b[38;5;129;01min\u001b[39;00m Routing_Strat\u001b[38;5;241m.\u001b[39mget_initial_drone_locations()]\n\u001b[1;32m    105\u001b[0m drone_locations \u001b[38;5;241m=\u001b[39m [drone\u001b[38;5;241m.\u001b[39mget_position() \u001b[38;5;28;01mfor\u001b[39;00m drone \u001b[38;5;129;01min\u001b[39;00m drones]\n\u001b[1;32m    106\u001b[0m drone_batteries \u001b[38;5;241m=\u001b[39m [drone\u001b[38;5;241m.\u001b[39mget_battery() \u001b[38;5;28;01mfor\u001b[39;00m drone \u001b[38;5;129;01min\u001b[39;00m drones]\n",
      "\u001b[0;31mValueError\u001b[0m: too many values to unpack (expected 2)"
     ]
    },
    {
     "name": "stdout",
     "output_type": "stream",
     "text": [
      "movement_plan: [[(\"charge\", (34, 93)), (\"charge\", (34, 93)), (\"charge\", (58, 97)), (\"charge\", (58, 97)), (\"fly\", (171, 218))], [(\"fly\", (34, 93)), (\"fly\", (34, 93)), (\"fly\", (58, 97)), (\"fly\", (58, 97)), (\"fly\", (171, 217))], [(\"fly\", (34, 93)), (\"fly\", (34, 93)), (\"fly\", (58, 98)), (\"fly\", (58, 98)), (\"fly\", (170, 216))], [(\"fly\", (34, 93)), (\"fly\", (34, 93)), (\"fly\", (58, 98)), (\"fly\", (58, 98)), (\"fly\", (170, 216))], [(\"fly\", (34, 93)), (\"fly\", (34, 93)), (\"fly\", (58, 98)), (\"fly\", (58, 98)), (\"fly\", (170, 216))]]\n"
     ]
    }
   ],
   "source": [
    "def custom_initialization_parameters_function(input_dir: str, layout_name: str = None):\n",
    "    print(f\"input_dir: {input_dir}\")\n",
    "    burnmap_path = f\"{'/'.join(input_dir.strip('/').split('/')[:-1])}/burn_map.npy\"\n",
    "    os.makedirs(\"logs\", exist_ok=True)\n",
    "\n",
    "    return {\n",
    "        \"burnmap_filename\": burnmap_path,\n",
    "        \"reevaluation_step\": 5,\n",
    "        \"optimization_horizon\": 10,\n",
    "        \"strategy_drone\": DroneRoutingOptimizationModelReuseIndex,\n",
    "        \"strategy_sensor\": RandomSensorPlacementStrategy,\n",
    "        \"recompute_logfile\": False\n",
    "    }\n",
    "\n",
    "# Create wrapped class with layout-specific cluster info\n",
    "# Wrap strategy\n",
    "\n",
    "ClusteredStrategyClass = get_wrapped_strategy(\n",
    "    BaseStrategy=DroneRoutingOptimizationModelReuseIndex\n",
    ")\n",
    "LoggedDroneStrategy = wrap_log_drone_strategy(ClusteredStrategyClass)\n",
    "# Run the benchmark and collect metrics\n",
    "print(\"Running benchmarks...\")\n",
    "metrics_by_layout = benchmark_on_sim2real_dataset_precompute(\n",
    "    dataset_folder_name=\"MinimalDataset/\",\n",
    "    ground_placement_strategy=RandomSensorPlacementStrategy,\n",
    "    drone_routing_strategy=LoggedDroneStrategy,\n",
    "    custom_initialization_parameters_function=custom_initialization_parameters_function,\n",
    "    custom_step_parameters_function=return_no_custom_parameters,\n",
    "    max_n_scenarii=100,\n",
    "    starting_time=0\n",
    ")\n"
   ]
  },
  {
   "cell_type": "code",
   "execution_count": null,
   "metadata": {},
   "outputs": [
    {
     "ename": "ImportError",
     "evalue": "cannot import name 'plot_metrics' from 'plot_metrics' (/Users/josephye/Desktop/wildfire_drone_routing/code/plot_metrics.py)",
     "output_type": "error",
     "traceback": [
      "\u001b[0;31m---------------------------------------------------------------------------\u001b[0m",
      "\u001b[0;31mImportError\u001b[0m                               Traceback (most recent call last)",
      "Cell \u001b[0;32mIn[9], line 11\u001b[0m\n\u001b[1;32m      8\u001b[0m     sys\u001b[38;5;241m.\u001b[39mpath\u001b[38;5;241m.\u001b[39mappend(module_path)\n\u001b[1;32m     10\u001b[0m \u001b[38;5;66;03m# Import your plotting modules\u001b[39;00m\n\u001b[0;32m---> 11\u001b[0m \u001b[38;5;28;01mfrom\u001b[39;00m \u001b[38;5;21;01mplot_metrics\u001b[39;00m \u001b[38;5;28;01mimport\u001b[39;00m plot_metrics\n\u001b[1;32m     12\u001b[0m \u001b[38;5;28;01mfrom\u001b[39;00m \u001b[38;5;21;01mplot_violin\u001b[39;00m \u001b[38;5;28;01mimport\u001b[39;00m plot_violin\n",
      "\u001b[0;31mImportError\u001b[0m: cannot import name 'plot_metrics' from 'plot_metrics' (/Users/josephye/Desktop/wildfire_drone_routing/code/plot_metrics.py)"
     ]
    }
   ],
   "source": [
    "from benchmark import benchmark_on_sim2real_dataset_precompute, build_custom_init_params, return_no_custom_parameters\n",
    "from Strategy import RandomSensorPlacementStrategy, DroneRoutingOptimizationExample\n",
    "from plot_metrics import plot_all_metrics_across_layouts\n",
    "from plot_violin import gather_data_from_layouts, plot_violin_for_each_metric\n",
    "\n",
    "# Create output directories\n",
    "os.makedirs(\"plots\", exist_ok=True)\n",
    "os.makedirs(\"plots_violin\", exist_ok=True)\n",
    "\n",
    "# --- Step 2: Generate line plots per layout ---\n",
    "plot_all_metrics_across_layouts(\n",
    "    root_folder=\"MinimalDataset\",\n",
    "    sensor_strategy_cls=RandomSensorPlacementStrategy,\n",
    "    drone_strategy_cls=DroneRoutingOptimizationExample,\n",
    "    max_n_scenarii=100,\n",
    "    starting_time=0\n",
    ")\n",
    "\n",
    "# --- Step 3: Generate violin plots across strategies (optional but useful for comparison) ---\n",
    "from Strategy import RandomDroneRoutingStrategy, LoggedSensorPlacementStrategy, LoggedDroneRoutingStrategy\n",
    "\n",
    "STRATEGIES = [\n",
    "    (\"Random\", RandomSensorPlacementStrategy, RandomDroneRoutingStrategy),\n",
    "    (\"Logged\", LoggedSensorPlacementStrategy, LoggedDroneRoutingStrategy),\n",
    "    (\"Optimized\", RandomSensorPlacementStrategy, DroneRoutingOptimizationExample)\n",
    "]\n",
    "\n",
    "df_all = gather_data_from_layouts(\n",
    "    root_folder=\"MinimalDataset\",\n",
    "    strategies=STRATEGIES,\n",
    "    custom_init_params_fn=build_custom_init_params,\n",
    "    custom_step_params_fn=return_no_custom_parameters,\n",
    "    starting_time=0,\n",
    "    max_n_scenarii=100\n",
    ")\n",
    "\n",
    "if not df_all.empty:\n",
    "    plot_violin_for_each_metric(df_all, output_dir=\"plots_violin\")"
   ]
  },
  {
   "cell_type": "code",
   "execution_count": null,
   "metadata": {},
   "outputs": [],
   "source": [
    "create_scenario_video(scenario[:len(position_history)],drone_locations_history=position_history,starting_time=0,out_filename='test_simulation', ground_sensor_locations = ground, charging_stations_locations = charging)"
   ]
  },
  {
   "cell_type": "markdown",
   "metadata": {},
   "source": [
    "We can visualize the strategy in action by creating a video of the scenario. \n",
    "1. Use the `return_history` parameter or `run_benchmark_scenario` to output the log of ground sensor and drone positions during the benchmark\n",
    "2. Use the `create_scenario_video` function to compile the video. This can take a couple seconds"
   ]
  },
  {
   "cell_type": "code",
   "execution_count": null,
   "metadata": {},
   "outputs": [],
   "source": [
    "delta , device , (position_history, ground, charging)  = run_benchmark_scenario(scenario, SensorPlacementOptimization, RandomDroneRoutingStrategy, custom_initialization_parameters = {\"burnmap_filename\": \"./WideDataset/0001/burn_map.npy\"}, custom_step_parameters_function = return_no_custom_parameters, automatic_initialization_parameters_function=my_automatic_layout_parameters, return_history=True)\n",
    "create_scenario_video(scenario[:len(position_history)],drone_locations_history=position_history,starting_time=0,out_filename='test_simulation', ground_sensor_locations = ground, charging_stations_locations = charging)"
   ]
  },
  {
   "cell_type": "markdown",
   "metadata": {},
   "source": [
    "Instead of running a benchmark on a single scenario, we are interested in running the benchmark on all scenarii of a given layout (potentially in parallel!)\n",
    "\n",
    "1. We use `run_benchmark_scenarii_sequential`"
   ]
  },
  {
   "cell_type": "code",
   "execution_count": null,
   "metadata": {},
   "outputs": [],
   "source": [
    "run_benchmark_scenarii_sequential(\"MinimalDataset/0001/scenarii/\", RandomSensorPlacementStrategy, RandomDroneRoutingStrategy, custom_initialization_parameters_function = get_burnmap_parameters, custom_step_parameters_function = return_no_custom_parameters, starting_time=0, max_n_scenarii=3)\n",
    "run_benchmark_scenarii_sequential(\"MinimalDataset/0001/Satellite_Images_Mask/\", RandomSensorPlacementStrategy, RandomDroneRoutingStrategy, custom_initialization_parameters_function = get_burnmap_parameters, custom_step_parameters_function = return_no_custom_parameters, starting_time=0, max_n_scenarii=3, file_format=\"jpg\")"
   ]
  },
  {
   "cell_type": "markdown",
   "metadata": {},
   "source": [
    "On all of the dataset!"
   ]
  },
  {
   "cell_type": "code",
   "execution_count": null,
   "metadata": {},
   "outputs": [],
   "source": [
    "benchmark_on_sim2real_dataset(\"WideDataset/\", SensorPlacementStrategy, DroneRoutingStrategy, custom_initialization_parameters_function = lambda x: None, custom_step_parameters_function = return_no_custom_parameters, max_n_scenarii=100, starting_time=0)"
   ]
  },
  {
   "cell_type": "code",
   "execution_count": null,
   "metadata": {},
   "outputs": [],
   "source": [
    "# That's very fast to run!\n",
    "time_start = time.time()\n",
    "scenario = load_scenario_npy(\"WideDataset/0001/scenarii/0001_00002.npy\")\n",
    "device, delta_t, _ = run_benchmark_scenario(scenario, RandomSensorPlacementStrategy, DroneRoutingOptimizationSlow, custom_initialization_parameters = {\"burnmap_filename\": \"./WideDataset/0001/burn_map.npy\", \"call_every_n_steps\": 5, \"optimization_horizon\": 10}, custom_step_parameters_function = return_no_custom_parameters, automatic_initialization_parameters_function=my_automatic_layout_parameters, return_history=True)\n",
    "print(\"Fire detected in \", delta_t, \"time steps by device: \", device)\n",
    "print(f\"Time taken to run benchmark on the scenario: {time.time() - time_start} seconds\")\n"
   ]
  },
  {
   "cell_type": "markdown",
   "metadata": {},
   "source": []
  },
  {
   "cell_type": "code",
   "execution_count": null,
   "metadata": {},
   "outputs": [],
   "source": [
    "# define function to get parameters for optimal drone routing strategy\n",
    "# def get_routing_optimization_parameters(input_dir:str):\n",
    "#     return {\n",
    "#         \"burnmap_filename\": f\"{input_dir}/burn_map.npy\",\n",
    "#         \"call_every_n_steps\": 5,\n",
    "#         \"optimization_horizon\": 10\n",
    "#     }\n",
    "\n",
    "# add the log\n"
   ]
  },
  {
   "cell_type": "code",
   "execution_count": null,
   "metadata": {},
   "outputs": [],
   "source": []
  }
 ],
 "metadata": {
  "kernelspec": {
   "display_name": "Python 3",
   "language": "python",
   "name": "python3"
  },
  "language_info": {
   "codemirror_mode": {
    "name": "ipython",
    "version": 3
   },
   "file_extension": ".py",
   "mimetype": "text/x-python",
   "name": "python",
   "nbconvert_exporter": "python",
   "pygments_lexer": "ipython3",
   "version": "3.10.7"
  }
 },
 "nbformat": 4,
 "nbformat_minor": 2
}
