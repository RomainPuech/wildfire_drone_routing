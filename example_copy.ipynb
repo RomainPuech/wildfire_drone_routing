{
 "cells": [
  {
   "cell_type": "markdown",
   "metadata": {},
   "source": [
    "## Preprocess the Sim2Real dataset\n",
    "\n",
    "The Sim2Real dataset uses jpeg images to represent wildfire masks. This representation is very lightweight but slow to work with. \n",
    "To benchmark faster, we convert them to binary NumPy files. These files are ~100 times heavier and it requires an overhead time to convert from jpeg to them, but once they are created and stored, they allow 50--100x faster operations.\n",
    "\n",
    "1. Download the dataset from [Sim2Real-Fire GitHub repository](https://github.com/TJU-IDVLab/Sim2Real-Fire).\n",
    "2. Extract all files from the dataset into your `Dataset` folder\n",
    "3. Run the preprocessing function to convert from the jpeg representation to the NumPy one, and compute burn maps"
   ]
  },
  {
   "cell_type": "code",
   "execution_count": 1,
   "metadata": {},
   "outputs": [
    {
     "name": "stdout",
     "output_type": "stream",
     "text": [
      "Requirement already satisfied: numpy in /Library/Frameworks/Python.framework/Versions/3.12/lib/python3.12/site-packages (from -r requirements.txt (line 1)) (1.26.4)\n",
      "Requirement already satisfied: opencv-python in /Library/Frameworks/Python.framework/Versions/3.12/lib/python3.12/site-packages (from -r requirements.txt (line 2)) (4.11.0.86)\n",
      "Requirement already satisfied: matplotlib in /Library/Frameworks/Python.framework/Versions/3.12/lib/python3.12/site-packages (from -r requirements.txt (line 3)) (3.9.0)\n",
      "Requirement already satisfied: tqdm in /Library/Frameworks/Python.framework/Versions/3.12/lib/python3.12/site-packages (from -r requirements.txt (line 4)) (4.67.1)\n",
      "Requirement already satisfied: contourpy>=1.0.1 in /Library/Frameworks/Python.framework/Versions/3.12/lib/python3.12/site-packages (from matplotlib->-r requirements.txt (line 3)) (1.2.1)\n",
      "Requirement already satisfied: cycler>=0.10 in /Library/Frameworks/Python.framework/Versions/3.12/lib/python3.12/site-packages (from matplotlib->-r requirements.txt (line 3)) (0.12.1)\n",
      "Requirement already satisfied: fonttools>=4.22.0 in /Library/Frameworks/Python.framework/Versions/3.12/lib/python3.12/site-packages (from matplotlib->-r requirements.txt (line 3)) (4.51.0)\n",
      "Requirement already satisfied: kiwisolver>=1.3.1 in /Library/Frameworks/Python.framework/Versions/3.12/lib/python3.12/site-packages (from matplotlib->-r requirements.txt (line 3)) (1.4.5)\n",
      "Requirement already satisfied: packaging>=20.0 in /Library/Frameworks/Python.framework/Versions/3.12/lib/python3.12/site-packages (from matplotlib->-r requirements.txt (line 3)) (24.0)\n",
      "Requirement already satisfied: pillow>=8 in /Library/Frameworks/Python.framework/Versions/3.12/lib/python3.12/site-packages (from matplotlib->-r requirements.txt (line 3)) (10.3.0)\n",
      "Requirement already satisfied: pyparsing>=2.3.1 in /Library/Frameworks/Python.framework/Versions/3.12/lib/python3.12/site-packages (from matplotlib->-r requirements.txt (line 3)) (3.1.2)\n",
      "Requirement already satisfied: python-dateutil>=2.7 in /Library/Frameworks/Python.framework/Versions/3.12/lib/python3.12/site-packages (from matplotlib->-r requirements.txt (line 3)) (2.9.0.post0)\n",
      "Requirement already satisfied: six>=1.5 in /Library/Frameworks/Python.framework/Versions/3.12/lib/python3.12/site-packages (from python-dateutil>=2.7->matplotlib->-r requirements.txt (line 3)) (1.16.0)\n",
      "Note: you may need to restart the kernel to use updated packages.\n"
     ]
    }
   ],
   "source": [
    "pip install -r requirements.txt"
   ]
  },
  {
   "cell_type": "code",
   "execution_count": 2,
   "metadata": {},
   "outputs": [],
   "source": [
    "# import required modules\n",
    "import sys\n",
    "import os\n",
    "import time\n",
    "\n",
    "# Add code to path\n",
    "module_path = os.path.abspath(\".\") + \"/code\"\n",
    "if module_path not in sys.path:\n",
    "    sys.path.append(module_path)\n",
    "\n",
    "from dataset import preprocess_sim2real_dataset, load_scenario_npy\n",
    "from Strategy import SensorPlacementStrategy, DroneRoutingStrategy, return_no_custom_parameters\n",
    "from benchmark import run_benchmark_scenario,run_benchmark_scenarii_sequential #benchmark_on_sim2real_dataset\n",
    "from displays import create_scenario_video"
   ]
  },
  {
   "cell_type": "code",
   "execution_count": 5,
   "metadata": {},
   "outputs": [
    {
     "name": "stdout",
     "output_type": "stream",
     "text": [
      "Converting JPG scenarios to NPY for Dataset/\n"
     ]
    },
    {
     "name": "stderr",
     "output_type": "stream",
     "text": [
      "100it [00:40,  2.49it/s]\n",
      "100it [00:29,  3.39it/s]\n",
      "100it [00:26,  3.74it/s]\n"
     ]
    },
    {
     "name": "stdout",
     "output_type": "stream",
     "text": [
      "Computing burn maps...\n",
      "Computing burn map for Dataset/0012_02094/scenarii/ and files with extension .npy\n"
     ]
    },
    {
     "name": "stderr",
     "output_type": "stream",
     "text": [
      "100%|██████████| 34/34 [00:00<00:00, 35.30it/s]\n"
     ]
    },
    {
     "name": "stdout",
     "output_type": "stream",
     "text": [
      "Computing burn map for Dataset/0004_01191/scenarii/ and files with extension .npy\n"
     ]
    },
    {
     "name": "stderr",
     "output_type": "stream",
     "text": [
      "100%|██████████| 52/52 [00:01<00:00, 37.20it/s]\n"
     ]
    },
    {
     "name": "stdout",
     "output_type": "stream",
     "text": [
      "Computing burn map for Dataset/0002/scenarii/ and files with extension .npy\n"
     ]
    },
    {
     "name": "stderr",
     "output_type": "stream",
     "text": [
      "100%|██████████| 100/100 [00:01<00:00, 71.57it/s]\n"
     ]
    },
    {
     "name": "stdout",
     "output_type": "stream",
     "text": [
      "Computing burn map for Dataset/0003_01715/scenarii/ and files with extension .npy\n"
     ]
    },
    {
     "name": "stderr",
     "output_type": "stream",
     "text": [
      "100%|██████████| 100/100 [00:01<00:00, 66.34it/s]\n"
     ]
    },
    {
     "name": "stdout",
     "output_type": "stream",
     "text": [
      "Computing burn map for Dataset/0005_00725/scenarii/ and files with extension .npy\n"
     ]
    },
    {
     "name": "stderr",
     "output_type": "stream",
     "text": [
      "100%|██████████| 100/100 [00:01<00:00, 81.69it/s]\n"
     ]
    },
    {
     "name": "stdout",
     "output_type": "stream",
     "text": [
      "Computing burn map for Dataset/0001/scenarii/ and files with extension .npy\n"
     ]
    },
    {
     "name": "stderr",
     "output_type": "stream",
     "text": [
      "100%|██████████| 100/100 [00:00<00:00, 222.54it/s]\n"
     ]
    }
   ],
   "source": [
    "# n_max_scenarii_per_layout controls the number of scenarios we convert from jpeg to NumPy files for each layout.\n",
    "# REQUIRES 400 GB of STOCKAGE and ~15 mins\n",
    "preprocess_sim2real_dataset(\"Dataset/\", n_max_scenarii_per_layout=100) "
   ]
  },
  {
   "cell_type": "markdown",
   "metadata": {},
   "source": [
    "We can now run the benchmark function on any scenario.\n",
    "1. We load the scenario using `load_scenario_npy` since it is in preprocessed `npy` format\n",
    "2. Werun the benchmark using `run_benchmark_scenario` that takes as input:\n",
    "    - The `scenario`, \n",
    "    - The sensor placement strategy and the drone routing strategy\n",
    "    - A dictionary `custom_initialization_parameters` that contains any custom initialization inputs for your strategy functions (such as the burn map if your strategy needs a burn map as input)\n",
    "    - A python function `custom_step_parameters_function` that returns a dictionary of custom inputs for your routing function. This function is executed by the benchmarking code at each time step. Your routing function will be called with: `routing(custom_step_parameters_function())` internally"
   ]
  },
  {
   "cell_type": "code",
   "execution_count": 6,
   "metadata": {},
   "outputs": [
    {
     "name": "stdout",
     "output_type": "stream",
     "text": [
      "Fire detected in  drone time steps by device:  15\n",
      "Time taken to run benchmark on the scenario: 0.008838176727294922 seconds\n"
     ]
    }
   ],
   "source": [
    "# That's very fast to run!\n",
    "time_start = time.time()\n",
    "scenario = load_scenario_npy(\"Dataset/0002/scenarii/0002_00010.npy\")\n",
    "device, delta_t, _ = run_benchmark_scenario(scenario, SensorPlacementStrategy, DroneRoutingStrategy, custom_initialization_parameters = None, custom_step_parameters_function = return_no_custom_parameters)\n",
    "print(\"Fire detected in \", delta_t, \"time steps by device: \", device)\n",
    "print(f\"Time taken to run benchmark on the scenario: {time.time() - time_start} seconds\")\n"
   ]
  },
  {
   "cell_type": "markdown",
   "metadata": {},
   "source": [
    "We can visualize the strategy in action by creating a video of the scenario. \n",
    "1. Use the `return_history` parameter or `run_benchmark_scenario` to output the log of ground sensor and drone positions during the benchmark\n",
    "2. Use the `create_scenario_video` function to compile the video. This can take a couple seconds"
   ]
  },
  {
   "cell_type": "code",
   "execution_count": 7,
   "metadata": {},
   "outputs": [
    {
     "name": "stdout",
     "output_type": "stream",
     "text": [
      "Video saved at: display_test_simulation/test_simulation.mp4\n"
     ]
    }
   ],
   "source": [
    "delta , device , (position_history, ground, charging)  = run_benchmark_scenario(scenario, SensorPlacementStrategy, DroneRoutingStrategy, custom_initialization_parameters = None, custom_step_parameters_function = return_no_custom_parameters, return_history=True)\n",
    "create_scenario_video(scenario[:len(position_history)],drone_locations_history=position_history,starting_time=0,out_filename='test_simulation', ground_sensor_locations = ground, charging_stations_locations = charging)"
   ]
  },
  {
   "cell_type": "markdown",
   "metadata": {},
   "source": [
    "Instead of running a benchmark on a single scenario, we are interested in running the benchmark on all scenarii of a given layout (potentially in parallel!)\n",
    "\n",
    "1. We use `run_benchmark_scenarii_sequential`"
   ]
  },
  {
   "cell_type": "code",
   "execution_count": 13,
   "metadata": {},
   "outputs": [],
   "source": [
    "class SensorPlacementStrategy(): # ----- D: change to SensorPlacementStrategyRandom\n",
    "    def __init__(self, automatic_initialization_parameters:dict, custom_initialization_parameters:dict):\n",
    "        \"\"\"\n",
    "        Initialize the ground placement strategy using random placement.\n",
    "        \n",
    "        Args:\n",
    "            automatic_initialization_parameters: dict with keys:\n",
    "                \"N\": Grid height\n",
    "                \"M\": Grid width\n",
    "                \"max_battery_distance\": int\n",
    "                \"max_battery_time\": int\n",
    "                \"n_drones\": int\n",
    "                \"n_ground_stations\": Target number of ground stations\n",
    "                \"n_charging_stations\": Target number of charging stations\n",
    "                \"ground_sensor_locations\": list of tuples (x,y)\n",
    "            custom_initialization_parameters: dict\n",
    "        Returns:\n",
    "            ground_sensor_locations: list of tuples (x,y)\n",
    "            charging_station_locations: list of tuples (x,y)\n",
    "        \"\"\"\n",
    "        # Generate random positions using list comprehensions\n",
    "        # YOUR CODE HERE\n",
    "        self.ground_sensor_locations = [(random.randint(0, automatic_initialization_parameters[\"N\"]-1), \n",
    "                                       random.randint(0, automatic_initialization_parameters[\"M\"]-1)) \n",
    "                                      for _ in range(automatic_initialization_parameters[\"n_ground_stations\"])]\n",
    "        \n",
    "        self.charging_station_locations = [(random.randint(0, automatic_initialization_parameters[\"N\"]-1), \n",
    "                                          random.randint(0, automatic_initialization_parameters[\"M\"]-1)) \n",
    "                                         for _ in range(automatic_initialization_parameters[\"n_charging_stations\"])]\n",
    "\n",
    "    def get_locations(self):\n",
    "        \"\"\"\n",
    "        Returns the locations of the ground sensors and charging stations\n",
    "        \"\"\"\n",
    "        # Do not overwrite this function\n",
    "        return self.ground_sensor_locations, self.charging_station_locations\n",
    "\n",
    "class SensorPlacementOptimization(SensorPlacementStrategy):\n",
    "    def __init__(self, automatic_initialization_parameters:dict, custom_initialization_parameters:dict):\n",
    "        \"\"\"\n",
    "        Initialize the ground placement strategy using Julia's optimization model.\n",
    "        \n",
    "        Args:\n",
    "            automatic_initialization_parameters: dict with keys:\n",
    "                \"n_ground_stations\": Target number of ground stations\n",
    "                \"n_charging_stations\": Target number of charging stations\n",
    "                \"N\": Grid height\n",
    "                \"M\": Grid width\n",
    "            custom_initialization_parameters: dict with keys:\n",
    "                \"risk_pertime_dir\": Directory containing burn map files\n",
    "        \"\"\"\n",
    "        # Initialize empty lists (skip parent's random initialization)\n",
    "        self.ground_sensor_locations = []\n",
    "        self.charging_station_locations = []\n",
    "\n",
    "        if \"risk_pertime_dir\" not in custom_initialization_parameters:\n",
    "            raise ValueError(\"risk_pertime_dir is not defined\")\n",
    "\n",
    "        if not custom_initialization_parameters[\"risk_pertime_dir\"].endswith(\"/\"):\n",
    "            custom_initialization_parameters[\"risk_pertime_dir\"] += \"/\"\n",
    "        # Load the Julia module and function\n",
    "        # jl.include(\"julia/ground_charging_opt.jl\") # Done in julia_caller\n",
    "        \n",
    "        # Call the Julia optimization function\n",
    "        x_vars, y_vars = jl.ground_charging_opt_model_grid(custom_initialization_parameters[\"risk_pertime_dir\"], automatic_initialization_parameters[\"n_ground_stations\"], automatic_initialization_parameters[\"n_charging_stations\"]) # ----- D: why is N,M gridsize not an input?\n",
    "        # save the result in a json file\n",
    "        with open(custom_initialization_parameters[\"risk_pertime_dir\"][:-1] + \"_ground_sensor_locations.json\", \"w\") as f:\n",
    "            json.dump(x_vars, f)\n",
    "        with open(custom_initialization_parameters[\"risk_pertime_dir\"][:-1] + \"_charging_station_locations.json\", \"w\") as f:\n",
    "            json.dump(y_vars, f)\n",
    "        \n",
    "        self.ground_sensor_locations = list(x_vars)\n",
    "        self.charging_station_locations = list(y_vars)\n"
   ]
  },
  {
   "cell_type": "code",
   "execution_count": 14,
   "metadata": {},
   "outputs": [
    {
     "name": "stderr",
     "output_type": "stream",
     "text": [
      "  0%|          | 0/100 [00:00<?, ?it/s]\n"
     ]
    },
    {
     "ename": "TypeError",
     "evalue": "argument of type 'NoneType' is not iterable",
     "output_type": "error",
     "traceback": [
      "\u001b[0;31m---------------------------------------------------------------------------\u001b[0m",
      "\u001b[0;31mTypeError\u001b[0m                                 Traceback (most recent call last)",
      "Cell \u001b[0;32mIn[14], line 1\u001b[0m\n\u001b[0;32m----> 1\u001b[0m \u001b[43mrun_benchmark_scenarii_sequential\u001b[49m\u001b[43m(\u001b[49m\u001b[38;5;124;43m\"\u001b[39;49m\u001b[38;5;124;43mDataset/0002/scenarii/\u001b[39;49m\u001b[38;5;124;43m\"\u001b[39;49m\u001b[43m,\u001b[49m\u001b[43m \u001b[49m\u001b[43mSensorPlacementOptimization\u001b[49m\u001b[43m,\u001b[49m\u001b[43m \u001b[49m\u001b[43mDroneRoutingStrategy\u001b[49m\u001b[43m,\u001b[49m\u001b[43m \u001b[49m\u001b[43mcustom_initialization_parameters_function\u001b[49m\u001b[43m \u001b[49m\u001b[38;5;241;43m=\u001b[39;49m\u001b[43m \u001b[49m\u001b[38;5;28;43;01mlambda\u001b[39;49;00m\u001b[43m \u001b[49m\u001b[43mx\u001b[49m\u001b[43m:\u001b[49m\u001b[43m \u001b[49m\u001b[38;5;28;43;01mNone\u001b[39;49;00m\u001b[43m,\u001b[49m\u001b[43m \u001b[49m\u001b[43mcustom_step_parameters_function\u001b[49m\u001b[43m \u001b[49m\u001b[38;5;241;43m=\u001b[39;49m\u001b[43m \u001b[49m\u001b[43mreturn_no_custom_parameters\u001b[49m\u001b[43m,\u001b[49m\u001b[43m \u001b[49m\u001b[43mstarting_time\u001b[49m\u001b[38;5;241;43m=\u001b[39;49m\u001b[38;5;241;43m0\u001b[39;49m\u001b[43m,\u001b[49m\u001b[43m \u001b[49m\u001b[43mmax_n_scenarii\u001b[49m\u001b[38;5;241;43m=\u001b[39;49m\u001b[38;5;241;43m100\u001b[39;49m\u001b[43m)\u001b[49m\n",
      "File \u001b[0;32m~/Documents/GitHub/wildfire_drone_routing/code/benchmark.py:260\u001b[0m, in \u001b[0;36mrun_benchmark_scenarii_sequential\u001b[0;34m(input_dir, sensor_placement_strategy, drone_routing_strategy, custom_initialization_parameters_function, custom_step_parameters_function, starting_time, max_n_scenarii)\u001b[0m\n\u001b[1;32m    258\u001b[0m     \u001b[38;5;28;01mif\u001b[39;00m custom_initialization_parameters_function \u001b[38;5;129;01mis\u001b[39;00m \u001b[38;5;129;01mnot\u001b[39;00m \u001b[38;5;28;01mNone\u001b[39;00m:\n\u001b[1;32m    259\u001b[0m         custom_initialization_parameters \u001b[38;5;241m=\u001b[39m custom_initialization_parameters_function(file)\n\u001b[0;32m--> 260\u001b[0m delta_t, device, _ \u001b[38;5;241m=\u001b[39m \u001b[43mrun_benchmark_scenario\u001b[49m\u001b[43m(\u001b[49m\u001b[43mscenario\u001b[49m\u001b[43m,\u001b[49m\u001b[43m \u001b[49m\n\u001b[1;32m    261\u001b[0m \u001b[43m                                            \u001b[49m\u001b[43msensor_placement_strategy\u001b[49m\u001b[43m,\u001b[49m\u001b[43m \u001b[49m\n\u001b[1;32m    262\u001b[0m \u001b[43m                                            \u001b[49m\u001b[43mdrone_routing_strategy\u001b[49m\u001b[43m,\u001b[49m\u001b[43m \u001b[49m\n\u001b[1;32m    263\u001b[0m \u001b[43m                                            \u001b[49m\u001b[43mcustom_initialization_parameters\u001b[49m\u001b[43m,\u001b[49m\n\u001b[1;32m    264\u001b[0m \u001b[43m                                            \u001b[49m\u001b[43mcustom_step_parameters_function\u001b[49m\u001b[43m,\u001b[49m\u001b[43m \u001b[49m\u001b[43mstarting_time\u001b[49m\u001b[38;5;241;43m=\u001b[39;49m\u001b[43mstarting_time\u001b[49m\u001b[43m)\u001b[49m\n\u001b[1;32m    266\u001b[0m \u001b[38;5;28;01mif\u001b[39;00m delta_t \u001b[38;5;241m==\u001b[39m \u001b[38;5;241m-\u001b[39m\u001b[38;5;241m1\u001b[39m:\n\u001b[1;32m    267\u001b[0m     fails \u001b[38;5;241m+\u001b[39m\u001b[38;5;241m=\u001b[39m \u001b[38;5;241m1\u001b[39m\n",
      "File \u001b[0;32m~/Documents/GitHub/wildfire_drone_routing/code/benchmark.py:52\u001b[0m, in \u001b[0;36mrun_benchmark_scenario\u001b[0;34m(scenario, sensor_placement_strategy, drone_routing_strategy, custom_initialization_parameters, custom_step_parameters_function, starting_time, return_history, custom_initialization_parameters_function)\u001b[0m\n\u001b[1;32m     46\u001b[0m     custom_initialization_parameters \u001b[38;5;241m=\u001b[39m custom_initialization_parameters_function(automatic_initialization_parameters)\n\u001b[1;32m     48\u001b[0m \u001b[38;5;66;03m# print(f\"custom_initialization_parameters: {custom_initialization_parameters}\")\u001b[39;00m\n\u001b[1;32m     49\u001b[0m \u001b[38;5;66;03m# print(f\"automatic_initialization_parameters: {automatic_initialization_parameters}\")\u001b[39;00m\n\u001b[1;32m     50\u001b[0m \n\u001b[1;32m     51\u001b[0m \u001b[38;5;66;03m# 2. Get ground sensor locations\u001b[39;00m\n\u001b[0;32m---> 52\u001b[0m ground_sensor_locations, charging_stations_locations \u001b[38;5;241m=\u001b[39m  \u001b[43msensor_placement_strategy\u001b[49m\u001b[43m(\u001b[49m\u001b[43mautomatic_initialization_parameters\u001b[49m\u001b[43m,\u001b[49m\u001b[43m \u001b[49m\u001b[43mcustom_initialization_parameters\u001b[49m\u001b[43m)\u001b[49m\u001b[38;5;241m.\u001b[39mget_locations()\n\u001b[1;32m     53\u001b[0m rows_ground, cols_ground \u001b[38;5;241m=\u001b[39m \u001b[38;5;28mzip\u001b[39m(\u001b[38;5;241m*\u001b[39mground_sensor_locations)\n\u001b[1;32m     54\u001b[0m rows_charging, cols_charging \u001b[38;5;241m=\u001b[39m \u001b[38;5;28mzip\u001b[39m(\u001b[38;5;241m*\u001b[39mcharging_stations_locations)\n",
      "Cell \u001b[0;32mIn[13], line 56\u001b[0m, in \u001b[0;36mSensorPlacementOptimization.__init__\u001b[0;34m(self, automatic_initialization_parameters, custom_initialization_parameters)\u001b[0m\n\u001b[1;32m     53\u001b[0m \u001b[38;5;28mself\u001b[39m\u001b[38;5;241m.\u001b[39mground_sensor_locations \u001b[38;5;241m=\u001b[39m []\n\u001b[1;32m     54\u001b[0m \u001b[38;5;28mself\u001b[39m\u001b[38;5;241m.\u001b[39mcharging_station_locations \u001b[38;5;241m=\u001b[39m []\n\u001b[0;32m---> 56\u001b[0m \u001b[38;5;28;01mif\u001b[39;00m \u001b[38;5;124;43m\"\u001b[39;49m\u001b[38;5;124;43mrisk_pertime_dir\u001b[39;49m\u001b[38;5;124;43m\"\u001b[39;49m\u001b[43m \u001b[49m\u001b[38;5;129;43;01mnot\u001b[39;49;00m\u001b[43m \u001b[49m\u001b[38;5;129;43;01min\u001b[39;49;00m\u001b[43m \u001b[49m\u001b[43mcustom_initialization_parameters\u001b[49m:\n\u001b[1;32m     57\u001b[0m     \u001b[38;5;28;01mraise\u001b[39;00m \u001b[38;5;167;01mValueError\u001b[39;00m(\u001b[38;5;124m\"\u001b[39m\u001b[38;5;124mrisk_pertime_dir is not defined\u001b[39m\u001b[38;5;124m\"\u001b[39m)\n\u001b[1;32m     59\u001b[0m \u001b[38;5;28;01mif\u001b[39;00m \u001b[38;5;129;01mnot\u001b[39;00m custom_initialization_parameters[\u001b[38;5;124m\"\u001b[39m\u001b[38;5;124mrisk_pertime_dir\u001b[39m\u001b[38;5;124m\"\u001b[39m]\u001b[38;5;241m.\u001b[39mendswith(\u001b[38;5;124m\"\u001b[39m\u001b[38;5;124m/\u001b[39m\u001b[38;5;124m\"\u001b[39m):\n",
      "\u001b[0;31mTypeError\u001b[0m: argument of type 'NoneType' is not iterable"
     ]
    }
   ],
   "source": [
    "run_benchmark_scenarii_sequential(\"Dataset/0002/scenarii/\", SensorPlacementOptimization, DroneRoutingStrategy, custom_initialization_parameters_function = lambda x: None, custom_step_parameters_function = return_no_custom_parameters, starting_time=0, max_n_scenarii=100)"
   ]
  },
  {
   "cell_type": "markdown",
   "metadata": {},
   "source": [
    "On all of the dataset!"
   ]
  },
  {
   "cell_type": "code",
   "execution_count": 10,
   "metadata": {},
   "outputs": [],
   "source": [
    "def benchmark_on_sim2real_dataset(dataset_folder_name, ground_placement_strategy, drone_routing_strategy, custom_initialization_parameters_function, custom_step_parameters_function, max_n_scenarii=None, starting_time=0):\n",
    "    \"\"\"\n",
    "    Run benchmarks on a simulation-to-real-world dataset structure.\n",
    "\n",
    "    Args:\n",
    "        dataset_folder_name (str): Root folder containing layout folders with scenario data.\n",
    "        ground_placement_strategy (function): Strategy for placing ground sensors and charging stations.\n",
    "        drone_routing_strategy (function): Strategy for controlling drone movements.\n",
    "        ground_parameters (tuple): Parameters for ground placement strategy.\n",
    "        routing_parameters (tuple): Parameters for routing strategy.\n",
    "        max_n_scenarii (int, optional): Maximum number of scenarios to process per layout. If None, processes all scenarios.\n",
    "        starting_time (int, optional): Time step at which the wildfire starts.\n",
    "    \"\"\"\n",
    "    if not dataset_folder_name.endswith('/'):\n",
    "        dataset_folder_name += '/'\n",
    "    \n",
    "    for layout_folder in os.listdir(dataset_folder_name):\n",
    "        if not os.path.exists(dataset_folder_name + layout_folder + \"/scenarii/\"):continue\n",
    "        run_benchmark_scenarii_sequential(dataset_folder_name + layout_folder + \"/scenarii/\",\n",
    "                                          ground_placement_strategy, \n",
    "                                          drone_routing_strategy, \n",
    "                                          custom_initialization_parameters_function, \n",
    "                                          custom_step_parameters_function, \n",
    "                                          starting_time=starting_time, \n",
    "                                          max_n_scenarii=max_n_scenarii)"
   ]
  },
  {
   "cell_type": "code",
   "execution_count": 11,
   "metadata": {},
   "outputs": [
    {
     "name": "stderr",
     "output_type": "stream",
     "text": [
      " 34%|███▍      | 34/100 [00:00<00:01, 63.98it/s]\n"
     ]
    },
    {
     "name": "stdout",
     "output_type": "stream",
     "text": [
      "This strategy took on average 2.6363636363636362 time steps to find the fire.\n",
      "Fire found 13.0% of the time by ground sensor\n",
      "Fire found 12.0% of the time by charging station\n",
      "Fire found 8.0% of the time by drone\n",
      "Fire found 1.0% of the time by undetected\n"
     ]
    },
    {
     "name": "stderr",
     "output_type": "stream",
     "text": [
      " 52%|█████▏    | 52/100 [00:00<00:00, 54.51it/s]\n"
     ]
    },
    {
     "name": "stdout",
     "output_type": "stream",
     "text": [
      "This strategy took on average 3.7604166666666665 time steps to find the fire.\n",
      "Fire found 22.0% of the time by ground sensor\n",
      "Fire found 14.0% of the time by charging station\n",
      "Fire found 12.0% of the time by drone\n",
      "Fire found 4.0% of the time by undetected\n"
     ]
    },
    {
     "name": "stderr",
     "output_type": "stream",
     "text": [
      "100%|██████████| 100/100 [00:00<00:00, 216.27it/s]\n"
     ]
    },
    {
     "name": "stdout",
     "output_type": "stream",
     "text": [
      "This strategy took on average 8.505050505050505 time steps to find the fire.\n",
      "Fire found 37.0% of the time by ground sensor\n",
      "Fire found 28.0% of the time by charging station\n",
      "Fire found 34.0% of the time by drone\n",
      "Fire found 1.0% of the time by undetected\n"
     ]
    },
    {
     "name": "stderr",
     "output_type": "stream",
     "text": [
      "100%|██████████| 100/100 [00:01<00:00, 71.68it/s]\n"
     ]
    },
    {
     "name": "stdout",
     "output_type": "stream",
     "text": [
      "This strategy took on average 26.703296703296704 time steps to find the fire.\n",
      "Fire found 28.0% of the time by ground sensor\n",
      "Fire found 19.0% of the time by charging station\n",
      "Fire found 44.0% of the time by drone\n",
      "Fire found 9.0% of the time by undetected\n"
     ]
    },
    {
     "name": "stderr",
     "output_type": "stream",
     "text": [
      "100%|██████████| 100/100 [00:01<00:00, 87.65it/s]\n"
     ]
    },
    {
     "name": "stdout",
     "output_type": "stream",
     "text": [
      "This strategy took on average 19.96511627906977 time steps to find the fire.\n",
      "Fire found 34.0% of the time by ground sensor\n",
      "Fire found 16.0% of the time by charging station\n",
      "Fire found 36.0% of the time by drone\n",
      "Fire found 14.0% of the time by undetected\n"
     ]
    },
    {
     "name": "stderr",
     "output_type": "stream",
     "text": [
      "100%|██████████| 100/100 [00:00<00:00, 252.55it/s]"
     ]
    },
    {
     "name": "stdout",
     "output_type": "stream",
     "text": [
      "This strategy took on average 12.72 time steps to find the fire.\n",
      "Fire found 31.0% of the time by ground sensor\n",
      "Fire found 23.0% of the time by charging station\n",
      "Fire found 46.0% of the time by drone\n",
      "Fire found 0.0% of the time by undetected\n"
     ]
    },
    {
     "name": "stderr",
     "output_type": "stream",
     "text": [
      "\n"
     ]
    }
   ],
   "source": [
    "benchmark_on_sim2real_dataset(\"Dataset/\", SensorPlacementStrategy, DroneRoutingStrategy, custom_initialization_parameters_function = lambda x: None, custom_step_parameters_function = return_no_custom_parameters, max_n_scenarii=100, starting_time=0)"
   ]
  },
  {
   "cell_type": "markdown",
   "metadata": {},
   "source": []
  }
 ],
 "metadata": {
  "kernelspec": {
   "display_name": "base",
   "language": "python",
   "name": "python3"
  },
  "language_info": {
   "codemirror_mode": {
    "name": "ipython",
    "version": 3
   },
   "file_extension": ".py",
   "mimetype": "text/x-python",
   "name": "python",
   "nbconvert_exporter": "python",
   "pygments_lexer": "ipython3",
   "version": "3.12.3"
  }
 },
 "nbformat": 4,
 "nbformat_minor": 2
}
