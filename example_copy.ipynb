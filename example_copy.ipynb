{
 "cells": [
  {
   "cell_type": "markdown",
   "metadata": {},
   "source": [
    "## Preprocess the Sim2Real dataset\n",
    "\n",
    "The Sim2Real dataset uses jpeg images to represent wildfire masks. This representation is very lightweight but slow to work with. \n",
    "To benchmark faster, we convert them to binary NumPy files. These files are ~100 times heavier and it requires an overhead time to convert from jpeg to them, but once they are created and stored, they allow 50--100x faster operations.\n",
    "\n",
    "1. Download the dataset from [Sim2Real-Fire GitHub repository](https://github.com/TJU-IDVLab/Sim2Real-Fire).\n",
    "2. Extract all files from the dataset into your `Dataset` folder\n",
    "3. Run the preprocessing function to convert from the jpeg representation to the NumPy one, and compute burn maps"
   ]
  },
  {
   "cell_type": "code",
   "execution_count": 9,
   "metadata": {},
   "outputs": [
    {
     "name": "stdout",
     "output_type": "stream",
     "text": [
      "Defaulting to user installation because normal site-packages is not writeable\n",
      "Requirement already satisfied: numpy in /Users/puech/Library/Python/3.9/lib/python/site-packages (from -r requirements.txt (line 1)) (2.0.2)\n",
      "Requirement already satisfied: opencv-python in /Users/puech/Library/Python/3.9/lib/python/site-packages (from -r requirements.txt (line 2)) (4.11.0.86)\n",
      "Requirement already satisfied: matplotlib in /Users/puech/Library/Python/3.9/lib/python/site-packages (from -r requirements.txt (line 3)) (3.9.4)\n",
      "Requirement already satisfied: tqdm in /Users/puech/Library/Python/3.9/lib/python/site-packages (from -r requirements.txt (line 4)) (4.67.1)\n",
      "Requirement already satisfied: juliacall in /Users/puech/Library/Python/3.9/lib/python/site-packages (from -r requirements.txt (line 5)) (0.9.24)\n",
      "Requirement already satisfied: shapely in /Users/puech/Library/Python/3.9/lib/python/site-packages (from -r requirements.txt (line 6)) (2.0.7)\n",
      "Requirement already satisfied: pandas in /Users/puech/Library/Python/3.9/lib/python/site-packages (from -r requirements.txt (line 7)) (2.2.3)\n",
      "Requirement already satisfied: scipy in /Users/puech/Library/Python/3.9/lib/python/site-packages (from -r requirements.txt (line 8)) (1.13.1)\n",
      "Requirement already satisfied: packaging>=20.0 in /Users/puech/Library/Python/3.9/lib/python/site-packages (from matplotlib->-r requirements.txt (line 3)) (24.2)\n",
      "Requirement already satisfied: cycler>=0.10 in /Users/puech/Library/Python/3.9/lib/python/site-packages (from matplotlib->-r requirements.txt (line 3)) (0.12.1)\n",
      "Requirement already satisfied: contourpy>=1.0.1 in /Users/puech/Library/Python/3.9/lib/python/site-packages (from matplotlib->-r requirements.txt (line 3)) (1.3.0)\n",
      "Requirement already satisfied: kiwisolver>=1.3.1 in /Users/puech/Library/Python/3.9/lib/python/site-packages (from matplotlib->-r requirements.txt (line 3)) (1.4.7)\n",
      "Requirement already satisfied: pyparsing>=2.3.1 in /Users/puech/Library/Python/3.9/lib/python/site-packages (from matplotlib->-r requirements.txt (line 3)) (3.2.1)\n",
      "Requirement already satisfied: python-dateutil>=2.7 in /Users/puech/Library/Python/3.9/lib/python/site-packages (from matplotlib->-r requirements.txt (line 3)) (2.9.0.post0)\n",
      "Requirement already satisfied: pillow>=8 in /Users/puech/Library/Python/3.9/lib/python/site-packages (from matplotlib->-r requirements.txt (line 3)) (11.1.0)\n",
      "Requirement already satisfied: importlib-resources>=3.2.0 in /Users/puech/Library/Python/3.9/lib/python/site-packages (from matplotlib->-r requirements.txt (line 3)) (6.5.2)\n",
      "Requirement already satisfied: fonttools>=4.22.0 in /Users/puech/Library/Python/3.9/lib/python/site-packages (from matplotlib->-r requirements.txt (line 3)) (4.56.0)\n",
      "Requirement already satisfied: juliapkg~=0.1.8 in /Users/puech/Library/Python/3.9/lib/python/site-packages (from juliacall->-r requirements.txt (line 5)) (0.1.16)\n",
      "Requirement already satisfied: pytz>=2020.1 in /Users/puech/Library/Python/3.9/lib/python/site-packages (from pandas->-r requirements.txt (line 7)) (2025.2)\n",
      "Requirement already satisfied: tzdata>=2022.7 in /Users/puech/Library/Python/3.9/lib/python/site-packages (from pandas->-r requirements.txt (line 7)) (2025.2)\n",
      "Requirement already satisfied: zipp>=3.1.0 in /Users/puech/Library/Python/3.9/lib/python/site-packages (from importlib-resources>=3.2.0->matplotlib->-r requirements.txt (line 3)) (3.21.0)\n",
      "Requirement already satisfied: filelock<4.0,>=3.16 in /Users/puech/Library/Python/3.9/lib/python/site-packages (from juliapkg~=0.1.8->juliacall->-r requirements.txt (line 5)) (3.17.0)\n",
      "Requirement already satisfied: semver<4.0,>=3.0 in /Users/puech/Library/Python/3.9/lib/python/site-packages (from juliapkg~=0.1.8->juliacall->-r requirements.txt (line 5)) (3.0.4)\n",
      "Requirement already satisfied: six>=1.5 in /Library/Developer/CommandLineTools/Library/Frameworks/Python3.framework/Versions/3.9/lib/python3.9/site-packages (from python-dateutil>=2.7->matplotlib->-r requirements.txt (line 3)) (1.15.0)\n",
      "\u001b[33mWARNING: You are using pip version 21.2.4; however, version 25.0.1 is available.\n",
      "You should consider upgrading via the '/Library/Developer/CommandLineTools/usr/bin/python3 -m pip install --upgrade pip' command.\u001b[0m\n",
      "Note: you may need to restart the kernel to use updated packages.\n"
     ]
    }
   ],
   "source": [
    "pip install -r requirements.txt"
   ]
  },
  {
   "cell_type": "code",
   "execution_count": 1,
   "metadata": {},
   "outputs": [
    {
     "name": "stdout",
     "output_type": "stream",
     "text": [
      "[juliapkg] Found dependencies: /Users/puech/Library/Python/3.9/lib/python/site-packages/juliacall/juliapkg.json\n",
      "[juliapkg] Found dependencies: /Users/puech/Library/Python/3.9/lib/python/site-packages/juliapkg/juliapkg.json\n",
      "[juliapkg] Locating Julia ~1.6.1, ~1.7, ~1.8, ~1.9, =1.10.0, ^1.10.3\n",
      "[juliapkg] Installing Julia 1.11.4 using JuliaUp\n",
      "[juliapkg] Using Julia 1.11.2 at /Users/puech/.juliaup/bin/julia\n",
      "[juliapkg] Using Julia project at /opt/anaconda3/julia_env\n",
      "[juliapkg] Installing packages:\n",
      "           julia> import Pkg\n",
      "           julia> Pkg.Registry.update()\n",
      "           julia> Pkg.add([Pkg.PackageSpec(name=\"PythonCall\", uuid=\"6099a3de-0909-46bc-b1f4-468b9a2dfc0d\")])\n",
      "           julia> Pkg.resolve()\n",
      "           julia> Pkg.precompile()\n"
     ]
    },
    {
     "name": "stderr",
     "output_type": "stream",
     "text": [
      "The latest version of Julia in the `release` channel is 1.11.4+0.aarch64.apple.darwin14. You currently have `1.11.2+0.aarch64.apple.darwin14` installed. Run:\n",
      "\n",
      "  juliaup update\n",
      "\n",
      "in your terminal shell to install Julia 1.11.4+0.aarch64.apple.darwin14 and update the `release` channel to that version.\n",
      "    Updating registry at `~/.julia/registries/General.toml`\n",
      "   Resolving package versions...\n",
      "    Updating `/opt/anaconda3/julia_env/Project.toml`\n",
      "  [6099a3de] + PythonCall v0.9.24\n",
      "    Updating `/opt/anaconda3/julia_env/Manifest.toml`\n",
      "  [992eb4ea] + CondaPkg v0.2.28\n",
      "  [9a962f9c] + DataAPI v1.16.0\n",
      "  [e2d170a0] + DataValueInterfaces v1.0.0\n",
      "  [82899510] + IteratorInterfaceExtensions v1.0.0\n",
      "  [692b3bcd] + JLLWrappers v1.7.0\n",
      "  [0f8b85d8] + JSON3 v1.14.2\n",
      "  [1914dd2f] + MacroTools v0.5.15\n",
      "  [0b3b1443] + MicroMamba v0.1.14\n",
      "  [bac558e1] + OrderedCollections v1.8.0\n",
      "  [69de0a69] + Parsers v2.8.1\n",
      "  [fa939f87] + Pidfile v1.3.0\n",
      "⌅ [aea7be01] + PrecompileTools v1.2.1\n",
      "  [21216c6a] + Preferences v1.4.3\n",
      "  [6099a3de] + PythonCall v0.9.24\n",
      "  [ae029012] + Requires v1.3.1\n",
      "  [6c6a2e73] + Scratch v1.2.1\n",
      "  [856f2bd8] + StructTypes v1.11.0\n",
      "  [3783bdb8] + TableTraits v1.0.1\n",
      "  [bd369af6] + Tables v1.12.0\n",
      "  [e17b2a0c] + UnsafePointers v1.0.0\n",
      "  [f8abcde7] + micromamba_jll v1.5.8+0\n",
      "  [4d7b5844] + pixi_jll v0.41.3+0\n",
      "  [0dad84c5] + ArgTools v1.1.2\n",
      "  [56f22d72] + Artifacts v1.11.0\n",
      "  [2a0f44e3] + Base64 v1.11.0\n",
      "  [ade2ca70] + Dates v1.11.0\n",
      "  [f43a241f] + Downloads v1.6.0\n",
      "  [7b1f6079] + FileWatching v1.11.0\n",
      "  [b77e0a4c] + InteractiveUtils v1.11.0\n",
      "  [4af54fe1] + LazyArtifacts v1.11.0\n",
      "  [b27032c2] + LibCURL v0.6.4\n",
      "  [76f85450] + LibGit2 v1.11.0\n",
      "  [8f399da3] + Libdl v1.11.0\n",
      "  [56ddb016] + Logging v1.11.0\n",
      "  [d6f4376e] + Markdown v1.11.0\n",
      "  [a63ad114] + Mmap v1.11.0\n",
      "  [ca575930] + NetworkOptions v1.2.0\n",
      "  [44cfe95a] + Pkg v1.11.0\n",
      "  [de0858da] + Printf v1.11.0\n",
      "  [9a3f8284] + Random v1.11.0\n",
      "  [ea8e919c] + SHA v0.7.0\n",
      "  [9e88b42a] + Serialization v1.11.0\n",
      "  [fa267f1f] + TOML v1.0.3\n",
      "  [a4e569a6] + Tar v1.10.0\n",
      "  [8dfed614] + Test v1.11.0\n",
      "  [cf7118a7] + UUIDs v1.11.0\n",
      "  [4ec0a83e] + Unicode v1.11.0\n",
      "  [deac9b47] + LibCURL_jll v8.6.0+0\n",
      "  [e37daf67] + LibGit2_jll v1.7.2+0\n",
      "  [29816b5a] + LibSSH2_jll v1.11.0+1\n",
      "  [c8ffd9c3] + MbedTLS_jll v2.28.6+0\n",
      "  [14a3606d] + MozillaCACerts_jll v2023.12.12\n",
      "  [83775a58] + Zlib_jll v1.2.13+1\n",
      "  [8e850ede] + nghttp2_jll v1.59.0+0\n",
      "  [3f19e933] + p7zip_jll v17.4.0+2\n",
      "        Info Packages marked with ⌅ have new versions available but compatibility constraints restrict them from upgrading. To see why use `status --outdated -m`\n",
      "  No Changes to `/opt/anaconda3/julia_env/Project.toml`\n",
      "  No Changes to `/opt/anaconda3/julia_env/Manifest.toml`\n"
     ]
    },
    {
     "name": "stdout",
     "output_type": "stream",
     "text": [
      "Detected IPython. Loading juliacall extension. See https://juliapy.github.io/PythonCall.jl/stable/compat/#IPython\n",
      "Initializing the Julia session. This can take up to 1 minute.\n",
      "initializing the ground sensor julia module\n",
      "installing packages\n",
      "initializing the drone julia module\n",
      "Julia session initialized.\n",
      "=== TEST PRINT: Entered RandomPlacementStrategy class definition ===\n",
      "=== TEST PRINT: Entered DroneRoutingOptimizationModelReuseIndex class definition ===\n",
      "=== TEST PRINT: Entered DroneRoutingOptimizationModelReuseIndex class definition ===\n"
     ]
    }
   ],
   "source": [
    "# import requred modules\n",
    "import sys\n",
    "import os\n",
    "import time\n",
    "import numpy as np\n",
    "import pandas as pd\n",
    "import matplotlib.pyplot as plt\n",
    "\n",
    "# Add code to path\n",
    "module_path = os.path.abspath(\".\") + \"/code\"\n",
    "if module_path not in sys.path:\n",
    "    sys.path.append(module_path)\n",
    "\n",
    "\n",
    "from dataset import preprocess_sim2real_dataset, load_scenario_npy, compute_and_save_burn_maps_sim2real_dataset\n",
    "from wrappers import wrap_log_sensor_strategy, wrap_log_drone_strategy\n",
    "from Strategy import RandomDroneRoutingStrategy, return_no_custom_parameters, SensorPlacementOptimization, RandomSensorPlacementStrategy, LoggedOptimizationSensorPlacementStrategy,DroneRoutingOptimizationSlow, DroneRoutingOptimizationModelReuse, DroneRoutingOptimizationModelReuseIndex, LoggedDroneRoutingStrategy, LogWrapperDrone, LogWrapperSensor\n",
    "from benchmark import run_benchmark_scenario,run_benchmark_scenarii_sequential, get_burnmap_parameters,run_benchmark_scenarii_sequential_precompute, benchmark_on_sim2real_dataset_precompute\n",
    "from displays import create_scenario_video\n",
    "from new_clustering import get_wrapped_strategy"
   ]
  },
  {
   "cell_type": "markdown",
   "metadata": {},
   "source": [
    "Uncomment the cell below to preprocess the dataset.\n",
    "- `n_max_scenarii_per_layout` controls the number of scenarios we convert from jpeg to NumPy files for each layout.\n",
    "- If executed on all ~50 layouts of the dataset, the code below takes ~15mins to run and generates **400 GB** of data. Make sure to have the space."
   ]
  },
  {
   "cell_type": "code",
   "execution_count": 5,
   "metadata": {},
   "outputs": [
    {
     "name": "stdout",
     "output_type": "stream",
     "text": [
      "Converting JPG scenarios to NPY for MinimalDataset/\n",
      "Computing burn maps...\n",
      "Computing burn map for MinimalDataset/0002/scenarii/ and files with extension .npy\n"
     ]
    },
    {
     "name": "stderr",
     "output_type": "stream",
     "text": [
      "100%|██████████| 5/5 [00:00<00:00, 31.16it/s]\n"
     ]
    },
    {
     "name": "stdout",
     "output_type": "stream",
     "text": [
      "Computing burn map for MinimalDataset/0001/scenarii/ and files with extension .npy\n"
     ]
    },
    {
     "name": "stderr",
     "output_type": "stream",
     "text": [
      "100%|██████████| 5/5 [00:00<00:00, 50.21it/s]\n"
     ]
    }
   ],
   "source": [
    "# preprocess_sim2real_dataset(\"MinimalDataset/\", n_max_scenarii_per_layout=100) "
   ]
  },
  {
   "cell_type": "markdown",
   "metadata": {},
   "source": [
    "We can now run the benchmark function on any scenario.\n",
    "1. We load the scenario using `load_scenario_npy` since it is in preprocessed `npy` format\n",
    "2. Werun the benchmark using `run_benchmark_scenario` that takes as input:\n",
    "    - The `scenario`, \n",
    "    - The sensor placement strategy and the drone routing strategy\n",
    "    - A dictionary `custom_initialization_parameters` that contains any custom initialization inputs for your strategy functions (such as the burn map if your strategy needs a burn map as input)\n",
    "    - A python function `custom_step_parameters_function` that returns a dictionary of custom inputs for your routing function. This function is executed by the benchmarking code at each time step. Your routing function will be called with: `routing(custom_step_parameters_function())` internally"
   ]
  },
  {
   "cell_type": "code",
   "execution_count": 3,
   "metadata": {},
   "outputs": [],
   "source": [
    "# change values here to change benchmarking parameters\n",
    "def my_automatic_layout_parameters(scenario:np.ndarray):\n",
    "    return {\n",
    "        \"N\": scenario.shape[1],\n",
    "        \"M\": scenario.shape[2],\n",
    "        \"max_battery_distance\": -10,\n",
    "        \"max_battery_time\": 20,\n",
    "        \"n_drones\": 10,\n",
    "        \"n_ground_stations\": 1,\n",
    "        \"n_charging_stations\": 6,\n",
    "    }"
   ]
  },
  {
   "cell_type": "code",
   "execution_count": 4,
   "metadata": {},
   "outputs": [
    {
     "name": "stdout",
     "output_type": "stream",
     "text": [
      "starting benchmark\n",
      "calling julia optimization model\n",
      "NEW STRATEGY 2\n",
      "Set parameter Username\n",
      "Set parameter LicenseID to value 2612529\n",
      "Academic license - for non-commercial use only - expires 2026-01-21\n",
      "Took 43.11301804194227 seconds\n",
      "Average risk equals\n",
      "optimization finished\n",
      "Charging Station Locations from Julia Optimization Model:  []\n",
      "ground sensor locations\n",
      "[(105, 229)]\n",
      "charging station locations\n",
      "[(109, 181), (110, 230), (111, 176), (114, 181), (114, 186)]\n",
      "Creating initial routing model (reusable)\n",
      "--- parameters for julia (Julia indexing) ---\n",
      "burnmap_filename: ./MinimalDataset/0001/burn_map.npy\n",
      "n_drones: 10\n",
      "charging_stations_locations: [(111, 231), (115, 182), (112, 177), (115, 187), (110, 182)]\n",
      "ground_sensor_locations: [(106, 230)]\n",
      "optimization_horizon: 5\n",
      "Set parameter Username\n",
      "Set parameter LicenseID to value 2612529\n",
      "Academic license - for non-commercial use only - expires 2026-01-21\n",
      "Model created in 7.1021349998191 seconds\n",
      "DEBUG: Charging Stations received in Julia:\n",
      "[(111, 231), (115, 182), (112, 177), (115, 187), (110, 182)]\n",
      "Creating init constraints took 0.0012597087770700455 seconds\n",
      "Optimizing model took 3.105061125010252 seconds\n",
      "Solver Status: OPTIMAL\n",
      "Objective Value: 5.221960841819532\n",
      "movement_plan: [[(\"fly\", (115, 182)), (\"fly\", (110, 182)), (\"fly\", (110, 182)), (\"fly\", (115, 182)), (\"fly\", (115, 187)), (\"fly\", (111, 231)), (\"fly\", (112, 177)), (\"fly\", (115, 187)), (\"fly\", (111, 231)), (\"fly\", (112, 177))], [(\"fly\", (114, 181)), (\"fly\", (111, 181)), (\"fly\", (111, 181)), (\"fly\", (114, 181)), (\"fly\", (114, 186)), (\"fly\", (110, 231)), (\"fly\", (113, 176)), (\"fly\", (115, 186)), (\"fly\", (110, 230)), (\"fly\", (112, 176))], [(\"fly\", (113, 182)), (\"fly\", (112, 180)), (\"fly\", (111, 180)), (\"fly\", (113, 182)), (\"fly\", (113, 185)), (\"fly\", (110, 230)), (\"fly\", (113, 177)), (\"fly\", (116, 185)), (\"fly\", (110, 231)), (\"fly\", (113, 176))], [(\"fly\", (112, 181)), (\"fly\", (112, 179)), (\"fly\", (111, 180)), (\"fly\", (112, 182)), (\"fly\", (112, 184)), (\"fly\", (110, 230)), (\"fly\", (112, 178)), (\"fly\", (116, 185)), (\"fly\", (111, 232)), (\"fly\", (114, 177))], [(\"fly\", (112, 181)), (\"fly\", (112, 179)), (\"fly\", (110, 181)), (\"fly\", (113, 182)), (\"fly\", (111, 183)), (\"fly\", (110, 230)), (\"fly\", (113, 177)), (\"fly\", (115, 184)), (\"fly\", (112, 231)), (\"fly\", (115, 177))]]\n",
      "Initial optimization finished\n",
      "\n",
      "DEBUG: Available Charging Stations (after model creation): {(110, 230), (114, 181), (111, 176), (114, 186), (109, 181)}\n",
      "\n",
      "DEBUG: Initial Drone Locations: [('fly', (114, 181)), ('fly', (109, 181)), ('fly', (109, 181)), ('fly', (114, 181)), ('fly', (114, 186)), ('fly', (110, 230)), ('fly', (111, 176)), ('fly', (114, 186)), ('fly', (110, 230)), ('fly', (111, 176))]\n",
      "Creating initial routing model (reusable)\n",
      "--- parameters for julia (Julia indexing) ---\n",
      "burnmap_filename: ./MinimalDataset/0001/burn_map.npy\n",
      "n_drones: 10\n",
      "charging_stations_locations: [(111, 231), (115, 182), (112, 177), (115, 187), (110, 182)]\n",
      "ground_sensor_locations: [(106, 230)]\n",
      "optimization_horizon: 5\n",
      "Set parameter Username\n",
      "Set parameter LicenseID to value 2612529\n",
      "Academic license - for non-commercial use only - expires 2026-01-21\n",
      "Model created in 4.774848375003785 seconds\n",
      "DEBUG: Charging Stations received in Julia:\n",
      "[(111, 231), (115, 182), (112, 177), (115, 187), (110, 182)]\n",
      "Creating init constraints took 0.001205666922032833 seconds\n",
      "Optimizing model took 2.9399764579720795 seconds\n",
      "Solver Status: OPTIMAL\n",
      "Objective Value: 5.221960841819532\n",
      "movement_plan: [[(\"fly\", (115, 182)), (\"fly\", (110, 182)), (\"fly\", (110, 182)), (\"fly\", (115, 182)), (\"fly\", (115, 187)), (\"fly\", (111, 231)), (\"fly\", (112, 177)), (\"fly\", (115, 187)), (\"fly\", (111, 231)), (\"fly\", (112, 177))], [(\"fly\", (114, 181)), (\"fly\", (111, 181)), (\"fly\", (111, 181)), (\"fly\", (114, 181)), (\"fly\", (114, 186)), (\"fly\", (110, 231)), (\"fly\", (113, 176)), (\"fly\", (115, 186)), (\"fly\", (110, 230)), (\"fly\", (112, 176))], [(\"fly\", (113, 182)), (\"fly\", (112, 180)), (\"fly\", (111, 180)), (\"fly\", (113, 182)), (\"fly\", (113, 185)), (\"fly\", (110, 230)), (\"fly\", (113, 177)), (\"fly\", (116, 185)), (\"fly\", (110, 231)), (\"fly\", (113, 176))], [(\"fly\", (112, 181)), (\"fly\", (112, 179)), (\"fly\", (111, 180)), (\"fly\", (112, 182)), (\"fly\", (112, 184)), (\"fly\", (110, 230)), (\"fly\", (112, 178)), (\"fly\", (116, 185)), (\"fly\", (111, 232)), (\"fly\", (114, 177))], [(\"fly\", (112, 181)), (\"fly\", (112, 179)), (\"fly\", (110, 181)), (\"fly\", (113, 182)), (\"fly\", (111, 183)), (\"fly\", (110, 230)), (\"fly\", (113, 177)), (\"fly\", (115, 184)), (\"fly\", (112, 231)), (\"fly\", (115, 177))]]\n",
      "Initial optimization finished\n",
      "\n",
      "DEBUG: Available Charging Stations (after model creation): {(110, 230), (114, 181), (111, 176), (114, 186), (109, 181)}\n",
      "[debug] returning plan step 1 of 5\n",
      "{'delta_t': 1, 'device': 'drone', 'avg_execution_time': np.float64(1.0967254638671875e-05), 'fire_size_cells': np.int64(12), 'fire_size_percentage': np.float64(0.036044695422323685), 'percentage_map_explored': 0.03904842004085066, 'total_distance_traveled': 17, 'avg_drone_entropy': np.float64(2.0253262207700677), 'sensor_entropy': np.float64(0.0)}\n",
      "Time taken to run benchmark on the scenario: 63.88212990760803 seconds\n"
     ]
    }
   ],
   "source": [
    "# That's very fast to run!\n",
    "print(\"starting benchmark\")\n",
    "time_start = time.time()\n",
    "scenario = load_scenario_npy(\"MinimalDataset/0001/scenarii/0001_00002.npy\")\n",
    "results, (position_history, ground, charging)  = run_benchmark_scenario(scenario, SensorPlacementOptimization, DroneRoutingOptimizationModelReuseIndex, custom_initialization_parameters = {\"burnmap_filename\": \"./MinimalDataset/0001/burn_map.npy\", \"load_from_logfile\": False, \"reevaluation_step\": 5, \"optimization_horizon\":5, \"strategy_drone\": DroneRoutingOptimizationModelReuseIndex, \"strategy_sensor\": RandomSensorPlacementStrategy}, custom_step_parameters_function = return_no_custom_parameters, automatic_initialization_parameters_function=my_automatic_layout_parameters, return_history=True)\n",
    "print(results)\n",
    "print(f\"Time taken to run benchmark on the scenario: {time.time() - time_start} seconds\")\n",
    "\n",
    "\n"
   ]
  },
  {
   "cell_type": "code",
   "execution_count": null,
   "metadata": {},
   "outputs": [],
   "source": [
    "print(\"working on it...\")\n",
    "def custom_initialization_parameters_function(input_dir: str, layout_name: str = None):\n",
    "    print(f\"input_dir: {input_dir}\")\n",
    "    burnmap_path = f\"{'/'.join(input_dir.strip('/').split('/')[:-1])}/burn_map.npy\"\n",
    "    os.makedirs(\"logs\", exist_ok=True)\n",
    "\n",
    "    return {\n",
    "        \"burnmap_filename\": burnmap_path,\n",
    "        \"reevaluation_step\": 5,\n",
    "        \"optimization_horizon\": 10,\n",
    "        \"strategy_drone\": DroneRoutingOptimizationModelReuseIndex,\n",
    "        \"strategy_sensor\": RandomSensorPlacementStrategy,\n",
    "        \"recompute_logfile\": False  # toggle this to force refresh\n",
    "    }\n",
    "\n",
    "clustered_strategy = get_wrapped_strategy(DroneRoutingOptimizationModelReuseIndex)\n",
    "\n",
    "# change values here to change benchmarking parameters\n",
    "\n",
    "simulation_parameters =  {\n",
    "    \"max_battery_distance\": -1,\n",
    "    \"max_battery_time\": 20,\n",
    "    \"n_drones\": 10,\n",
    "    \"n_ground_stations\": 1,\n",
    "    \"n_charging_stations\": 5,\n",
    "}\n",
    "\n",
    "# Run the benchmark and collect metrics\n",
    "print(\"Running benchmarks...\")\n",
    "metrics_by_layout = benchmark_on_sim2real_dataset_precompute(\n",
    "    dataset_folder_name=\"MinimalDataset/\",\n",
    "    ground_placement_strategy=RandomSensorPlacementStrategy,\n",
    "    drone_routing_strategy=clustered_strategy,\n",
    "    custom_initialization_parameters_function=custom_initialization_parameters_function,\n",
    "    custom_step_parameters_function=return_no_custom_parameters,\n",
    "    max_n_scenarii=1,\n",
    "    starting_time=0,\n",
    "    simulation_parameters=simulation_parameters\n",
    ")"
   ]
  },
  {
   "cell_type": "code",
   "execution_count": 8,
   "metadata": {},
   "outputs": [
    {
     "ename": "ImportError",
     "evalue": "cannot import name 'DroneRoutingOptimizationExample' from 'Strategy' (/Users/puech/Desktop/Climate/wildfire_drone_routing/code/Strategy.py)",
     "output_type": "error",
     "traceback": [
      "\u001b[0;31m---------------------------------------------------------------------------\u001b[0m",
      "\u001b[0;31mImportError\u001b[0m                               Traceback (most recent call last)",
      "Cell \u001b[0;32mIn[8], line 2\u001b[0m\n\u001b[1;32m      1\u001b[0m \u001b[38;5;28;01mfrom\u001b[39;00m\u001b[38;5;250m \u001b[39m\u001b[38;5;21;01mbenchmark\u001b[39;00m\u001b[38;5;250m \u001b[39m\u001b[38;5;28;01mimport\u001b[39;00m benchmark_on_sim2real_dataset_precompute, build_custom_init_params, return_no_custom_parameters\n\u001b[0;32m----> 2\u001b[0m \u001b[38;5;28;01mfrom\u001b[39;00m\u001b[38;5;250m \u001b[39m\u001b[38;5;21;01mStrategy\u001b[39;00m\u001b[38;5;250m \u001b[39m\u001b[38;5;28;01mimport\u001b[39;00m RandomSensorPlacementStrategy, DroneRoutingOptimizationExample\n\u001b[1;32m      3\u001b[0m \u001b[38;5;28;01mfrom\u001b[39;00m\u001b[38;5;250m \u001b[39m\u001b[38;5;21;01mplot_metrics\u001b[39;00m\u001b[38;5;250m \u001b[39m\u001b[38;5;28;01mimport\u001b[39;00m plot_all_metrics_across_layouts\n\u001b[1;32m      4\u001b[0m \u001b[38;5;28;01mfrom\u001b[39;00m\u001b[38;5;250m \u001b[39m\u001b[38;5;21;01mplot_violin\u001b[39;00m\u001b[38;5;250m \u001b[39m\u001b[38;5;28;01mimport\u001b[39;00m gather_data_from_layouts, plot_violin_for_each_metric\n",
      "\u001b[0;31mImportError\u001b[0m: cannot import name 'DroneRoutingOptimizationExample' from 'Strategy' (/Users/puech/Desktop/Climate/wildfire_drone_routing/code/Strategy.py)"
     ]
    }
   ],
   "source": [
    "from benchmark import benchmark_on_sim2real_dataset_precompute, build_custom_init_params, return_no_custom_parameters\n",
    "from Strategy import RandomSensorPlacementStrategy, DroneRoutingOptimizationExample\n",
    "from plot_metrics import plot_all_metrics_across_layouts\n",
    "from plot_violin import gather_data_from_layouts, plot_violin_for_each_metric\n",
    "\n",
    "# Create output directories\n",
    "os.makedirs(\"plots\", exist_ok=True)\n",
    "os.makedirs(\"plots_violin\", exist_ok=True)\n",
    "\n",
    "# --- Step 2: Generate line plots per layout ---\n",
    "plot_all_metrics_across_layouts(\n",
    "    root_folder=\"MinimalDataset\",\n",
    "    sensor_strategy_cls=RandomSensorPlacementStrategy,\n",
    "    drone_strategy_cls=DroneRoutingOptimizationExample,\n",
    "    max_n_scenarii=100,\n",
    "    starting_time=0\n",
    ")\n",
    "\n",
    "# --- Step 3: Generate violin plots across strategies (optional but useful for comparison) ---\n",
    "from Strategy import RandomDroneRoutingStrategy, LoggedSensorPlacementStrategy, LoggedDroneRoutingStrategy\n",
    "\n",
    "STRATEGIES = [\n",
    "    (\"Random\", RandomSensorPlacementStrategy, RandomDroneRoutingStrategy),\n",
    "    (\"Logged\", LoggedSensorPlacementStrategy, LoggedDroneRoutingStrategy),\n",
    "    (\"Optimized\", RandomSensorPlacementStrategy, DroneRoutingOptimizationExample)\n",
    "]\n",
    "\n",
    "df_all = gather_data_from_layouts(\n",
    "    root_folder=\"MinimalDataset\",\n",
    "    strategies=STRATEGIES,\n",
    "    custom_init_params_fn=build_custom_init_params,\n",
    "    custom_step_params_fn=return_no_custom_parameters,\n",
    "    starting_time=0,\n",
    "    max_n_scenarii=100\n",
    ")\n",
    "\n",
    "if not df_all.empty:\n",
    "    plot_violin_for_each_metric(df_all, output_dir=\"plots_violin\")"
   ]
  },
  {
   "cell_type": "code",
   "execution_count": null,
   "metadata": {},
   "outputs": [],
   "source": [
    "create_scenario_video(scenario[:len(position_history)],drone_locations_history=position_history,starting_time=0,out_filename='test_simulation', ground_sensor_locations = ground, charging_stations_locations = charging)"
   ]
  },
  {
   "cell_type": "markdown",
   "metadata": {},
   "source": [
    "We can visualize the strategy in action by creating a video of the scenario. \n",
    "1. Use the `return_history` parameter or `run_benchmark_scenario` to output the log of ground sensor and drone positions during the benchmark\n",
    "2. Use the `create_scenario_video` function to compile the video. This can take a couple seconds"
   ]
  },
  {
   "cell_type": "code",
   "execution_count": null,
   "metadata": {},
   "outputs": [],
   "source": [
    "delta , device , (position_history, ground, charging)  = run_benchmark_scenario(scenario, SensorPlacementOptimization, RandomDroneRoutingStrategy, custom_initialization_parameters = {\"burnmap_filename\": \"./WideDataset/0001/burn_map.npy\"}, custom_step_parameters_function = return_no_custom_parameters, automatic_initialization_parameters_function=my_automatic_layout_parameters, return_history=True)\n",
    "create_scenario_video(scenario[:len(position_history)],drone_locations_history=position_history,starting_time=0,out_filename='test_simulation', ground_sensor_locations = ground, charging_stations_locations = charging)"
   ]
  },
  {
   "cell_type": "markdown",
   "metadata": {},
   "source": [
    "Instead of running a benchmark on a single scenario, we are interested in running the benchmark on all scenarii of a given layout (potentially in parallel!)\n",
    "\n",
    "1. We use `run_benchmark_scenarii_sequential`"
   ]
  },
  {
   "cell_type": "code",
   "execution_count": null,
   "metadata": {},
   "outputs": [],
   "source": [
    "run_benchmark_scenarii_sequential(\"MinimalDataset/0001/scenarii/\", RandomSensorPlacementStrategy, RandomDroneRoutingStrategy, custom_initialization_parameters_function = get_burnmap_parameters, custom_step_parameters_function = return_no_custom_parameters, starting_time=0, max_n_scenarii=3)\n",
    "run_benchmark_scenarii_sequential(\"MinimalDataset/0001/Satellite_Images_Mask/\", RandomSensorPlacementStrategy, RandomDroneRoutingStrategy, custom_initialization_parameters_function = get_burnmap_parameters, custom_step_parameters_function = return_no_custom_parameters, starting_time=0, max_n_scenarii=3, file_format=\"jpg\")"
   ]
  },
  {
   "cell_type": "markdown",
   "metadata": {},
   "source": [
    "On all of the dataset!"
   ]
  },
  {
   "cell_type": "code",
   "execution_count": null,
   "metadata": {},
   "outputs": [],
   "source": [
    "benchmark_on_sim2real_dataset(\"WideDataset/\", SensorPlacementStrategy, DroneRoutingStrategy, custom_initialization_parameters_function = lambda x: None, custom_step_parameters_function = return_no_custom_parameters, max_n_scenarii=100, starting_time=0)"
   ]
  },
  {
   "cell_type": "code",
   "execution_count": null,
   "metadata": {},
   "outputs": [],
   "source": [
    "# That's very fast to run!\n",
    "time_start = time.time()\n",
    "scenario = load_scenario_npy(\"WideDataset/0001/scenarii/0001_00002.npy\")\n",
    "device, delta_t, _ = run_benchmark_scenario(scenario, RandomSensorPlacementStrategy, DroneRoutingOptimizationSlow, custom_initialization_parameters = {\"burnmap_filename\": \"./WideDataset/0001/burn_map.npy\", \"call_every_n_steps\": 5, \"optimization_horizon\": 10}, custom_step_parameters_function = return_no_custom_parameters, automatic_initialization_parameters_function=my_automatic_layout_parameters, return_history=True)\n",
    "print(\"Fire detected in \", delta_t, \"time steps by device: \", device)\n",
    "print(f\"Time taken to run benchmark on the scenario: {time.time() - time_start} seconds\")\n"
   ]
  },
  {
   "cell_type": "markdown",
   "metadata": {},
   "source": []
  },
  {
   "cell_type": "code",
   "execution_count": null,
   "metadata": {},
   "outputs": [],
   "source": [
    "# define function to get parameters for optimal drone routing strategy\n",
    "# def get_routing_optimization_parameters(input_dir:str):\n",
    "#     return {\n",
    "#         \"burnmap_filename\": f\"{input_dir}/burn_map.npy\",\n",
    "#         \"call_every_n_steps\": 5,\n",
    "#         \"optimization_horizon\": 10\n",
    "#     }\n",
    "\n",
    "# add the log\n"
   ]
  },
  {
   "cell_type": "code",
   "execution_count": null,
   "metadata": {},
   "outputs": [],
   "source": []
  }
 ],
 "metadata": {
  "kernelspec": {
   "display_name": "Python 3",
   "language": "python",
   "name": "python3"
  },
  "language_info": {
   "codemirror_mode": {
    "name": "ipython",
    "version": 3
   },
   "file_extension": ".py",
   "mimetype": "text/x-python",
   "name": "python",
   "nbconvert_exporter": "python",
   "pygments_lexer": "ipython3",
   "version": "3.9.6"
  }
 },
 "nbformat": 4,
 "nbformat_minor": 2
}
