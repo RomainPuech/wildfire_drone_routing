{
 "cells": [
  {
   "cell_type": "markdown",
   "metadata": {},
   "source": [
    "## Preprocess the Sim2Real dataset\n",
    "\n",
    "The Sim2Real dataset uses jpeg images to represent wildfire masks. This representation is very lightweight but slow to work with. \n",
    "To benchmark faster, we convert them to binary NumPy files. These files are ~100 times heavier and it requires an overhead time to convert from jpeg to them, but once they are created and stored, they allow 50--100x faster operations.\n",
    "\n",
    "1. Download the dataset from [Sim2Real-Fire GitHub repository](https://github.com/TJU-IDVLab/Sim2Real-Fire).\n",
    "2. Extract all files from the dataset into your `Dataset` folder\n",
    "3. Run the preprocessing function to convert from the jpeg representation to the NumPy one, and compute burn maps"
   ]
  },
  {
   "cell_type": "code",
   "execution_count": 3,
   "metadata": {},
   "outputs": [
    {
     "name": "stdout",
     "output_type": "stream",
     "text": [
      "Defaulting to user installation because normal site-packages is not writeable\n",
      "Requirement already satisfied: numpy in /Users/puech/Library/Python/3.9/lib/python/site-packages (from -r requirements.txt (line 1)) (2.0.2)\n",
      "Requirement already satisfied: opencv-python in /Users/puech/Library/Python/3.9/lib/python/site-packages (from -r requirements.txt (line 2)) (4.11.0.86)\n",
      "Requirement already satisfied: matplotlib in /Users/puech/Library/Python/3.9/lib/python/site-packages (from -r requirements.txt (line 3)) (3.9.4)\n",
      "Requirement already satisfied: tqdm in /Users/puech/Library/Python/3.9/lib/python/site-packages (from -r requirements.txt (line 4)) (4.67.1)\n",
      "Requirement already satisfied: juliacall in /Users/puech/Library/Python/3.9/lib/python/site-packages (from -r requirements.txt (line 5)) (0.9.24)\n",
      "Requirement already satisfied: shapely in /Users/puech/Library/Python/3.9/lib/python/site-packages (from -r requirements.txt (line 6)) (2.0.7)\n",
      "Collecting pandas\n",
      "  Downloading pandas-2.2.3-cp39-cp39-macosx_11_0_arm64.whl (11.3 MB)\n",
      "\u001b[K     |████████████████████████████████| 11.3 MB 6.2 MB/s eta 0:00:01\n",
      "\u001b[?25hRequirement already satisfied: importlib-resources>=3.2.0 in /Users/puech/Library/Python/3.9/lib/python/site-packages (from matplotlib->-r requirements.txt (line 3)) (6.5.2)\n",
      "Requirement already satisfied: kiwisolver>=1.3.1 in /Users/puech/Library/Python/3.9/lib/python/site-packages (from matplotlib->-r requirements.txt (line 3)) (1.4.7)\n",
      "Requirement already satisfied: packaging>=20.0 in /Users/puech/Library/Python/3.9/lib/python/site-packages (from matplotlib->-r requirements.txt (line 3)) (24.2)\n",
      "Requirement already satisfied: pillow>=8 in /Users/puech/Library/Python/3.9/lib/python/site-packages (from matplotlib->-r requirements.txt (line 3)) (11.1.0)\n",
      "Requirement already satisfied: cycler>=0.10 in /Users/puech/Library/Python/3.9/lib/python/site-packages (from matplotlib->-r requirements.txt (line 3)) (0.12.1)\n",
      "Requirement already satisfied: pyparsing>=2.3.1 in /Users/puech/Library/Python/3.9/lib/python/site-packages (from matplotlib->-r requirements.txt (line 3)) (3.2.1)\n",
      "Requirement already satisfied: fonttools>=4.22.0 in /Users/puech/Library/Python/3.9/lib/python/site-packages (from matplotlib->-r requirements.txt (line 3)) (4.56.0)\n",
      "Requirement already satisfied: contourpy>=1.0.1 in /Users/puech/Library/Python/3.9/lib/python/site-packages (from matplotlib->-r requirements.txt (line 3)) (1.3.0)\n",
      "Requirement already satisfied: python-dateutil>=2.7 in /Users/puech/Library/Python/3.9/lib/python/site-packages (from matplotlib->-r requirements.txt (line 3)) (2.9.0.post0)\n",
      "Requirement already satisfied: juliapkg~=0.1.8 in /Users/puech/Library/Python/3.9/lib/python/site-packages (from juliacall->-r requirements.txt (line 5)) (0.1.16)\n",
      "Collecting pytz>=2020.1\n",
      "  Downloading pytz-2025.2-py2.py3-none-any.whl (509 kB)\n",
      "\u001b[K     |████████████████████████████████| 509 kB 17.4 MB/s eta 0:00:01\n",
      "\u001b[?25hCollecting tzdata>=2022.7\n",
      "  Downloading tzdata-2025.2-py2.py3-none-any.whl (347 kB)\n",
      "\u001b[K     |████████████████████████████████| 347 kB 12.7 MB/s eta 0:00:01\n",
      "\u001b[?25hRequirement already satisfied: zipp>=3.1.0 in /Users/puech/Library/Python/3.9/lib/python/site-packages (from importlib-resources>=3.2.0->matplotlib->-r requirements.txt (line 3)) (3.21.0)\n",
      "Requirement already satisfied: filelock<4.0,>=3.16 in /Users/puech/Library/Python/3.9/lib/python/site-packages (from juliapkg~=0.1.8->juliacall->-r requirements.txt (line 5)) (3.17.0)\n",
      "Requirement already satisfied: semver<4.0,>=3.0 in /Users/puech/Library/Python/3.9/lib/python/site-packages (from juliapkg~=0.1.8->juliacall->-r requirements.txt (line 5)) (3.0.4)\n",
      "Requirement already satisfied: six>=1.5 in /Library/Developer/CommandLineTools/Library/Frameworks/Python3.framework/Versions/3.9/lib/python3.9/site-packages (from python-dateutil>=2.7->matplotlib->-r requirements.txt (line 3)) (1.15.0)\n",
      "Installing collected packages: tzdata, pytz, pandas\n",
      "Successfully installed pandas-2.2.3 pytz-2025.2 tzdata-2025.2\n",
      "\u001b[33mWARNING: You are using pip version 21.2.4; however, version 25.0.1 is available.\n",
      "You should consider upgrading via the '/Library/Developer/CommandLineTools/usr/bin/python3 -m pip install --upgrade pip' command.\u001b[0m\n",
      "Note: you may need to restart the kernel to use updated packages.\n"
     ]
    }
   ],
   "source": [
    "pip install -r requirements.txt"
   ]
  },
  {
   "cell_type": "code",
   "execution_count": 1,
   "metadata": {},
   "outputs": [
    {
     "name": "stdout",
     "output_type": "stream",
     "text": [
      "Detected IPython. Loading juliacall extension. See https://juliapy.github.io/PythonCall.jl/stable/compat/#IPython\n",
      "Initializing the Julia session. This can take up to 1 minute.\n",
      "initializing the ground sensor julia module\n",
      "installing packages\n",
      "initializing the drone julia module\n",
      "Julia session initialized.\n",
      "=== TEST PRINT: Entered RandomPlacementStrategy class definition ===\n",
      "=== TEST PRINT: Entered DroneRoutingOptimizationModelReuseIndex class definition ===\n"
     ]
    }
   ],
   "source": [
    "# import requred modules\n",
    "import sys\n",
    "import os\n",
    "import time\n",
    "import numpy as np\n",
    "import pandas as pd\n",
    "import matplotlib.pyplot as plt\n",
    "\n",
    "# Add code to path\n",
    "module_path = os.path.abspath(\".\") + \"/code\"\n",
    "if module_path not in sys.path:\n",
    "    sys.path.append(module_path)\n",
    "\n",
    "\n",
    "from dataset import preprocess_sim2real_dataset, load_scenario_npy, compute_and_save_burn_maps_sim2real_dataset\n",
    "from wrappers import wrap_log_sensor_strategy, wrap_log_drone_strategy\n",
    "from Strategy import RandomDroneRoutingStrategy, return_no_custom_parameters, SensorPlacementOptimization, RandomSensorPlacementStrategy, LoggedOptimizationSensorPlacementStrategy,DroneRoutingOptimizationSlow, DroneRoutingOptimizationModelReuse, DroneRoutingOptimizationModelReuseIndex, LoggedDroneRoutingStrategy, LogWrapperDrone, LogWrapperSensor\n",
    "from benchmark import run_benchmark_scenario,run_benchmark_scenarii_sequential, get_burnmap_parameters,run_benchmark_scenarii_sequential_precompute, benchmark_on_sim2real_dataset_precompute\n",
    "from displays import create_scenario_video\n",
    "from new_clustering import ClusteredDroneStrategyWrapper"
   ]
  },
  {
   "cell_type": "markdown",
   "metadata": {},
   "source": [
    "Uncomment the cell below to preprocess the dataset.\n",
    "- `n_max_scenarii_per_layout` controls the number of scenarios we convert from jpeg to NumPy files for each layout.\n",
    "- If executed on all ~50 layouts of the dataset, the code below takes ~15mins to run and generates **400 GB** of data. Make sure to have the space."
   ]
  },
  {
   "cell_type": "code",
   "execution_count": 5,
   "metadata": {},
   "outputs": [
    {
     "name": "stdout",
     "output_type": "stream",
     "text": [
      "Converting JPG scenarios to NPY for MinimalDataset/\n",
      "Computing burn maps...\n",
      "Computing burn map for MinimalDataset/0002/scenarii/ and files with extension .npy\n"
     ]
    },
    {
     "name": "stderr",
     "output_type": "stream",
     "text": [
      "100%|██████████| 5/5 [00:00<00:00, 31.16it/s]\n"
     ]
    },
    {
     "name": "stdout",
     "output_type": "stream",
     "text": [
      "Computing burn map for MinimalDataset/0001/scenarii/ and files with extension .npy\n"
     ]
    },
    {
     "name": "stderr",
     "output_type": "stream",
     "text": [
      "100%|██████████| 5/5 [00:00<00:00, 50.21it/s]\n"
     ]
    }
   ],
   "source": [
    "# preprocess_sim2real_dataset(\"MinimalDataset/\", n_max_scenarii_per_layout=100) "
   ]
  },
  {
   "cell_type": "markdown",
   "metadata": {},
   "source": [
    "We can now run the benchmark function on any scenario.\n",
    "1. We load the scenario using `load_scenario_npy` since it is in preprocessed `npy` format\n",
    "2. Werun the benchmark using `run_benchmark_scenario` that takes as input:\n",
    "    - The `scenario`, \n",
    "    - The sensor placement strategy and the drone routing strategy\n",
    "    - A dictionary `custom_initialization_parameters` that contains any custom initialization inputs for your strategy functions (such as the burn map if your strategy needs a burn map as input)\n",
    "    - A python function `custom_step_parameters_function` that returns a dictionary of custom inputs for your routing function. This function is executed by the benchmarking code at each time step. Your routing function will be called with: `routing(custom_step_parameters_function())` internally"
   ]
  },
  {
   "cell_type": "code",
   "execution_count": 2,
   "metadata": {},
   "outputs": [],
   "source": [
    "# change values here to change benchmarking parameters\n",
    "def my_automatic_layout_parameters(scenario:np.ndarray):\n",
    "    return {\n",
    "        \"N\": scenario.shape[1],\n",
    "        \"M\": scenario.shape[2],\n",
    "        \"max_battery_distance\": -10,\n",
    "        \"max_battery_time\": 20,\n",
    "        \"n_drones\": 10,\n",
    "        \"n_ground_stations\": 1,\n",
    "        \"n_charging_stations\": 5,\n",
    "    }"
   ]
  },
  {
   "cell_type": "code",
   "execution_count": 5,
   "metadata": {},
   "outputs": [
    {
     "name": "stdout",
     "output_type": "stream",
     "text": [
      "starting benchmark\n",
      "calling julia optimization model\n",
      "NEW STRATEGY 2\n",
      "Set parameter Username\n",
      "Set parameter LicenseID to value 2612529\n",
      "Academic license - for non-commercial use only - expires 2026-01-21\n",
      "Took 47.281925624702126 seconds\n",
      "Average risk equals\n",
      "optimization finished\n",
      "Charging Station Locations from Julia Optimization Model:  []\n",
      "ground sensor locations\n",
      "[(105, 229)]\n",
      "charging station locations\n",
      "[(109, 181), (110, 230), (111, 176), (114, 181), (114, 186)]\n",
      "Creating initial routing model (reusable)\n",
      "--- parameters for julia (Julia indexing) ---\n",
      "burnmap_filename: ./MinimalDataset/0001/burn_map.npy\n",
      "n_drones: 10\n",
      "charging_stations_locations: [(111, 231), (115, 182), (112, 177), (115, 187), (110, 182)]\n",
      "ground_sensor_locations: [(106, 230)]\n",
      "optimization_horizon: 5\n",
      "Set parameter Username\n",
      "Set parameter LicenseID to value 2612529\n",
      "Academic license - for non-commercial use only - expires 2026-01-21\n",
      "Model created in 6.267665292136371 seconds\n",
      "DEBUG: Charging Stations received in Julia:\n",
      "[(111, 231), (115, 182), (112, 177), (115, 187), (110, 182)]\n",
      "Creating init constraints took 0.0014489591121673584 seconds\n",
      "Optimizing model took 3.9440979580394924 seconds\n",
      "Drone starting positions (Julia): [644, 462, 325, 386, 555]\n",
      "Charging Stations (Julia): [(111, 231), (115, 182), (112, 177), (115, 187), (110, 182)]\n",
      "Solver Status: OPTIMAL\n",
      "Objective Value: 5.22196084074676\n",
      "movement_plan: [[(\"fly\", (115, 182)), (\"fly\", (115, 182)), (\"fly\", (112, 177)), (\"fly\", (112, 177)), (\"fly\", (115, 187)), (\"fly\", (115, 187)), (\"fly\", (110, 182)), (\"fly\", (111, 231)), (\"fly\", (110, 182)), (\"fly\", (111, 231))], [(\"fly\", (114, 181)), (\"fly\", (114, 181)), (\"fly\", (112, 176)), (\"fly\", (113, 176)), (\"fly\", (114, 187)), (\"fly\", (114, 186)), (\"fly\", (111, 181)), (\"fly\", (110, 231)), (\"fly\", (111, 181)), (\"fly\", (110, 230))], [(\"fly\", (113, 180)), (\"fly\", (113, 182)), (\"fly\", (113, 176)), (\"fly\", (114, 177)), (\"fly\", (113, 186)), (\"fly\", (113, 185)), (\"fly\", (112, 180)), (\"fly\", (110, 231)), (\"fly\", (111, 180)), (\"fly\", (110, 230))], [(\"fly\", (112, 179)), (\"fly\", (112, 182)), (\"fly\", (114, 177)), (\"fly\", (113, 176)), (\"fly\", (114, 185)), (\"fly\", (112, 184)), (\"fly\", (112, 181)), (\"fly\", (111, 232)), (\"fly\", (111, 181)), (\"fly\", (110, 230))], [(\"fly\", (111, 180)), (\"fly\", (111, 181)), (\"fly\", (115, 177)), (\"fly\", (113, 176)), (\"fly\", (115, 184)), (\"fly\", (111, 183)), (\"fly\", (113, 182)), (\"fly\", (112, 231)), (\"fly\", (112, 181)), (\"fly\", (110, 230))]]\n",
      "Initial optimization finished\n",
      "\n",
      "DEBUG: Available Charging Stations (after model creation): {(110, 230), (114, 181), (111, 176), (114, 186), (109, 181)}\n",
      "\n",
      "DEBUG: Initial Drone Locations: [('fly', (114, 181)), ('fly', (114, 181)), ('fly', (111, 176)), ('fly', (111, 176)), ('fly', (114, 186)), ('fly', (114, 186)), ('fly', (109, 181)), ('fly', (110, 230)), ('fly', (109, 181)), ('fly', (110, 230))]\n",
      "Creating initial routing model (reusable)\n",
      "--- parameters for julia (Julia indexing) ---\n",
      "burnmap_filename: ./MinimalDataset/0001/burn_map.npy\n",
      "n_drones: 10\n",
      "charging_stations_locations: [(111, 231), (115, 182), (112, 177), (115, 187), (110, 182)]\n",
      "ground_sensor_locations: [(106, 230)]\n",
      "optimization_horizon: 5\n",
      "Set parameter Username\n",
      "Set parameter LicenseID to value 2612529\n",
      "Academic license - for non-commercial use only - expires 2026-01-21\n",
      "Model created in 5.1873212503269315 seconds\n",
      "DEBUG: Charging Stations received in Julia:\n",
      "[(111, 231), (115, 182), (112, 177), (115, 187), (110, 182)]\n",
      "Creating init constraints took 0.002060625236481428 seconds\n",
      "Optimizing model took 4.419428541790694 seconds\n",
      "Drone starting positions (Julia): [644, 462, 325, 386, 555]\n",
      "Charging Stations (Julia): [(111, 231), (115, 182), (112, 177), (115, 187), (110, 182)]\n",
      "Solver Status: OPTIMAL\n",
      "Objective Value: 5.22196084074676\n",
      "movement_plan: [[(\"fly\", (115, 182)), (\"fly\", (115, 182)), (\"fly\", (112, 177)), (\"fly\", (112, 177)), (\"fly\", (115, 187)), (\"fly\", (115, 187)), (\"fly\", (110, 182)), (\"fly\", (111, 231)), (\"fly\", (110, 182)), (\"fly\", (111, 231))], [(\"fly\", (114, 181)), (\"fly\", (114, 181)), (\"fly\", (112, 176)), (\"fly\", (113, 176)), (\"fly\", (114, 187)), (\"fly\", (114, 186)), (\"fly\", (111, 181)), (\"fly\", (110, 231)), (\"fly\", (111, 181)), (\"fly\", (110, 230))], [(\"fly\", (113, 180)), (\"fly\", (113, 182)), (\"fly\", (113, 176)), (\"fly\", (114, 177)), (\"fly\", (113, 186)), (\"fly\", (113, 185)), (\"fly\", (112, 180)), (\"fly\", (110, 231)), (\"fly\", (111, 180)), (\"fly\", (110, 230))], [(\"fly\", (112, 179)), (\"fly\", (112, 182)), (\"fly\", (114, 177)), (\"fly\", (113, 176)), (\"fly\", (114, 185)), (\"fly\", (112, 184)), (\"fly\", (112, 181)), (\"fly\", (111, 232)), (\"fly\", (111, 181)), (\"fly\", (110, 230))], [(\"fly\", (111, 180)), (\"fly\", (111, 181)), (\"fly\", (115, 177)), (\"fly\", (113, 176)), (\"fly\", (115, 184)), (\"fly\", (111, 183)), (\"fly\", (113, 182)), (\"fly\", (112, 231)), (\"fly\", (112, 181)), (\"fly\", (110, 230))]]\n",
      "Initial optimization finished\n",
      "\n",
      "DEBUG: Available Charging Stations (after model creation): {(110, 230), (114, 181), (111, 176), (114, 186), (109, 181)}\n",
      "[debug] returning plan step 1 of 5\n",
      "{'delta_t': 1, 'device': 'drone', 'avg_execution_time': np.float64(1.0967254638671875e-05), 'fire_size_cells': np.int64(12), 'fire_size_percentage': np.float64(0.036044695422323685), 'percentage_map_explored': 0.03904842004085066, 'total_distance_traveled': 17, 'avg_drone_entropy': np.float64(2.0253262207700677), 'sensor_entropy': np.float64(0.0)}\n",
      "Time taken to run benchmark on the scenario: 67.25549602508545 seconds\n"
     ]
    }
   ],
   "source": [
    "# That's very fast to run!\n",
    "print(\"starting benchmark\")\n",
    "time_start = time.time()\n",
    "scenario = load_scenario_npy(\"MinimalDataset/0001/scenarii/0001_00002.npy\")\n",
    "results, (position_history, ground, charging)  = run_benchmark_scenario(scenario, SensorPlacementOptimization, DroneRoutingOptimizationModelReuseIndex, custom_initialization_parameters = {\"burnmap_filename\": \"./MinimalDataset/0001/burn_map.npy\", \"load_from_logfile\": False, \"reevaluation_step\": 5, \"optimization_horizon\":5, \"strategy_drone\": DroneRoutingOptimizationModelReuseIndex, \"strategy_sensor\": RandomSensorPlacementStrategy}, custom_step_parameters_function = return_no_custom_parameters, automatic_initialization_parameters_function=my_automatic_layout_parameters, return_history=True)\n",
    "print(results)\n",
    "print(f\"Time taken to run benchmark on the scenario: {time.time() - time_start} seconds\")\n",
    "\n",
    "\n"
   ]
  },
  {
   "cell_type": "code",
   "execution_count": 2,
   "metadata": {},
   "outputs": [
    {
     "name": "stdout",
     "output_type": "stream",
     "text": [
      "[5, 5]\n"
     ]
    },
    {
     "ename": "TypeError",
     "evalue": "__init__() missing 1 required positional argument: 'ground_sensors'",
     "output_type": "error",
     "traceback": [
      "\u001b[0;31m---------------------------------------------------------------------------\u001b[0m",
      "\u001b[0;31mTypeError\u001b[0m                                 Traceback (most recent call last)",
      "Cell \u001b[0;32mIn[2], line 19\u001b[0m\n\u001b[1;32m     15\u001b[0m     drones_per_cluster[i] \u001b[38;5;241m+\u001b[39m\u001b[38;5;241m=\u001b[39m \u001b[38;5;241m1\u001b[39m\n\u001b[1;32m     17\u001b[0m \u001b[38;5;28mprint\u001b[39m(drones_per_cluster)\n\u001b[0;32m---> 19\u001b[0m clustered_strat \u001b[38;5;241m=\u001b[39m \u001b[43mClusteredDroneStrategyWrapper\u001b[49m\u001b[43m(\u001b[49m\n\u001b[1;32m     20\u001b[0m \u001b[43m        \u001b[49m\u001b[43mStrategyClass\u001b[49m\u001b[38;5;241;43m=\u001b[39;49m\u001b[43mDroneRoutingOptimizationModelReuseIndex\u001b[49m\u001b[43m,\u001b[49m\n\u001b[1;32m     21\u001b[0m \u001b[43m        \u001b[49m\u001b[43mSensorStrategyClass\u001b[49m\u001b[38;5;241;43m=\u001b[39;49m\u001b[43mSensorPlacementOptimization\u001b[49m\u001b[43m,\u001b[49m\n\u001b[1;32m     22\u001b[0m \u001b[43m        \u001b[49m\u001b[43mcharging_stations\u001b[49m\u001b[38;5;241;43m=\u001b[39;49m\u001b[43m[\u001b[49m\u001b[43m(\u001b[49m\u001b[38;5;241;43m111\u001b[39;49m\u001b[43m,\u001b[49m\u001b[43m \u001b[49m\u001b[38;5;241;43m231\u001b[39;49m\u001b[43m)\u001b[49m\u001b[43m,\u001b[49m\u001b[43m \u001b[49m\u001b[43m(\u001b[49m\u001b[38;5;241;43m115\u001b[39;49m\u001b[43m,\u001b[49m\u001b[43m \u001b[49m\u001b[38;5;241;43m182\u001b[39;49m\u001b[43m)\u001b[49m\u001b[43m,\u001b[49m\u001b[43m \u001b[49m\u001b[43m(\u001b[49m\u001b[38;5;241;43m112\u001b[39;49m\u001b[43m,\u001b[49m\u001b[43m \u001b[49m\u001b[38;5;241;43m177\u001b[39;49m\u001b[43m)\u001b[49m\u001b[43m,\u001b[49m\u001b[43m \u001b[49m\u001b[43m(\u001b[49m\u001b[38;5;241;43m115\u001b[39;49m\u001b[43m,\u001b[49m\u001b[43m \u001b[49m\u001b[38;5;241;43m187\u001b[39;49m\u001b[43m)\u001b[49m\u001b[43m,\u001b[49m\u001b[43m \u001b[49m\u001b[43m(\u001b[49m\u001b[38;5;241;43m110\u001b[39;49m\u001b[43m,\u001b[49m\u001b[43m \u001b[49m\u001b[38;5;241;43m182\u001b[39;49m\u001b[43m)\u001b[49m\u001b[43m]\u001b[49m\u001b[43m,\u001b[49m\n\u001b[1;32m     23\u001b[0m \u001b[43m        \u001b[49m\u001b[43mdrone_battery\u001b[49m\u001b[38;5;241;43m=\u001b[39;49m\u001b[38;5;241;43m20\u001b[39;49m\u001b[43m,\u001b[49m\n\u001b[1;32m     24\u001b[0m \u001b[43m        \u001b[49m\u001b[43mdrones_per_cluster\u001b[49m\u001b[38;5;241;43m=\u001b[39;49m\u001b[43mdrones_per_cluster\u001b[49m\u001b[43m,\u001b[49m\n\u001b[1;32m     25\u001b[0m \u001b[43m        \u001b[49m\u001b[43mtimesteps\u001b[49m\u001b[38;5;241;43m=\u001b[39;49m\u001b[38;5;241;43m20\u001b[39;49m\u001b[43m,\u001b[49m\n\u001b[1;32m     26\u001b[0m \u001b[43m        \u001b[49m\u001b[43mhalf_extent\u001b[49m\u001b[38;5;241;43m=\u001b[39;49m\u001b[38;5;241;43m3.0\u001b[39;49m\u001b[43m,\u001b[49m\n\u001b[1;32m     27\u001b[0m \u001b[43m        \u001b[49m\u001b[43mtotal_ground_sensors\u001b[49m\u001b[38;5;241;43m=\u001b[39;49m\u001b[38;5;241;43m1\u001b[39;49m\u001b[43m,\u001b[49m\n\u001b[1;32m     28\u001b[0m \u001b[43m        \u001b[49m\u001b[43mcustom_init_params\u001b[49m\u001b[38;5;241;43m=\u001b[39;49m\u001b[43mcustom_params\u001b[49m\n\u001b[1;32m     29\u001b[0m \u001b[43m    \u001b[49m\u001b[43m)\u001b[49m\n",
      "\u001b[0;31mTypeError\u001b[0m: __init__() missing 1 required positional argument: 'ground_sensors'"
     ]
    }
   ],
   "source": [
    "custom_params = {\"burnmap_filename\": \"./MinimalDataset/0001/burn_map.npy\", \"load_from_logfile\": False, \"reevaluation_step\": 5, \"optimization_horizon\":5, \"strategy_drone\": DroneRoutingOptimizationModelReuseIndex, \"strategy_sensor\": RandomSensorPlacementStrategy}\n",
    "clusters = ClusteredDroneStrategyWrapper.find_clusters(\n",
    "    ClusteredDroneStrategyWrapper,\n",
    "    charging_stations=[(111, 231), (115, 182), (112, 177), (115, 187), (110, 182)],\n",
    "    drone_battery=20\n",
    ")\n",
    "\n",
    "num_clusters = len(clusters)\n",
    "total_drones = 10\n",
    "\n",
    "# evenly distribute drones\n",
    "base = total_drones // num_clusters\n",
    "drones_per_cluster = [base] * num_clusters\n",
    "for i in range(total_drones % num_clusters):\n",
    "    drones_per_cluster[i] += 1\n",
    "\n",
    "print(drones_per_cluster)\n",
    "        \n",
    "clustered_strat = ClusteredDroneStrategyWrapper(\n",
    "        StrategyClass=DroneRoutingOptimizationModelReuseIndex,\n",
    "        SensorStrategyClass=SensorPlacementOptimization,\n",
    "        charging_stations=[(111, 231), (115, 182), (112, 177), (115, 187), (110, 182)],\n",
    "        drone_battery=20,\n",
    "        drones_per_cluster=drones_per_cluster,\n",
    "        timesteps=20,\n",
    "        half_extent=3.0,\n",
    "        total_ground_sensors=1,\n",
    "        custom_init_params=custom_params\n",
    "    )"
   ]
  },
  {
   "cell_type": "code",
   "execution_count": 6,
   "metadata": {},
   "outputs": [],
   "source": [
    "def make_clustered_drone_strategy(auto_params, custom_params):\n",
    "    # Wrap the strategy with logging\n",
    "    LoggedDroneStrategy = wrap_log_drone_strategy(DroneRoutingOptimizationModelReuseIndex)\n",
    "\n",
    "    # Use classmethod directly to get clusters before full init\n",
    "    clusters = ClusteredDroneStrategyWrapper.find_clusters(\n",
    "        ClusteredDroneStrategyWrapper,\n",
    "        charging_stations=auto_params[\"charging_stations_locations\"],\n",
    "        drone_battery=6.0\n",
    "    )\n",
    "\n",
    "    num_clusters = len(clusters)\n",
    "    total_drones = auto_params[\"n_drones\"]\n",
    "\n",
    "    # evenly distribute drones\n",
    "    base = total_drones // num_clusters\n",
    "    drones_per_cluster = [base] * num_clusters\n",
    "    for i in range(total_drones % num_clusters):\n",
    "        drones_per_cluster[i] += 1\n",
    "\n",
    "    return ClusteredDroneStrategyWrapper(\n",
    "        StrategyClass=LoggedDroneStrategy,\n",
    "        SensorStrategyClass=RandomSensorPlacementStrategy,\n",
    "        charging_stations=auto_params[\"charging_stations_locations\"],\n",
    "        ground_sensor_locations=[(10,10)],\n",
    "        drone_battery=10,\n",
    "        drones_per_cluster=drones_per_cluster,\n",
    "        timesteps=20,\n",
    "        half_extent=5,\n",
    "        total_ground_sensors=auto_params[\"n_ground_stations\"],\n",
    "        custom_init_params=custom_params\n",
    "    )"
   ]
  },
  {
   "cell_type": "code",
   "execution_count": 7,
   "metadata": {},
   "outputs": [
    {
     "name": "stdout",
     "output_type": "stream",
     "text": [
      "working on it...\n",
      "Running benchmarks...\n",
      "\n",
      " --- \n",
      " Processing layout MinimalDataset/0002\n",
      "input_dir: MinimalDataset/0002/scenarii/\n",
      "RandomSensorPlacementStrategy\n"
     ]
    },
    {
     "ename": "TypeError",
     "evalue": "__init__() got an unexpected keyword argument 'ground_sensor_locations'",
     "output_type": "error",
     "traceback": [
      "\u001b[0;31m---------------------------------------------------------------------------\u001b[0m",
      "\u001b[0;31mTypeError\u001b[0m                                 Traceback (most recent call last)",
      "Cell \u001b[0;32mIn[7], line 18\u001b[0m\n\u001b[1;32m     16\u001b[0m \u001b[38;5;66;03m# Run the benchmark and collect metrics\u001b[39;00m\n\u001b[1;32m     17\u001b[0m \u001b[38;5;28mprint\u001b[39m(\u001b[38;5;124m\"\u001b[39m\u001b[38;5;124mRunning benchmarks...\u001b[39m\u001b[38;5;124m\"\u001b[39m)\n\u001b[0;32m---> 18\u001b[0m metrics_by_layout \u001b[38;5;241m=\u001b[39m \u001b[43mbenchmark_on_sim2real_dataset_precompute\u001b[49m\u001b[43m(\u001b[49m\n\u001b[1;32m     19\u001b[0m \u001b[43m    \u001b[49m\u001b[43mdataset_folder_name\u001b[49m\u001b[38;5;241;43m=\u001b[39;49m\u001b[38;5;124;43m\"\u001b[39;49m\u001b[38;5;124;43mMinimalDataset/\u001b[39;49m\u001b[38;5;124;43m\"\u001b[39;49m\u001b[43m,\u001b[49m\n\u001b[1;32m     20\u001b[0m \u001b[43m    \u001b[49m\u001b[43mground_placement_strategy\u001b[49m\u001b[38;5;241;43m=\u001b[39;49m\u001b[43mRandomSensorPlacementStrategy\u001b[49m\u001b[43m,\u001b[49m\n\u001b[1;32m     21\u001b[0m \u001b[43m    \u001b[49m\u001b[43mdrone_routing_strategy\u001b[49m\u001b[38;5;241;43m=\u001b[39;49m\u001b[43mmake_clustered_drone_strategy\u001b[49m\u001b[43m,\u001b[49m\n\u001b[1;32m     22\u001b[0m \u001b[43m    \u001b[49m\u001b[43mcustom_initialization_parameters_function\u001b[49m\u001b[38;5;241;43m=\u001b[39;49m\u001b[43mcustom_initialization_parameters_function\u001b[49m\u001b[43m,\u001b[49m\n\u001b[1;32m     23\u001b[0m \u001b[43m    \u001b[49m\u001b[43mcustom_step_parameters_function\u001b[49m\u001b[38;5;241;43m=\u001b[39;49m\u001b[43mreturn_no_custom_parameters\u001b[49m\u001b[43m,\u001b[49m\n\u001b[1;32m     24\u001b[0m \u001b[43m    \u001b[49m\u001b[43mmax_n_scenarii\u001b[49m\u001b[38;5;241;43m=\u001b[39;49m\u001b[38;5;241;43m1\u001b[39;49m\u001b[43m,\u001b[49m\n\u001b[1;32m     25\u001b[0m \u001b[43m    \u001b[49m\u001b[43mstarting_time\u001b[49m\u001b[38;5;241;43m=\u001b[39;49m\u001b[38;5;241;43m0\u001b[39;49m\n\u001b[1;32m     26\u001b[0m \u001b[43m)\u001b[49m\n",
      "File \u001b[0;32m~/Desktop/Climate/wildfire_drone_routing/code/benchmark.py:648\u001b[0m, in \u001b[0;36mbenchmark_on_sim2real_dataset_precompute\u001b[0;34m(dataset_folder_name, ground_placement_strategy, drone_routing_strategy, custom_initialization_parameters_function, custom_step_parameters_function, max_n_scenarii, starting_time, max_n_layouts)\u001b[0m\n\u001b[1;32m    645\u001b[0m         \u001b[38;5;28mprint\u001b[39m(\u001b[38;5;124mf\u001b[39m\u001b[38;5;124m\"\u001b[39m\u001b[38;5;124mNo scenarii folder found in \u001b[39m\u001b[38;5;132;01m{\u001b[39;00mlayout_folder\u001b[38;5;132;01m}\u001b[39;00m\u001b[38;5;124m, skipping...\u001b[39m\u001b[38;5;124m\"\u001b[39m)\n\u001b[1;32m    646\u001b[0m         \u001b[38;5;28;01mcontinue\u001b[39;00m\n\u001b[0;32m--> 648\u001b[0m     metrics \u001b[38;5;241m=\u001b[39m \u001b[43mrun_benchmark_scenarii_sequential_precompute\u001b[49m\u001b[43m(\u001b[49m\n\u001b[1;32m    649\u001b[0m \u001b[43m        \u001b[49m\u001b[43mlayout_folder\u001b[49m\u001b[43m \u001b[49m\u001b[38;5;241;43m+\u001b[39;49m\u001b[43m \u001b[49m\u001b[38;5;124;43m\"\u001b[39;49m\u001b[38;5;124;43m/scenarii/\u001b[39;49m\u001b[38;5;124;43m\"\u001b[39;49m\u001b[43m,\u001b[49m\n\u001b[1;32m    650\u001b[0m \u001b[43m        \u001b[49m\u001b[43mground_placement_strategy\u001b[49m\u001b[43m,\u001b[49m\u001b[43m \u001b[49m\n\u001b[1;32m    651\u001b[0m \u001b[43m        \u001b[49m\u001b[43mdrone_routing_strategy\u001b[49m\u001b[43m,\u001b[49m\u001b[43m \u001b[49m\n\u001b[1;32m    652\u001b[0m \u001b[43m        \u001b[49m\u001b[43mcustom_initialization_parameters_function\u001b[49m\u001b[43m,\u001b[49m\u001b[43m \u001b[49m\n\u001b[1;32m    653\u001b[0m \u001b[43m        \u001b[49m\u001b[43mcustom_step_parameters_function\u001b[49m\u001b[43m,\u001b[49m\u001b[43m \u001b[49m\n\u001b[1;32m    654\u001b[0m \u001b[43m        \u001b[49m\u001b[43mstarting_time\u001b[49m\u001b[38;5;241;43m=\u001b[39;49m\u001b[43mstarting_time\u001b[49m\u001b[43m,\u001b[49m\u001b[43m \u001b[49m\n\u001b[1;32m    655\u001b[0m \u001b[43m        \u001b[49m\u001b[43mmax_n_scenarii\u001b[49m\u001b[38;5;241;43m=\u001b[39;49m\u001b[43mmax_n_scenarii\u001b[49m\n\u001b[1;32m    656\u001b[0m \u001b[43m    \u001b[49m\u001b[43m)\u001b[49m\n\u001b[1;32m    658\u001b[0m     all_metrics[layout_name] \u001b[38;5;241m=\u001b[39m metrics\n\u001b[1;32m    660\u001b[0m \u001b[38;5;28;01mreturn\u001b[39;00m all_metrics\n",
      "File \u001b[0;32m~/Desktop/Climate/wildfire_drone_routing/code/benchmark.py:615\u001b[0m, in \u001b[0;36mrun_benchmark_scenarii_sequential_precompute\u001b[0;34m(input_dir, sensor_placement_strategy, drone_routing_strategy, custom_initialization_parameters_function, custom_step_parameters_function, starting_time, max_n_scenarii, file_format)\u001b[0m\n\u001b[1;32m    611\u001b[0m         canonical_scenario \u001b[38;5;241m=\u001b[39m scenario\n\u001b[1;32m    613\u001b[0m \u001b[38;5;66;03m# precompute the sensor placement and drone routing strategy on canonical scenario\u001b[39;00m\n\u001b[1;32m    614\u001b[0m \u001b[38;5;66;03m#print(\"Precomputing sensor placement and drone routing strategy on canonical scenario...\")\u001b[39;00m\n\u001b[0;32m--> 615\u001b[0m \u001b[43mrun_drone_routing_strategy\u001b[49m\u001b[43m(\u001b[49m\u001b[43mdrone_routing_strategy\u001b[49m\u001b[43m,\u001b[49m\u001b[43m \u001b[49m\u001b[43msensor_placement_strategy\u001b[49m\u001b[43m,\u001b[49m\u001b[43m \u001b[49m\u001b[43mmax_scenario_length\u001b[49m\u001b[43m,\u001b[49m\u001b[43m \u001b[49m\u001b[43mcanonical_scenario\u001b[49m\u001b[43m,\u001b[49m\u001b[43m \u001b[49m\u001b[43mget_automatic_layout_parameters\u001b[49m\u001b[43m,\u001b[49m\u001b[43m \u001b[49m\u001b[43mcustom_initialization_parameters_function\u001b[49m\u001b[43m,\u001b[49m\u001b[43m \u001b[49m\u001b[43mcustom_step_parameters_function\u001b[49m\u001b[43m,\u001b[49m\u001b[43m \u001b[49m\u001b[43minput_dir\u001b[49m\u001b[43m)\u001b[49m \n\u001b[1;32m    616\u001b[0m \u001b[38;5;66;03m#print(\"running on all scenarios...\")\u001b[39;00m\n\u001b[1;32m    617\u001b[0m \u001b[38;5;28;01mreturn\u001b[39;00m run_benchmark_scenarii_sequential(input_dir, sensor_placement_strategy, drone_routing_strategy, custom_initialization_parameters_function, custom_step_parameters_function, starting_time, max_n_scenarii, file_format)\n",
      "File \u001b[0;32m~/Desktop/Climate/wildfire_drone_routing/code/benchmark.py:103\u001b[0m, in \u001b[0;36mrun_drone_routing_strategy\u001b[0;34m(drone_routing_strategy, sensor_placement_strategy, T, canonical_scenario, automatic_initialization_parameters_function, custom_initialization_parameters_function, custom_step_parameters_function, input_dir)\u001b[0m\n\u001b[1;32m    100\u001b[0m automatic_initialization_parameters[\u001b[38;5;124m\"\u001b[39m\u001b[38;5;124mcharging_stations_locations\u001b[39m\u001b[38;5;124m\"\u001b[39m] \u001b[38;5;241m=\u001b[39m charging_stations_locations\n\u001b[1;32m    102\u001b[0m \u001b[38;5;66;03m# 3. Initialize drones\u001b[39;00m\n\u001b[0;32m--> 103\u001b[0m Routing_Strat \u001b[38;5;241m=\u001b[39m \u001b[43mdrone_routing_strategy\u001b[49m\u001b[43m(\u001b[49m\u001b[43mautomatic_initialization_parameters\u001b[49m\u001b[43m,\u001b[49m\u001b[43m \u001b[49m\u001b[43mcustom_initialization_parameters\u001b[49m\u001b[43m)\u001b[49m\n\u001b[1;32m    104\u001b[0m drones \u001b[38;5;241m=\u001b[39m [Drone(x,y,state,charging_stations_locations,automatic_initialization_parameters[\u001b[38;5;124m\"\u001b[39m\u001b[38;5;124mN\u001b[39m\u001b[38;5;124m\"\u001b[39m],automatic_initialization_parameters[\u001b[38;5;124m\"\u001b[39m\u001b[38;5;124mM\u001b[39m\u001b[38;5;124m\"\u001b[39m], automatic_initialization_parameters[\u001b[38;5;124m\"\u001b[39m\u001b[38;5;124mmax_battery_distance\u001b[39m\u001b[38;5;124m\"\u001b[39m], automatic_initialization_parameters[\u001b[38;5;124m\"\u001b[39m\u001b[38;5;124mmax_battery_time\u001b[39m\u001b[38;5;124m\"\u001b[39m],automatic_initialization_parameters[\u001b[38;5;124m\"\u001b[39m\u001b[38;5;124mmax_battery_distance\u001b[39m\u001b[38;5;124m\"\u001b[39m]\u001b[38;5;241m-\u001b[39m\u001b[38;5;241m1\u001b[39m\u001b[38;5;241m*\u001b[39m(state\u001b[38;5;241m==\u001b[39m\u001b[38;5;124m'\u001b[39m\u001b[38;5;124mfly\u001b[39m\u001b[38;5;124m'\u001b[39m), automatic_initialization_parameters[\u001b[38;5;124m\"\u001b[39m\u001b[38;5;124mmax_battery_time\u001b[39m\u001b[38;5;124m\"\u001b[39m]\u001b[38;5;241m-\u001b[39m\u001b[38;5;241m1\u001b[39m\u001b[38;5;241m*\u001b[39m(state\u001b[38;5;241m==\u001b[39m\u001b[38;5;124m'\u001b[39m\u001b[38;5;124mfly\u001b[39m\u001b[38;5;124m'\u001b[39m)) \u001b[38;5;28;01mfor\u001b[39;00m (state,(x,y)) \u001b[38;5;129;01min\u001b[39;00m Routing_Strat\u001b[38;5;241m.\u001b[39mget_initial_drone_locations()]\n\u001b[1;32m    105\u001b[0m drone_locations \u001b[38;5;241m=\u001b[39m [drone\u001b[38;5;241m.\u001b[39mget_position() \u001b[38;5;28;01mfor\u001b[39;00m drone \u001b[38;5;129;01min\u001b[39;00m drones]\n",
      "Cell \u001b[0;32mIn[6], line 21\u001b[0m, in \u001b[0;36mmake_clustered_drone_strategy\u001b[0;34m(auto_params, custom_params)\u001b[0m\n\u001b[1;32m     18\u001b[0m \u001b[38;5;28;01mfor\u001b[39;00m i \u001b[38;5;129;01min\u001b[39;00m \u001b[38;5;28mrange\u001b[39m(total_drones \u001b[38;5;241m%\u001b[39m num_clusters):\n\u001b[1;32m     19\u001b[0m     drones_per_cluster[i] \u001b[38;5;241m+\u001b[39m\u001b[38;5;241m=\u001b[39m \u001b[38;5;241m1\u001b[39m\n\u001b[0;32m---> 21\u001b[0m \u001b[38;5;28;01mreturn\u001b[39;00m \u001b[43mClusteredDroneStrategyWrapper\u001b[49m\u001b[43m(\u001b[49m\n\u001b[1;32m     22\u001b[0m \u001b[43m    \u001b[49m\u001b[43mStrategyClass\u001b[49m\u001b[38;5;241;43m=\u001b[39;49m\u001b[43mLoggedDroneStrategy\u001b[49m\u001b[43m,\u001b[49m\n\u001b[1;32m     23\u001b[0m \u001b[43m    \u001b[49m\u001b[43mSensorStrategyClass\u001b[49m\u001b[38;5;241;43m=\u001b[39;49m\u001b[43mRandomSensorPlacementStrategy\u001b[49m\u001b[43m,\u001b[49m\n\u001b[1;32m     24\u001b[0m \u001b[43m    \u001b[49m\u001b[43mcharging_stations\u001b[49m\u001b[38;5;241;43m=\u001b[39;49m\u001b[43mauto_params\u001b[49m\u001b[43m[\u001b[49m\u001b[38;5;124;43m\"\u001b[39;49m\u001b[38;5;124;43mcharging_stations_locations\u001b[39;49m\u001b[38;5;124;43m\"\u001b[39;49m\u001b[43m]\u001b[49m\u001b[43m,\u001b[49m\n\u001b[1;32m     25\u001b[0m \u001b[43m    \u001b[49m\u001b[43mground_sensor_locations\u001b[49m\u001b[38;5;241;43m=\u001b[39;49m\u001b[43m[\u001b[49m\u001b[43m(\u001b[49m\u001b[38;5;241;43m10\u001b[39;49m\u001b[43m,\u001b[49m\u001b[38;5;241;43m10\u001b[39;49m\u001b[43m)\u001b[49m\u001b[43m]\u001b[49m\u001b[43m,\u001b[49m\n\u001b[1;32m     26\u001b[0m \u001b[43m    \u001b[49m\u001b[43mdrone_battery\u001b[49m\u001b[38;5;241;43m=\u001b[39;49m\u001b[38;5;241;43m10\u001b[39;49m\u001b[43m,\u001b[49m\n\u001b[1;32m     27\u001b[0m \u001b[43m    \u001b[49m\u001b[43mdrones_per_cluster\u001b[49m\u001b[38;5;241;43m=\u001b[39;49m\u001b[43mdrones_per_cluster\u001b[49m\u001b[43m,\u001b[49m\n\u001b[1;32m     28\u001b[0m \u001b[43m    \u001b[49m\u001b[43mtimesteps\u001b[49m\u001b[38;5;241;43m=\u001b[39;49m\u001b[38;5;241;43m20\u001b[39;49m\u001b[43m,\u001b[49m\n\u001b[1;32m     29\u001b[0m \u001b[43m    \u001b[49m\u001b[43mhalf_extent\u001b[49m\u001b[38;5;241;43m=\u001b[39;49m\u001b[38;5;241;43m5\u001b[39;49m\u001b[43m,\u001b[49m\n\u001b[1;32m     30\u001b[0m \u001b[43m    \u001b[49m\u001b[43mtotal_ground_sensors\u001b[49m\u001b[38;5;241;43m=\u001b[39;49m\u001b[43mauto_params\u001b[49m\u001b[43m[\u001b[49m\u001b[38;5;124;43m\"\u001b[39;49m\u001b[38;5;124;43mn_ground_stations\u001b[39;49m\u001b[38;5;124;43m\"\u001b[39;49m\u001b[43m]\u001b[49m\u001b[43m,\u001b[49m\n\u001b[1;32m     31\u001b[0m \u001b[43m    \u001b[49m\u001b[43mcustom_init_params\u001b[49m\u001b[38;5;241;43m=\u001b[39;49m\u001b[43mcustom_params\u001b[49m\n\u001b[1;32m     32\u001b[0m \u001b[43m\u001b[49m\u001b[43m)\u001b[49m\n",
      "\u001b[0;31mTypeError\u001b[0m: __init__() got an unexpected keyword argument 'ground_sensor_locations'"
     ]
    }
   ],
   "source": [
    "print(\"working on it...\")\n",
    "def custom_initialization_parameters_function(input_dir: str, layout_name: str = None):\n",
    "    print(f\"input_dir: {input_dir}\")\n",
    "    burnmap_path = f\"{'/'.join(input_dir.strip('/').split('/')[:-1])}/burn_map.npy\"\n",
    "    os.makedirs(\"logs\", exist_ok=True)\n",
    "\n",
    "    return {\n",
    "        \"burnmap_filename\": burnmap_path,\n",
    "        \"reevaluation_step\": 5,\n",
    "        \"optimization_horizon\": 10,\n",
    "        \"strategy_drone\": DroneRoutingOptimizationModelReuseIndex,\n",
    "        \"strategy_sensor\": RandomSensorPlacementStrategy,\n",
    "        \"recompute_logfile\": False  # toggle this to force refresh\n",
    "    }\n",
    "\n",
    "\n",
    "# Run the benchmark and collect metrics\n",
    "print(\"Running benchmarks...\")\n",
    "metrics_by_layout = benchmark_on_sim2real_dataset_precompute(\n",
    "    dataset_folder_name=\"MinimalDataset/\",\n",
    "    ground_placement_strategy=RandomSensorPlacementStrategy,\n",
    "    drone_routing_strategy=make_clustered_drone_strategy,\n",
    "    custom_initialization_parameters_function=custom_initialization_parameters_function,\n",
    "    custom_step_parameters_function=return_no_custom_parameters,\n",
    "    max_n_scenarii=1,\n",
    "    starting_time=0\n",
    ")"
   ]
  },
  {
   "cell_type": "code",
   "execution_count": 8,
   "metadata": {},
   "outputs": [
    {
     "ename": "ImportError",
     "evalue": "cannot import name 'DroneRoutingOptimizationExample' from 'Strategy' (/Users/puech/Desktop/Climate/wildfire_drone_routing/code/Strategy.py)",
     "output_type": "error",
     "traceback": [
      "\u001b[0;31m---------------------------------------------------------------------------\u001b[0m",
      "\u001b[0;31mImportError\u001b[0m                               Traceback (most recent call last)",
      "Cell \u001b[0;32mIn[8], line 2\u001b[0m\n\u001b[1;32m      1\u001b[0m \u001b[38;5;28;01mfrom\u001b[39;00m\u001b[38;5;250m \u001b[39m\u001b[38;5;21;01mbenchmark\u001b[39;00m\u001b[38;5;250m \u001b[39m\u001b[38;5;28;01mimport\u001b[39;00m benchmark_on_sim2real_dataset_precompute, build_custom_init_params, return_no_custom_parameters\n\u001b[0;32m----> 2\u001b[0m \u001b[38;5;28;01mfrom\u001b[39;00m\u001b[38;5;250m \u001b[39m\u001b[38;5;21;01mStrategy\u001b[39;00m\u001b[38;5;250m \u001b[39m\u001b[38;5;28;01mimport\u001b[39;00m RandomSensorPlacementStrategy, DroneRoutingOptimizationExample\n\u001b[1;32m      3\u001b[0m \u001b[38;5;28;01mfrom\u001b[39;00m\u001b[38;5;250m \u001b[39m\u001b[38;5;21;01mplot_metrics\u001b[39;00m\u001b[38;5;250m \u001b[39m\u001b[38;5;28;01mimport\u001b[39;00m plot_all_metrics_across_layouts\n\u001b[1;32m      4\u001b[0m \u001b[38;5;28;01mfrom\u001b[39;00m\u001b[38;5;250m \u001b[39m\u001b[38;5;21;01mplot_violin\u001b[39;00m\u001b[38;5;250m \u001b[39m\u001b[38;5;28;01mimport\u001b[39;00m gather_data_from_layouts, plot_violin_for_each_metric\n",
      "\u001b[0;31mImportError\u001b[0m: cannot import name 'DroneRoutingOptimizationExample' from 'Strategy' (/Users/puech/Desktop/Climate/wildfire_drone_routing/code/Strategy.py)"
     ]
    }
   ],
   "source": [
    "from benchmark import benchmark_on_sim2real_dataset_precompute, build_custom_init_params, return_no_custom_parameters\n",
    "from Strategy import RandomSensorPlacementStrategy, DroneRoutingOptimizationExample\n",
    "from plot_metrics import plot_all_metrics_across_layouts\n",
    "from plot_violin import gather_data_from_layouts, plot_violin_for_each_metric\n",
    "\n",
    "# Create output directories\n",
    "os.makedirs(\"plots\", exist_ok=True)\n",
    "os.makedirs(\"plots_violin\", exist_ok=True)\n",
    "\n",
    "# --- Step 2: Generate line plots per layout ---\n",
    "plot_all_metrics_across_layouts(\n",
    "    root_folder=\"MinimalDataset\",\n",
    "    sensor_strategy_cls=RandomSensorPlacementStrategy,\n",
    "    drone_strategy_cls=DroneRoutingOptimizationExample,\n",
    "    max_n_scenarii=100,\n",
    "    starting_time=0\n",
    ")\n",
    "\n",
    "# --- Step 3: Generate violin plots across strategies (optional but useful for comparison) ---\n",
    "from Strategy import RandomDroneRoutingStrategy, LoggedSensorPlacementStrategy, LoggedDroneRoutingStrategy\n",
    "\n",
    "STRATEGIES = [\n",
    "    (\"Random\", RandomSensorPlacementStrategy, RandomDroneRoutingStrategy),\n",
    "    (\"Logged\", LoggedSensorPlacementStrategy, LoggedDroneRoutingStrategy),\n",
    "    (\"Optimized\", RandomSensorPlacementStrategy, DroneRoutingOptimizationExample)\n",
    "]\n",
    "\n",
    "df_all = gather_data_from_layouts(\n",
    "    root_folder=\"MinimalDataset\",\n",
    "    strategies=STRATEGIES,\n",
    "    custom_init_params_fn=build_custom_init_params,\n",
    "    custom_step_params_fn=return_no_custom_parameters,\n",
    "    starting_time=0,\n",
    "    max_n_scenarii=100\n",
    ")\n",
    "\n",
    "if not df_all.empty:\n",
    "    plot_violin_for_each_metric(df_all, output_dir=\"plots_violin\")"
   ]
  },
  {
   "cell_type": "code",
   "execution_count": null,
   "metadata": {},
   "outputs": [],
   "source": [
    "create_scenario_video(scenario[:len(position_history)],drone_locations_history=position_history,starting_time=0,out_filename='test_simulation', ground_sensor_locations = ground, charging_stations_locations = charging)"
   ]
  },
  {
   "cell_type": "markdown",
   "metadata": {},
   "source": [
    "We can visualize the strategy in action by creating a video of the scenario. \n",
    "1. Use the `return_history` parameter or `run_benchmark_scenario` to output the log of ground sensor and drone positions during the benchmark\n",
    "2. Use the `create_scenario_video` function to compile the video. This can take a couple seconds"
   ]
  },
  {
   "cell_type": "code",
   "execution_count": null,
   "metadata": {},
   "outputs": [],
   "source": [
    "delta , device , (position_history, ground, charging)  = run_benchmark_scenario(scenario, SensorPlacementOptimization, RandomDroneRoutingStrategy, custom_initialization_parameters = {\"burnmap_filename\": \"./WideDataset/0001/burn_map.npy\"}, custom_step_parameters_function = return_no_custom_parameters, automatic_initialization_parameters_function=my_automatic_layout_parameters, return_history=True)\n",
    "create_scenario_video(scenario[:len(position_history)],drone_locations_history=position_history,starting_time=0,out_filename='test_simulation', ground_sensor_locations = ground, charging_stations_locations = charging)"
   ]
  },
  {
   "cell_type": "markdown",
   "metadata": {},
   "source": [
    "Instead of running a benchmark on a single scenario, we are interested in running the benchmark on all scenarii of a given layout (potentially in parallel!)\n",
    "\n",
    "1. We use `run_benchmark_scenarii_sequential`"
   ]
  },
  {
   "cell_type": "code",
   "execution_count": null,
   "metadata": {},
   "outputs": [],
   "source": [
    "run_benchmark_scenarii_sequential(\"MinimalDataset/0001/scenarii/\", RandomSensorPlacementStrategy, RandomDroneRoutingStrategy, custom_initialization_parameters_function = get_burnmap_parameters, custom_step_parameters_function = return_no_custom_parameters, starting_time=0, max_n_scenarii=3)\n",
    "run_benchmark_scenarii_sequential(\"MinimalDataset/0001/Satellite_Images_Mask/\", RandomSensorPlacementStrategy, RandomDroneRoutingStrategy, custom_initialization_parameters_function = get_burnmap_parameters, custom_step_parameters_function = return_no_custom_parameters, starting_time=0, max_n_scenarii=3, file_format=\"jpg\")"
   ]
  },
  {
   "cell_type": "markdown",
   "metadata": {},
   "source": [
    "On all of the dataset!"
   ]
  },
  {
   "cell_type": "code",
   "execution_count": null,
   "metadata": {},
   "outputs": [],
   "source": [
    "benchmark_on_sim2real_dataset(\"WideDataset/\", SensorPlacementStrategy, DroneRoutingStrategy, custom_initialization_parameters_function = lambda x: None, custom_step_parameters_function = return_no_custom_parameters, max_n_scenarii=100, starting_time=0)"
   ]
  },
  {
   "cell_type": "code",
   "execution_count": null,
   "metadata": {},
   "outputs": [],
   "source": [
    "# That's very fast to run!\n",
    "time_start = time.time()\n",
    "scenario = load_scenario_npy(\"WideDataset/0001/scenarii/0001_00002.npy\")\n",
    "device, delta_t, _ = run_benchmark_scenario(scenario, RandomSensorPlacementStrategy, DroneRoutingOptimizationSlow, custom_initialization_parameters = {\"burnmap_filename\": \"./WideDataset/0001/burn_map.npy\", \"call_every_n_steps\": 5, \"optimization_horizon\": 10}, custom_step_parameters_function = return_no_custom_parameters, automatic_initialization_parameters_function=my_automatic_layout_parameters, return_history=True)\n",
    "print(\"Fire detected in \", delta_t, \"time steps by device: \", device)\n",
    "print(f\"Time taken to run benchmark on the scenario: {time.time() - time_start} seconds\")\n"
   ]
  },
  {
   "cell_type": "markdown",
   "metadata": {},
   "source": []
  },
  {
   "cell_type": "code",
   "execution_count": null,
   "metadata": {},
   "outputs": [],
   "source": [
    "# define function to get parameters for optimal drone routing strategy\n",
    "# def get_routing_optimization_parameters(input_dir:str):\n",
    "#     return {\n",
    "#         \"burnmap_filename\": f\"{input_dir}/burn_map.npy\",\n",
    "#         \"call_every_n_steps\": 5,\n",
    "#         \"optimization_horizon\": 10\n",
    "#     }\n",
    "\n",
    "# add the log\n"
   ]
  },
  {
   "cell_type": "code",
   "execution_count": null,
   "metadata": {},
   "outputs": [],
   "source": []
  }
 ],
 "metadata": {
  "kernelspec": {
   "display_name": "Python 3",
   "language": "python",
   "name": "python3"
  },
  "language_info": {
   "codemirror_mode": {
    "name": "ipython",
    "version": 3
   },
   "file_extension": ".py",
   "mimetype": "text/x-python",
   "name": "python",
   "nbconvert_exporter": "python",
   "pygments_lexer": "ipython3",
   "version": "3.9.6"
  }
 },
 "nbformat": 4,
 "nbformat_minor": 2
}
