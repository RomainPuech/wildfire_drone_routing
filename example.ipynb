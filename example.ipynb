{
 "cells": [
  {
   "cell_type": "markdown",
   "metadata": {},
   "source": [
    "## Preprocess the Sim2Real dataset\n",
    "\n",
    "1. Download the dataset from [Sim2Real-Fire GitHub repository](https://github.com/TJU-IDVLab/Sim2Real-Fire).\n",
    "2. Extract all files from the dataset into your `Dataset` folder\n",
    "3. Run the preprocessing function as below"
   ]
  },
  {
   "cell_type": "code",
   "execution_count": null,
   "metadata": {},
   "outputs": [],
   "source": [
    "import sys\n",
    "import os\n",
    "\n",
    "# Add code to path\n",
    "module_path = os.path.abspath(\".\") + \"/code\"\n",
    "if module_path not in sys.path:\n",
    "    sys.path.append(module_path)\n",
    "\n",
    "from dataset import preprocess_sim2real_dataset"
   ]
  },
  {
   "cell_type": "code",
   "execution_count": 6,
   "metadata": {},
   "outputs": [
    {
     "name": "stdout",
     "output_type": "stream",
     "text": [
      "Converting JPG scenarios to NPY...\n",
      "Converting JPG scenarios to NPY for Dataset/\n",
      "Converting JPG scenarios to NPY for Dataset/0004_01191\n"
     ]
    },
    {
     "name": "stderr",
     "output_type": "stream",
     "text": [
      "100%|██████████| 1191/1191 [1:38:19<00:00,  4.95s/it]   \n"
     ]
    },
    {
     "name": "stdout",
     "output_type": "stream",
     "text": [
      "Converting JPG scenarios to NPY for Dataset/.DS_Store\n",
      "Converting JPG scenarios to NPY for Dataset/0003_01715\n"
     ]
    },
    {
     "name": "stderr",
     "output_type": "stream",
     "text": [
      "100%|██████████| 1716/1716 [09:33<00:00,  2.99it/s] \n"
     ]
    },
    {
     "name": "stdout",
     "output_type": "stream",
     "text": [
      "Converting JPG scenarios to NPY for Dataset/0005_00725\n"
     ]
    },
    {
     "name": "stderr",
     "output_type": "stream",
     "text": [
      "100%|██████████| 726/726 [03:03<00:00,  3.96it/s]\n"
     ]
    },
    {
     "name": "stdout",
     "output_type": "stream",
     "text": [
      "Computing burn maps...\n",
      "Computing burn map for Dataset/0004_01191/scenarii/\n"
     ]
    },
    {
     "name": "stderr",
     "output_type": "stream",
     "text": [
      "100%|██████████| 1191/1191 [00:39<00:00, 30.04it/s]\n"
     ]
    },
    {
     "name": "stdout",
     "output_type": "stream",
     "text": [
      "Computing burn map for Dataset/0003_01715/scenarii/\n"
     ]
    },
    {
     "name": "stderr",
     "output_type": "stream",
     "text": [
      "100%|██████████| 1715/1715 [00:41<00:00, 41.55it/s]\n"
     ]
    },
    {
     "name": "stdout",
     "output_type": "stream",
     "text": [
      "Computing burn map for Dataset/0005_00725/scenarii/\n"
     ]
    },
    {
     "name": "stderr",
     "output_type": "stream",
     "text": [
      "100%|██████████| 725/725 [00:12<00:00, 57.20it/s]\n"
     ]
    }
   ],
   "source": [
    "preprocess_sim2real_dataset(\"Dataset/\")"
   ]
  },
  {
   "cell_type": "code",
   "execution_count": 31,
   "metadata": {},
   "outputs": [],
   "source": [
    "\n",
    "def listdir_limited(input_dir, max_n_scenarii=None):\n",
    "    count = 0\n",
    "    with os.scandir(input_dir) as it:\n",
    "        for entry in it:\n",
    "            if entry.is_file() and (max_n_scenarii is None or count < max_n_scenarii):\n",
    "                yield input_dir + entry.name\n",
    "                count += 1"
   ]
  },
  {
   "cell_type": "code",
   "execution_count": 32,
   "metadata": {},
   "outputs": [],
   "source": [
    "def scan_all_files_listdir(input_dir):\n",
    "    if not input_dir.endswith('/'):\n",
    "        input_dir += '/'\n",
    "    count = 0\n",
    "    for file in os.listdir(input_dir):\n",
    "        count += 1\n",
    "    return count\n",
    "\n",
    "def scan_all_files_listdir_limited(input_dir):\n",
    "    if not input_dir.endswith('/'):\n",
    "        input_dir += '/'\n",
    "    count = 0\n",
    "    for file in listdir_limited(input_dir):\n",
    "        count += 1\n",
    "    return count\n",
    "\n",
    "\n"
   ]
  },
  {
   "cell_type": "code",
   "execution_count": 33,
   "metadata": {},
   "outputs": [
    {
     "name": "stdout",
     "output_type": "stream",
     "text": [
      "scan_all_files_listdir: 8.6998 seconds\n",
      "scan_all_files_listdir_limited: 8.7920 seconds\n",
      "Difference: 0.0922 seconds\n",
      "scan_all_files_listdir is 1.0106 times faster than scan_all_files_listdir_limited\n"
     ]
    }
   ],
   "source": [
    "# Add timing comparison\n",
    "import timeit\n",
    "\n",
    "# Define the test directory\n",
    "test_dir = \"Dataset/0001/Satellite_Images_Mask/\"  # Adjust this path as needed\n",
    "\n",
    "# Time the first function\n",
    "time_listdir = timeit.timeit(\n",
    "    lambda: scan_all_files_listdir(test_dir),\n",
    "    number=10000\n",
    ")\n",
    "\n",
    "# Time the second function\n",
    "time_listdir_limited = timeit.timeit(\n",
    "    lambda: scan_all_files_listdir_limited(test_dir),\n",
    "    number=10000\n",
    ")\n",
    "\n",
    "print(f\"scan_all_files_listdir: {time_listdir:.4f} seconds\")\n",
    "print(f\"scan_all_files_listdir_limited: {time_listdir_limited:.4f} seconds\")\n",
    "print(f\"Difference: {abs(time_listdir - time_listdir_limited):.4f} seconds\")\n",
    "print(f\"scan_all_files_listdir is {time_listdir_limited/time_listdir:.4f} times faster than scan_all_files_listdir_limited\")\n"
   ]
  },
  {
   "cell_type": "code",
   "execution_count": null,
   "metadata": {},
   "outputs": [],
   "source": []
  }
 ],
 "metadata": {
  "kernelspec": {
   "display_name": "base",
   "language": "python",
   "name": "python3"
  },
  "language_info": {
   "codemirror_mode": {
    "name": "ipython",
    "version": 3
   },
   "file_extension": ".py",
   "mimetype": "text/x-python",
   "name": "python",
   "nbconvert_exporter": "python",
   "pygments_lexer": "ipython3",
   "version": "3.12.7"
  }
 },
 "nbformat": 4,
 "nbformat_minor": 2
}
