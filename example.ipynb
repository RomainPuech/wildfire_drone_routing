{
 "cells": [
  {
   "cell_type": "markdown",
   "metadata": {},
   "source": [
    "## Preprocess the Sim2Real dataset\n",
    "\n",
    "The Sim2Real dataset uses jpeg images to represent wildfire masks. This representation is very lightweight but slow to work with. \n",
    "To benchmark faster, we convert them to binary NumPy files. These files are ~100 times heavier and it requires an overhead time to convert from jpeg to them, but once they are created and stored, they allow 50--100x faster operations.\n",
    "\n",
    "1. Download the dataset from [Sim2Real-Fire GitHub repository](https://github.com/TJU-IDVLab/Sim2Real-Fire).\n",
    "2. Extract all files from the dataset into your `Dataset` folder\n",
    "3. Run the preprocessing function to convert from the jpeg representation to the NumPy one, and compute burn maps"
   ]
  },
  {
   "cell_type": "code",
   "execution_count": null,
   "metadata": {},
   "outputs": [],
   "source": [
    "pip install -r requirements.txt"
   ]
  },
  {
   "cell_type": "code",
   "execution_count": 1,
   "metadata": {},
   "outputs": [
    {
     "name": "stdout",
     "output_type": "stream",
     "text": [
      "Detected IPython. Loading juliacall extension. See https://juliapy.github.io/PythonCall.jl/stable/compat/#IPython\n",
      "Initializing the Julia session. This can take up to 1 minute.\n",
      "installing packages\n"
     ]
    },
    {
     "name": "stderr",
     "output_type": "stream",
     "text": [
      "   Resolving package versions...\n",
      "  No Changes to `/opt/anaconda3/julia_env/Project.toml`\n",
      "  No Changes to `/opt/anaconda3/julia_env/Manifest.toml`\n",
      "   Resolving package versions...\n",
      "  No Changes to `/opt/anaconda3/julia_env/Project.toml`\n",
      "  No Changes to `/opt/anaconda3/julia_env/Manifest.toml`\n",
      "   Resolving package versions...\n",
      "  No Changes to `/opt/anaconda3/julia_env/Project.toml`\n",
      "  No Changes to `/opt/anaconda3/julia_env/Manifest.toml`\n",
      "   Resolving package versions...\n",
      "  No Changes to `/opt/anaconda3/julia_env/Project.toml`\n",
      "  No Changes to `/opt/anaconda3/julia_env/Manifest.toml`\n",
      "   Resolving package versions...\n",
      "  No Changes to `/opt/anaconda3/julia_env/Project.toml`\n",
      "  No Changes to `/opt/anaconda3/julia_env/Manifest.toml`\n",
      "   Resolving package versions...\n",
      "  No Changes to `/opt/anaconda3/julia_env/Project.toml`\n",
      "  No Changes to `/opt/anaconda3/julia_env/Manifest.toml`\n",
      "   Resolving package versions...\n",
      "  No Changes to `/opt/anaconda3/julia_env/Project.toml`\n",
      "  No Changes to `/opt/anaconda3/julia_env/Manifest.toml`\n",
      "   Resolving package versions...\n",
      "  No Changes to `/opt/anaconda3/julia_env/Project.toml`\n",
      "  No Changes to `/opt/anaconda3/julia_env/Manifest.toml`\n",
      "   Resolving package versions...\n",
      "  No Changes to `/opt/anaconda3/julia_env/Project.toml`\n",
      "  No Changes to `/opt/anaconda3/julia_env/Manifest.toml`\n",
      "   Resolving package versions...\n",
      "  No Changes to `/opt/anaconda3/julia_env/Project.toml`\n",
      "  No Changes to `/opt/anaconda3/julia_env/Manifest.toml`\n",
      "   Resolving package versions...\n",
      "  No Changes to `/opt/anaconda3/julia_env/Project.toml`\n",
      "  No Changes to `/opt/anaconda3/julia_env/Manifest.toml`\n"
     ]
    },
    {
     "name": "stdout",
     "output_type": "stream",
     "text": [
      "Starting test\n",
      "In julia fuinction\n",
      "Loading burn map from ./WideDataset/0001/burn_map.npy\n",
      "Burn map loaded\n",
      "72116287\n",
      "1\n",
      "2\n",
      "Set parameter Username\n",
      "Set parameter LicenseID to value 2612529\n",
      "Academic license - for non-commercial use only - expires 2026-01-21\n",
      "3\n",
      "Gurobi Optimizer version 12.0.0 build v12.0.0rc1 (mac64[arm] - Darwin 24.3.0 24D60)\n",
      "\n",
      "CPU model: Apple M4\n",
      "Thread count: 10 physical cores, 10 logical processors, using up to 10 threads\n",
      "\n",
      "Optimize a model with 33295 rows, 66584 columns and 166460 nonzeros\n",
      "Model fingerprint: 0x0cdf4dbd\n",
      "Variable types: 0 continuous, 66584 integer (66584 binary)\n",
      "Coefficient statistics:\n",
      "  Matrix range     [1e+00, 1e+00]\n",
      "  Objective range  [4e-05, 3e-02]\n",
      "  Bounds range     [0e+00, 0e+00]\n",
      "  RHS range        [1e+00, 1e+00]\n",
      "Found heuristic solution: objective 0.0000784\n",
      "Presolve removed 29475 rows and 58948 columns\n",
      "Presolve time: 0.06s\n",
      "Presolved: 3820 rows, 7636 columns, 15272 nonzeros\n",
      "Variable types: 0 continuous, 7636 integer (7636 binary)\n",
      "\n",
      "Root relaxation: objective 5.000000e-02, 3829 iterations, 0.16 seconds (0.85 work units)\n",
      "\n",
      "    Nodes    |    Current Node    |     Objective Bounds      |     Work\n",
      " Expl Unexpl |  Obj  Depth IntInf | Incumbent    BestBd   Gap | It/Node Time\n",
      "\n",
      "*    0     0               0       0.0500000    0.05000  0.00%     -    0s\n",
      "\n",
      "Explored 1 nodes (3829 simplex iterations) in 0.23 seconds (0.99 work units)\n",
      "Thread count was 10 (of 10 available processors)\n",
      "\n",
      "Solution count 2: 0.05 7.84314e-05 \n",
      "No other solutions better than 0.05\n",
      "\n",
      "Optimal solution found (tolerance 1.00e-04)\n",
      "Best objective 5.000000074506e-02, best bound 5.000000074506e-02, gap 0.0000%\n",
      "\n",
      "User-callback calls 323, time in user-callback 0.00 sec\n",
      "Took 10.41712124994956 seconds\n",
      "Took 10.550491000059992 seconds\n",
      "Julia session initialized.\n"
     ]
    }
   ],
   "source": [
    "# import requred modules\n",
    "import sys\n",
    "import os\n",
    "import time\n",
    "\n",
    "# Add code to path\n",
    "module_path = os.path.abspath(\".\") + \"/code\"\n",
    "if module_path not in sys.path:\n",
    "    sys.path.append(module_path)\n",
    "\n",
    "from dataset import preprocess_sim2real_dataset, load_scenario_npy, compute_and_save_burn_maps_sim2real_dataset\n",
    "from Strategy import SensorPlacementStrategy, DroneRoutingStrategy, return_no_custom_parameters, SensorPlacementOptimization\n",
    "from benchmark import run_benchmark_scenario,run_benchmark_scenarii_sequential, benchmark_on_sim2real_dataset\n",
    "from displays import create_scenario_video"
   ]
  },
  {
   "cell_type": "markdown",
   "metadata": {},
   "source": [
    "Uncomment the cell below to preprocess the dataset.\n",
    "- `n_max_scenarii_per_layout` controls the number of scenarios we convert from jpeg to NumPy files for each layout.\n",
    "- If executed on all ~50 layouts of the dataset, the code below takes ~15mins to run and generates **400 GB** of data. Make sure to have the space."
   ]
  },
  {
   "cell_type": "code",
   "execution_count": 2,
   "metadata": {},
   "outputs": [],
   "source": [
    "# preprocess_sim2real_dataset(\"WideDataset/\", n_max_scenarii_per_layout=100) "
   ]
  },
  {
   "cell_type": "markdown",
   "metadata": {},
   "source": [
    "We can now run the benchmark function on any scenario.\n",
    "1. We load the scenario using `load_scenario_npy` since it is in preprocessed `npy` format\n",
    "2. Werun the benchmark using `run_benchmark_scenario` that takes as input:\n",
    "    - The `scenario`, \n",
    "    - The sensor placement strategy and the drone routing strategy\n",
    "    - A dictionary `custom_initialization_parameters` that contains any custom initialization inputs for your strategy functions (such as the burn map if your strategy needs a burn map as input)\n",
    "    - A python function `custom_step_parameters_function` that returns a dictionary of custom inputs for your routing function. This function is executed by the benchmarking code at each time step. Your routing function will be called with: `routing(custom_step_parameters_function())` internally"
   ]
  },
  {
   "cell_type": "code",
   "execution_count": 2,
   "metadata": {},
   "outputs": [
    {
     "name": "stdout",
     "output_type": "stream",
     "text": [
      "starting benchmark\n",
      "scenario loaded\n",
      "running benchmark scenario\n",
      "getting sensor locations\n",
      "initializing sensor placement optimization\n",
      "calling julia optimization model\n",
      "In julia fuinction\n",
      "Loading burn map from ./WideDataset/0001/burn_map.npy\n",
      "Burn map loaded\n",
      "72116287\n",
      "1\n",
      "2\n",
      "Set parameter Username\n",
      "Set parameter LicenseID to value 2612529\n",
      "Academic license - for non-commercial use only - expires 2026-01-21\n",
      "3\n",
      "Gurobi Optimizer version 12.0.0 build v12.0.0rc1 (mac64[arm] - Darwin 24.3.0 24D60)\n",
      "\n",
      "CPU model: Apple M4\n",
      "Thread count: 10 physical cores, 10 logical processors, using up to 10 threads\n",
      "\n",
      "Optimize a model with 33295 rows, 66584 columns and 166460 nonzeros\n",
      "Model fingerprint: 0x0cdf4dbd\n",
      "Variable types: 0 continuous, 66584 integer (66584 binary)\n",
      "Coefficient statistics:\n",
      "  Matrix range     [1e+00, 1e+00]\n",
      "  Objective range  [4e-05, 3e-02]\n",
      "  Bounds range     [0e+00, 0e+00]\n",
      "  RHS range        [1e+00, 1e+00]\n",
      "Found heuristic solution: objective 0.0000784\n",
      "Presolve removed 29475 rows and 58948 columns\n",
      "Presolve time: 0.06s\n",
      "Presolved: 3820 rows, 7636 columns, 15272 nonzeros\n",
      "Variable types: 0 continuous, 7636 integer (7636 binary)\n",
      "\n",
      "Root relaxation: objective 5.000000e-02, 3829 iterations, 0.16 seconds (0.85 work units)\n",
      "\n",
      "    Nodes    |    Current Node    |     Objective Bounds      |     Work\n",
      " Expl Unexpl |  Obj  Depth IntInf | Incumbent    BestBd   Gap | It/Node Time\n",
      "\n",
      "*    0     0               0       0.0500000    0.05000  0.00%     -    0s\n",
      "\n",
      "Explored 1 nodes (3829 simplex iterations) in 0.23 seconds (0.99 work units)\n",
      "Thread count was 10 (of 10 available processors)\n",
      "\n",
      "Solution count 2: 0.05 7.84314e-05 \n",
      "No other solutions better than 0.05\n",
      "\n",
      "Optimal solution found (tolerance 1.00e-04)\n",
      "Best objective 5.000000074506e-02, best bound 5.000000074506e-02, gap 0.0000%\n",
      "\n",
      "User-callback calls 333, time in user-callback 0.00 sec\n",
      "Took 8.379342874977738 seconds\n",
      "Took 8.406411665957421 seconds\n",
      "optimization finished\n"
     ]
    },
    {
     "ename": "NotImplementedError",
     "evalue": "get_locations is an abstract method and should be implemented by subclasses.",
     "output_type": "error",
     "traceback": [
      "\u001b[0;31m---------------------------------------------------------------------------\u001b[0m",
      "\u001b[0;31mNotImplementedError\u001b[0m                       Traceback (most recent call last)",
      "Cell \u001b[0;32mIn[2], line 6\u001b[0m\n\u001b[1;32m      4\u001b[0m scenario \u001b[38;5;241m=\u001b[39m load_scenario_npy(\u001b[38;5;124m\"\u001b[39m\u001b[38;5;124mWideDataset/0001/scenarii/0001_00002.npy\u001b[39m\u001b[38;5;124m\"\u001b[39m)\n\u001b[1;32m      5\u001b[0m \u001b[38;5;28mprint\u001b[39m(\u001b[38;5;124m\"\u001b[39m\u001b[38;5;124mscenario loaded\u001b[39m\u001b[38;5;124m\"\u001b[39m)\n\u001b[0;32m----> 6\u001b[0m device, delta_t, _ \u001b[38;5;241m=\u001b[39m run_benchmark_scenario(scenario, SensorPlacementOptimization, DroneRoutingStrategy, custom_initialization_parameters \u001b[38;5;241m=\u001b[39m {\u001b[38;5;124m\"\u001b[39m\u001b[38;5;124mburnmap_filename\u001b[39m\u001b[38;5;124m\"\u001b[39m: \u001b[38;5;124m\"\u001b[39m\u001b[38;5;124m./WideDataset/0001/burn_map.npy\u001b[39m\u001b[38;5;124m\"\u001b[39m}, custom_step_parameters_function \u001b[38;5;241m=\u001b[39m return_no_custom_parameters)\n\u001b[1;32m      7\u001b[0m \u001b[38;5;28mprint\u001b[39m(\u001b[38;5;124m\"\u001b[39m\u001b[38;5;124mFire detected in \u001b[39m\u001b[38;5;124m\"\u001b[39m, delta_t, \u001b[38;5;124m\"\u001b[39m\u001b[38;5;124mtime steps by device: \u001b[39m\u001b[38;5;124m\"\u001b[39m, device)\n\u001b[1;32m      8\u001b[0m \u001b[38;5;28mprint\u001b[39m(\u001b[38;5;124mf\u001b[39m\u001b[38;5;124m\"\u001b[39m\u001b[38;5;124mTime taken to run benchmark on the scenario: \u001b[39m\u001b[38;5;132;01m{\u001b[39;00mtime\u001b[38;5;241m.\u001b[39mtime()\u001b[38;5;250m \u001b[39m\u001b[38;5;241m-\u001b[39m\u001b[38;5;250m \u001b[39mtime_start\u001b[38;5;132;01m}\u001b[39;00m\u001b[38;5;124m seconds\u001b[39m\u001b[38;5;124m\"\u001b[39m)\n",
      "File \u001b[0;32m~/Desktop/Climate/wildfire_drone_routing/code/benchmark.py:54\u001b[0m, in \u001b[0;36mrun_benchmark_scenario\u001b[0;34m(scenario, sensor_placement_strategy, drone_routing_strategy, custom_initialization_parameters, custom_step_parameters_function, starting_time, return_history, custom_initialization_parameters_function)\u001b[0m\n\u001b[1;32m     49\u001b[0m \u001b[38;5;66;03m# print(f\"custom_initialization_parameters: {custom_initialization_parameters}\")\u001b[39;00m\n\u001b[1;32m     50\u001b[0m \u001b[38;5;66;03m# print(f\"automatic_initialization_parameters: {automatic_initialization_parameters}\")\u001b[39;00m\n\u001b[1;32m     51\u001b[0m \n\u001b[1;32m     52\u001b[0m \u001b[38;5;66;03m# 2. Get ground sensor locations\u001b[39;00m\n\u001b[1;32m     53\u001b[0m \u001b[38;5;28mprint\u001b[39m(\u001b[38;5;124m\"\u001b[39m\u001b[38;5;124mgetting sensor locations\u001b[39m\u001b[38;5;124m\"\u001b[39m)\n\u001b[0;32m---> 54\u001b[0m ground_sensor_locations, charging_stations_locations \u001b[38;5;241m=\u001b[39m  sensor_placement_strategy(automatic_initialization_parameters, custom_initialization_parameters)\u001b[38;5;241m.\u001b[39mget_locations()\n\u001b[1;32m     55\u001b[0m rows_ground, cols_ground \u001b[38;5;241m=\u001b[39m \u001b[38;5;28mzip\u001b[39m(\u001b[38;5;241m*\u001b[39mground_sensor_locations)\n\u001b[1;32m     56\u001b[0m rows_charging, cols_charging \u001b[38;5;241m=\u001b[39m \u001b[38;5;28mzip\u001b[39m(\u001b[38;5;241m*\u001b[39mcharging_stations_locations)\n",
      "File \u001b[0;32m~/Desktop/Climate/wildfire_drone_routing/code/Strategy.py:137\u001b[0m, in \u001b[0;36mSensorPlacementStrategy.get_locations\u001b[0;34m(self)\u001b[0m\n\u001b[1;32m    133\u001b[0m \u001b[38;5;28;01mdef\u001b[39;00m \u001b[38;5;21mget_locations\u001b[39m(\u001b[38;5;28mself\u001b[39m):\n\u001b[1;32m    134\u001b[0m \u001b[38;5;250m    \u001b[39m\u001b[38;5;124;03m\"\"\"\u001b[39;00m\n\u001b[1;32m    135\u001b[0m \u001b[38;5;124;03m    Returns the locations of the ground sensors and charging stations\u001b[39;00m\n\u001b[1;32m    136\u001b[0m \u001b[38;5;124;03m    \"\"\"\u001b[39;00m\n\u001b[0;32m--> 137\u001b[0m     \u001b[38;5;28;01mraise\u001b[39;00m \u001b[38;5;167;01mNotImplementedError\u001b[39;00m(\u001b[38;5;124m\"\u001b[39m\u001b[38;5;124mget_locations is an abstract method and should be implemented by subclasses.\u001b[39m\u001b[38;5;124m\"\u001b[39m)\n\u001b[1;32m    138\u001b[0m     \u001b[38;5;66;03m# Do not overwrite this function\u001b[39;00m\n\u001b[1;32m    139\u001b[0m     \u001b[38;5;28;01mreturn\u001b[39;00m \u001b[38;5;28mself\u001b[39m\u001b[38;5;241m.\u001b[39mground_sensor_locations, \u001b[38;5;28mself\u001b[39m\u001b[38;5;241m.\u001b[39mcharging_station_locations\n",
      "\u001b[0;31mNotImplementedError\u001b[0m: get_locations is an abstract method and should be implemented by subclasses."
     ]
    }
   ],
   "source": [
    "# That's very fast to run!\n",
    "print(\"starting benchmark\")\n",
    "time_start = time.time()\n",
    "scenario = load_scenario_npy(\"WideDataset/0001/scenarii/0001_00002.npy\")\n",
    "print(\"scenario loaded\")\n",
    "device, delta_t, _ = run_benchmark_scenario(scenario, SensorPlacementOptimization, DroneRoutingStrategy, custom_initialization_parameters = {\"burnmap_filename\": \"./WideDataset/0001/burn_map.npy\"}, custom_step_parameters_function = return_no_custom_parameters)\n",
    "print(\"Fire detected in \", delta_t, \"time steps by device: \", device)\n",
    "print(f\"Time taken to run benchmark on the scenario: {time.time() - time_start} seconds\")\n"
   ]
  },
  {
   "cell_type": "code",
   "execution_count": 9,
   "metadata": {},
   "outputs": [
    {
     "data": {
      "text/plain": [
       "array([[[0.0000000e+00, 0.0000000e+00, 0.0000000e+00, ...,\n",
       "         0.0000000e+00, 0.0000000e+00, 0.0000000e+00],\n",
       "        [0.0000000e+00, 0.0000000e+00, 0.0000000e+00, ...,\n",
       "         0.0000000e+00, 0.0000000e+00, 0.0000000e+00],\n",
       "        [0.0000000e+00, 0.0000000e+00, 0.0000000e+00, ...,\n",
       "         0.0000000e+00, 0.0000000e+00, 0.0000000e+00],\n",
       "        ...,\n",
       "        [0.0000000e+00, 0.0000000e+00, 0.0000000e+00, ...,\n",
       "         0.0000000e+00, 0.0000000e+00, 0.0000000e+00],\n",
       "        [0.0000000e+00, 0.0000000e+00, 0.0000000e+00, ...,\n",
       "         0.0000000e+00, 0.0000000e+00, 0.0000000e+00],\n",
       "        [0.0000000e+00, 0.0000000e+00, 0.0000000e+00, ...,\n",
       "         0.0000000e+00, 0.0000000e+00, 0.0000000e+00]],\n",
       "\n",
       "       [[0.0000000e+00, 0.0000000e+00, 0.0000000e+00, ...,\n",
       "         0.0000000e+00, 0.0000000e+00, 0.0000000e+00],\n",
       "        [0.0000000e+00, 0.0000000e+00, 0.0000000e+00, ...,\n",
       "         0.0000000e+00, 0.0000000e+00, 0.0000000e+00],\n",
       "        [0.0000000e+00, 0.0000000e+00, 0.0000000e+00, ...,\n",
       "         0.0000000e+00, 0.0000000e+00, 0.0000000e+00],\n",
       "        ...,\n",
       "        [0.0000000e+00, 0.0000000e+00, 0.0000000e+00, ...,\n",
       "         0.0000000e+00, 0.0000000e+00, 0.0000000e+00],\n",
       "        [0.0000000e+00, 0.0000000e+00, 0.0000000e+00, ...,\n",
       "         0.0000000e+00, 0.0000000e+00, 0.0000000e+00],\n",
       "        [0.0000000e+00, 0.0000000e+00, 0.0000000e+00, ...,\n",
       "         0.0000000e+00, 0.0000000e+00, 0.0000000e+00]],\n",
       "\n",
       "       [[0.0000000e+00, 0.0000000e+00, 0.0000000e+00, ...,\n",
       "         0.0000000e+00, 0.0000000e+00, 0.0000000e+00],\n",
       "        [0.0000000e+00, 0.0000000e+00, 0.0000000e+00, ...,\n",
       "         0.0000000e+00, 0.0000000e+00, 0.0000000e+00],\n",
       "        [0.0000000e+00, 0.0000000e+00, 0.0000000e+00, ...,\n",
       "         0.0000000e+00, 0.0000000e+00, 0.0000000e+00],\n",
       "        ...,\n",
       "        [0.0000000e+00, 0.0000000e+00, 0.0000000e+00, ...,\n",
       "         0.0000000e+00, 0.0000000e+00, 0.0000000e+00],\n",
       "        [0.0000000e+00, 0.0000000e+00, 0.0000000e+00, ...,\n",
       "         0.0000000e+00, 0.0000000e+00, 0.0000000e+00],\n",
       "        [0.0000000e+00, 0.0000000e+00, 0.0000000e+00, ...,\n",
       "         0.0000000e+00, 0.0000000e+00, 0.0000000e+00]],\n",
       "\n",
       "       ...,\n",
       "\n",
       "       [[2.5065359e-01, 5.1699346e-01, 5.1952612e-01, ...,\n",
       "         1.6617647e-01, 1.8733659e-01, 2.1160131e-02],\n",
       "        [4.9779412e-01, 5.4142159e-01, 5.4117650e-01, ...,\n",
       "         1.8553922e-01, 1.8717320e-01, 1.4575164e-01],\n",
       "        [4.9942809e-01, 5.3978759e-01, 5.4084969e-01, ...,\n",
       "         1.8741830e-01, 1.8733659e-01, 1.8668300e-01],\n",
       "        ...,\n",
       "        [2.0833333e-01, 2.0816994e-01, 2.0833333e-01, ...,\n",
       "         2.0751635e-02, 2.0833334e-02, 2.0751635e-02],\n",
       "        [1.2500000e-01, 2.0751634e-01, 2.0718955e-01, ...,\n",
       "         0.0000000e+00, 2.0669935e-02, 1.6339870e-04],\n",
       "        [2.0915033e-02, 1.8750000e-01, 2.0767973e-01, ...,\n",
       "         2.0833334e-02, 2.0669935e-02, 4.0849674e-04]],\n",
       "\n",
       "       [[2.0657440e-01, 5.2560556e-01, 5.2814305e-01, ...,\n",
       "         2.0519032e-01, 2.3529412e-01, 2.9642446e-02],\n",
       "        [4.9803922e-01, 5.5847752e-01, 5.5801612e-01, ...,\n",
       "         2.3252594e-01, 2.3483276e-01, 2.0565167e-01],\n",
       "        [4.9884659e-01, 5.5697811e-01, 5.5778545e-01, ...,\n",
       "         2.3517878e-01, 2.3506343e-01, 2.3414071e-01],\n",
       "        ...,\n",
       "        [2.0588236e-01, 2.0565167e-01, 2.0588236e-01, ...,\n",
       "         2.9296424e-02, 2.9411765e-02, 2.9296424e-02],\n",
       "        [1.4705883e-01, 2.0495963e-01, 2.0507497e-01, ...,\n",
       "         0.0000000e+00, 2.9181084e-02, 2.3068053e-04],\n",
       "        [2.9527105e-02, 1.7647059e-01, 2.0542099e-01, ...,\n",
       "         2.9411765e-02, 2.9181084e-02, 5.7670131e-04]],\n",
       "\n",
       "       [[1.9291101e-01, 5.7269984e-01, 5.3740573e-01, ...,\n",
       "         1.5369533e-01, 1.9230770e-01, 3.8461540e-02],\n",
       "        [4.9819005e-01, 5.7692307e-01, 5.7601810e-01, ...,\n",
       "         1.8974359e-01, 1.9170438e-01, 1.5384616e-01],\n",
       "        [4.9879336e-01, 5.7481146e-01, 5.7601810e-01, ...,\n",
       "         1.9215687e-01, 1.9230770e-01, 1.9185521e-01],\n",
       "        ...,\n",
       "        [2.3076923e-01, 2.3046757e-01, 2.3076923e-01, ...,\n",
       "         3.8310710e-02, 3.8461540e-02, 3.8310710e-02],\n",
       "        [1.5384616e-01, 2.2956260e-01, 2.2971343e-01, ...,\n",
       "         0.0000000e+00, 3.8159881e-02, 3.0165914e-04],\n",
       "        [1.5082957e-04, 1.9230770e-01, 2.3016591e-01, ...,\n",
       "         3.8461540e-02, 3.8159881e-02, 7.5414783e-04]]], dtype=float32)"
      ]
     },
     "execution_count": 9,
     "metadata": {},
     "output_type": "execute_result"
    }
   ],
   "source": [
    "import numpy as np\n",
    "np.load(\"./WideDataset/0001/burn_map.npy\", allow_pickle=True)"
   ]
  },
  {
   "cell_type": "markdown",
   "metadata": {},
   "source": [
    "We can visualize the strategy in action by creating a video of the scenario. \n",
    "1. Use the `return_history` parameter or `run_benchmark_scenario` to output the log of ground sensor and drone positions during the benchmark\n",
    "2. Use the `create_scenario_video` function to compile the video. This can take a couple seconds"
   ]
  },
  {
   "cell_type": "code",
   "execution_count": 4,
   "metadata": {},
   "outputs": [
    {
     "name": "stdout",
     "output_type": "stream",
     "text": [
      "Video saved at: display_test_simulation/test_simulation.mp4\n"
     ]
    }
   ],
   "source": [
    "delta , device , (position_history, ground, charging)  = run_benchmark_scenario(scenario, SensorPlacementStrategy, DroneRoutingStrategy, custom_initialization_parameters = None, custom_step_parameters_function = return_no_custom_parameters, return_history=True)\n",
    "create_scenario_video(scenario[:len(position_history)],drone_locations_history=position_history,starting_time=0,out_filename='test_simulation', ground_sensor_locations = ground, charging_stations_locations = charging)"
   ]
  },
  {
   "cell_type": "markdown",
   "metadata": {},
   "source": [
    "Instead of running a benchmark on a single scenario, we are interested in running the benchmark on all scenarii of a given layout (potentially in parallel!)\n",
    "\n",
    "1. We use `run_benchmark_scenarii_sequential`"
   ]
  },
  {
   "cell_type": "code",
   "execution_count": 5,
   "metadata": {},
   "outputs": [
    {
     "name": "stderr",
     "output_type": "stream",
     "text": [
      "100%|██████████| 100/100 [00:00<00:00, 141.79it/s]"
     ]
    },
    {
     "name": "stdout",
     "output_type": "stream",
     "text": [
      "This strategy took on average 11.909090909090908 time steps to find the fire.\n",
      "Fire found 29.0% of the time by ground sensor\n",
      "Fire found 27.0% of the time by charging station\n",
      "Fire found 43.0% of the time by drone\n",
      "Fire found 1.0% of the time by undetected\n"
     ]
    },
    {
     "name": "stderr",
     "output_type": "stream",
     "text": [
      "\n"
     ]
    }
   ],
   "source": [
    "run_benchmark_scenarii_sequential(\"WideDataset/0001/scenarii/\", SensorPlacementStrategy, DroneRoutingStrategy, custom_initialization_parameters_function = lambda x: None, custom_step_parameters_function = return_no_custom_parameters, starting_time=0, max_n_scenarii=100)"
   ]
  },
  {
   "cell_type": "markdown",
   "metadata": {},
   "source": [
    "On all of the dataset!"
   ]
  },
  {
   "cell_type": "code",
   "execution_count": null,
   "metadata": {},
   "outputs": [],
   "source": [
    "benchmark_on_sim2real_dataset(\"WideDataset/\", SensorPlacementStrategy, DroneRoutingStrategy, custom_initialization_parameters_function = lambda x: None, custom_step_parameters_function = return_no_custom_parameters, max_n_scenarii=100, starting_time=0)"
   ]
  },
  {
   "cell_type": "code",
   "execution_count": null,
   "metadata": {},
   "outputs": [],
   "source": [
    "# That's very fast to run!\n",
    "time_start = time.time()\n",
    "scenario = load_scenario_npy(\"WideDataset/0001/scenarii/0001_00002.npy\")\n",
    "device, delta_t, _ = run_benchmark_scenario(scenario, SensorPlacementStrategy, SensorPlacementOptimization, custom_initialization_parameters = None, custom_step_parameters_function = return_no_custom_parameters)\n",
    "print(\"Fire detected in \", delta_t, \"time steps by device: \", device)\n",
    "print(f\"Time taken to run benchmark on the scenario: {time.time() - time_start} seconds\")\n"
   ]
  },
  {
   "cell_type": "markdown",
   "metadata": {},
   "source": []
  }
 ],
 "metadata": {
  "kernelspec": {
   "display_name": "base",
   "language": "python",
   "name": "python3"
  },
  "language_info": {
   "codemirror_mode": {
    "name": "ipython",
    "version": 3
   },
   "file_extension": ".py",
   "mimetype": "text/x-python",
   "name": "python",
   "nbconvert_exporter": "python",
   "pygments_lexer": "ipython3",
   "version": "3.12.7"
  }
 },
 "nbformat": 4,
 "nbformat_minor": 2
}
