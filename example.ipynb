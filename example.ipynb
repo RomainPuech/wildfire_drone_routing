{
 "cells": [
  {
   "cell_type": "markdown",
   "metadata": {},
   "source": [
    "## Preprocess the Sim2Real dataset\n",
    "\n",
    "The Sim2Real dataset uses jpeg images to represent wildfire masks. This representation is very lightweight but slow to work with. \n",
    "To benchmark faster, we convert them to binary NumPy files. These files are ~100 times heavier and it requires an overhead time to convert from jpeg to them, but once they are created and stored, they allow 50--100x faster operations.\n",
    "\n",
    "1. Download the dataset from [Sim2Real-Fire GitHub repository](https://github.com/TJU-IDVLab/Sim2Real-Fire).\n",
    "2. Extract all files from the dataset into your `Dataset` folder\n",
    "3. Run the preprocessing function to convert from the jpeg representation to the NumPy one, and compute burn maps"
   ]
  },
  {
   "cell_type": "code",
   "execution_count": 1,
   "metadata": {},
   "outputs": [],
   "source": [
    "# import requred modules\n",
    "import sys\n",
    "import os\n",
    "import time\n",
    "\n",
    "#hoi\n",
    "# Add code to path\n",
    "module_path = os.path.abspath(\".\") + \"/code\"\n",
    "if module_path not in sys.path:\n",
    "    sys.path.append(module_path)\n",
    "\n",
    "from dataset import preprocess_sim2real_dataset, load_scenario_npy\n",
    "from Strategy import SensorPlacementStrategy, DroneRoutingStrategy, return_no_custom_parameters\n",
    "from benchmark import run_benchmark_scenario,run_benchmark_scenarii_sequential #benchmark_on_sim2real_dataset\n",
    "from displays import create_scenario_video"
   ]
  },
  {
   "cell_type": "code",
   "execution_count": 2,
   "metadata": {},
   "outputs": [],
   "source": [
    "# n_max_scenarii_per_layout controls the number of scenarios we convert from jpeg to NumPy files for each layout.\n",
    "# REQUIRES 400 GB of STOCKAGE and ~15 mins\n",
    "# preprocess_sim2real_dataset(\"WideDataset/\", n_max_scenarii_per_layout=100) "
   ]
  },
  {
   "cell_type": "markdown",
   "metadata": {},
   "source": [
    "We can now run the benchmark function on any scenario.\n",
    "1. We load the scenario using `load_scenario_npy` since it is in preprocessed `npy` format\n",
    "2. Werun the benchmark using `run_benchmark_scenario` that takes as input:\n",
    "    - The `scenario`, \n",
    "    - The sensor placement strategy and the drone routing strategy\n",
    "    - A dictionary `custom_initialization_parameters` that contains any custom initialization inputs for your strategy functions (such as the burn map if your strategy needs a burn map as input)\n",
    "    - A python function `custom_step_parameters_function` that returns a dictionary of custom inputs for your routing function. This function is executed by the benchmarking code at each time step. Your routing function will be called with: `routing(custom_step_parameters_function())` internally"
   ]
  },
  {
   "cell_type": "code",
   "execution_count": 3,
   "metadata": {},
   "outputs": [
    {
     "name": "stdout",
     "output_type": "stream",
     "text": [
      "Fire detected in  charging station time steps by device:  18\n",
      "Time taken to run benchmark on the scenario: 0.006570100784301758 seconds\n"
     ]
    }
   ],
   "source": [
    "# That's very fast to run!\n",
    "time_start = time.time()\n",
    "scenario = load_scenario_npy(\"WideDataset/0001/scenarii/0001_00002.npy\")\n",
    "device, delta_t, _ = run_benchmark_scenario(scenario, SensorPlacementStrategy, DroneRoutingStrategy, custom_initialization_parameters = None, custom_step_parameters_function = return_no_custom_parameters)\n",
    "print(\"Fire detected in \", delta_t, \"time steps by device: \", device)\n",
    "print(f\"Time taken to run benchmark on the scenario: {time.time() - time_start} seconds\")\n"
   ]
  },
  {
   "cell_type": "markdown",
   "metadata": {},
   "source": [
    "We can visualize the strategy in action by creating a video of the scenario. \n",
    "1. Use the `return_history` parameter or `run_benchmark_scenario` to output the log of ground sensor and drone positions during the benchmark\n",
    "2. Use the `create_scenario_video` function to compile the video. This can take a couple seconds"
   ]
  },
  {
   "cell_type": "code",
   "execution_count": 4,
   "metadata": {},
   "outputs": [
    {
     "name": "stdout",
     "output_type": "stream",
     "text": [
      "Video saved at: display_test_simulation/test_simulation.mp4\n"
     ]
    }
   ],
   "source": [
    "delta , device , (position_history, ground, charging)  = run_benchmark_scenario(scenario, SensorPlacementStrategy, DroneRoutingStrategy, custom_initialization_parameters = None, custom_step_parameters_function = return_no_custom_parameters, return_history=True)\n",
    "create_scenario_video(scenario[:len(position_history)],drone_locations_history=position_history,starting_time=0,out_filename='test_simulation', ground_sensor_locations = ground, charging_stations_locations = charging)"
   ]
  },
  {
   "cell_type": "markdown",
   "metadata": {},
   "source": [
    "Instead of running a benchmark on a single scenario, we are interested in running the benchmark on all scenarii of a given layout (potentially in parallel!)\n",
    "\n",
    "1. We use `run_benchmark_scenarii_sequential`"
   ]
  },
  {
   "cell_type": "code",
   "execution_count": 5,
   "metadata": {},
   "outputs": [
    {
     "name": "stderr",
     "output_type": "stream",
     "text": [
      "100%|██████████| 100/100 [00:00<00:00, 141.79it/s]"
     ]
    },
    {
     "name": "stdout",
     "output_type": "stream",
     "text": [
      "This strategy took on average 11.909090909090908 time steps to find the fire.\n",
      "Fire found 29.0% of the time by ground sensor\n",
      "Fire found 27.0% of the time by charging station\n",
      "Fire found 43.0% of the time by drone\n",
      "Fire found 1.0% of the time by undetected\n"
     ]
    },
    {
     "name": "stderr",
     "output_type": "stream",
     "text": [
      "\n"
     ]
    }
   ],
   "source": [
    "run_benchmark_scenarii_sequential(\"WideDataset/0001/scenarii/\", SensorPlacementStrategy, DroneRoutingStrategy, custom_initialization_parameters_function = lambda x: None, custom_step_parameters_function = return_no_custom_parameters, starting_time=0, max_n_scenarii=100)"
   ]
  },
  {
   "cell_type": "markdown",
   "metadata": {},
   "source": [
    "On all of the dataset!"
   ]
  },
  {
   "cell_type": "code",
   "execution_count": null,
   "metadata": {},
   "outputs": [],
   "source": [
    "benchmark_on_sim2real_dataset(\"WideDataset/\", SensorPlacementStrategy, DroneRoutingStrategy, custom_initialization_parameters_function = lambda x: None, custom_step_parameters_function = return_no_custom_parameters, max_n_scenarii=100, starting_time=0)"
   ]
  },
  {
   "cell_type": "markdown",
   "metadata": {},
   "source": []
  }
 ],
 "metadata": {
  "kernelspec": {
   "display_name": "base",
   "language": "python",
   "name": "python3"
  },
  "language_info": {
   "codemirror_mode": {
    "name": "ipython",
    "version": 3
   },
   "file_extension": ".py",
   "mimetype": "text/x-python",
   "name": "python",
   "nbconvert_exporter": "python",
   "pygments_lexer": "ipython3",
   "version": "3.12.7"
  }
 },
 "nbformat": 4,
 "nbformat_minor": 2
}
