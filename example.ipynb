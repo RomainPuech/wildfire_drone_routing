{
 "cells": [
  {
   "cell_type": "markdown",
   "metadata": {},
   "source": [
    "## Preprocess the Sim2Real dataset\n",
    "\n",
    "The Sim2Real dataset uses jpeg images to represent wildfire masks. This representation is very lightweight but slow to work with. \n",
    "To benchmark faster, we convert them to binary NumPy files. These files are ~100 times heavier and it requires an overhead time to convert from jpeg to them, but once they are created and stored, they allow 50--100x faster operations.\n",
    "\n",
    "1. Download the dataset from [Sim2Real-Fire GitHub repository](https://github.com/TJU-IDVLab/Sim2Real-Fire).\n",
    "2. Extract all files from the dataset into your `Dataset` folder\n",
    "3. Run the preprocessing function to convert from the jpeg representation to the NumPy one, and compute burn maps"
   ]
  },
  {
   "cell_type": "code",
   "execution_count": 1,
   "metadata": {},
   "outputs": [
    {
     "name": "stdout",
     "output_type": "stream",
     "text": [
      "Requirement already satisfied: numpy in /Library/Frameworks/Python.framework/Versions/3.12/lib/python3.12/site-packages (from -r requirements.txt (line 1)) (1.26.4)\n",
      "Requirement already satisfied: opencv-python in /Library/Frameworks/Python.framework/Versions/3.12/lib/python3.12/site-packages (from -r requirements.txt (line 2)) (4.11.0.86)\n",
      "Requirement already satisfied: matplotlib in /Library/Frameworks/Python.framework/Versions/3.12/lib/python3.12/site-packages (from -r requirements.txt (line 3)) (3.9.0)\n",
      "Requirement already satisfied: tqdm in /Library/Frameworks/Python.framework/Versions/3.12/lib/python3.12/site-packages (from -r requirements.txt (line 4)) (4.67.1)\n",
      "Requirement already satisfied: contourpy>=1.0.1 in /Library/Frameworks/Python.framework/Versions/3.12/lib/python3.12/site-packages (from matplotlib->-r requirements.txt (line 3)) (1.2.1)\n",
      "Requirement already satisfied: cycler>=0.10 in /Library/Frameworks/Python.framework/Versions/3.12/lib/python3.12/site-packages (from matplotlib->-r requirements.txt (line 3)) (0.12.1)\n",
      "Requirement already satisfied: fonttools>=4.22.0 in /Library/Frameworks/Python.framework/Versions/3.12/lib/python3.12/site-packages (from matplotlib->-r requirements.txt (line 3)) (4.51.0)\n",
      "Requirement already satisfied: kiwisolver>=1.3.1 in /Library/Frameworks/Python.framework/Versions/3.12/lib/python3.12/site-packages (from matplotlib->-r requirements.txt (line 3)) (1.4.5)\n",
      "Requirement already satisfied: packaging>=20.0 in /Library/Frameworks/Python.framework/Versions/3.12/lib/python3.12/site-packages (from matplotlib->-r requirements.txt (line 3)) (24.0)\n",
      "Requirement already satisfied: pillow>=8 in /Library/Frameworks/Python.framework/Versions/3.12/lib/python3.12/site-packages (from matplotlib->-r requirements.txt (line 3)) (10.3.0)\n",
      "Requirement already satisfied: pyparsing>=2.3.1 in /Library/Frameworks/Python.framework/Versions/3.12/lib/python3.12/site-packages (from matplotlib->-r requirements.txt (line 3)) (3.1.2)\n",
      "Requirement already satisfied: python-dateutil>=2.7 in /Library/Frameworks/Python.framework/Versions/3.12/lib/python3.12/site-packages (from matplotlib->-r requirements.txt (line 3)) (2.9.0.post0)\n",
      "Requirement already satisfied: six>=1.5 in /Library/Frameworks/Python.framework/Versions/3.12/lib/python3.12/site-packages (from python-dateutil>=2.7->matplotlib->-r requirements.txt (line 3)) (1.16.0)\n",
      "Note: you may need to restart the kernel to use updated packages.\n"
     ]
    }
   ],
   "source": [
    "pip install -r requirements.txt"
   ]
  },
  {
   "cell_type": "code",
   "execution_count": null,
   "metadata": {},
   "outputs": [
    {
     "name": "stdout",
     "output_type": "stream",
     "text": [
      "Detected IPython. Loading juliacall extension. See https://juliapy.github.io/PythonCall.jl/stable/compat/#IPython\n",
      "Initializing the Julia session. This can take up to 1 minute.\n",
      "initializing the ground sensor julia module\n",
      "installing packages\n"
     ]
    },
    {
     "name": "stderr",
     "output_type": "stream",
     "text": [
      "   Resolving package versions...\n",
      "  No Changes to `/opt/anaconda3/julia_env/Project.toml`\n",
      "  No Changes to `/opt/anaconda3/julia_env/Manifest.toml`\n",
      "   Resolving package versions...\n",
      "  No Changes to `/opt/anaconda3/julia_env/Project.toml`\n",
      "  No Changes to `/opt/anaconda3/julia_env/Manifest.toml`\n",
      "   Resolving package versions...\n",
      "  No Changes to `/opt/anaconda3/julia_env/Project.toml`\n",
      "  No Changes to `/opt/anaconda3/julia_env/Manifest.toml`\n",
      "   Resolving package versions...\n",
      "  No Changes to `/opt/anaconda3/julia_env/Project.toml`\n",
      "  No Changes to `/opt/anaconda3/julia_env/Manifest.toml`\n",
      "   Resolving package versions...\n",
      "  No Changes to `/opt/anaconda3/julia_env/Project.toml`\n",
      "  No Changes to `/opt/anaconda3/julia_env/Manifest.toml`\n",
      "   Resolving package versions...\n",
      "  No Changes to `/opt/anaconda3/julia_env/Project.toml`\n",
      "  No Changes to `/opt/anaconda3/julia_env/Manifest.toml`\n",
      "   Resolving package versions...\n",
      "  No Changes to `/opt/anaconda3/julia_env/Project.toml`\n",
      "  No Changes to `/opt/anaconda3/julia_env/Manifest.toml`\n",
      "   Resolving package versions...\n",
      "  No Changes to `/opt/anaconda3/julia_env/Project.toml`\n",
      "  No Changes to `/opt/anaconda3/julia_env/Manifest.toml`\n",
      "   Resolving package versions...\n",
      "  No Changes to `/opt/anaconda3/julia_env/Project.toml`\n",
      "  No Changes to `/opt/anaconda3/julia_env/Manifest.toml`\n",
      "   Resolving package versions...\n",
      "  No Changes to `/opt/anaconda3/julia_env/Project.toml`\n",
      "  No Changes to `/opt/anaconda3/julia_env/Manifest.toml`\n",
      "   Resolving package versions...\n",
      "  No Changes to `/opt/anaconda3/julia_env/Project.toml`\n",
      "  No Changes to `/opt/anaconda3/julia_env/Manifest.toml`\n"
     ]
    },
    {
     "name": "stdout",
     "output_type": "stream",
     "text": [
      "initializing the drone julia module\n",
      "Julia session initialized.\n"
     ]
    }
   ],
   "source": [
    "# import requred modules\n",
    "import sys\n",
    "import os\n",
    "import time\n",
    "import numpy as np\n",
    "\n",
    "# Add code to path\n",
    "module_path = os.path.abspath(\".\") + \"/code\"\n",
    "if module_path not in sys.path:\n",
    "    sys.path.append(module_path)\n",
    "\n",
    "from dataset import preprocess_sim2real_dataset, load_scenario_npy, compute_and_save_burn_maps_sim2real_dataset\n",
    "from Strategy import RandomDroneRoutingStrategy, return_no_custom_parameters, SensorPlacementOptimization, RandomSensorPlacementStrategy, DroneRoutingOptimizationExample, MY_DRONE_STRATEGY, MY_SENSOR_STRATEGY, LoggedOptimizationSensorPlacementStrategy,DroneRoutingOptimization2\n",
    "from benchmark import run_benchmark_scenario,run_benchmark_scenarii_sequential, benchmark_on_sim2real_dataset, get_burnmap_parameters\n",
    "from displays import create_scenario_video"
   ]
  },
  {
   "cell_type": "markdown",
   "metadata": {},
   "source": [
    "Uncomment the cell below to preprocess the dataset.\n",
    "- `n_max_scenarii_per_layout` controls the number of scenarios we convert from jpeg to NumPy files for each layout.\n",
    "- If executed on all ~50 layouts of the dataset, the code below takes ~15mins to run and generates **400 GB** of data. Make sure to have the space."
   ]
  },
  {
   "cell_type": "code",
   "execution_count": 2,
   "metadata": {},
   "outputs": [],
   "source": [
    "# preprocess_sim2real_dataset(\"WideDataset/\", n_max_scenarii_per_layout=100) "
   ]
  },
  {
   "cell_type": "markdown",
   "metadata": {},
   "source": [
    "We can now run the benchmark function on any scenario.\n",
    "1. We load the scenario using `load_scenario_npy` since it is in preprocessed `npy` format\n",
    "2. Werun the benchmark using `run_benchmark_scenario` that takes as input:\n",
    "    - The `scenario`, \n",
    "    - The sensor placement strategy and the drone routing strategy\n",
    "    - A dictionary `custom_initialization_parameters` that contains any custom initialization inputs for your strategy functions (such as the burn map if your strategy needs a burn map as input)\n",
    "    - A python function `custom_step_parameters_function` that returns a dictionary of custom inputs for your routing function. This function is executed by the benchmarking code at each time step. Your routing function will be called with: `routing(custom_step_parameters_function())` internally"
   ]
  },
  {
   "cell_type": "code",
   "execution_count": 2,
   "metadata": {},
   "outputs": [],
   "source": [
    "# change values here to change benchmarking parameters\n",
    "def my_automatic_layout_parameters(scenario:np.ndarray):\n",
    "    return {\n",
    "        \"N\": scenario.shape[1],\n",
    "        \"M\": scenario.shape[2],\n",
    "        \"max_battery_distance\": 100,\n",
    "        \"max_battery_time\": 100,\n",
    "        \"n_drones\": 10,\n",
    "        \"n_ground_stations\": 10,\n",
    "        \"n_charging_stations\": 10,\n",
    "    }"
   ]
  },
  {
   "cell_type": "code",
   "execution_count": null,
   "metadata": {},
   "outputs": [
    {
     "name": "stdout",
     "output_type": "stream",
     "text": [
      "starting benchmark\n",
      "scenario loaded\n",
      "Fire detected in  undetected time steps by device:  -1\n",
      "Time taken to run benchmark on the scenario: 0.011910200119018555 seconds\n"
     ]
    }
   ],
   "source": [
    "# That's very fast to run!\n",
    "print(\"starting benchmark\")\n",
    "time_start = time.time()\n",
    "scenario = load_scenario_npy(\"WideDataset/0001/scenarii/0001_00002.npy\")\n",
    "print(\"scenario loaded\")\n",
    "device, delta_t, _ = run_benchmark_scenario(scenario, LoggedOptimizationSensorPlacementStrategy, DroneRoutingOptimization2, custom_initialization_parameters = {\"burnmap_filename\": \"./WideDataset/0001/burn_map.npy\", \"load_from_logfile\": True, \"call_every_n_steps\": 5, \"optimization_horizon\": 10}, custom_step_parameters_function = return_no_custom_parameters, automatic_initialization_parameters_function=my_automatic_layout_parameters)\n",
    "print(\"Fire detected in \", delta_t, \"time steps by device: \", device)\n",
    "print(f\"Time taken to run benchmark on the scenario: {time.time() - time_start} seconds\")\n"
   ]
  },
  {
   "cell_type": "markdown",
   "metadata": {},
   "source": [
    "We can visualize the strategy in action by creating a video of the scenario. \n",
    "1. Use the `return_history` parameter or `run_benchmark_scenario` to output the log of ground sensor and drone positions during the benchmark\n",
    "2. Use the `create_scenario_video` function to compile the video. This can take a couple seconds"
   ]
  },
  {
   "cell_type": "code",
   "execution_count": 4,
   "metadata": {},
   "outputs": [
    {
     "name": "stdout",
     "output_type": "stream",
     "text": [
      "calling julia optimization model\n",
      "In julia fuinction\n",
      "Set parameter Username\n",
      "Set parameter LicenseID to value 2612529\n",
      "Academic license - for non-commercial use only - expires 2026-01-21\n",
      "Took 8.259267374873161 seconds\n",
      "optimization finished\n",
      "Video saved at: display_test_simulation/test_simulation.mp4\n"
     ]
    }
   ],
   "source": [
    "delta , device , (position_history, ground, charging)  = run_benchmark_scenario(scenario, SensorPlacementOptimization, RandomDroneRoutingStrategy, custom_initialization_parameters = {\"burnmap_filename\": \"./WideDataset/0001/burn_map.npy\"}, custom_step_parameters_function = return_no_custom_parameters, automatic_initialization_parameters_function=my_automatic_layout_parameters, return_history=True)\n",
    "create_scenario_video(scenario[:len(position_history)],drone_locations_history=position_history,starting_time=0,out_filename='test_simulation', ground_sensor_locations = ground, charging_stations_locations = charging)"
   ]
  },
  {
   "cell_type": "markdown",
   "metadata": {},
   "source": [
    "Instead of running a benchmark on a single scenario, we are interested in running the benchmark on all scenarii of a given layout (potentially in parallel!)\n",
    "\n",
    "1. We use `run_benchmark_scenarii_sequential`"
   ]
  },
  {
   "cell_type": "code",
   "execution_count": 6,
   "metadata": {},
   "outputs": [
    {
     "name": "stderr",
     "output_type": "stream",
     "text": [
      "  0%|          | 0/100 [00:00<?, ?it/s]"
     ]
    },
    {
     "name": "stdout",
     "output_type": "stream",
     "text": [
      "calling julia optimization model\n",
      "In julia fuinction\n",
      "Loading burn map from WideDataset/0001/scenarii/burn_map.npy\n"
     ]
    },
    {
     "name": "stderr",
     "output_type": "stream",
     "text": [
      "\n"
     ]
    },
    {
     "ename": "JuliaError",
     "evalue": "Error loading burn map: SystemError(\"opening file \\\"WideDataset/0001/scenarii/burn_map.npy\\\"\", 2, nothing)\nStacktrace:\n [1] error(s::String)\n   @ Base ./error.jl:35\n [2] load_burn_map(filename::String)\n   @ Main ~/Desktop/Climate/wildfire_drone_routing/julia/helper_functions.jl:10\n [3] ground_charging_opt_model_grid(risk_pertime_file::String, N_grounds::Int64, N_charging::Int64)\n   @ Main ~/Desktop/Climate/wildfire_drone_routing/julia/ground_charging_opt.jl:88\n [4] pyjlany_call(self::typeof(ground_charging_opt_model_grid), args_::Py, kwargs_::Py)\n   @ PythonCall.JlWrap ~/.julia/packages/PythonCall/WMWY0/src/JlWrap/any.jl:47\n [5] _pyjl_callmethod(f::Any, self_::Ptr{PythonCall.C.PyObject}, args_::Ptr{PythonCall.C.PyObject}, nargs::Int64)\n   @ PythonCall.JlWrap ~/.julia/packages/PythonCall/WMWY0/src/JlWrap/base.jl:73\n [6] _pyjl_callmethod(o::Ptr{PythonCall.C.PyObject}, args::Ptr{PythonCall.C.PyObject})\n   @ PythonCall.JlWrap.Cjl ~/.julia/packages/PythonCall/WMWY0/src/JlWrap/C.jl:63",
     "output_type": "error",
     "traceback": [
      "\u001b[0;31m---------------------------------------------------------------------------\u001b[0m",
      "\u001b[0;31mJuliaError\u001b[0m                                Traceback (most recent call last)",
      "Cell \u001b[0;32mIn[6], line 1\u001b[0m\n\u001b[0;32m----> 1\u001b[0m run_benchmark_scenarii_sequential(\u001b[38;5;124m\"\u001b[39m\u001b[38;5;124mWideDataset/0001/scenarii/\u001b[39m\u001b[38;5;124m\"\u001b[39m, SensorPlacementOptimization, RandomDroneRoutingStrategy, custom_initialization_parameters_function \u001b[38;5;241m=\u001b[39m get_burnmap_parameters, custom_step_parameters_function \u001b[38;5;241m=\u001b[39m return_no_custom_parameters, starting_time\u001b[38;5;241m=\u001b[39m\u001b[38;5;241m0\u001b[39m, max_n_scenarii\u001b[38;5;241m=\u001b[39m\u001b[38;5;241m100\u001b[39m)\n",
      "File \u001b[0;32m~/Desktop/Climate/wildfire_drone_routing/code/benchmark.py:269\u001b[0m, in \u001b[0;36mrun_benchmark_scenarii_sequential\u001b[0;34m(input_dir, sensor_placement_strategy, drone_routing_strategy, custom_initialization_parameters_function, custom_step_parameters_function, starting_time, max_n_scenarii)\u001b[0m\n\u001b[1;32m    266\u001b[0m \u001b[38;5;28;01mif\u001b[39;00m automatic_initialization_parameters \u001b[38;5;129;01mis\u001b[39;00m \u001b[38;5;28;01mNone\u001b[39;00m:\n\u001b[1;32m    267\u001b[0m     \u001b[38;5;66;03m# Compute initialization parameters\u001b[39;00m\n\u001b[1;32m    268\u001b[0m     automatic_initialization_parameters \u001b[38;5;241m=\u001b[39m get_automatic_layout_parameters(scenario) \u001b[38;5;66;03m#TODO compute them once only per layout rather than per scenario..\u001b[39;00m\n\u001b[0;32m--> 269\u001b[0m delta_t, device, _ \u001b[38;5;241m=\u001b[39m run_benchmark_scenario(scenario, \n\u001b[1;32m    270\u001b[0m                                             sensor_placement_strategy, \n\u001b[1;32m    271\u001b[0m                                             drone_routing_strategy, \n\u001b[1;32m    272\u001b[0m                                             custom_initialization_parameters,\n\u001b[1;32m    273\u001b[0m                                             custom_step_parameters_function, starting_time\u001b[38;5;241m=\u001b[39mstarting_time)\n\u001b[1;32m    275\u001b[0m \u001b[38;5;28;01mif\u001b[39;00m delta_t \u001b[38;5;241m==\u001b[39m \u001b[38;5;241m-\u001b[39m\u001b[38;5;241m1\u001b[39m:\n\u001b[1;32m    276\u001b[0m     fails \u001b[38;5;241m+\u001b[39m\u001b[38;5;241m=\u001b[39m \u001b[38;5;241m1\u001b[39m\n",
      "File \u001b[0;32m~/Desktop/Climate/wildfire_drone_routing/code/benchmark.py:61\u001b[0m, in \u001b[0;36mrun_benchmark_scenario\u001b[0;34m(scenario, sensor_placement_strategy, drone_routing_strategy, custom_initialization_parameters, custom_step_parameters_function, starting_time, return_history, custom_initialization_parameters_function, automatic_initialization_parameters_function)\u001b[0m\n\u001b[1;32m     55\u001b[0m     custom_initialization_parameters \u001b[38;5;241m=\u001b[39m custom_initialization_parameters_function(automatic_initialization_parameters)\n\u001b[1;32m     57\u001b[0m \u001b[38;5;66;03m# print(f\"custom_initialization_parameters: {custom_initialization_parameters}\")\u001b[39;00m\n\u001b[1;32m     58\u001b[0m \u001b[38;5;66;03m# print(f\"automatic_initialization_parameters: {automatic_initialization_parameters}\")\u001b[39;00m\n\u001b[1;32m     59\u001b[0m \n\u001b[1;32m     60\u001b[0m \u001b[38;5;66;03m# 2. Get ground sensor locations\u001b[39;00m\n\u001b[0;32m---> 61\u001b[0m ground_sensor_locations, charging_stations_locations \u001b[38;5;241m=\u001b[39m  sensor_placement_strategy(automatic_initialization_parameters, custom_initialization_parameters)\u001b[38;5;241m.\u001b[39mget_locations()\n\u001b[1;32m     62\u001b[0m rows_ground, cols_ground \u001b[38;5;241m=\u001b[39m \u001b[38;5;28mzip\u001b[39m(\u001b[38;5;241m*\u001b[39mground_sensor_locations)\n\u001b[1;32m     63\u001b[0m rows_charging, cols_charging \u001b[38;5;241m=\u001b[39m \u001b[38;5;28mzip\u001b[39m(\u001b[38;5;241m*\u001b[39mcharging_stations_locations)\n",
      "File \u001b[0;32m~/Desktop/Climate/wildfire_drone_routing/code/Strategy.py:206\u001b[0m, in \u001b[0;36mSensorPlacementOptimization.__init__\u001b[0;34m(self, automatic_initialization_parameters, custom_initialization_parameters)\u001b[0m\n\u001b[1;32m    204\u001b[0m \u001b[38;5;28mprint\u001b[39m(\u001b[38;5;124m\"\u001b[39m\u001b[38;5;124mcalling julia optimization model\u001b[39m\u001b[38;5;124m\"\u001b[39m)\n\u001b[1;32m    205\u001b[0m \u001b[38;5;66;03m#jl.test()\u001b[39;00m\n\u001b[0;32m--> 206\u001b[0m x_vars, y_vars \u001b[38;5;241m=\u001b[39m jl\u001b[38;5;241m.\u001b[39mground_charging_opt_model_grid(custom_initialization_parameters[\u001b[38;5;124m\"\u001b[39m\u001b[38;5;124mburnmap_filename\u001b[39m\u001b[38;5;124m\"\u001b[39m], automatic_initialization_parameters[\u001b[38;5;124m\"\u001b[39m\u001b[38;5;124mn_ground_stations\u001b[39m\u001b[38;5;124m\"\u001b[39m], automatic_initialization_parameters[\u001b[38;5;124m\"\u001b[39m\u001b[38;5;124mn_charging_stations\u001b[39m\u001b[38;5;124m\"\u001b[39m])\n\u001b[1;32m    207\u001b[0m \u001b[38;5;28mprint\u001b[39m(\u001b[38;5;124m\"\u001b[39m\u001b[38;5;124moptimization finished\u001b[39m\u001b[38;5;124m\"\u001b[39m)\n\u001b[1;32m    208\u001b[0m \u001b[38;5;66;03m# save the result in a json file\u001b[39;00m\n\u001b[1;32m    209\u001b[0m \u001b[38;5;66;03m# with open(automatic_initialization_parameters[\"burnmap_filename\"][:-4] + \"_ground_sensor_locations.json\", \"w\") as f:\u001b[39;00m\n\u001b[1;32m    210\u001b[0m \u001b[38;5;66;03m#     json.dump(x_vars, f)\u001b[39;00m\n\u001b[1;32m    211\u001b[0m \u001b[38;5;66;03m# with open(custom_initialization_parameters[\"risk_pertime_dir\"][:-1] + \"_charging_station_locations.json\", \"w\") as f:\u001b[39;00m\n\u001b[1;32m    212\u001b[0m \u001b[38;5;66;03m#     json.dump(y_vars, f)\u001b[39;00m\n",
      "File \u001b[0;32m~/.julia/packages/PythonCall/WMWY0/src/JlWrap/any.jl:262\u001b[0m, in \u001b[0;36m__call__\u001b[0;34m(self, *args, **kwargs)\u001b[0m\n\u001b[1;32m    260\u001b[0m     return ValueBase.__dir__(self) + self._jl_callmethod($(pyjl_methodnum(pyjlany_dir)))\n\u001b[1;32m    261\u001b[0m def __call__(self, *args, **kwargs):\n\u001b[0;32m--> 262\u001b[0m     return self._jl_callmethod($(pyjl_methodnum(pyjlany_call)), args, kwargs)\n\u001b[1;32m    263\u001b[0m def __bool__(self):\n\u001b[1;32m    264\u001b[0m     return True\n",
      "\u001b[0;31mJuliaError\u001b[0m: Error loading burn map: SystemError(\"opening file \\\"WideDataset/0001/scenarii/burn_map.npy\\\"\", 2, nothing)\nStacktrace:\n [1] error(s::String)\n   @ Base ./error.jl:35\n [2] load_burn_map(filename::String)\n   @ Main ~/Desktop/Climate/wildfire_drone_routing/julia/helper_functions.jl:10\n [3] ground_charging_opt_model_grid(risk_pertime_file::String, N_grounds::Int64, N_charging::Int64)\n   @ Main ~/Desktop/Climate/wildfire_drone_routing/julia/ground_charging_opt.jl:88\n [4] pyjlany_call(self::typeof(ground_charging_opt_model_grid), args_::Py, kwargs_::Py)\n   @ PythonCall.JlWrap ~/.julia/packages/PythonCall/WMWY0/src/JlWrap/any.jl:47\n [5] _pyjl_callmethod(f::Any, self_::Ptr{PythonCall.C.PyObject}, args_::Ptr{PythonCall.C.PyObject}, nargs::Int64)\n   @ PythonCall.JlWrap ~/.julia/packages/PythonCall/WMWY0/src/JlWrap/base.jl:73\n [6] _pyjl_callmethod(o::Ptr{PythonCall.C.PyObject}, args::Ptr{PythonCall.C.PyObject})\n   @ PythonCall.JlWrap.Cjl ~/.julia/packages/PythonCall/WMWY0/src/JlWrap/C.jl:63"
     ]
    }
   ],
   "source": [
    "run_benchmark_scenarii_sequential(\"WideDataset/0001/scenarii/\", SensorPlacementOptimization, RandomDroneRoutingStrategy, custom_initialization_parameters_function = get_burnmap_parameters, custom_step_parameters_function = return_no_custom_parameters, starting_time=0, max_n_scenarii=100)"
   ]
  },
  {
   "cell_type": "markdown",
   "metadata": {},
   "source": [
    "On all of the dataset!"
   ]
  },
  {
   "cell_type": "code",
   "execution_count": null,
   "metadata": {},
   "outputs": [],
   "source": [
    "benchmark_on_sim2real_dataset(\"WideDataset/\", SensorPlacementStrategy, DroneRoutingStrategy, custom_initialization_parameters_function = lambda x: None, custom_step_parameters_function = return_no_custom_parameters, max_n_scenarii=100, starting_time=0)"
   ]
  },
  {
   "cell_type": "code",
   "execution_count": 4,
   "metadata": {},
   "outputs": [
    {
     "name": "stdout",
     "output_type": "stream",
     "text": [
      "calling julia optimization model\n",
      "optimization finished\n",
      "calling julia optimization model\n",
      "optimization finished\n",
      "calling julia optimization model\n",
      "optimization finished\n",
      "calling julia optimization model\n",
      "optimization finished\n",
      "calling julia optimization model\n",
      "optimization finished\n",
      "calling julia optimization model\n",
      "optimization finished\n",
      "calling julia optimization model\n",
      "optimization finished\n",
      "calling julia optimization model\n",
      "optimization finished\n",
      "calling julia optimization model\n",
      "optimization finished\n",
      "calling julia optimization model\n",
      "optimization finished\n",
      "calling julia optimization model\n",
      "optimization finished\n",
      "calling julia optimization model\n",
      "optimization finished\n",
      "calling julia optimization model\n",
      "optimization finished\n",
      "calling julia optimization model\n",
      "optimization finished\n",
      "calling julia optimization model\n",
      "optimization finished\n",
      "calling julia optimization model\n",
      "optimization finished\n",
      "calling julia optimization model\n",
      "optimization finished\n",
      "calling julia optimization model\n",
      "optimization finished\n",
      "calling julia optimization model\n",
      "optimization finished\n",
      "calling julia optimization model\n",
      "optimization finished\n",
      "calling julia optimization model\n",
      "optimization finished\n",
      "calling julia optimization model\n",
      "optimization finished\n",
      "calling julia optimization model\n",
      "optimization finished\n",
      "calling julia optimization model\n",
      "optimization finished\n",
      "calling julia optimization model\n",
      "optimization finished\n",
      "calling julia optimization model\n",
      "optimization finished\n",
      "calling julia optimization model\n",
      "optimization finished\n",
      "calling julia optimization model\n",
      "optimization finished\n",
      "calling julia optimization model\n",
      "optimization finished\n",
      "calling julia optimization model\n",
      "optimization finished\n",
      "calling julia optimization model\n",
      "optimization finished\n",
      "calling julia optimization model\n",
      "optimization finished\n",
      "calling julia optimization model\n",
      "optimization finished\n",
      "calling julia optimization model\n",
      "optimization finished\n",
      "calling julia optimization model\n",
      "optimization finished\n",
      "calling julia optimization model\n",
      "optimization finished\n",
      "calling julia optimization model\n",
      "optimization finished\n",
      "calling julia optimization model\n",
      "optimization finished\n",
      "calling julia optimization model\n",
      "optimization finished\n",
      "calling julia optimization model\n",
      "optimization finished\n",
      "calling julia optimization model\n",
      "optimization finished\n",
      "calling julia optimization model\n",
      "optimization finished\n",
      "calling julia optimization model\n",
      "optimization finished\n",
      "calling julia optimization model\n",
      "optimization finished\n",
      "calling julia optimization model\n",
      "optimization finished\n",
      "Fire detected in  ground sensor time steps by device:  45\n",
      "Time taken to run benchmark on the scenario: 0.43914222717285156 seconds\n"
     ]
    }
   ],
   "source": [
    "# That's very fast to run!\n",
    "time_start = time.time()\n",
    "scenario = load_scenario_npy(\"WideDataset/0001/scenarii/0001_00002.npy\")\n",
    "device, delta_t, _ = run_benchmark_scenario(scenario, RandomSensorPlacementStrategy, MY_DRONE_STRATEGY, custom_initialization_parameters = {\"burnmap_filename\": \"./WideDataset/0001/burn_map.npy\", \"call_every_n_steps\": 5, \"optimization_horizon\": 10}, custom_step_parameters_function = return_no_custom_parameters, automatic_initialization_parameters_function=my_automatic_layout_parameters, return_history=True)\n",
    "print(\"Fire detected in \", delta_t, \"time steps by device: \", device)\n",
    "print(f\"Time taken to run benchmark on the scenario: {time.time() - time_start} seconds\")\n"
   ]
  },
  {
   "cell_type": "markdown",
   "metadata": {},
   "source": []
  },
  {
   "cell_type": "code",
   "execution_count": 13,
   "metadata": {},
   "outputs": [],
   "source": [
    "# define function to get parameters for optimal drone routing strategy\n",
    "# def get_routing_optimization_parameters(input_dir:str):\n",
    "#     return {\n",
    "#         \"burnmap_filename\": f\"{input_dir}/burn_map.npy\",\n",
    "#         \"call_every_n_steps\": 5,\n",
    "#         \"optimization_horizon\": 10\n",
    "#     }\n",
    "\n",
    "# add the log\n"
   ]
  },
  {
   "cell_type": "code",
   "execution_count": null,
   "metadata": {},
   "outputs": [],
   "source": []
  }
 ],
 "metadata": {
  "kernelspec": {
   "display_name": "base",
   "language": "python",
   "name": "python3"
  },
  "language_info": {
   "codemirror_mode": {
    "name": "ipython",
    "version": 3
   },
   "file_extension": ".py",
   "mimetype": "text/x-python",
   "name": "python",
   "nbconvert_exporter": "python",
   "pygments_lexer": "ipython3",
   "version": "3.12.3"
  }
 },
 "nbformat": 4,
 "nbformat_minor": 2
}
