{
 "cells": [
  {
   "cell_type": "markdown",
   "metadata": {},
   "source": [
    "## Preprocess the Sim2Real dataset\n",
    "\n",
    "The Sim2Real dataset uses jpeg images to represent wildfire masks. This representation is very lightweight but slow to work with. \n",
    "To benchmark faster, we convert them to binary NumPy files. These files are ~100 times heavier and it requires an overhead time to convert from jpeg to them, but once they are created and stored, they allow 50--100x faster operations.\n",
    "\n",
    "1. Download the dataset from [Sim2Real-Fire GitHub repository](https://github.com/TJU-IDVLab/Sim2Real-Fire).\n",
    "2. Extract all files from the dataset into your `Dataset` folder\n",
    "3. Run the preprocessing function to convert from the jpeg representation to the NumPy one, and compute burn maps"
   ]
  },
  {
   "cell_type": "code",
   "execution_count": 1,
   "metadata": {},
   "outputs": [
    {
     "name": "stdout",
     "output_type": "stream",
     "text": [
      "Requirement already satisfied: numpy in /opt/anaconda3/lib/python3.12/site-packages (from -r requirements.txt (line 1)) (1.26.4)\n",
      "Requirement already satisfied: opencv-python in /opt/anaconda3/lib/python3.12/site-packages (from -r requirements.txt (line 2)) (4.10.0.84)\n",
      "Requirement already satisfied: matplotlib in /opt/anaconda3/lib/python3.12/site-packages (from -r requirements.txt (line 3)) (3.9.2)\n",
      "Requirement already satisfied: tqdm in /opt/anaconda3/lib/python3.12/site-packages (from -r requirements.txt (line 4)) (4.66.5)\n",
      "Requirement already satisfied: juliacall in /opt/anaconda3/lib/python3.12/site-packages (from -r requirements.txt (line 5)) (0.9.24)\n",
      "Requirement already satisfied: contourpy>=1.0.1 in /opt/anaconda3/lib/python3.12/site-packages (from matplotlib->-r requirements.txt (line 3)) (1.2.0)\n",
      "Requirement already satisfied: cycler>=0.10 in /opt/anaconda3/lib/python3.12/site-packages (from matplotlib->-r requirements.txt (line 3)) (0.11.0)\n",
      "Requirement already satisfied: fonttools>=4.22.0 in /opt/anaconda3/lib/python3.12/site-packages (from matplotlib->-r requirements.txt (line 3)) (4.51.0)\n",
      "Requirement already satisfied: kiwisolver>=1.3.1 in /opt/anaconda3/lib/python3.12/site-packages (from matplotlib->-r requirements.txt (line 3)) (1.4.4)\n",
      "Requirement already satisfied: packaging>=20.0 in /opt/anaconda3/lib/python3.12/site-packages (from matplotlib->-r requirements.txt (line 3)) (24.1)\n",
      "Requirement already satisfied: pillow>=8 in /opt/anaconda3/lib/python3.12/site-packages (from matplotlib->-r requirements.txt (line 3)) (10.4.0)\n",
      "Requirement already satisfied: pyparsing>=2.3.1 in /opt/anaconda3/lib/python3.12/site-packages (from matplotlib->-r requirements.txt (line 3)) (3.1.2)\n",
      "Requirement already satisfied: python-dateutil>=2.7 in /opt/anaconda3/lib/python3.12/site-packages (from matplotlib->-r requirements.txt (line 3)) (2.9.0.post0)\n",
      "Requirement already satisfied: juliapkg~=0.1.8 in /opt/anaconda3/lib/python3.12/site-packages (from juliacall->-r requirements.txt (line 5)) (0.1.15)\n",
      "Requirement already satisfied: semver~=3.0 in /opt/anaconda3/lib/python3.12/site-packages (from juliapkg~=0.1.8->juliacall->-r requirements.txt (line 5)) (3.0.2)\n",
      "Requirement already satisfied: six>=1.5 in /opt/anaconda3/lib/python3.12/site-packages (from python-dateutil>=2.7->matplotlib->-r requirements.txt (line 3)) (1.16.0)\n",
      "Note: you may need to restart the kernel to use updated packages.\n"
     ]
    }
   ],
   "source": [
    "pip install -r requirements.txt"
   ]
  },
  {
   "cell_type": "code",
   "execution_count": 1,
   "metadata": {},
   "outputs": [
    {
     "name": "stdout",
     "output_type": "stream",
     "text": [
      "Detected IPython. Loading juliacall extension. See https://juliapy.github.io/PythonCall.jl/stable/compat/#IPython\n",
      "Initializing the Julia session. This can take up to 1 minute.\n",
      "initializing the ground sensor julia module\n",
      "installing packages\n"
     ]
    },
    {
     "name": "stderr",
     "output_type": "stream",
     "text": [
      "   Resolving package versions...\n",
      "  No Changes to `/opt/anaconda3/julia_env/Project.toml`\n",
      "  No Changes to `/opt/anaconda3/julia_env/Manifest.toml`\n",
      "   Resolving package versions...\n",
      "  No Changes to `/opt/anaconda3/julia_env/Project.toml`\n",
      "  No Changes to `/opt/anaconda3/julia_env/Manifest.toml`\n",
      "   Resolving package versions...\n",
      "  No Changes to `/opt/anaconda3/julia_env/Project.toml`\n",
      "  No Changes to `/opt/anaconda3/julia_env/Manifest.toml`\n",
      "   Resolving package versions...\n",
      "  No Changes to `/opt/anaconda3/julia_env/Project.toml`\n",
      "  No Changes to `/opt/anaconda3/julia_env/Manifest.toml`\n",
      "   Resolving package versions...\n",
      "  No Changes to `/opt/anaconda3/julia_env/Project.toml`\n",
      "  No Changes to `/opt/anaconda3/julia_env/Manifest.toml`\n",
      "   Resolving package versions...\n",
      "  No Changes to `/opt/anaconda3/julia_env/Project.toml`\n",
      "  No Changes to `/opt/anaconda3/julia_env/Manifest.toml`\n",
      "   Resolving package versions...\n",
      "  No Changes to `/opt/anaconda3/julia_env/Project.toml`\n",
      "  No Changes to `/opt/anaconda3/julia_env/Manifest.toml`\n",
      "   Resolving package versions...\n",
      "  No Changes to `/opt/anaconda3/julia_env/Project.toml`\n",
      "  No Changes to `/opt/anaconda3/julia_env/Manifest.toml`\n",
      "   Resolving package versions...\n",
      "  No Changes to `/opt/anaconda3/julia_env/Project.toml`\n",
      "  No Changes to `/opt/anaconda3/julia_env/Manifest.toml`\n",
      "   Resolving package versions...\n",
      "  No Changes to `/opt/anaconda3/julia_env/Project.toml`\n",
      "  No Changes to `/opt/anaconda3/julia_env/Manifest.toml`\n",
      "   Resolving package versions...\n",
      "  No Changes to `/opt/anaconda3/julia_env/Project.toml`\n",
      "  No Changes to `/opt/anaconda3/julia_env/Manifest.toml`\n"
     ]
    },
    {
     "name": "stdout",
     "output_type": "stream",
     "text": [
      "initializing the drone julia module\n",
      "Julia session initialized.\n"
     ]
    }
   ],
   "source": [
    "# import requred modules\n",
    "import sys\n",
    "import os\n",
    "import time\n",
    "import numpy as np\n",
    "\n",
    "# Add code to path\n",
    "module_path = os.path.abspath(\".\") + \"/code\"\n",
    "if module_path not in sys.path:\n",
    "    sys.path.append(module_path)\n",
    "\n",
    "from dataset import preprocess_sim2real_dataset, load_scenario_npy, compute_and_save_burn_maps_sim2real_dataset\n",
    "from Strategy import RandomDroneRoutingStrategy, return_no_custom_parameters, SensorPlacementOptimization, RandomSensorPlacementStrategy, DroneRoutingOptimizationExample, MY_DRONE_STRATEGY, MY_SENSOR_STRATEGY, LoggedOptimizationSensorPlacementStrategy,DroneRoutingOptimizationSlow\n",
    "from benchmark import run_benchmark_scenario,run_benchmark_scenarii_sequential, benchmark_on_sim2real_dataset, get_burnmap_parameters\n",
    "from displays import create_scenario_video"
   ]
  },
  {
   "cell_type": "markdown",
   "metadata": {},
   "source": [
    "Uncomment the cell below to preprocess the dataset.\n",
    "- `n_max_scenarii_per_layout` controls the number of scenarios we convert from jpeg to NumPy files for each layout.\n",
    "- If executed on all ~50 layouts of the dataset, the code below takes ~15mins to run and generates **400 GB** of data. Make sure to have the space."
   ]
  },
  {
   "cell_type": "code",
   "execution_count": 2,
   "metadata": {},
   "outputs": [],
   "source": [
    "# preprocess_sim2real_dataset(\"WideDataset/\", n_max_scenarii_per_layout=100) "
   ]
  },
  {
   "cell_type": "markdown",
   "metadata": {},
   "source": [
    "We can now run the benchmark function on any scenario.\n",
    "1. We load the scenario using `load_scenario_npy` since it is in preprocessed `npy` format\n",
    "2. Werun the benchmark using `run_benchmark_scenario` that takes as input:\n",
    "    - The `scenario`, \n",
    "    - The sensor placement strategy and the drone routing strategy\n",
    "    - A dictionary `custom_initialization_parameters` that contains any custom initialization inputs for your strategy functions (such as the burn map if your strategy needs a burn map as input)\n",
    "    - A python function `custom_step_parameters_function` that returns a dictionary of custom inputs for your routing function. This function is executed by the benchmarking code at each time step. Your routing function will be called with: `routing(custom_step_parameters_function())` internally"
   ]
  },
  {
   "cell_type": "code",
   "execution_count": 12,
   "metadata": {},
   "outputs": [],
   "source": [
    "# change values here to change benchmarking parameters\n",
    "def my_automatic_layout_parameters(scenario:np.ndarray):\n",
    "    return {\n",
    "        \"N\": scenario.shape[1],\n",
    "        \"M\": scenario.shape[2],\n",
    "        \"max_battery_distance\": 4,\n",
    "        \"max_battery_time\": 5,\n",
    "        \"n_drones\": 3,\n",
    "        \"n_ground_stations\": 4,\n",
    "        \"n_charging_stations\": 4,\n",
    "    }"
   ]
  },
  {
   "cell_type": "code",
   "execution_count": 7,
   "metadata": {},
   "outputs": [
    {
     "name": "stdout",
     "output_type": "stream",
     "text": [
      "calling julia optimization model\n",
      "--- parameters for julia ---\n",
      "burnmap_filename: ./WideDataset/0001/burn_map.npy\n",
      "n_drones: 1\n",
      "charging_stations_locations: [(1, 1)]\n",
      "ground_sensor_locations: [(1, 1)]\n",
      "optimization_horizon: 10\n",
      "Set parameter Username\n",
      "Set parameter LicenseID to value 2612529\n",
      "Academic license - for non-commercial use only - expires 2026-01-21\n",
      "Creating model took 0.043317792005836964 seconds\n",
      "Optimizing model took 0.003708832897245884 seconds\n",
      "Solver Status: OPTIMAL\n",
      "Objective Value: 0.0010000000000000002\n",
      "Took 0.04776045889593661 seconds\n",
      "initial optimization finished\n"
     ]
    },
    {
     "data": {
      "text/plain": [
       "[(2, 2)]"
      ]
     },
     "execution_count": 7,
     "metadata": {},
     "output_type": "execute_result"
    }
   ],
   "source": [
    "params = my_automatic_layout_parameters(scenario) \n",
    "params['charging_stations_locations'] = [(1,1)]\n",
    "params['ground_sensor_locations'] = [(1,1)]\n",
    "DroneRoutingOptimizationSlow(params, {\"burnmap_filename\": \"./WideDataset/0001/burn_map.npy\", \"load_from_logfile\": True, \"reevaluation_step\": 3, \"optimization_horizon\": 7}).get_initial_drone_locations()"
   ]
  },
  {
   "cell_type": "code",
   "execution_count": 13,
   "metadata": {},
   "outputs": [
    {
     "name": "stdout",
     "output_type": "stream",
     "text": [
      "starting benchmark\n",
      "scenario loaded\n",
      "calling julia optimization model\n",
      "--- parameters for julia ---\n",
      "burnmap_filename: ./WideDataset/0001/burn_map.npy\n",
      "n_drones: 1\n",
      "charging_stations_locations: [(56, 71), (46, 92), (9, 24), (97, 114)]\n",
      "ground_sensor_locations: [(4, 5), (47, 78), (85, 63), (40, 76)]\n",
      "optimization_horizon: 8\n",
      "Set parameter Username\n",
      "Set parameter LicenseID to value 2612529\n",
      "Academic license - for non-commercial use only - expires 2026-01-21\n",
      "Creating model took 25.157615167088807 seconds\n",
      "Optimizing model took 0.11378416698426008 seconds\n",
      "Solver Status: OPTIMAL\n",
      "Objective Value: 0.06112501854804485\n",
      "Took 25.27240899996832 seconds\n",
      "initial_positions_only: False\n",
      "current_solution: [[(\"fly\", (98, 115))], [(\"fly\", (99, 115))]]\n",
      "initial optimization finished\n",
      "calling julia optimization model\n",
      "--- parameters for julia ---\n",
      "charging_stations_locations: [(57, 72), (47, 93), (10, 25), (98, 115)]\n",
      "ground_sensor_locations: [(5, 6), (48, 79), (86, 64), (41, 77)]\n",
      "drone_locations: [(99, 115)]\n",
      "drone_states: ['fly']\n",
      "drone_batteries: [(1, 3)]\n",
      "--- end of parameters ---\n",
      "GridpointsDrones: Set(Any[(54, 76), (56, 70), (45, 88), (58, 72), (62, 76), (60, 70), (50, 90), (58, 76), (42, 90), (56, 69), (7, 24), (15, 23), (95, 112), (46, 96), (15, 29), (60, 69), (52, 71), (95, 115), (10, 26), (96, 113), (97, 111), (93, 112), (49, 90), (93, 115), (52, 77), (45, 92), (5, 28), (6, 23), (6, 29), (12, 21), (9, 26), (95, 120), (103, 117), (7, 25), (93, 120), (44, 93), (100, 117), (13, 23), (52, 68), (13, 29), (98, 110), (95, 118), (103, 119), (47, 90), (61, 73), (93, 118), (99, 116), (59, 70), (52, 75), (8, 26), (100, 119), (61, 67), (101, 112), (11, 23), (101, 115), (44, 95), (50, 98), (11, 29), (103, 114), (44, 88), (59, 69), (42, 98), (14, 26), (5, 20), (45, 96), (52, 74), (53, 72), (100, 114), (7, 28), (10, 23), (49, 98), (53, 76), (101, 120), (10, 29), (51, 93), (50, 97), (94, 110), (15, 24), (103, 113), (42, 97), (97, 112), (57, 70), (48, 93), (5, 27), (44, 92), (97, 115), (102, 110), (100, 113), (56, 72), (9, 23), (101, 118), (9, 29), (49, 97), (57, 69), (60, 72), (6, 24), (51, 95), (56, 76), (51, 88), (46, 94), (60, 76), (97, 120), (15, 25), (48, 95), (50, 91), (47, 98), (48, 88), (42, 91), (96, 110), (13, 24), (12, 22), (7, 20), (98, 116), (8, 23), (97, 118), (50, 89), (8, 29), (6, 25), (5, 21), (49, 91), (42, 89), (51, 92), (99, 111), (14, 23), (47, 97), (55, 70), (14, 29), (52, 93), (44, 96), (11, 24), (54, 71), (48, 92), (52, 73), (62, 71), (43, 93), (7, 27), (13, 25), (49, 89), (55, 69), (52, 67), (54, 77), (58, 71), (15, 28), (62, 77), (10, 24), (59, 72), (52, 95), (58, 77), (52, 88), (47, 91), (11, 25), (43, 95), (94, 116), (59, 76), (12, 30), (45, 94), (95, 117), (46, 90), (43, 88), (6, 28), (54, 68), (102, 116), (93, 117), (62, 68), (9, 24), (47, 89), (51, 96), (58, 68), (10, 25), (7, 21), (95, 119), (48, 96), (13, 28), (52, 92), (54, 75), (57, 72), (62, 75), (93, 119), (95, 114), (43, 92), (103, 110), (54, 74), (58, 75), (96, 116), (15, 20), (57, 76), (9, 25), (62, 74), (93, 114), (98, 111), (8, 24), (100, 110), (58, 74), (11, 28), (99, 112), (14, 24), (99, 115), (101, 117), (6, 20), (5, 22), (61, 70), (95, 113), (15, 27), (10, 28), (53, 71), (45, 90), (93, 113), (8, 25), (46, 98), (61, 69), (99, 120), (13, 20), (52, 96), (53, 77), (101, 119), (55, 72), (14, 25), (44, 94), (6, 27), (43, 96), (94, 111), (9, 28), (101, 114), (97, 117), (55, 76), (99, 118), (102, 111), (46, 97), (56, 71), (11, 20), (60, 71), (53, 68), (13, 27), (15, 21), (56, 77), (97, 119), (60, 77), (12, 26), (5, 30), (54, 73), (10, 20), (8, 28), (53, 75), (97, 114), (101, 113), (62, 73), (7, 22), (11, 27), (96, 111), (103, 116), (6, 21), (51, 94), (54, 67), (14, 28), (46, 91), (53, 74), (58, 73), (62, 67), (56, 68), (98, 112), (98, 115), (100, 116), (60, 68), (48, 94), (58, 67), (9, 20), (45, 98), (10, 27), (13, 21), (46, 89), (44, 90), (56, 75), (50, 93), (97, 113), (60, 75), (98, 120), (42, 93), (56, 74), (45, 97), (52, 70), (60, 74), (9, 27), (59, 71), (11, 21), (49, 93), (8, 20), (98, 118), (7, 30), (50, 95), (52, 69), (59, 77), (61, 72), (94, 112), (94, 115), (50, 88), (42, 95), (14, 20), (102, 112), (95, 110), (42, 88), (102, 115), (10, 21), (61, 76), (12, 23), (52, 94), (12, 29), (93, 110), (49, 95), (45, 91), (51, 90), (8, 27), (43, 94), (49, 88), (59, 68), (94, 120), (57, 71), (48, 90), (14, 27), (102, 120), (9, 21), (50, 92), (47, 93), (15, 22), (103, 111), (96, 112), (45, 89), (42, 92), (53, 73), (57, 77), (96, 115), (94, 118), (59, 75), (44, 98), (100, 111), (53, 67), (102, 118), (5, 26), (99, 117), (49, 92), (59, 74), (6, 22), (47, 95), (57, 68), (47, 88), (96, 120), (8, 21), (101, 110), (44, 97), (56, 73), (60, 73), (99, 119), (13, 22), (14, 21), (56, 67), (55, 71), (96, 118), (57, 75), (52, 90), (60, 67), (99, 114), (50, 96), (15, 30), (43, 90), (51, 98), (42, 96), (47, 92), (55, 77), (57, 74), (11, 22), (97, 110), (44, 91), (48, 98), (95, 116), (12, 24), (52, 72), (49, 96), (6, 30), (93, 116), (7, 26), (51, 97), (52, 76), (55, 68), (99, 113), (10, 22), (44, 89), (48, 97), (103, 112), (5, 23), (13, 30), (103, 115), (5, 29), (12, 25), (98, 117), (55, 75), (54, 70), (100, 112), (9, 22), (59, 73), (62, 70), (100, 115), (55, 74), (47, 96), (51, 91), (58, 70), (54, 69), (59, 67), (11, 30), (103, 120), (62, 69), (98, 119), (52, 98), (48, 91), (101, 116), (58, 69), (100, 120), (43, 98), (98, 114), (51, 89), (46, 93), (103, 118), (10, 30), (8, 22), (48, 89), (57, 73), (52, 97), (61, 71), (12, 28), (14, 22), (94, 117), (100, 118), (43, 97), (57, 67), (102, 117), (7, 23), (95, 111), (61, 77), (9, 30), (7, 29), (97, 116), (46, 95), (98, 113), (46, 88), (93, 111), (50, 94), (94, 119), (15, 26), (42, 94), (102, 119), (52, 91), (94, 114), (61, 68), (5, 24), (96, 117), (102, 114), (43, 91), (49, 94), (6, 26), (8, 30), (46, 92), (52, 89), (55, 73), (12, 20), (14, 30), (53, 70), (61, 75), (45, 93), (43, 89), (96, 119), (55, 67), (99, 110), (13, 26), (94, 113), (61, 74), (53, 69), (5, 25), (101, 111), (96, 114), (102, 113), (54, 72), (62, 72), (12, 27), (45, 95), (47, 94), (11, 26)])\n",
      "GridpointsDronesDetecting: Set(Any[(54, 76), (56, 70), (45, 88), (58, 72), (62, 76), (60, 70), (50, 90), (58, 76), (42, 90), (56, 69), (7, 24), (15, 23), (95, 112), (46, 96), (15, 29), (60, 69), (52, 71), (95, 115), (10, 26), (96, 113), (97, 111), (93, 112), (49, 90), (93, 115), (52, 77), (45, 92), (5, 28), (6, 23), (6, 29), (12, 21), (9, 26), (95, 120), (103, 117), (7, 25), (93, 120), (44, 93), (100, 117), (13, 23), (52, 68), (13, 29), (98, 110), (95, 118), (103, 119), (47, 90), (61, 73), (93, 118), (99, 116), (59, 70), (52, 75), (8, 26), (100, 119), (61, 67), (101, 112), (11, 23), (101, 115), (44, 95), (50, 98), (11, 29), (103, 114), (44, 88), (59, 69), (42, 98), (14, 26), (5, 20), (45, 96), (52, 74), (53, 72), (100, 114), (7, 28), (10, 23), (49, 98), (53, 76), (101, 120), (10, 29), (51, 93), (50, 97), (94, 110), (15, 24), (103, 113), (42, 97), (97, 112), (57, 70), (48, 93), (5, 27), (44, 92), (97, 115), (102, 110), (100, 113), (56, 72), (9, 23), (101, 118), (9, 29), (49, 97), (57, 69), (60, 72), (6, 24), (51, 95), (56, 76), (51, 88), (46, 94), (60, 76), (97, 120), (15, 25), (48, 95), (50, 91), (47, 98), (48, 88), (42, 91), (96, 110), (13, 24), (12, 22), (7, 20), (98, 116), (8, 23), (97, 118), (50, 89), (8, 29), (6, 25), (5, 21), (49, 91), (42, 89), (51, 92), (99, 111), (14, 23), (47, 97), (55, 70), (14, 29), (52, 93), (44, 96), (11, 24), (54, 71), (48, 92), (52, 73), (62, 71), (43, 93), (7, 27), (13, 25), (49, 89), (55, 69), (52, 67), (54, 77), (58, 71), (15, 28), (62, 77), (10, 24), (59, 72), (52, 95), (58, 77), (52, 88), (47, 91), (11, 25), (43, 95), (94, 116), (59, 76), (12, 30), (45, 94), (95, 117), (46, 90), (43, 88), (6, 28), (54, 68), (102, 116), (93, 117), (62, 68), (9, 24), (47, 89), (51, 96), (58, 68), (7, 21), (95, 119), (48, 96), (13, 28), (52, 92), (54, 75), (62, 75), (93, 119), (95, 114), (43, 92), (103, 110), (54, 74), (58, 75), (96, 116), (15, 20), (57, 76), (9, 25), (62, 74), (93, 114), (98, 111), (8, 24), (100, 110), (58, 74), (11, 28), (99, 112), (14, 24), (99, 115), (101, 117), (6, 20), (5, 22), (61, 70), (95, 113), (15, 27), (10, 28), (53, 71), (45, 90), (93, 113), (8, 25), (46, 98), (61, 69), (99, 120), (13, 20), (52, 96), (53, 77), (101, 119), (55, 72), (14, 25), (44, 94), (6, 27), (43, 96), (94, 111), (9, 28), (101, 114), (97, 117), (55, 76), (99, 118), (102, 111), (46, 97), (56, 71), (11, 20), (60, 71), (53, 68), (13, 27), (15, 21), (56, 77), (97, 119), (60, 77), (12, 26), (5, 30), (54, 73), (10, 20), (8, 28), (53, 75), (97, 114), (101, 113), (62, 73), (7, 22), (11, 27), (96, 111), (103, 116), (6, 21), (51, 94), (54, 67), (14, 28), (46, 91), (53, 74), (58, 73), (62, 67), (56, 68), (98, 112), (100, 116), (60, 68), (48, 94), (58, 67), (9, 20), (45, 98), (10, 27), (13, 21), (46, 89), (44, 90), (56, 75), (50, 93), (97, 113), (60, 75), (98, 120), (42, 93), (56, 74), (45, 97), (52, 70), (60, 74), (9, 27), (59, 71), (11, 21), (49, 93), (8, 20), (98, 118), (7, 30), (50, 95), (52, 69), (59, 77), (61, 72), (94, 112), (94, 115), (50, 88), (42, 95), (14, 20), (102, 112), (95, 110), (42, 88), (102, 115), (10, 21), (61, 76), (12, 23), (52, 94), (12, 29), (93, 110), (49, 95), (45, 91), (51, 90), (8, 27), (43, 94), (49, 88), (59, 68), (94, 120), (57, 71), (48, 90), (14, 27), (102, 120), (9, 21), (50, 92), (15, 22), (103, 111), (96, 112), (45, 89), (42, 92), (53, 73), (57, 77), (96, 115), (94, 118), (59, 75), (44, 98), (100, 111), (53, 67), (102, 118), (5, 26), (99, 117), (49, 92), (59, 74), (6, 22), (47, 95), (57, 68), (47, 88), (96, 120), (8, 21), (101, 110), (44, 97), (56, 73), (60, 73), (99, 119), (13, 22), (14, 21), (56, 67), (55, 71), (96, 118), (57, 75), (52, 90), (60, 67), (99, 114), (50, 96), (15, 30), (43, 90), (51, 98), (42, 96), (47, 92), (55, 77), (57, 74), (11, 22), (97, 110), (44, 91), (48, 98), (95, 116), (12, 24), (52, 72), (49, 96), (6, 30), (93, 116), (7, 26), (51, 97), (52, 76), (55, 68), (99, 113), (10, 22), (44, 89), (48, 97), (103, 112), (5, 23), (13, 30), (103, 115), (5, 29), (12, 25), (98, 117), (55, 75), (54, 70), (100, 112), (9, 22), (59, 73), (62, 70), (100, 115), (55, 74), (47, 96), (51, 91), (58, 70), (54, 69), (59, 67), (11, 30), (103, 120), (62, 69), (98, 119), (52, 98), (48, 91), (101, 116), (58, 69), (100, 120), (43, 98), (98, 114), (51, 89), (46, 93), (103, 118), (10, 30), (8, 22), (48, 89), (57, 73), (52, 97), (61, 71), (12, 28), (14, 22), (94, 117), (100, 118), (43, 97), (57, 67), (102, 117), (7, 23), (95, 111), (61, 77), (9, 30), (7, 29), (97, 116), (46, 95), (98, 113), (46, 88), (93, 111), (50, 94), (94, 119), (15, 26), (42, 94), (102, 119), (52, 91), (94, 114), (61, 68), (5, 24), (96, 117), (102, 114), (43, 91), (49, 94), (6, 26), (8, 30), (46, 92), (52, 89), (55, 73), (12, 20), (14, 30), (53, 70), (61, 75), (45, 93), (43, 89), (96, 119), (55, 67), (99, 110), (13, 26), (94, 113), (61, 74), (53, 69), (5, 25), (101, 111), (96, 114), (102, 113), (54, 72), (62, 72), (12, 27), (45, 95), (47, 94), (11, 26)])\n",
      "ChargingStations: Any[(57, 72), (47, 93), (10, 25), (98, 115)]\n",
      "Set parameter Username\n",
      "Set parameter LicenseID to value 2612529\n",
      "Academic license - for non-commercial use only - expires 2026-01-21\n",
      "Optimizing model took 25.81032683304511 seconds\n",
      "Solver Status: INFEASIBLE_OR_UNBOUNDED\n"
     ]
    },
    {
     "ename": "JuliaError",
     "evalue": "Result index of attribute MathOptInterface.VariablePrimal(1) out of bounds. There are currently 0 solution(s) in the model.\nStacktrace:\n  [1] check_result_index_bounds\n    @ ~/.julia/packages/MathOptInterface/92oIV/src/attributes.jl:207 [inlined]\n  [2] get(model::Gurobi.Optimizer, attr::MathOptInterface.VariablePrimal, x::MathOptInterface.VariableIndex)\n    @ Gurobi ~/.julia/packages/Gurobi/yFYMV/src/MOI_wrapper/MOI_wrapper.jl:3059\n  [3] get(b::MathOptInterface.Bridges.LazyBridgeOptimizer{Gurobi.Optimizer}, attr::MathOptInterface.VariablePrimal, index::MathOptInterface.VariableIndex)\n    @ MathOptInterface.Bridges ~/.julia/packages/MathOptInterface/92oIV/src/Bridges/bridge_optimizer.jl:1252\n  [4] get(model::MathOptInterface.Utilities.CachingOptimizer{MathOptInterface.Bridges.LazyBridgeOptimizer{Gurobi.Optimizer}, MathOptInterface.Utilities.UniversalFallback{MathOptInterface.Utilities.Model{Float64}}}, attr::MathOptInterface.VariablePrimal, index::MathOptInterface.VariableIndex)\n    @ MathOptInterface.Utilities ~/.julia/packages/MathOptInterface/92oIV/src/Utilities/cachingoptimizer.jl:937\n  [5] _moi_get_result(::MathOptInterface.Utilities.CachingOptimizer{MathOptInterface.Bridges.LazyBridgeOptimizer{Gurobi.Optimizer}, MathOptInterface.Utilities.UniversalFallback{MathOptInterface.Utilities.Model{Float64}}}, ::MathOptInterface.VariablePrimal, ::Vararg{Any})\n    @ JuMP ~/.julia/packages/JuMP/CU7H5/src/optimizer_interface.jl:1053\n  [6] get(model::Model, attr::MathOptInterface.VariablePrimal, v::VariableRef)\n    @ JuMP ~/.julia/packages/JuMP/CU7H5/src/optimizer_interface.jl:1093\n  [7] value(v::VariableRef; result::Int64)\n    @ JuMP ~/.julia/packages/JuMP/CU7H5/src/variables.jl:1904\n  [8] value\n    @ ~/.julia/packages/JuMP/CU7H5/src/variables.jl:1903 [inlined]\n  [9] (::var\"#217#238\"{JuMP.Containers.DenseAxisArray{VariableRef, 3, Tuple{Vector{Tuple{Int64, Int64}}, Base.OneTo{Int64}, Base.OneTo{Int64}}, Tuple{JuMP.Containers._AxisLookup{Dict{Tuple{Int64, Int64}, Int64}}, JuMP.Containers._AxisLookup{Base.OneTo{Int64}}, JuMP.Containers._AxisLookup{Base.OneTo{Int64}}}}})(::Tuple{Tuple{Int64, Int64}, Int64, Int64})\n    @ Main ./none:0\n [10] iterate(::Base.Iterators.Filter{var\"#217#238\"{JuMP.Containers.DenseAxisArray{VariableRef, 3, Tuple{Vector{Tuple{Int64, Int64}}, Base.OneTo{Int64}, Base.OneTo{Int64}}, Tuple{JuMP.Containers._AxisLookup{Dict{Tuple{Int64, Int64}, Int64}}, JuMP.Containers._AxisLookup{Base.OneTo{Int64}}, JuMP.Containers._AxisLookup{Base.OneTo{Int64}}}}}, Base.Iterators.ProductIterator{Tuple{Set{Any}, UnitRange{Int64}, UnitRange{Int64}}}})\n    @ Base.Iterators ./iterators.jl:548\n [11] iterate\n    @ ./generator.jl:45 [inlined]\n [12] grow_to!(dest::Vector{Tuple{Any, Int64, Int64}}, itr::Base.Generator{Base.Iterators.Filter{var\"#217#238\"{JuMP.Containers.DenseAxisArray{VariableRef, 3, Tuple{Vector{Tuple{Int64, Int64}}, Base.OneTo{Int64}, Base.OneTo{Int64}}, Tuple{JuMP.Containers._AxisLookup{Dict{Tuple{Int64, Int64}, Int64}}, JuMP.Containers._AxisLookup{Base.OneTo{Int64}}, JuMP.Containers._AxisLookup{Base.OneTo{Int64}}}}}, Base.Iterators.ProductIterator{Tuple{Set{Any}, UnitRange{Int64}, UnitRange{Int64}}}}, var\"#216#237\"})\n    @ Base ./array.jl:864\n [13] collect(itr::Base.Generator{Base.Iterators.Filter{var\"#217#238\"{JuMP.Containers.DenseAxisArray{VariableRef, 3, Tuple{Vector{Tuple{Int64, Int64}}, Base.OneTo{Int64}, Base.OneTo{Int64}}, Tuple{JuMP.Containers._AxisLookup{Dict{Tuple{Int64, Int64}, Int64}}, JuMP.Containers._AxisLookup{Base.OneTo{Int64}}, JuMP.Containers._AxisLookup{Base.OneTo{Int64}}}}}, Base.Iterators.ProductIterator{Tuple{Set{Any}, UnitRange{Int64}, UnitRange{Int64}}}}, var\"#216#237\"})\n    @ Base ./array.jl:788\n [14] NEW_ROUTING_STRATEGY_NEXTMOVE(risk_pertime_file::String, n_drones::Int64, ChargingStations::PyList{Any}, GroundStations::PyList{Any}, optimization_horizon::Int64, max_battery_time::Int64, reevaluation_step::Int64, drone_locations::PyList{Any}, drone_states::PyList{Any}, battery_level::PyList{Any})\n    @ Main ~/Desktop/Climate/wildfire_drone_routing/julia/drone_routing_opt.jl:206\n [15] pyjlany_call(self::typeof(NEW_ROUTING_STRATEGY_NEXTMOVE), args_::Py, kwargs_::Py)\n    @ PythonCall.JlWrap ~/.julia/packages/PythonCall/WMWY0/src/JlWrap/any.jl:47\n [16] _pyjl_callmethod(f::Any, self_::Ptr{PythonCall.C.PyObject}, args_::Ptr{PythonCall.C.PyObject}, nargs::Int64)\n    @ PythonCall.JlWrap ~/.julia/packages/PythonCall/WMWY0/src/JlWrap/base.jl:73\n [17] _pyjl_callmethod(o::Ptr{PythonCall.C.PyObject}, args::Ptr{PythonCall.C.PyObject})\n    @ PythonCall.JlWrap.Cjl ~/.julia/packages/PythonCall/WMWY0/src/JlWrap/C.jl:63",
     "output_type": "error",
     "traceback": [
      "\u001b[0;31m---------------------------------------------------------------------------\u001b[0m",
      "\u001b[0;31mJuliaError\u001b[0m                                Traceback (most recent call last)",
      "Cell \u001b[0;32mIn[13], line 6\u001b[0m\n\u001b[1;32m      4\u001b[0m scenario \u001b[38;5;241m=\u001b[39m load_scenario_npy(\u001b[38;5;124m\"\u001b[39m\u001b[38;5;124mWideDataset/0001/scenarii/0001_00002.npy\u001b[39m\u001b[38;5;124m\"\u001b[39m)\n\u001b[1;32m      5\u001b[0m \u001b[38;5;28mprint\u001b[39m(\u001b[38;5;124m\"\u001b[39m\u001b[38;5;124mscenario loaded\u001b[39m\u001b[38;5;124m\"\u001b[39m)\n\u001b[0;32m----> 6\u001b[0m device, delta_t, _ \u001b[38;5;241m=\u001b[39m run_benchmark_scenario(scenario, RandomSensorPlacementStrategy, DroneRoutingOptimizationSlow, custom_initialization_parameters \u001b[38;5;241m=\u001b[39m {\u001b[38;5;124m\"\u001b[39m\u001b[38;5;124mburnmap_filename\u001b[39m\u001b[38;5;124m\"\u001b[39m: \u001b[38;5;124m\"\u001b[39m\u001b[38;5;124m./WideDataset/0001/burn_map.npy\u001b[39m\u001b[38;5;124m\"\u001b[39m, \u001b[38;5;124m\"\u001b[39m\u001b[38;5;124mload_from_logfile\u001b[39m\u001b[38;5;124m\"\u001b[39m: \u001b[38;5;28;01mTrue\u001b[39;00m, \u001b[38;5;124m\"\u001b[39m\u001b[38;5;124mreevaluation_step\u001b[39m\u001b[38;5;124m\"\u001b[39m: \u001b[38;5;241m2\u001b[39m, \u001b[38;5;124m\"\u001b[39m\u001b[38;5;124moptimization_horizon\u001b[39m\u001b[38;5;124m\"\u001b[39m:\u001b[38;5;241m8\u001b[39m}, custom_step_parameters_function \u001b[38;5;241m=\u001b[39m return_no_custom_parameters, automatic_initialization_parameters_function\u001b[38;5;241m=\u001b[39mmy_automatic_layout_parameters)\n\u001b[1;32m      7\u001b[0m \u001b[38;5;28mprint\u001b[39m(\u001b[38;5;124m\"\u001b[39m\u001b[38;5;124mFire detected in \u001b[39m\u001b[38;5;124m\"\u001b[39m, delta_t, \u001b[38;5;124m\"\u001b[39m\u001b[38;5;124mtime steps by device: \u001b[39m\u001b[38;5;124m\"\u001b[39m, device)\n\u001b[1;32m      8\u001b[0m \u001b[38;5;28mprint\u001b[39m(\u001b[38;5;124mf\u001b[39m\u001b[38;5;124m\"\u001b[39m\u001b[38;5;124mTime taken to run benchmark on the scenario: \u001b[39m\u001b[38;5;132;01m{\u001b[39;00mtime\u001b[38;5;241m.\u001b[39mtime()\u001b[38;5;250m \u001b[39m\u001b[38;5;241m-\u001b[39m\u001b[38;5;250m \u001b[39mtime_start\u001b[38;5;132;01m}\u001b[39;00m\u001b[38;5;124m seconds\u001b[39m\u001b[38;5;124m\"\u001b[39m)\n",
      "File \u001b[0;32m~/Desktop/Climate/wildfire_drone_routing/code/benchmark.py:125\u001b[0m, in \u001b[0;36mrun_benchmark_scenario\u001b[0;34m(scenario, sensor_placement_strategy, drone_routing_strategy, custom_initialization_parameters, custom_step_parameters_function, starting_time, return_history, custom_initialization_parameters_function, automatic_initialization_parameters_function)\u001b[0m\n\u001b[1;32m    118\u001b[0m automatic_step_parameters \u001b[38;5;241m=\u001b[39m {\n\u001b[1;32m    119\u001b[0m     \u001b[38;5;124m\"\u001b[39m\u001b[38;5;124mdrone_locations\u001b[39m\u001b[38;5;124m\"\u001b[39m: drone_locations,\n\u001b[1;32m    120\u001b[0m     \u001b[38;5;124m\"\u001b[39m\u001b[38;5;124mdrone_batteries\u001b[39m\u001b[38;5;124m\"\u001b[39m: drone_batteries,\n\u001b[1;32m    121\u001b[0m     \u001b[38;5;124m\"\u001b[39m\u001b[38;5;124mdrone_states\u001b[39m\u001b[38;5;124m\"\u001b[39m: drone_states,\n\u001b[1;32m    122\u001b[0m     \u001b[38;5;124m\"\u001b[39m\u001b[38;5;124mt\u001b[39m\u001b[38;5;124m\"\u001b[39m: t_found }\n\u001b[1;32m    124\u001b[0m \u001b[38;5;66;03m# 2. Get the actions\u001b[39;00m\n\u001b[0;32m--> 125\u001b[0m actions \u001b[38;5;241m=\u001b[39m Routing_Strat\u001b[38;5;241m.\u001b[39mnext_actions(automatic_step_parameters, custom_step_parameters)\n\u001b[1;32m    127\u001b[0m \u001b[38;5;66;03m# 3. Move the drones\u001b[39;00m\n\u001b[1;32m    128\u001b[0m \u001b[38;5;28;01mfor\u001b[39;00m drone_index, (drone,action) \u001b[38;5;129;01min\u001b[39;00m \u001b[38;5;28menumerate\u001b[39m(\u001b[38;5;28mzip\u001b[39m(drones,actions)):\n",
      "File \u001b[0;32m~/Desktop/Climate/wildfire_drone_routing/code/Strategy.py:655\u001b[0m, in \u001b[0;36mDroneRoutingOptimizationSlow.next_actions\u001b[0;34m(self, automatic_step_parameters, custom_step_parameters)\u001b[0m\n\u001b[1;32m    652\u001b[0m \u001b[38;5;28mprint\u001b[39m(\u001b[38;5;124mf\u001b[39m\u001b[38;5;124m\"\u001b[39m\u001b[38;5;124mdrone_batteries: \u001b[39m\u001b[38;5;132;01m{\u001b[39;00mautomatic_step_parameters[\u001b[38;5;124m'\u001b[39m\u001b[38;5;124mdrone_batteries\u001b[39m\u001b[38;5;124m'\u001b[39m]\u001b[38;5;132;01m}\u001b[39;00m\u001b[38;5;124m\"\u001b[39m)\n\u001b[1;32m    653\u001b[0m \u001b[38;5;28mprint\u001b[39m(\u001b[38;5;124m\"\u001b[39m\u001b[38;5;124m--- end of parameters ---\u001b[39m\u001b[38;5;124m\"\u001b[39m)\n\u001b[0;32m--> 655\u001b[0m \u001b[38;5;28mself\u001b[39m\u001b[38;5;241m.\u001b[39mcurrent_solution \u001b[38;5;241m=\u001b[39m jl\u001b[38;5;241m.\u001b[39mNEW_ROUTING_STRATEGY_NEXTMOVE(\u001b[38;5;28mself\u001b[39m\u001b[38;5;241m.\u001b[39mcustom_initialization_parameters[\u001b[38;5;124m\"\u001b[39m\u001b[38;5;124mburnmap_filename\u001b[39m\u001b[38;5;124m\"\u001b[39m], \u001b[38;5;28mself\u001b[39m\u001b[38;5;241m.\u001b[39mautomatic_initialization_parameters[\u001b[38;5;124m\"\u001b[39m\u001b[38;5;124mn_drones\u001b[39m\u001b[38;5;124m\"\u001b[39m], \u001b[38;5;28mself\u001b[39m\u001b[38;5;241m.\u001b[39mjulia_charging_stations_locations, \u001b[38;5;28mself\u001b[39m\u001b[38;5;241m.\u001b[39mjulia_ground_sensor_locations, \u001b[38;5;28mself\u001b[39m\u001b[38;5;241m.\u001b[39mcustom_initialization_parameters[\u001b[38;5;124m\"\u001b[39m\u001b[38;5;124moptimization_horizon\u001b[39m\u001b[38;5;124m\"\u001b[39m], \u001b[38;5;28mself\u001b[39m\u001b[38;5;241m.\u001b[39mautomatic_initialization_parameters[\u001b[38;5;124m\"\u001b[39m\u001b[38;5;124mmax_battery_time\u001b[39m\u001b[38;5;124m\"\u001b[39m], \u001b[38;5;28mself\u001b[39m\u001b[38;5;241m.\u001b[39mcustom_initialization_parameters[\u001b[38;5;124m\"\u001b[39m\u001b[38;5;124mreevaluation_step\u001b[39m\u001b[38;5;124m\"\u001b[39m], julia_drone_locations, automatic_step_parameters[\u001b[38;5;124m\"\u001b[39m\u001b[38;5;124mdrone_states\u001b[39m\u001b[38;5;124m\"\u001b[39m], automatic_step_parameters[\u001b[38;5;124m\"\u001b[39m\u001b[38;5;124mdrone_batteries\u001b[39m\u001b[38;5;124m\"\u001b[39m])\n\u001b[1;32m    656\u001b[0m \u001b[38;5;66;03m# convert to python indexing\u001b[39;00m\n\u001b[1;32m    657\u001b[0m \u001b[38;5;28mself\u001b[39m\u001b[38;5;241m.\u001b[39mcurrent_solution \u001b[38;5;241m=\u001b[39m [(code,(x\u001b[38;5;241m-\u001b[39m\u001b[38;5;241m1\u001b[39m, y\u001b[38;5;241m-\u001b[39m\u001b[38;5;241m1\u001b[39m)) \u001b[38;5;28;01mif\u001b[39;00m code \u001b[38;5;241m!=\u001b[39m \u001b[38;5;124m\"\u001b[39m\u001b[38;5;124mmove\u001b[39m\u001b[38;5;124m\"\u001b[39m \u001b[38;5;28;01melse\u001b[39;00m (code, (x, y)) \u001b[38;5;28;01mfor\u001b[39;00m code, (x, y) \u001b[38;5;129;01min\u001b[39;00m \u001b[38;5;28mself\u001b[39m\u001b[38;5;241m.\u001b[39mcurrent_solution]\n",
      "File \u001b[0;32m~/.julia/packages/PythonCall/WMWY0/src/JlWrap/any.jl:262\u001b[0m, in \u001b[0;36m__call__\u001b[0;34m(self, *args, **kwargs)\u001b[0m\n\u001b[1;32m    260\u001b[0m     return ValueBase.__dir__(self) + self._jl_callmethod($(pyjl_methodnum(pyjlany_dir)))\n\u001b[1;32m    261\u001b[0m def __call__(self, *args, **kwargs):\n\u001b[0;32m--> 262\u001b[0m     return self._jl_callmethod($(pyjl_methodnum(pyjlany_call)), args, kwargs)\n\u001b[1;32m    263\u001b[0m def __bool__(self):\n\u001b[1;32m    264\u001b[0m     return True\n",
      "\u001b[0;31mJuliaError\u001b[0m: Result index of attribute MathOptInterface.VariablePrimal(1) out of bounds. There are currently 0 solution(s) in the model.\nStacktrace:\n  [1] check_result_index_bounds\n    @ ~/.julia/packages/MathOptInterface/92oIV/src/attributes.jl:207 [inlined]\n  [2] get(model::Gurobi.Optimizer, attr::MathOptInterface.VariablePrimal, x::MathOptInterface.VariableIndex)\n    @ Gurobi ~/.julia/packages/Gurobi/yFYMV/src/MOI_wrapper/MOI_wrapper.jl:3059\n  [3] get(b::MathOptInterface.Bridges.LazyBridgeOptimizer{Gurobi.Optimizer}, attr::MathOptInterface.VariablePrimal, index::MathOptInterface.VariableIndex)\n    @ MathOptInterface.Bridges ~/.julia/packages/MathOptInterface/92oIV/src/Bridges/bridge_optimizer.jl:1252\n  [4] get(model::MathOptInterface.Utilities.CachingOptimizer{MathOptInterface.Bridges.LazyBridgeOptimizer{Gurobi.Optimizer}, MathOptInterface.Utilities.UniversalFallback{MathOptInterface.Utilities.Model{Float64}}}, attr::MathOptInterface.VariablePrimal, index::MathOptInterface.VariableIndex)\n    @ MathOptInterface.Utilities ~/.julia/packages/MathOptInterface/92oIV/src/Utilities/cachingoptimizer.jl:937\n  [5] _moi_get_result(::MathOptInterface.Utilities.CachingOptimizer{MathOptInterface.Bridges.LazyBridgeOptimizer{Gurobi.Optimizer}, MathOptInterface.Utilities.UniversalFallback{MathOptInterface.Utilities.Model{Float64}}}, ::MathOptInterface.VariablePrimal, ::Vararg{Any})\n    @ JuMP ~/.julia/packages/JuMP/CU7H5/src/optimizer_interface.jl:1053\n  [6] get(model::Model, attr::MathOptInterface.VariablePrimal, v::VariableRef)\n    @ JuMP ~/.julia/packages/JuMP/CU7H5/src/optimizer_interface.jl:1093\n  [7] value(v::VariableRef; result::Int64)\n    @ JuMP ~/.julia/packages/JuMP/CU7H5/src/variables.jl:1904\n  [8] value\n    @ ~/.julia/packages/JuMP/CU7H5/src/variables.jl:1903 [inlined]\n  [9] (::var\"#217#238\"{JuMP.Containers.DenseAxisArray{VariableRef, 3, Tuple{Vector{Tuple{Int64, Int64}}, Base.OneTo{Int64}, Base.OneTo{Int64}}, Tuple{JuMP.Containers._AxisLookup{Dict{Tuple{Int64, Int64}, Int64}}, JuMP.Containers._AxisLookup{Base.OneTo{Int64}}, JuMP.Containers._AxisLookup{Base.OneTo{Int64}}}}})(::Tuple{Tuple{Int64, Int64}, Int64, Int64})\n    @ Main ./none:0\n [10] iterate(::Base.Iterators.Filter{var\"#217#238\"{JuMP.Containers.DenseAxisArray{VariableRef, 3, Tuple{Vector{Tuple{Int64, Int64}}, Base.OneTo{Int64}, Base.OneTo{Int64}}, Tuple{JuMP.Containers._AxisLookup{Dict{Tuple{Int64, Int64}, Int64}}, JuMP.Containers._AxisLookup{Base.OneTo{Int64}}, JuMP.Containers._AxisLookup{Base.OneTo{Int64}}}}}, Base.Iterators.ProductIterator{Tuple{Set{Any}, UnitRange{Int64}, UnitRange{Int64}}}})\n    @ Base.Iterators ./iterators.jl:548\n [11] iterate\n    @ ./generator.jl:45 [inlined]\n [12] grow_to!(dest::Vector{Tuple{Any, Int64, Int64}}, itr::Base.Generator{Base.Iterators.Filter{var\"#217#238\"{JuMP.Containers.DenseAxisArray{VariableRef, 3, Tuple{Vector{Tuple{Int64, Int64}}, Base.OneTo{Int64}, Base.OneTo{Int64}}, Tuple{JuMP.Containers._AxisLookup{Dict{Tuple{Int64, Int64}, Int64}}, JuMP.Containers._AxisLookup{Base.OneTo{Int64}}, JuMP.Containers._AxisLookup{Base.OneTo{Int64}}}}}, Base.Iterators.ProductIterator{Tuple{Set{Any}, UnitRange{Int64}, UnitRange{Int64}}}}, var\"#216#237\"})\n    @ Base ./array.jl:864\n [13] collect(itr::Base.Generator{Base.Iterators.Filter{var\"#217#238\"{JuMP.Containers.DenseAxisArray{VariableRef, 3, Tuple{Vector{Tuple{Int64, Int64}}, Base.OneTo{Int64}, Base.OneTo{Int64}}, Tuple{JuMP.Containers._AxisLookup{Dict{Tuple{Int64, Int64}, Int64}}, JuMP.Containers._AxisLookup{Base.OneTo{Int64}}, JuMP.Containers._AxisLookup{Base.OneTo{Int64}}}}}, Base.Iterators.ProductIterator{Tuple{Set{Any}, UnitRange{Int64}, UnitRange{Int64}}}}, var\"#216#237\"})\n    @ Base ./array.jl:788\n [14] NEW_ROUTING_STRATEGY_NEXTMOVE(risk_pertime_file::String, n_drones::Int64, ChargingStations::PyList{Any}, GroundStations::PyList{Any}, optimization_horizon::Int64, max_battery_time::Int64, reevaluation_step::Int64, drone_locations::PyList{Any}, drone_states::PyList{Any}, battery_level::PyList{Any})\n    @ Main ~/Desktop/Climate/wildfire_drone_routing/julia/drone_routing_opt.jl:206\n [15] pyjlany_call(self::typeof(NEW_ROUTING_STRATEGY_NEXTMOVE), args_::Py, kwargs_::Py)\n    @ PythonCall.JlWrap ~/.julia/packages/PythonCall/WMWY0/src/JlWrap/any.jl:47\n [16] _pyjl_callmethod(f::Any, self_::Ptr{PythonCall.C.PyObject}, args_::Ptr{PythonCall.C.PyObject}, nargs::Int64)\n    @ PythonCall.JlWrap ~/.julia/packages/PythonCall/WMWY0/src/JlWrap/base.jl:73\n [17] _pyjl_callmethod(o::Ptr{PythonCall.C.PyObject}, args::Ptr{PythonCall.C.PyObject})\n    @ PythonCall.JlWrap.Cjl ~/.julia/packages/PythonCall/WMWY0/src/JlWrap/C.jl:63"
     ]
    },
    {
     "name": "stdout",
     "output_type": "stream",
     "text": [
      "Objective Value: No solution found\n"
     ]
    }
   ],
   "source": [
    "# That's very fast to run!\n",
    "print(\"starting benchmark\")\n",
    "time_start = time.time()\n",
    "scenario = load_scenario_npy(\"WideDataset/0001/scenarii/0001_00002.npy\")\n",
    "print(\"scenario loaded\")\n",
    "device, delta_t, _ = run_benchmark_scenario(scenario, RandomSensorPlacementStrategy, DroneRoutingOptimizationSlow, custom_initialization_parameters = {\"burnmap_filename\": \"./WideDataset/0001/burn_map.npy\", \"load_from_logfile\": True, \"reevaluation_step\": 2, \"optimization_horizon\":8}, custom_step_parameters_function = return_no_custom_parameters, automatic_initialization_parameters_function=my_automatic_layout_parameters)\n",
    "print(\"Fire detected in \", delta_t, \"time steps by device: \", device)\n",
    "print(f\"Time taken to run benchmark on the scenario: {time.time() - time_start} seconds\")\n"
   ]
  },
  {
   "cell_type": "markdown",
   "metadata": {},
   "source": [
    "We can visualize the strategy in action by creating a video of the scenario. \n",
    "1. Use the `return_history` parameter or `run_benchmark_scenario` to output the log of ground sensor and drone positions during the benchmark\n",
    "2. Use the `create_scenario_video` function to compile the video. This can take a couple seconds"
   ]
  },
  {
   "cell_type": "code",
   "execution_count": 4,
   "metadata": {},
   "outputs": [
    {
     "name": "stdout",
     "output_type": "stream",
     "text": [
      "calling julia optimization model\n",
      "In julia fuinction\n",
      "Set parameter Username\n",
      "Set parameter LicenseID to value 2612529\n",
      "Academic license - for non-commercial use only - expires 2026-01-21\n",
      "Took 8.259267374873161 seconds\n",
      "optimization finished\n",
      "Video saved at: display_test_simulation/test_simulation.mp4\n"
     ]
    }
   ],
   "source": [
    "delta , device , (position_history, ground, charging)  = run_benchmark_scenario(scenario, SensorPlacementOptimization, RandomDroneRoutingStrategy, custom_initialization_parameters = {\"burnmap_filename\": \"./WideDataset/0001/burn_map.npy\"}, custom_step_parameters_function = return_no_custom_parameters, automatic_initialization_parameters_function=my_automatic_layout_parameters, return_history=True)\n",
    "create_scenario_video(scenario[:len(position_history)],drone_locations_history=position_history,starting_time=0,out_filename='test_simulation', ground_sensor_locations = ground, charging_stations_locations = charging)"
   ]
  },
  {
   "cell_type": "markdown",
   "metadata": {},
   "source": [
    "Instead of running a benchmark on a single scenario, we are interested in running the benchmark on all scenarii of a given layout (potentially in parallel!)\n",
    "\n",
    "1. We use `run_benchmark_scenarii_sequential`"
   ]
  },
  {
   "cell_type": "code",
   "execution_count": 6,
   "metadata": {},
   "outputs": [
    {
     "name": "stderr",
     "output_type": "stream",
     "text": [
      "  0%|          | 0/100 [00:00<?, ?it/s]"
     ]
    },
    {
     "name": "stdout",
     "output_type": "stream",
     "text": [
      "calling julia optimization model\n",
      "In julia fuinction\n",
      "Loading burn map from WideDataset/0001/scenarii/burn_map.npy\n"
     ]
    },
    {
     "name": "stderr",
     "output_type": "stream",
     "text": [
      "\n"
     ]
    },
    {
     "ename": "JuliaError",
     "evalue": "Error loading burn map: SystemError(\"opening file \\\"WideDataset/0001/scenarii/burn_map.npy\\\"\", 2, nothing)\nStacktrace:\n [1] error(s::String)\n   @ Base ./error.jl:35\n [2] load_burn_map(filename::String)\n   @ Main ~/Desktop/Climate/wildfire_drone_routing/julia/helper_functions.jl:10\n [3] ground_charging_opt_model_grid(risk_pertime_file::String, N_grounds::Int64, N_charging::Int64)\n   @ Main ~/Desktop/Climate/wildfire_drone_routing/julia/ground_charging_opt.jl:88\n [4] pyjlany_call(self::typeof(ground_charging_opt_model_grid), args_::Py, kwargs_::Py)\n   @ PythonCall.JlWrap ~/.julia/packages/PythonCall/WMWY0/src/JlWrap/any.jl:47\n [5] _pyjl_callmethod(f::Any, self_::Ptr{PythonCall.C.PyObject}, args_::Ptr{PythonCall.C.PyObject}, nargs::Int64)\n   @ PythonCall.JlWrap ~/.julia/packages/PythonCall/WMWY0/src/JlWrap/base.jl:73\n [6] _pyjl_callmethod(o::Ptr{PythonCall.C.PyObject}, args::Ptr{PythonCall.C.PyObject})\n   @ PythonCall.JlWrap.Cjl ~/.julia/packages/PythonCall/WMWY0/src/JlWrap/C.jl:63",
     "output_type": "error",
     "traceback": [
      "\u001b[0;31m---------------------------------------------------------------------------\u001b[0m",
      "\u001b[0;31mJuliaError\u001b[0m                                Traceback (most recent call last)",
      "Cell \u001b[0;32mIn[6], line 1\u001b[0m\n\u001b[0;32m----> 1\u001b[0m run_benchmark_scenarii_sequential(\u001b[38;5;124m\"\u001b[39m\u001b[38;5;124mWideDataset/0001/scenarii/\u001b[39m\u001b[38;5;124m\"\u001b[39m, SensorPlacementOptimization, RandomDroneRoutingStrategy, custom_initialization_parameters_function \u001b[38;5;241m=\u001b[39m get_burnmap_parameters, custom_step_parameters_function \u001b[38;5;241m=\u001b[39m return_no_custom_parameters, starting_time\u001b[38;5;241m=\u001b[39m\u001b[38;5;241m0\u001b[39m, max_n_scenarii\u001b[38;5;241m=\u001b[39m\u001b[38;5;241m100\u001b[39m)\n",
      "File \u001b[0;32m~/Desktop/Climate/wildfire_drone_routing/code/benchmark.py:269\u001b[0m, in \u001b[0;36mrun_benchmark_scenarii_sequential\u001b[0;34m(input_dir, sensor_placement_strategy, drone_routing_strategy, custom_initialization_parameters_function, custom_step_parameters_function, starting_time, max_n_scenarii)\u001b[0m\n\u001b[1;32m    266\u001b[0m \u001b[38;5;28;01mif\u001b[39;00m automatic_initialization_parameters \u001b[38;5;129;01mis\u001b[39;00m \u001b[38;5;28;01mNone\u001b[39;00m:\n\u001b[1;32m    267\u001b[0m     \u001b[38;5;66;03m# Compute initialization parameters\u001b[39;00m\n\u001b[1;32m    268\u001b[0m     automatic_initialization_parameters \u001b[38;5;241m=\u001b[39m get_automatic_layout_parameters(scenario) \u001b[38;5;66;03m#TODO compute them once only per layout rather than per scenario..\u001b[39;00m\n\u001b[0;32m--> 269\u001b[0m delta_t, device, _ \u001b[38;5;241m=\u001b[39m run_benchmark_scenario(scenario, \n\u001b[1;32m    270\u001b[0m                                             sensor_placement_strategy, \n\u001b[1;32m    271\u001b[0m                                             drone_routing_strategy, \n\u001b[1;32m    272\u001b[0m                                             custom_initialization_parameters,\n\u001b[1;32m    273\u001b[0m                                             custom_step_parameters_function, starting_time\u001b[38;5;241m=\u001b[39mstarting_time)\n\u001b[1;32m    275\u001b[0m \u001b[38;5;28;01mif\u001b[39;00m delta_t \u001b[38;5;241m==\u001b[39m \u001b[38;5;241m-\u001b[39m\u001b[38;5;241m1\u001b[39m:\n\u001b[1;32m    276\u001b[0m     fails \u001b[38;5;241m+\u001b[39m\u001b[38;5;241m=\u001b[39m \u001b[38;5;241m1\u001b[39m\n",
      "File \u001b[0;32m~/Desktop/Climate/wildfire_drone_routing/code/benchmark.py:61\u001b[0m, in \u001b[0;36mrun_benchmark_scenario\u001b[0;34m(scenario, sensor_placement_strategy, drone_routing_strategy, custom_initialization_parameters, custom_step_parameters_function, starting_time, return_history, custom_initialization_parameters_function, automatic_initialization_parameters_function)\u001b[0m\n\u001b[1;32m     55\u001b[0m     custom_initialization_parameters \u001b[38;5;241m=\u001b[39m custom_initialization_parameters_function(automatic_initialization_parameters)\n\u001b[1;32m     57\u001b[0m \u001b[38;5;66;03m# print(f\"custom_initialization_parameters: {custom_initialization_parameters}\")\u001b[39;00m\n\u001b[1;32m     58\u001b[0m \u001b[38;5;66;03m# print(f\"automatic_initialization_parameters: {automatic_initialization_parameters}\")\u001b[39;00m\n\u001b[1;32m     59\u001b[0m \n\u001b[1;32m     60\u001b[0m \u001b[38;5;66;03m# 2. Get ground sensor locations\u001b[39;00m\n\u001b[0;32m---> 61\u001b[0m ground_sensor_locations, charging_stations_locations \u001b[38;5;241m=\u001b[39m  sensor_placement_strategy(automatic_initialization_parameters, custom_initialization_parameters)\u001b[38;5;241m.\u001b[39mget_locations()\n\u001b[1;32m     62\u001b[0m rows_ground, cols_ground \u001b[38;5;241m=\u001b[39m \u001b[38;5;28mzip\u001b[39m(\u001b[38;5;241m*\u001b[39mground_sensor_locations)\n\u001b[1;32m     63\u001b[0m rows_charging, cols_charging \u001b[38;5;241m=\u001b[39m \u001b[38;5;28mzip\u001b[39m(\u001b[38;5;241m*\u001b[39mcharging_stations_locations)\n",
      "File \u001b[0;32m~/Desktop/Climate/wildfire_drone_routing/code/Strategy.py:206\u001b[0m, in \u001b[0;36mSensorPlacementOptimization.__init__\u001b[0;34m(self, automatic_initialization_parameters, custom_initialization_parameters)\u001b[0m\n\u001b[1;32m    204\u001b[0m \u001b[38;5;28mprint\u001b[39m(\u001b[38;5;124m\"\u001b[39m\u001b[38;5;124mcalling julia optimization model\u001b[39m\u001b[38;5;124m\"\u001b[39m)\n\u001b[1;32m    205\u001b[0m \u001b[38;5;66;03m#jl.test()\u001b[39;00m\n\u001b[0;32m--> 206\u001b[0m x_vars, y_vars \u001b[38;5;241m=\u001b[39m jl\u001b[38;5;241m.\u001b[39mground_charging_opt_model_grid(custom_initialization_parameters[\u001b[38;5;124m\"\u001b[39m\u001b[38;5;124mburnmap_filename\u001b[39m\u001b[38;5;124m\"\u001b[39m], automatic_initialization_parameters[\u001b[38;5;124m\"\u001b[39m\u001b[38;5;124mn_ground_stations\u001b[39m\u001b[38;5;124m\"\u001b[39m], automatic_initialization_parameters[\u001b[38;5;124m\"\u001b[39m\u001b[38;5;124mn_charging_stations\u001b[39m\u001b[38;5;124m\"\u001b[39m])\n\u001b[1;32m    207\u001b[0m \u001b[38;5;28mprint\u001b[39m(\u001b[38;5;124m\"\u001b[39m\u001b[38;5;124moptimization finished\u001b[39m\u001b[38;5;124m\"\u001b[39m)\n\u001b[1;32m    208\u001b[0m \u001b[38;5;66;03m# save the result in a json file\u001b[39;00m\n\u001b[1;32m    209\u001b[0m \u001b[38;5;66;03m# with open(automatic_initialization_parameters[\"burnmap_filename\"][:-4] + \"_ground_sensor_locations.json\", \"w\") as f:\u001b[39;00m\n\u001b[1;32m    210\u001b[0m \u001b[38;5;66;03m#     json.dump(x_vars, f)\u001b[39;00m\n\u001b[1;32m    211\u001b[0m \u001b[38;5;66;03m# with open(custom_initialization_parameters[\"risk_pertime_dir\"][:-1] + \"_charging_station_locations.json\", \"w\") as f:\u001b[39;00m\n\u001b[1;32m    212\u001b[0m \u001b[38;5;66;03m#     json.dump(y_vars, f)\u001b[39;00m\n",
      "File \u001b[0;32m~/.julia/packages/PythonCall/WMWY0/src/JlWrap/any.jl:262\u001b[0m, in \u001b[0;36m__call__\u001b[0;34m(self, *args, **kwargs)\u001b[0m\n\u001b[1;32m    260\u001b[0m     return ValueBase.__dir__(self) + self._jl_callmethod($(pyjl_methodnum(pyjlany_dir)))\n\u001b[1;32m    261\u001b[0m def __call__(self, *args, **kwargs):\n\u001b[0;32m--> 262\u001b[0m     return self._jl_callmethod($(pyjl_methodnum(pyjlany_call)), args, kwargs)\n\u001b[1;32m    263\u001b[0m def __bool__(self):\n\u001b[1;32m    264\u001b[0m     return True\n",
      "\u001b[0;31mJuliaError\u001b[0m: Error loading burn map: SystemError(\"opening file \\\"WideDataset/0001/scenarii/burn_map.npy\\\"\", 2, nothing)\nStacktrace:\n [1] error(s::String)\n   @ Base ./error.jl:35\n [2] load_burn_map(filename::String)\n   @ Main ~/Desktop/Climate/wildfire_drone_routing/julia/helper_functions.jl:10\n [3] ground_charging_opt_model_grid(risk_pertime_file::String, N_grounds::Int64, N_charging::Int64)\n   @ Main ~/Desktop/Climate/wildfire_drone_routing/julia/ground_charging_opt.jl:88\n [4] pyjlany_call(self::typeof(ground_charging_opt_model_grid), args_::Py, kwargs_::Py)\n   @ PythonCall.JlWrap ~/.julia/packages/PythonCall/WMWY0/src/JlWrap/any.jl:47\n [5] _pyjl_callmethod(f::Any, self_::Ptr{PythonCall.C.PyObject}, args_::Ptr{PythonCall.C.PyObject}, nargs::Int64)\n   @ PythonCall.JlWrap ~/.julia/packages/PythonCall/WMWY0/src/JlWrap/base.jl:73\n [6] _pyjl_callmethod(o::Ptr{PythonCall.C.PyObject}, args::Ptr{PythonCall.C.PyObject})\n   @ PythonCall.JlWrap.Cjl ~/.julia/packages/PythonCall/WMWY0/src/JlWrap/C.jl:63"
     ]
    }
   ],
   "source": [
    "run_benchmark_scenarii_sequential(\"WideDataset/0001/scenarii/\", SensorPlacementOptimization, RandomDroneRoutingStrategy, custom_initialization_parameters_function = get_burnmap_parameters, custom_step_parameters_function = return_no_custom_parameters, starting_time=0, max_n_scenarii=100)"
   ]
  },
  {
   "cell_type": "markdown",
   "metadata": {},
   "source": [
    "On all of the dataset!"
   ]
  },
  {
   "cell_type": "code",
   "execution_count": null,
   "metadata": {},
   "outputs": [],
   "source": [
    "benchmark_on_sim2real_dataset(\"WideDataset/\", SensorPlacementStrategy, DroneRoutingStrategy, custom_initialization_parameters_function = lambda x: None, custom_step_parameters_function = return_no_custom_parameters, max_n_scenarii=100, starting_time=0)"
   ]
  },
  {
   "cell_type": "code",
   "execution_count": 4,
   "metadata": {},
   "outputs": [
    {
     "name": "stdout",
     "output_type": "stream",
     "text": [
      "calling julia optimization model\n",
      "optimization finished\n",
      "calling julia optimization model\n",
      "optimization finished\n",
      "calling julia optimization model\n",
      "optimization finished\n",
      "calling julia optimization model\n",
      "optimization finished\n",
      "calling julia optimization model\n",
      "optimization finished\n",
      "calling julia optimization model\n",
      "optimization finished\n",
      "calling julia optimization model\n",
      "optimization finished\n",
      "calling julia optimization model\n",
      "optimization finished\n",
      "calling julia optimization model\n",
      "optimization finished\n",
      "calling julia optimization model\n",
      "optimization finished\n",
      "calling julia optimization model\n",
      "optimization finished\n",
      "calling julia optimization model\n",
      "optimization finished\n",
      "calling julia optimization model\n",
      "optimization finished\n",
      "calling julia optimization model\n",
      "optimization finished\n",
      "calling julia optimization model\n",
      "optimization finished\n",
      "calling julia optimization model\n",
      "optimization finished\n",
      "calling julia optimization model\n",
      "optimization finished\n",
      "calling julia optimization model\n",
      "optimization finished\n",
      "calling julia optimization model\n",
      "optimization finished\n",
      "calling julia optimization model\n",
      "optimization finished\n",
      "calling julia optimization model\n",
      "optimization finished\n",
      "calling julia optimization model\n",
      "optimization finished\n",
      "calling julia optimization model\n",
      "optimization finished\n",
      "calling julia optimization model\n",
      "optimization finished\n",
      "calling julia optimization model\n",
      "optimization finished\n",
      "calling julia optimization model\n",
      "optimization finished\n",
      "calling julia optimization model\n",
      "optimization finished\n",
      "calling julia optimization model\n",
      "optimization finished\n",
      "calling julia optimization model\n",
      "optimization finished\n",
      "calling julia optimization model\n",
      "optimization finished\n",
      "calling julia optimization model\n",
      "optimization finished\n",
      "calling julia optimization model\n",
      "optimization finished\n",
      "calling julia optimization model\n",
      "optimization finished\n",
      "calling julia optimization model\n",
      "optimization finished\n",
      "calling julia optimization model\n",
      "optimization finished\n",
      "calling julia optimization model\n",
      "optimization finished\n",
      "calling julia optimization model\n",
      "optimization finished\n",
      "calling julia optimization model\n",
      "optimization finished\n",
      "calling julia optimization model\n",
      "optimization finished\n",
      "calling julia optimization model\n",
      "optimization finished\n",
      "calling julia optimization model\n",
      "optimization finished\n",
      "calling julia optimization model\n",
      "optimization finished\n",
      "calling julia optimization model\n",
      "optimization finished\n",
      "calling julia optimization model\n",
      "optimization finished\n",
      "calling julia optimization model\n",
      "optimization finished\n",
      "Fire detected in  ground sensor time steps by device:  45\n",
      "Time taken to run benchmark on the scenario: 0.43914222717285156 seconds\n"
     ]
    }
   ],
   "source": [
    "# That's very fast to run!\n",
    "time_start = time.time()\n",
    "scenario = load_scenario_npy(\"WideDataset/0001/scenarii/0001_00002.npy\")\n",
    "device, delta_t, _ = run_benchmark_scenario(scenario, RandomSensorPlacementStrategy, MY_DRONE_STRATEGY, custom_initialization_parameters = {\"burnmap_filename\": \"./WideDataset/0001/burn_map.npy\", \"call_every_n_steps\": 5, \"optimization_horizon\": 10}, custom_step_parameters_function = return_no_custom_parameters, automatic_initialization_parameters_function=my_automatic_layout_parameters, return_history=True)\n",
    "print(\"Fire detected in \", delta_t, \"time steps by device: \", device)\n",
    "print(f\"Time taken to run benchmark on the scenario: {time.time() - time_start} seconds\")\n"
   ]
  },
  {
   "cell_type": "markdown",
   "metadata": {},
   "source": []
  },
  {
   "cell_type": "code",
   "execution_count": 13,
   "metadata": {},
   "outputs": [],
   "source": [
    "# define function to get parameters for optimal drone routing strategy\n",
    "# def get_routing_optimization_parameters(input_dir:str):\n",
    "#     return {\n",
    "#         \"burnmap_filename\": f\"{input_dir}/burn_map.npy\",\n",
    "#         \"call_every_n_steps\": 5,\n",
    "#         \"optimization_horizon\": 10\n",
    "#     }\n",
    "\n",
    "# add the log\n"
   ]
  },
  {
   "cell_type": "code",
   "execution_count": null,
   "metadata": {},
   "outputs": [],
   "source": []
  }
 ],
 "metadata": {
  "kernelspec": {
   "display_name": "base",
   "language": "python",
   "name": "python3"
  },
  "language_info": {
   "codemirror_mode": {
    "name": "ipython",
    "version": 3
   },
   "file_extension": ".py",
   "mimetype": "text/x-python",
   "name": "python",
   "nbconvert_exporter": "python",
   "pygments_lexer": "ipython3",
   "version": "3.12.7"
  }
 },
 "nbformat": 4,
 "nbformat_minor": 2
}
