{
 "cells": [
  {
   "cell_type": "markdown",
   "metadata": {},
   "source": [
    "## Preprocess the Sim2Real dataset\n",
    "\n",
    "1. Download the dataset from [Sim2Real-Fire GitHub repository](https://github.com/TJU-IDVLab/Sim2Real-Fire).\n",
    "2. Extract all files from the dataset into your `Dataset` folder\n",
    "3. Run the preprocessing function as below"
   ]
  },
  {
   "cell_type": "code",
   "execution_count": 1,
   "metadata": {},
   "outputs": [],
   "source": [
    "import sys\n",
    "import os\n",
    "\n",
    "# Add code to path\n",
    "module_path = os.path.abspath(\".\") + \"/code\"\n",
    "if module_path not in sys.path:\n",
    "    sys.path.append(module_path)\n",
    "\n",
    "from dataset import preprocess_sim2real_dataset"
   ]
  },
  {
   "cell_type": "code",
   "execution_count": 2,
   "metadata": {},
   "outputs": [
    {
     "name": "stdout",
     "output_type": "stream",
     "text": [
      "Converting JPG scenarios to NPY for WideDataset/\n",
      "Converting JPG scenarios to NPY for WideDataset/0012_02094\n"
     ]
    },
    {
     "name": "stderr",
     "output_type": "stream",
     "text": [
      "0it [00:00, ?it/s]\n"
     ]
    },
    {
     "ename": "FileNotFoundError",
     "evalue": "[Errno 2] No such file or directory: 'WideDataset/0012_02094/Satellite_Images_Mask/WideDataset/0012_02094/Satellite_Images_Mask/0012_00907/'",
     "output_type": "error",
     "traceback": [
      "\u001b[0;31m---------------------------------------------------------------------------\u001b[0m",
      "\u001b[0;31mFileNotFoundError\u001b[0m                         Traceback (most recent call last)",
      "Cell \u001b[0;32mIn[2], line 1\u001b[0m\n\u001b[0;32m----> 1\u001b[0m preprocess_sim2real_dataset(\u001b[38;5;124m\"\u001b[39m\u001b[38;5;124mWideDataset/\u001b[39m\u001b[38;5;124m\"\u001b[39m, n_max_scenarii_per_layout\u001b[38;5;241m=\u001b[39m\u001b[38;5;241m2\u001b[39m)\n",
      "File \u001b[0;32m~/Desktop/Climate/wildfire_drone_routing/code/dataset.py:427\u001b[0m, in \u001b[0;36mpreprocess_sim2real_dataset\u001b[0;34m(dataset_folder_name, n_max_scenarii_per_layout)\u001b[0m\n\u001b[1;32m    420\u001b[0m \u001b[38;5;28;01mdef\u001b[39;00m \u001b[38;5;21mpreprocess_sim2real_dataset\u001b[39m(dataset_folder_name, n_max_scenarii_per_layout \u001b[38;5;241m=\u001b[39m \u001b[38;5;28;01mNone\u001b[39;00m):\n\u001b[1;32m    421\u001b[0m \u001b[38;5;250m    \u001b[39m\u001b[38;5;124;03m\"\"\"\u001b[39;00m\n\u001b[1;32m    422\u001b[0m \u001b[38;5;124;03m    Preprocess the sim2real dataset by converting JPG scenarios to NPY files and computing burn maps.\u001b[39;00m\n\u001b[1;32m    423\u001b[0m \u001b[38;5;124;03m    Args:\u001b[39;00m\n\u001b[1;32m    424\u001b[0m \u001b[38;5;124;03m        dataset_folder_name (str): Path to the dataset folder\u001b[39;00m\n\u001b[1;32m    425\u001b[0m \u001b[38;5;124;03m        n_max_scenarii_per_layout (int): Maximum number of scenarii per layout to process\u001b[39;00m\n\u001b[1;32m    426\u001b[0m \u001b[38;5;124;03m    \"\"\"\u001b[39;00m\n\u001b[0;32m--> 427\u001b[0m     sim2real_scenario_jpg_folders_to_npy(dataset_folder_name, n_max_scenarii_per_layout \u001b[38;5;241m=\u001b[39m n_max_scenarii_per_layout)\n\u001b[1;32m    428\u001b[0m     \u001b[38;5;28mprint\u001b[39m(\u001b[38;5;124m\"\u001b[39m\u001b[38;5;124mComputing burn maps...\u001b[39m\u001b[38;5;124m\"\u001b[39m)\n\u001b[1;32m    429\u001b[0m     compute_and_save_burn_maps_sim2real_dataset(dataset_folder_name)\n",
      "File \u001b[0;32m~/Desktop/Climate/wildfire_drone_routing/code/dataset.py:324\u001b[0m, in \u001b[0;36msim2real_scenario_jpg_folders_to_npy\u001b[0;34m(dataset_folder_name, npy_folder_name, n_max_scenarii_per_layout)\u001b[0m\n\u001b[1;32m    322\u001b[0m \u001b[38;5;28;01mif\u001b[39;00m \u001b[38;5;129;01mnot\u001b[39;00m os\u001b[38;5;241m.\u001b[39mpath\u001b[38;5;241m.\u001b[39mexists(dataset_folder_name \u001b[38;5;241m+\u001b[39m layout_folder \u001b[38;5;241m+\u001b[39m \u001b[38;5;124m\"\u001b[39m\u001b[38;5;124m/scenarii/\u001b[39m\u001b[38;5;124m\"\u001b[39m) :os\u001b[38;5;241m.\u001b[39mmakedirs(dataset_folder_name \u001b[38;5;241m+\u001b[39m layout_folder \u001b[38;5;241m+\u001b[39m \u001b[38;5;124m\"\u001b[39m\u001b[38;5;124m/scenarii/\u001b[39m\u001b[38;5;124m\"\u001b[39m, exist_ok\u001b[38;5;241m=\u001b[39m\u001b[38;5;28;01mTrue\u001b[39;00m)\n\u001b[1;32m    323\u001b[0m \u001b[38;5;28;01mfor\u001b[39;00m scenario_folder \u001b[38;5;129;01min\u001b[39;00m tqdm\u001b[38;5;241m.\u001b[39mtqdm(listdir_limited(dataset_folder_name \u001b[38;5;241m+\u001b[39m layout_folder \u001b[38;5;241m+\u001b[39m \u001b[38;5;124m\"\u001b[39m\u001b[38;5;124m/Satellite_Images_Mask/\u001b[39m\u001b[38;5;124m\"\u001b[39m, n_max_scenarii_per_layout)):\n\u001b[0;32m--> 324\u001b[0m     jpg_scenario_to_npy(dataset_folder_name \u001b[38;5;241m+\u001b[39m layout_folder \u001b[38;5;241m+\u001b[39m \u001b[38;5;124m\"\u001b[39m\u001b[38;5;124m/Satellite_Images_Mask/\u001b[39m\u001b[38;5;124m\"\u001b[39m \u001b[38;5;241m+\u001b[39m scenario_folder, npy_folder_name \u001b[38;5;241m+\u001b[39m layout_folder \u001b[38;5;241m+\u001b[39m \u001b[38;5;124m\"\u001b[39m\u001b[38;5;124m/scenarii/\u001b[39m\u001b[38;5;124m\"\u001b[39m, scenario_folder\u001b[38;5;241m.\u001b[39mstrip(\u001b[38;5;124m\"\u001b[39m\u001b[38;5;124m/\u001b[39m\u001b[38;5;124m\"\u001b[39m))\n",
      "File \u001b[0;32m~/Desktop/Climate/wildfire_drone_routing/code/dataset.py:300\u001b[0m, in \u001b[0;36mjpg_scenario_to_npy\u001b[0;34m(jpg_folder_name, npy_folder_name, npy_filename)\u001b[0m\n\u001b[1;32m    297\u001b[0m \u001b[38;5;28;01mif\u001b[39;00m \u001b[38;5;129;01mnot\u001b[39;00m npy_folder_name\u001b[38;5;241m.\u001b[39mendswith(\u001b[38;5;124m\"\u001b[39m\u001b[38;5;124m/\u001b[39m\u001b[38;5;124m\"\u001b[39m):\n\u001b[1;32m    298\u001b[0m     npy_folder_name \u001b[38;5;241m+\u001b[39m\u001b[38;5;241m=\u001b[39m \u001b[38;5;124m\"\u001b[39m\u001b[38;5;124m/\u001b[39m\u001b[38;5;124m\"\u001b[39m\n\u001b[0;32m--> 300\u001b[0m scenario, _ \u001b[38;5;241m=\u001b[39m load_scenario_jpg(jpg_folder_name)\n\u001b[1;32m    301\u001b[0m save_scenario_npy(scenario, \u001b[38;5;241m0\u001b[39m, npy_folder_name \u001b[38;5;241m+\u001b[39m npy_filename \u001b[38;5;241m+\u001b[39m \u001b[38;5;124m\"\u001b[39m\u001b[38;5;124m.npy\u001b[39m\u001b[38;5;124m\"\u001b[39m)\n",
      "File \u001b[0;32m~/Desktop/Climate/wildfire_drone_routing/code/dataset.py:138\u001b[0m, in \u001b[0;36mload_scenario_jpg\u001b[0;34m(folder_path, binary)\u001b[0m\n\u001b[1;32m    134\u001b[0m     \u001b[38;5;28;01mreturn\u001b[39;00m [\u001b[38;5;28mint\u001b[39m(text) \u001b[38;5;28;01mif\u001b[39;00m text\u001b[38;5;241m.\u001b[39misdigit() \u001b[38;5;28;01melse\u001b[39;00m text\u001b[38;5;241m.\u001b[39mlower()\n\u001b[1;32m    135\u001b[0m             \u001b[38;5;28;01mfor\u001b[39;00m text \u001b[38;5;129;01min\u001b[39;00m re\u001b[38;5;241m.\u001b[39msplit(\u001b[38;5;124m'\u001b[39m\u001b[38;5;124m([0-9]+)\u001b[39m\u001b[38;5;124m'\u001b[39m, s)]\n\u001b[1;32m    137\u001b[0m \u001b[38;5;66;03m# Get list of jpg files in the folder and sort naturally\u001b[39;00m\n\u001b[0;32m--> 138\u001b[0m jpg_files \u001b[38;5;241m=\u001b[39m \u001b[38;5;28msorted\u001b[39m([f \u001b[38;5;28;01mfor\u001b[39;00m f \u001b[38;5;129;01min\u001b[39;00m os\u001b[38;5;241m.\u001b[39mlistdir(folder_path) \u001b[38;5;28;01mif\u001b[39;00m f\u001b[38;5;241m.\u001b[39mlower()\u001b[38;5;241m.\u001b[39mendswith(\u001b[38;5;124m'\u001b[39m\u001b[38;5;124m.jpg\u001b[39m\u001b[38;5;124m'\u001b[39m)],\n\u001b[1;32m    139\u001b[0m                   key\u001b[38;5;241m=\u001b[39mnatural_sort_key)\n\u001b[1;32m    141\u001b[0m \u001b[38;5;28;01mif\u001b[39;00m \u001b[38;5;129;01mnot\u001b[39;00m jpg_files:\n\u001b[1;32m    142\u001b[0m     \u001b[38;5;28;01mraise\u001b[39;00m \u001b[38;5;167;01mFileNotFoundError\u001b[39;00m(\u001b[38;5;124mf\u001b[39m\u001b[38;5;124m\"\u001b[39m\u001b[38;5;124mNo JPG files found in folder: \u001b[39m\u001b[38;5;132;01m{\u001b[39;00mfolder_path\u001b[38;5;132;01m}\u001b[39;00m\u001b[38;5;124m\"\u001b[39m)\n",
      "\u001b[0;31mFileNotFoundError\u001b[0m: [Errno 2] No such file or directory: 'WideDataset/0012_02094/Satellite_Images_Mask/WideDataset/0012_02094/Satellite_Images_Mask/0012_00907/'"
     ]
    }
   ],
   "source": [
    "preprocess_sim2real_dataset(\"WideDataset/\", n_max_scenarii_per_layout=2)"
   ]
  },
  {
   "cell_type": "code",
   "execution_count": null,
   "metadata": {},
   "outputs": [],
   "source": []
  }
 ],
 "metadata": {
  "kernelspec": {
   "display_name": "base",
   "language": "python",
   "name": "python3"
  },
  "language_info": {
   "codemirror_mode": {
    "name": "ipython",
    "version": 3
   },
   "file_extension": ".py",
   "mimetype": "text/x-python",
   "name": "python",
   "nbconvert_exporter": "python",
   "pygments_lexer": "ipython3",
   "version": "3.12.7"
  }
 },
 "nbformat": 4,
 "nbformat_minor": 2
}
