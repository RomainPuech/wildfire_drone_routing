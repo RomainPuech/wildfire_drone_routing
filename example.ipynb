{
 "cells": [
  {
   "cell_type": "markdown",
   "metadata": {},
   "source": [
    "## Preprocess the Sim2Real dataset\n",
    "\n",
    "The Sim2Real dataset uses jpeg images to represent wildfire masks. This representation is very lightweight but slow to work with. \n",
    "To benchmark faster, we convert them to binary NumPy files. These files are ~100 times heavier and it requires an overhead time to convert from jpeg to them, but once they are created and stored, they allow 50--100x faster operations.\n",
    "\n",
    "1. Download the dataset from [Sim2Real-Fire GitHub repository](https://github.com/TJU-IDVLab/Sim2Real-Fire).\n",
    "2. Extract all files from the dataset into your `Dataset` folder\n",
    "3. Run the preprocessing function to convert from the jpeg representation to the NumPy one, and compute burn maps"
   ]
  },
  {
   "cell_type": "code",
   "execution_count": 1,
   "metadata": {},
   "outputs": [
    {
     "name": "stdout",
     "output_type": "stream",
     "text": [
      "Requirement already satisfied: numpy in /opt/anaconda3/lib/python3.12/site-packages (from -r requirements.txt (line 1)) (1.26.4)\n",
      "Requirement already satisfied: opencv-python in /opt/anaconda3/lib/python3.12/site-packages (from -r requirements.txt (line 2)) (4.10.0.84)\n",
      "Requirement already satisfied: matplotlib in /opt/anaconda3/lib/python3.12/site-packages (from -r requirements.txt (line 3)) (3.9.2)\n",
      "Requirement already satisfied: tqdm in /opt/anaconda3/lib/python3.12/site-packages (from -r requirements.txt (line 4)) (4.66.5)\n",
      "Requirement already satisfied: juliacall in /opt/anaconda3/lib/python3.12/site-packages (from -r requirements.txt (line 5)) (0.9.24)\n",
      "Requirement already satisfied: contourpy>=1.0.1 in /opt/anaconda3/lib/python3.12/site-packages (from matplotlib->-r requirements.txt (line 3)) (1.2.0)\n",
      "Requirement already satisfied: cycler>=0.10 in /opt/anaconda3/lib/python3.12/site-packages (from matplotlib->-r requirements.txt (line 3)) (0.11.0)\n",
      "Requirement already satisfied: fonttools>=4.22.0 in /opt/anaconda3/lib/python3.12/site-packages (from matplotlib->-r requirements.txt (line 3)) (4.51.0)\n",
      "Requirement already satisfied: kiwisolver>=1.3.1 in /opt/anaconda3/lib/python3.12/site-packages (from matplotlib->-r requirements.txt (line 3)) (1.4.4)\n",
      "Requirement already satisfied: packaging>=20.0 in /opt/anaconda3/lib/python3.12/site-packages (from matplotlib->-r requirements.txt (line 3)) (24.1)\n",
      "Requirement already satisfied: pillow>=8 in /opt/anaconda3/lib/python3.12/site-packages (from matplotlib->-r requirements.txt (line 3)) (10.4.0)\n",
      "Requirement already satisfied: pyparsing>=2.3.1 in /opt/anaconda3/lib/python3.12/site-packages (from matplotlib->-r requirements.txt (line 3)) (3.1.2)\n",
      "Requirement already satisfied: python-dateutil>=2.7 in /opt/anaconda3/lib/python3.12/site-packages (from matplotlib->-r requirements.txt (line 3)) (2.9.0.post0)\n",
      "Requirement already satisfied: juliapkg~=0.1.8 in /opt/anaconda3/lib/python3.12/site-packages (from juliacall->-r requirements.txt (line 5)) (0.1.15)\n",
      "Requirement already satisfied: semver~=3.0 in /opt/anaconda3/lib/python3.12/site-packages (from juliapkg~=0.1.8->juliacall->-r requirements.txt (line 5)) (3.0.2)\n",
      "Requirement already satisfied: six>=1.5 in /opt/anaconda3/lib/python3.12/site-packages (from python-dateutil>=2.7->matplotlib->-r requirements.txt (line 3)) (1.16.0)\n",
      "Note: you may need to restart the kernel to use updated packages.\n"
     ]
    }
   ],
   "source": [
    "pip install -r requirements.txt"
   ]
  },
  {
   "cell_type": "code",
   "execution_count": 1,
   "metadata": {},
   "outputs": [
    {
     "name": "stdout",
     "output_type": "stream",
     "text": [
      "Detected IPython. Loading juliacall extension. See https://juliapy.github.io/PythonCall.jl/stable/compat/#IPython\n",
      "Initializing the Julia session. This can take up to 1 minute.\n",
      "initializing the ground sensor julia module\n",
      "installing packages\n",
      "initializing the drone julia module\n",
      "Julia session initialized.\n"
     ]
    }
   ],
   "source": [
    "# import requred modules\n",
    "import sys\n",
    "import os\n",
    "import time\n",
    "import numpy as np\n",
    "\n",
    "# Add code to path\n",
    "module_path = os.path.abspath(\".\") + \"/code\"\n",
    "if module_path not in sys.path:\n",
    "    sys.path.append(module_path)\n",
    "\n",
    "from dataset import preprocess_sim2real_dataset, load_scenario_npy, compute_and_save_burn_maps_sim2real_dataset\n",
    "from Strategy import RandomDroneRoutingStrategy, return_no_custom_parameters, SensorPlacementOptimization, RandomSensorPlacementStrategy, LoggedOptimizationSensorPlacementStrategy,DroneRoutingOptimizationSlow\n",
    "from benchmark import run_benchmark_scenario,run_benchmark_scenarii_sequential, benchmark_on_sim2real_dataset, get_burnmap_parameters\n",
    "from displays import create_scenario_video"
   ]
  },
  {
   "cell_type": "markdown",
   "metadata": {},
   "source": [
    "Uncomment the cell below to preprocess the dataset.\n",
    "- `n_max_scenarii_per_layout` controls the number of scenarios we convert from jpeg to NumPy files for each layout.\n",
    "- If executed on all ~50 layouts of the dataset, the code below takes ~15mins to run and generates **400 GB** of data. Make sure to have the space."
   ]
  },
  {
   "cell_type": "code",
   "execution_count": 2,
   "metadata": {},
   "outputs": [],
   "source": [
    "# preprocess_sim2real_dataset(\"WideDataset/\", n_max_scenarii_per_layout=100) "
   ]
  },
  {
   "cell_type": "markdown",
   "metadata": {},
   "source": [
    "We can now run the benchmark function on any scenario.\n",
    "1. We load the scenario using `load_scenario_npy` since it is in preprocessed `npy` format\n",
    "2. Werun the benchmark using `run_benchmark_scenario` that takes as input:\n",
    "    - The `scenario`, \n",
    "    - The sensor placement strategy and the drone routing strategy\n",
    "    - A dictionary `custom_initialization_parameters` that contains any custom initialization inputs for your strategy functions (such as the burn map if your strategy needs a burn map as input)\n",
    "    - A python function `custom_step_parameters_function` that returns a dictionary of custom inputs for your routing function. This function is executed by the benchmarking code at each time step. Your routing function will be called with: `routing(custom_step_parameters_function())` internally"
   ]
  },
  {
   "cell_type": "code",
   "execution_count": 2,
   "metadata": {},
   "outputs": [],
   "source": [
    "# change values here to change benchmarking parameters\n",
    "def my_automatic_layout_parameters(scenario:np.ndarray):\n",
    "    return {\n",
    "        \"N\": scenario.shape[1],\n",
    "        \"M\": scenario.shape[2],\n",
    "        \"max_battery_distance\": 7,\n",
    "        \"max_battery_time\": 19,\n",
    "        \"n_drones\": 2,\n",
    "        \"n_ground_stations\": 2,\n",
    "        \"n_charging_stations\": 2,\n",
    "    }"
   ]
  },
  {
   "cell_type": "code",
   "execution_count": null,
   "metadata": {},
   "outputs": [
    {
     "name": "stdout",
     "output_type": "stream",
     "text": [
      "starting benchmark\n",
      "scenario loaded\n",
      "calling julia optimization model\n",
      "In julia function\n",
      "Set parameter Username\n",
      "Set parameter LicenseID to value 2612529\n",
      "Academic license - for non-commercial use only - expires 2026-01-21\n",
      "Took 9.019679500022903 seconds\n",
      "optimization finished\n",
      "ground sensor locations\n",
      "[(1, 127), (31, 280)]\n",
      "charging station locations\n",
      "[(30, 280), (37, 277)]\n",
      "calling julia optimization model\n",
      "--- parameters for julia ---\n",
      "burnmap_filename: ./WideDataset/0001/burn_map.npy\n",
      "n_drones: 2\n",
      "charging_stations_locations: [(30, 280), (37, 277)]\n",
      "ground_sensor_locations: [(1, 127), (31, 280)]\n",
      "optimization_horizon: 20\n",
      "Set parameter Username\n",
      "Set parameter LicenseID to value 2612529\n",
      "Academic license - for non-commercial use only - expires 2026-01-21\n",
      "Creating model took 108.87535300012678 seconds\n",
      "Optimizing model took 5.5787297079805285 seconds\n",
      "Solver Status: OPTIMAL\n",
      "Objective Value: 2.1549019515514374\n",
      "Took 114.70507029211149 seconds\n",
      "initial_positions_only: False\n",
      "current_solution: [[(\"fly\", (31, 281)), (\"fly\", (31, 281))], [(\"fly\", (31, 280)), (\"fly\", (31, 280))], [(\"fly\", (30, 279)), (\"fly\", (30, 279))], [(\"fly\", (31, 278)), (\"fly\", (31, 278))], [(\"fly\", (32, 277)), (\"fly\", (32, 277))], [(\"fly\", (33, 276)), (\"fly\", (33, 276))], [(\"fly\", (34, 276)), (\"fly\", (34, 276))], [(\"fly\", (35, 277)), (\"fly\", (35, 277))], [(\"fly\", (36, 277)), (\"fly\", (36, 278))]]\n",
      "initial optimization finished\n",
      "calling julia optimization model\n",
      "--- parameters for julia ---\n",
      "charging_stations_locations: [(31, 281), (38, 278)]\n",
      "ground_sensor_locations: [(2, 128), (32, 281)]\n",
      "drone_locations: [(36, 277), (36, 278)]\n",
      "drone_states: ['fly', 'fly']\n",
      "drone_batteries: [(1, 11), (2, 11)]\n",
      "--- end of parameters ---\n",
      "GridpointsDrones: Set(Any[(27, 279), (39, 271), (23, 275), (43, 285), (41, 275), (26, 273), (44, 287), (31, 287), (39, 285), (23, 282), (43, 280), (44, 281), (31, 281), (29, 287), (41, 282), (30, 269), (39, 280), (29, 281), (35, 283), (24, 274), (27, 285), (32, 276), (38, 270), (37, 274), (46, 286), (26, 275), (32, 277), (24, 278), (32, 284), (34, 272), (37, 278), (27, 280), (46, 273), (26, 282), (42, 272), (47, 270), (22, 286), (24, 279), (37, 279), (46, 275), (22, 273), (33, 286), (43, 269), (37, 271), (32, 274), (46, 282), (23, 283), (40, 286), (39, 269), (41, 283), (35, 270), (32, 278), (33, 273), (38, 272), (24, 285), (30, 287), (37, 285), (40, 273), (22, 275), (30, 281), (24, 280), (34, 276), (34, 277), (37, 280), (34, 284), (42, 276), (47, 272), (22, 282), (45, 286), (42, 277), (26, 283), (32, 279), (33, 275), (42, 284), (40, 275), (45, 273), (33, 282), (32, 271), (40, 282), (32, 285), (35, 272), (41, 270), (43, 287), (45, 275), (46, 283), (28, 286), (34, 274), (38, 276), (32, 280), (43, 281), (38, 277), (39, 287), (34, 278), (36, 286), (38, 284), (42, 274), (45, 282), (28, 273), (39, 281), (37, 269), (42, 278), (25, 286), (36, 273), (47, 276), (27, 287), (47, 277), (22, 283), (47, 284), (27, 281), (25, 273), (34, 279), (28, 275), (42, 279), (33, 283), (36, 275), (28, 282), (23, 272), (34, 271), (40, 283), (38, 274), (41, 272), (44, 286), (31, 286), (25, 275), (35, 276), (36, 282), (38, 278), (42, 271), (35, 277), (46, 270), (34, 285), (32, 269), (29, 286), (35, 284), (44, 273), (25, 282), (31, 273), (42, 285), (47, 274), (34, 280), (29, 273), (45, 283), (47, 278), (26, 272), (42, 280), (24, 287), (38, 279), (37, 287), (24, 281), (44, 275), (37, 281), (31, 275), (33, 270), (38, 271), (29, 275), (44, 282), (47, 279), (31, 282), (35, 274), (40, 270), (23, 276), (29, 282), (35, 278), (38, 285), (41, 276), (23, 277), (28, 283), (46, 272), (41, 277), (23, 284), (47, 271), (41, 284), (38, 280), (36, 283), (34, 269), (47, 285), (32, 287), (25, 283), (45, 270), (30, 286), (35, 279), (42, 269), (26, 276), (32, 281), (47, 280), (22, 272), (26, 277), (26, 284), (30, 273), (35, 271), (33, 272), (23, 274), (40, 272), (41, 274), (23, 278), (35, 285), (44, 283), (41, 278), (31, 283), (30, 275), (46, 276), (35, 280), (29, 283), (46, 277), (36, 270), (38, 269), (46, 284), (30, 282), (26, 274), (43, 286), (45, 272), (23, 279), (41, 279), (26, 278), (39, 286), (47, 269), (34, 287), (43, 273), (22, 276), (22, 277), (34, 281), (42, 287), (22, 284), (39, 273), (41, 271), (27, 286), (42, 281), (33, 276), (23, 285), (26, 279), (33, 277), (41, 285), (33, 284), (40, 276), (46, 274), (27, 273), (43, 275), (31, 270), (40, 277), (28, 272), (44, 270), (23, 280), (46, 278), (40, 284), (41, 280), (29, 270), (35, 269), (36, 272), (39, 275), (43, 282), (39, 282), (25, 272), (26, 285), (27, 275), (30, 283), (38, 287), (22, 274), (45, 276), (45, 277), (46, 279), (38, 281), (22, 278), (26, 280), (45, 284), (27, 282), (33, 274), (47, 287), (46, 271), (33, 278), (24, 286), (40, 274), (37, 286), (47, 281), (40, 278), (44, 272), (31, 272), (22, 279), (46, 285), (24, 273), (37, 273), (28, 276), (29, 272), (41, 269), (28, 277), (46, 280), (28, 284), (33, 279), (36, 276), (36, 277), (45, 274), (43, 283), (35, 287), (36, 284), (40, 279), (45, 278), (25, 276), (30, 270), (24, 275), (25, 277), (22, 285), (33, 271), (35, 281), (37, 275), (25, 284), (39, 283), (24, 282), (40, 271), (22, 280), (32, 286), (37, 282), (33, 285), (27, 283), (45, 279), (40, 285), (32, 273), (33, 280), (28, 274), (44, 276), (40, 280), (31, 276), (28, 278), (44, 277), (36, 274), (31, 277), (45, 271), (44, 284), (31, 284), (29, 276), (36, 278), (46, 269), (29, 277), (25, 274), (23, 287), (29, 284), (32, 275), (41, 287), (43, 270), (45, 285), (25, 278), (30, 272), (23, 281), (41, 281), (39, 270), (28, 279), (32, 282), (45, 280), (36, 279), (24, 283), (26, 287), (25, 279), (37, 283), (34, 286), (44, 274), (31, 274), (26, 281), (33, 269), (36, 271), (44, 278), (28, 285), (31, 278), (42, 286), (29, 274), (40, 269), (34, 273), (36, 285), (29, 278), (28, 280), (42, 273), (36, 280), (25, 285), (43, 272), (46, 287), (44, 279), (30, 276), (31, 279), (39, 272), (25, 280), (30, 277), (34, 275), (45, 269), (46, 281), (30, 284), (29, 279), (42, 275), (32, 283), (34, 282), (44, 271), (27, 272), (31, 271), (38, 286), (42, 282), (37, 270), (29, 271), (22, 287), (44, 285), (31, 285), (38, 273), (22, 281), (47, 286), (29, 285), (44, 280), (31, 280), (33, 287), (29, 280), (33, 281), (40, 287), (47, 273), (30, 274), (36, 269), (43, 276), (38, 275), (40, 281), (30, 278), (43, 277), (43, 284), (39, 276), (38, 282), (39, 277), (39, 284), (32, 270), (35, 286), (47, 275), (45, 287), (24, 272), (27, 276), (37, 272), (27, 277), (30, 279), (34, 283), (35, 273), (45, 281), (27, 284), (47, 282), (42, 283), (44, 269), (30, 271), (31, 269), (43, 274), (29, 269), (35, 275), (43, 278), (30, 285), (39, 274), (28, 287), (39, 278), (35, 282), (28, 281), (30, 280), (36, 287), (23, 286), (32, 272), (27, 274), (36, 281), (41, 286), (38, 283), (25, 287), (27, 278), (43, 279), (23, 273), (24, 276), (25, 281), (34, 270), (37, 276), (24, 277), (41, 273), (37, 277), (24, 284), (39, 279), (42, 270), (37, 284), (43, 271), (47, 283), (26, 286)])\n",
      "GridpointsDronesDetecting: Set(Any[(27, 279), (39, 271), (23, 275), (43, 285), (41, 275), (26, 273), (44, 287), (31, 287), (39, 285), (23, 282), (43, 280), (44, 281), (29, 287), (41, 282), (30, 269), (39, 280), (29, 281), (35, 283), (24, 274), (27, 285), (32, 276), (38, 270), (37, 274), (46, 286), (26, 275), (32, 277), (24, 278), (32, 284), (34, 272), (37, 278), (27, 280), (46, 273), (26, 282), (42, 272), (47, 270), (22, 286), (24, 279), (37, 279), (46, 275), (22, 273), (33, 286), (43, 269), (37, 271), (32, 274), (46, 282), (23, 283), (40, 286), (39, 269), (41, 283), (35, 270), (32, 278), (33, 273), (38, 272), (24, 285), (30, 287), (37, 285), (40, 273), (22, 275), (30, 281), (24, 280), (34, 276), (34, 277), (37, 280), (34, 284), (42, 276), (47, 272), (22, 282), (45, 286), (42, 277), (26, 283), (32, 279), (33, 275), (42, 284), (40, 275), (45, 273), (33, 282), (32, 271), (40, 282), (32, 285), (35, 272), (41, 270), (43, 287), (45, 275), (46, 283), (28, 286), (34, 274), (38, 276), (32, 280), (43, 281), (38, 277), (39, 287), (34, 278), (36, 286), (38, 284), (42, 274), (45, 282), (28, 273), (39, 281), (37, 269), (42, 278), (25, 286), (36, 273), (47, 276), (27, 287), (47, 277), (22, 283), (47, 284), (27, 281), (25, 273), (34, 279), (28, 275), (42, 279), (33, 283), (36, 275), (28, 282), (23, 272), (34, 271), (40, 283), (38, 274), (41, 272), (44, 286), (31, 286), (25, 275), (35, 276), (36, 282), (42, 271), (35, 277), (46, 270), (34, 285), (32, 269), (29, 286), (35, 284), (44, 273), (25, 282), (31, 273), (42, 285), (47, 274), (34, 280), (29, 273), (45, 283), (47, 278), (26, 272), (42, 280), (24, 287), (38, 279), (37, 287), (24, 281), (44, 275), (37, 281), (31, 275), (33, 270), (38, 271), (29, 275), (44, 282), (47, 279), (31, 282), (35, 274), (40, 270), (23, 276), (29, 282), (35, 278), (38, 285), (41, 276), (23, 277), (28, 283), (46, 272), (41, 277), (23, 284), (47, 271), (41, 284), (38, 280), (36, 283), (34, 269), (47, 285), (32, 287), (25, 283), (45, 270), (30, 286), (35, 279), (42, 269), (26, 276), (32, 281), (47, 280), (22, 272), (26, 277), (26, 284), (30, 273), (35, 271), (33, 272), (23, 274), (40, 272), (41, 274), (23, 278), (35, 285), (44, 283), (41, 278), (31, 283), (30, 275), (46, 276), (35, 280), (29, 283), (46, 277), (36, 270), (38, 269), (46, 284), (30, 282), (26, 274), (43, 286), (45, 272), (23, 279), (41, 279), (26, 278), (39, 286), (47, 269), (34, 287), (43, 273), (22, 276), (22, 277), (34, 281), (42, 287), (22, 284), (39, 273), (41, 271), (27, 286), (42, 281), (33, 276), (23, 285), (26, 279), (33, 277), (41, 285), (33, 284), (40, 276), (46, 274), (27, 273), (43, 275), (31, 270), (40, 277), (28, 272), (44, 270), (23, 280), (46, 278), (40, 284), (41, 280), (29, 270), (35, 269), (36, 272), (39, 275), (43, 282), (39, 282), (25, 272), (26, 285), (27, 275), (30, 283), (38, 287), (22, 274), (45, 276), (45, 277), (46, 279), (38, 281), (22, 278), (26, 280), (45, 284), (27, 282), (33, 274), (47, 287), (46, 271), (33, 278), (24, 286), (40, 274), (37, 286), (47, 281), (40, 278), (44, 272), (31, 272), (22, 279), (46, 285), (24, 273), (37, 273), (28, 276), (29, 272), (41, 269), (28, 277), (46, 280), (28, 284), (33, 279), (36, 276), (36, 277), (45, 274), (43, 283), (35, 287), (36, 284), (40, 279), (45, 278), (25, 276), (30, 270), (24, 275), (25, 277), (22, 285), (33, 271), (35, 281), (37, 275), (25, 284), (39, 283), (24, 282), (40, 271), (22, 280), (32, 286), (37, 282), (33, 285), (27, 283), (45, 279), (40, 285), (32, 273), (33, 280), (28, 274), (44, 276), (40, 280), (31, 276), (28, 278), (44, 277), (36, 274), (31, 277), (45, 271), (44, 284), (31, 284), (29, 276), (36, 278), (46, 269), (29, 277), (25, 274), (23, 287), (29, 284), (32, 275), (41, 287), (43, 270), (45, 285), (25, 278), (30, 272), (23, 281), (41, 281), (39, 270), (28, 279), (32, 282), (45, 280), (36, 279), (24, 283), (26, 287), (25, 279), (37, 283), (34, 286), (44, 274), (31, 274), (26, 281), (33, 269), (36, 271), (44, 278), (28, 285), (31, 278), (42, 286), (29, 274), (40, 269), (34, 273), (36, 285), (29, 278), (28, 280), (42, 273), (36, 280), (25, 285), (43, 272), (46, 287), (44, 279), (30, 276), (31, 279), (39, 272), (25, 280), (30, 277), (34, 275), (45, 269), (46, 281), (30, 284), (29, 279), (42, 275), (32, 283), (34, 282), (44, 271), (27, 272), (31, 271), (38, 286), (42, 282), (37, 270), (29, 271), (22, 287), (44, 285), (31, 285), (38, 273), (22, 281), (47, 286), (29, 285), (44, 280), (31, 280), (33, 287), (29, 280), (33, 281), (40, 287), (47, 273), (30, 274), (36, 269), (43, 276), (38, 275), (40, 281), (30, 278), (43, 277), (43, 284), (39, 276), (38, 282), (39, 277), (39, 284), (32, 270), (35, 286), (47, 275), (45, 287), (24, 272), (27, 276), (37, 272), (27, 277), (30, 279), (34, 283), (35, 273), (45, 281), (27, 284), (47, 282), (42, 283), (44, 269), (30, 271), (31, 269), (43, 274), (29, 269), (35, 275), (43, 278), (30, 285), (39, 274), (28, 287), (39, 278), (35, 282), (28, 281), (30, 280), (36, 287), (23, 286), (32, 272), (27, 274), (36, 281), (41, 286), (38, 283), (25, 287), (27, 278), (43, 279), (23, 273), (24, 276), (25, 281), (34, 270), (37, 276), (24, 277), (41, 273), (37, 277), (24, 284), (39, 279), (42, 270), (37, 284), (43, 271), (47, 283), (26, 286)])\n",
      "ChargingStations: [(31, 281), (38, 278)]\n",
      "Set parameter Username\n",
      "Set parameter LicenseID to value 2612529\n",
      "Academic license - for non-commercial use only - expires 2026-01-21\n",
      "Creating model took 108.90762749989517 seconds\n",
      "Optimizing model took 351.3017820001114 seconds\n",
      "Solver Status: OPTIMAL\n",
      "Objective Value: 1.9966274462640285\n",
      "optimization finished\n",
      "current solution\n",
      "[[('fly', (35, 276)), ('fly', (35, 277))], [('fly', (35, 277)), ('fly', (34, 278))], [('fly', (35, 278)), ('fly', (33, 279))], [('fly', (36, 278)), ('fly', (32, 280))], [('fly', (37, 277)), ('fly', (31, 279))], [('charge', (37, 277)), ('fly', (30, 280))], [('fly', (37, 277)), ('charge', (30, 280))], [('fly', (36, 277)), ('fly', (30, 280))], [('fly', (37, 278)), ('fly', (31, 279))]]\n",
      "calling julia optimization model\n",
      "--- parameters for julia ---\n",
      "charging_stations_locations: [(31, 281), (38, 278)]\n",
      "ground_sensor_locations: [(2, 128), (32, 281)]\n",
      "drone_locations: [(38, 279), (32, 280)]\n",
      "drone_states: ['fly', 'fly']\n",
      "drone_batteries: [(2, 16), (2, 17)]\n",
      "--- end of parameters ---\n",
      "Took 460.3300410839729 seconds\n",
      "GridpointsDrones: Set(Any[(27, 279), (39, 271), (23, 275), (43, 285), (41, 275), (26, 273), (44, 287), (31, 287), (39, 285), (23, 282), (43, 280), (44, 281), (31, 281), (29, 287), (41, 282), (30, 269), (39, 280), (29, 281), (35, 283), (24, 274), (27, 285), (32, 276), (38, 270), (37, 274), (46, 286), (26, 275), (32, 277), (24, 278), (32, 284), (34, 272), (37, 278), (27, 280), (46, 273), (26, 282), (42, 272), (47, 270), (22, 286), (24, 279), (37, 279), (46, 275), (22, 273), (33, 286), (43, 269), (37, 271), (32, 274), (46, 282), (23, 283), (40, 286), (39, 269), (41, 283), (35, 270), (32, 278), (33, 273), (38, 272), (24, 285), (30, 287), (37, 285), (40, 273), (22, 275), (30, 281), (24, 280), (34, 276), (34, 277), (37, 280), (34, 284), (42, 276), (47, 272), (22, 282), (45, 286), (42, 277), (26, 283), (32, 279), (33, 275), (42, 284), (40, 275), (45, 273), (33, 282), (32, 271), (40, 282), (32, 285), (35, 272), (41, 270), (43, 287), (45, 275), (46, 283), (28, 286), (34, 274), (38, 276), (32, 280), (43, 281), (38, 277), (39, 287), (34, 278), (36, 286), (38, 284), (42, 274), (45, 282), (28, 273), (39, 281), (37, 269), (42, 278), (25, 286), (36, 273), (47, 276), (27, 287), (47, 277), (22, 283), (47, 284), (27, 281), (25, 273), (34, 279), (28, 275), (42, 279), (33, 283), (36, 275), (28, 282), (23, 272), (34, 271), (40, 283), (38, 274), (41, 272), (44, 286), (31, 286), (25, 275), (35, 276), (36, 282), (38, 278), (42, 271), (35, 277), (46, 270), (34, 285), (32, 269), (29, 286), (35, 284), (44, 273), (25, 282), (31, 273), (42, 285), (47, 274), (34, 280), (29, 273), (45, 283), (47, 278), (26, 272), (42, 280), (24, 287), (38, 279), (37, 287), (24, 281), (44, 275), (37, 281), (31, 275), (33, 270), (38, 271), (29, 275), (44, 282), (47, 279), (31, 282), (35, 274), (40, 270), (23, 276), (29, 282), (35, 278), (38, 285), (41, 276), (23, 277), (28, 283), (46, 272), (41, 277), (23, 284), (47, 271), (41, 284), (38, 280), (36, 283), (34, 269), (47, 285), (32, 287), (25, 283), (45, 270), (30, 286), (35, 279), (42, 269), (26, 276), (32, 281), (47, 280), (22, 272), (26, 277), (26, 284), (30, 273), (35, 271), (33, 272), (23, 274), (40, 272), (41, 274), (23, 278), (35, 285), (44, 283), (41, 278), (31, 283), (30, 275), (46, 276), (35, 280), (29, 283), (46, 277), (36, 270), (38, 269), (46, 284), (30, 282), (26, 274), (43, 286), (45, 272), (23, 279), (41, 279), (26, 278), (39, 286), (47, 269), (34, 287), (43, 273), (22, 276), (22, 277), (34, 281), (42, 287), (22, 284), (39, 273), (41, 271), (27, 286), (42, 281), (33, 276), (23, 285), (26, 279), (33, 277), (41, 285), (33, 284), (40, 276), (46, 274), (27, 273), (43, 275), (31, 270), (40, 277), (28, 272), (44, 270), (23, 280), (46, 278), (40, 284), (41, 280), (29, 270), (35, 269), (36, 272), (39, 275), (43, 282), (39, 282), (25, 272), (26, 285), (27, 275), (30, 283), (38, 287), (22, 274), (45, 276), (45, 277), (46, 279), (38, 281), (22, 278), (26, 280), (45, 284), (27, 282), (33, 274), (47, 287), (46, 271), (33, 278), (24, 286), (40, 274), (37, 286), (47, 281), (40, 278), (44, 272), (31, 272), (22, 279), (46, 285), (24, 273), (37, 273), (28, 276), (29, 272), (41, 269), (28, 277), (46, 280), (28, 284), (33, 279), (36, 276), (36, 277), (45, 274), (43, 283), (35, 287), (36, 284), (40, 279), (45, 278), (25, 276), (30, 270), (24, 275), (25, 277), (22, 285), (33, 271), (35, 281), (37, 275), (25, 284), (39, 283), (24, 282), (40, 271), (22, 280), (32, 286), (37, 282), (33, 285), (27, 283), (45, 279), (40, 285), (32, 273), (33, 280), (28, 274), (44, 276), (40, 280), (31, 276), (28, 278), (44, 277), (36, 274), (31, 277), (45, 271), (44, 284), (31, 284), (29, 276), (36, 278), (46, 269), (29, 277), (25, 274), (23, 287), (29, 284), (32, 275), (41, 287), (43, 270), (45, 285), (25, 278), (30, 272), (23, 281), (41, 281), (39, 270), (28, 279), (32, 282), (45, 280), (36, 279), (24, 283), (26, 287), (25, 279), (37, 283), (34, 286), (44, 274), (31, 274), (26, 281), (33, 269), (36, 271), (44, 278), (28, 285), (31, 278), (42, 286), (29, 274), (40, 269), (34, 273), (36, 285), (29, 278), (28, 280), (42, 273), (36, 280), (25, 285), (43, 272), (46, 287), (44, 279), (30, 276), (31, 279), (39, 272), (25, 280), (30, 277), (34, 275), (45, 269), (46, 281), (30, 284), (29, 279), (42, 275), (32, 283), (34, 282), (44, 271), (27, 272), (31, 271), (38, 286), (42, 282), (37, 270), (29, 271), (22, 287), (44, 285), (31, 285), (38, 273), (22, 281), (47, 286), (29, 285), (44, 280), (31, 280), (33, 287), (29, 280), (33, 281), (40, 287), (47, 273), (30, 274), (36, 269), (43, 276), (38, 275), (40, 281), (30, 278), (43, 277), (43, 284), (39, 276), (38, 282), (39, 277), (39, 284), (32, 270), (35, 286), (47, 275), (45, 287), (24, 272), (27, 276), (37, 272), (27, 277), (30, 279), (34, 283), (35, 273), (45, 281), (27, 284), (47, 282), (42, 283), (44, 269), (30, 271), (31, 269), (43, 274), (29, 269), (35, 275), (43, 278), (30, 285), (39, 274), (28, 287), (39, 278), (35, 282), (28, 281), (30, 280), (36, 287), (23, 286), (32, 272), (27, 274), (36, 281), (41, 286), (38, 283), (25, 287), (27, 278), (43, 279), (23, 273), (24, 276), (25, 281), (34, 270), (37, 276), (24, 277), (41, 273), (37, 277), (24, 284), (39, 279), (42, 270), (37, 284), (43, 271), (47, 283), (26, 286)])\n",
      "GridpointsDronesDetecting: Set(Any[(27, 279), (39, 271), (23, 275), (43, 285), (41, 275), (26, 273), (44, 287), (31, 287), (39, 285), (23, 282), (43, 280), (44, 281), (29, 287), (41, 282), (30, 269), (39, 280), (29, 281), (35, 283), (24, 274), (27, 285), (32, 276), (38, 270), (37, 274), (46, 286), (26, 275), (32, 277), (24, 278), (32, 284), (34, 272), (37, 278), (27, 280), (46, 273), (26, 282), (42, 272), (47, 270), (22, 286), (24, 279), (37, 279), (46, 275), (22, 273), (33, 286), (43, 269), (37, 271), (32, 274), (46, 282), (23, 283), (40, 286), (39, 269), (41, 283), (35, 270), (32, 278), (33, 273), (38, 272), (24, 285), (30, 287), (37, 285), (40, 273), (22, 275), (30, 281), (24, 280), (34, 276), (34, 277), (37, 280), (34, 284), (42, 276), (47, 272), (22, 282), (45, 286), (42, 277), (26, 283), (32, 279), (33, 275), (42, 284), (40, 275), (45, 273), (33, 282), (32, 271), (40, 282), (32, 285), (35, 272), (41, 270), (43, 287), (45, 275), (46, 283), (28, 286), (34, 274), (38, 276), (32, 280), (43, 281), (38, 277), (39, 287), (34, 278), (36, 286), (38, 284), (42, 274), (45, 282), (28, 273), (39, 281), (37, 269), (42, 278), (25, 286), (36, 273), (47, 276), (27, 287), (47, 277), (22, 283), (47, 284), (27, 281), (25, 273), (34, 279), (28, 275), (42, 279), (33, 283), (36, 275), (28, 282), (23, 272), (34, 271), (40, 283), (38, 274), (41, 272), (44, 286), (31, 286), (25, 275), (35, 276), (36, 282), (42, 271), (35, 277), (46, 270), (34, 285), (32, 269), (29, 286), (35, 284), (44, 273), (25, 282), (31, 273), (42, 285), (47, 274), (34, 280), (29, 273), (45, 283), (47, 278), (26, 272), (42, 280), (24, 287), (38, 279), (37, 287), (24, 281), (44, 275), (37, 281), (31, 275), (33, 270), (38, 271), (29, 275), (44, 282), (47, 279), (31, 282), (35, 274), (40, 270), (23, 276), (29, 282), (35, 278), (38, 285), (41, 276), (23, 277), (28, 283), (46, 272), (41, 277), (23, 284), (47, 271), (41, 284), (38, 280), (36, 283), (34, 269), (47, 285), (32, 287), (25, 283), (45, 270), (30, 286), (35, 279), (42, 269), (26, 276), (32, 281), (47, 280), (22, 272), (26, 277), (26, 284), (30, 273), (35, 271), (33, 272), (23, 274), (40, 272), (41, 274), (23, 278), (35, 285), (44, 283), (41, 278), (31, 283), (30, 275), (46, 276), (35, 280), (29, 283), (46, 277), (36, 270), (38, 269), (46, 284), (30, 282), (26, 274), (43, 286), (45, 272), (23, 279), (41, 279), (26, 278), (39, 286), (47, 269), (34, 287), (43, 273), (22, 276), (22, 277), (34, 281), (42, 287), (22, 284), (39, 273), (41, 271), (27, 286), (42, 281), (33, 276), (23, 285), (26, 279), (33, 277), (41, 285), (33, 284), (40, 276), (46, 274), (27, 273), (43, 275), (31, 270), (40, 277), (28, 272), (44, 270), (23, 280), (46, 278), (40, 284), (41, 280), (29, 270), (35, 269), (36, 272), (39, 275), (43, 282), (39, 282), (25, 272), (26, 285), (27, 275), (30, 283), (38, 287), (22, 274), (45, 276), (45, 277), (46, 279), (38, 281), (22, 278), (26, 280), (45, 284), (27, 282), (33, 274), (47, 287), (46, 271), (33, 278), (24, 286), (40, 274), (37, 286), (47, 281), (40, 278), (44, 272), (31, 272), (22, 279), (46, 285), (24, 273), (37, 273), (28, 276), (29, 272), (41, 269), (28, 277), (46, 280), (28, 284), (33, 279), (36, 276), (36, 277), (45, 274), (43, 283), (35, 287), (36, 284), (40, 279), (45, 278), (25, 276), (30, 270), (24, 275), (25, 277), (22, 285), (33, 271), (35, 281), (37, 275), (25, 284), (39, 283), (24, 282), (40, 271), (22, 280), (32, 286), (37, 282), (33, 285), (27, 283), (45, 279), (40, 285), (32, 273), (33, 280), (28, 274), (44, 276), (40, 280), (31, 276), (28, 278), (44, 277), (36, 274), (31, 277), (45, 271), (44, 284), (31, 284), (29, 276), (36, 278), (46, 269), (29, 277), (25, 274), (23, 287), (29, 284), (32, 275), (41, 287), (43, 270), (45, 285), (25, 278), (30, 272), (23, 281), (41, 281), (39, 270), (28, 279), (32, 282), (45, 280), (36, 279), (24, 283), (26, 287), (25, 279), (37, 283), (34, 286), (44, 274), (31, 274), (26, 281), (33, 269), (36, 271), (44, 278), (28, 285), (31, 278), (42, 286), (29, 274), (40, 269), (34, 273), (36, 285), (29, 278), (28, 280), (42, 273), (36, 280), (25, 285), (43, 272), (46, 287), (44, 279), (30, 276), (31, 279), (39, 272), (25, 280), (30, 277), (34, 275), (45, 269), (46, 281), (30, 284), (29, 279), (42, 275), (32, 283), (34, 282), (44, 271), (27, 272), (31, 271), (38, 286), (42, 282), (37, 270), (29, 271), (22, 287), (44, 285), (31, 285), (38, 273), (22, 281), (47, 286), (29, 285), (44, 280), (31, 280), (33, 287), (29, 280), (33, 281), (40, 287), (47, 273), (30, 274), (36, 269), (43, 276), (38, 275), (40, 281), (30, 278), (43, 277), (43, 284), (39, 276), (38, 282), (39, 277), (39, 284), (32, 270), (35, 286), (47, 275), (45, 287), (24, 272), (27, 276), (37, 272), (27, 277), (30, 279), (34, 283), (35, 273), (45, 281), (27, 284), (47, 282), (42, 283), (44, 269), (30, 271), (31, 269), (43, 274), (29, 269), (35, 275), (43, 278), (30, 285), (39, 274), (28, 287), (39, 278), (35, 282), (28, 281), (30, 280), (36, 287), (23, 286), (32, 272), (27, 274), (36, 281), (41, 286), (38, 283), (25, 287), (27, 278), (43, 279), (23, 273), (24, 276), (25, 281), (34, 270), (37, 276), (24, 277), (41, 273), (37, 277), (24, 284), (39, 279), (42, 270), (37, 284), (43, 271), (47, 283), (26, 286)])\n",
      "ChargingStations: [(31, 281), (38, 278)]\n",
      "Set parameter Username\n",
      "Set parameter LicenseID to value 2612529\n",
      "Academic license - for non-commercial use only - expires 2026-01-21\n",
      "Creating model took 108.7862579158973 seconds\n",
      "Optimizing model took 1392.5926110420842 seconds\n",
      "Solver Status: OPTIMAL\n",
      "Objective Value: 2.036941174417734\n",
      "optimization finished\n",
      "current solution\n",
      "[[('fly', (37, 278)), ('fly', (31, 279))], [('fly', (37, 277)), ('fly', (30, 280))], [('charge', (37, 277)), ('charge', (30, 280))], [('fly', (37, 277)), ('fly', (30, 280))], [('fly', (36, 278)), ('fly', (31, 279))], [('fly', (36, 279)), ('fly', (30, 279))], [('fly', (36, 279)), ('fly', (29, 279))], [('fly', (36, 278)), ('fly', (30, 279))], [('fly', (37, 278)), ('fly', (31, 279))]]\n"
     ]
    }
   ],
   "source": [
    "# That's very fast to run!\n",
    "print(\"starting benchmark\")\n",
    "time_start = time.time()\n",
    "scenario = load_scenario_npy(\"WideDataset/0001/scenarii/0001_00002.npy\")\n",
    "print(\"scenario loaded\")\n",
    "results, (position_history, ground, charging)  = run_benchmark_scenario(scenario, SensorPlacementOptimization, DroneRoutingOptimizationSlow, custom_initialization_parameters = {\"burnmap_filename\": \"./WideDataset/0001/burn_map.npy\", \"load_from_logfile\": True, \"reevaluation_step\": 9, \"optimization_horizon\":20}, custom_step_parameters_function = return_no_custom_parameters, automatic_initialization_parameters_function=my_automatic_layout_parameters, return_history=True)\n",
    "print(results)\n",
    "print(f\"Time taken to run benchmark on the scenario: {time.time() - time_start} seconds\")\n",
    "\n"
   ]
  },
  {
   "cell_type": "code",
   "execution_count": 4,
   "metadata": {},
   "outputs": [
    {
     "name": "stdout",
     "output_type": "stream",
     "text": [
      "Video saved at: display_test_simulation/test_simulation.mp4\n"
     ]
    }
   ],
   "source": [
    "create_scenario_video(scenario[:len(position_history)],drone_locations_history=position_history,starting_time=0,out_filename='test_simulation', ground_sensor_locations = ground, charging_stations_locations = charging)"
   ]
  },
  {
   "cell_type": "markdown",
   "metadata": {},
   "source": [
    "We can visualize the strategy in action by creating a video of the scenario. \n",
    "1. Use the `return_history` parameter or `run_benchmark_scenario` to output the log of ground sensor and drone positions during the benchmark\n",
    "2. Use the `create_scenario_video` function to compile the video. This can take a couple seconds"
   ]
  },
  {
   "cell_type": "code",
   "execution_count": 4,
   "metadata": {},
   "outputs": [
    {
     "name": "stdout",
     "output_type": "stream",
     "text": [
      "calling julia optimization model\n",
      "In julia fuinction\n",
      "Set parameter Username\n",
      "Set parameter LicenseID to value 2612529\n",
      "Academic license - for non-commercial use only - expires 2026-01-21\n",
      "Took 8.259267374873161 seconds\n",
      "optimization finished\n",
      "Video saved at: display_test_simulation/test_simulation.mp4\n"
     ]
    }
   ],
   "source": [
    "delta , device , (position_history, ground, charging)  = run_benchmark_scenario(scenario, SensorPlacementOptimization, RandomDroneRoutingStrategy, custom_initialization_parameters = {\"burnmap_filename\": \"./WideDataset/0001/burn_map.npy\"}, custom_step_parameters_function = return_no_custom_parameters, automatic_initialization_parameters_function=my_automatic_layout_parameters, return_history=True)\n",
    "create_scenario_video(scenario[:len(position_history)],drone_locations_history=position_history,starting_time=0,out_filename='test_simulation', ground_sensor_locations = ground, charging_stations_locations = charging)"
   ]
  },
  {
   "cell_type": "markdown",
   "metadata": {},
   "source": [
    "Instead of running a benchmark on a single scenario, we are interested in running the benchmark on all scenarii of a given layout (potentially in parallel!)\n",
    "\n",
    "1. We use `run_benchmark_scenarii_sequential`"
   ]
  },
  {
   "cell_type": "code",
   "execution_count": 3,
   "metadata": {},
   "outputs": [
    {
     "name": "stderr",
     "output_type": "stream",
     "text": [
      "100%|██████████| 3/3 [00:00<00:00, 91.85it/s]\n"
     ]
    },
    {
     "name": "stdout",
     "output_type": "stream",
     "text": [
      "Processing scenario MinimalDataset/0001/scenarii/0001_00033.npy\n",
      "Processing scenario MinimalDataset/0001/scenarii/0001_00034.npy\n",
      "Processing scenario MinimalDataset/0001/scenarii/0001_00005.npy\n",
      "Avg time steps to fire detection: 0.0\n",
      "Fire found 0.0% of the time by ground sensor\n",
      "Fire found 0.0% of the time by charging station\n",
      "Fire found 0.0% of the time by drone\n",
      "Fire found 100.0% of the time by undetected\n",
      "Avg routing execution time: 0.0000 sec\n",
      "Avg fire size at detection (cells): 0.00\n",
      "Avg fire size at detection (% of map): 0.00%\n",
      "Avg percentage of map explored by drones: 0.20%\n",
      "Avg total distance traveled by drones: 357.33 units\n",
      "Avg drone entropy per timestep: 0.0000\n",
      "Avg sensor placement entropy: 0.0000\n"
     ]
    },
    {
     "name": "stderr",
     "output_type": "stream",
     "text": [
      "100%|██████████| 3/3 [00:00<00:00, 23.72it/s]"
     ]
    },
    {
     "name": "stdout",
     "output_type": "stream",
     "text": [
      "Processing scenario MinimalDataset/0001/Satellite_Images_Mask/0001_00005\n",
      "Processing scenario MinimalDataset/0001/Satellite_Images_Mask/0001_00002\n",
      "Processing scenario MinimalDataset/0001/Satellite_Images_Mask/0001_00003\n",
      "Avg time steps to fire detection: 0.0\n",
      "Fire found 0.0% of the time by ground sensor\n",
      "Fire found 0.0% of the time by charging station\n",
      "Fire found 0.0% of the time by drone\n",
      "Fire found 100.0% of the time by undetected\n",
      "Avg routing execution time: 0.0000 sec\n",
      "Avg fire size at detection (cells): 0.00\n",
      "Avg fire size at detection (% of map): 0.00%\n",
      "Avg percentage of map explored by drones: 0.20%\n",
      "Avg total distance traveled by drones: 373.33 units\n",
      "Avg drone entropy per timestep: 0.0000\n",
      "Avg sensor placement entropy: 0.0000\n"
     ]
    },
    {
     "name": "stderr",
     "output_type": "stream",
     "text": [
      "\n"
     ]
    }
   ],
   "source": [
    "run_benchmark_scenarii_sequential(\"MinimalDataset/0001/scenarii/\", RandomSensorPlacementStrategy, RandomDroneRoutingStrategy, custom_initialization_parameters_function = get_burnmap_parameters, custom_step_parameters_function = return_no_custom_parameters, starting_time=0, max_n_scenarii=3)\n",
    "run_benchmark_scenarii_sequential(\"MinimalDataset/0001/Satellite_Images_Mask/\", RandomSensorPlacementStrategy, RandomDroneRoutingStrategy, custom_initialization_parameters_function = get_burnmap_parameters, custom_step_parameters_function = return_no_custom_parameters, starting_time=0, max_n_scenarii=3, file_format=\"jpg\")"
   ]
  },
  {
   "cell_type": "markdown",
   "metadata": {},
   "source": [
    "On all of the dataset!"
   ]
  },
  {
   "cell_type": "code",
   "execution_count": null,
   "metadata": {},
   "outputs": [],
   "source": [
    "benchmark_on_sim2real_dataset(\"WideDataset/\", SensorPlacementStrategy, DroneRoutingStrategy, custom_initialization_parameters_function = lambda x: None, custom_step_parameters_function = return_no_custom_parameters, max_n_scenarii=100, starting_time=0)"
   ]
  },
  {
   "cell_type": "code",
   "execution_count": 4,
   "metadata": {},
   "outputs": [
    {
     "name": "stdout",
     "output_type": "stream",
     "text": [
      "calling julia optimization model\n",
      "optimization finished\n",
      "calling julia optimization model\n",
      "optimization finished\n",
      "calling julia optimization model\n",
      "optimization finished\n",
      "calling julia optimization model\n",
      "optimization finished\n",
      "calling julia optimization model\n",
      "optimization finished\n",
      "calling julia optimization model\n",
      "optimization finished\n",
      "calling julia optimization model\n",
      "optimization finished\n",
      "calling julia optimization model\n",
      "optimization finished\n",
      "calling julia optimization model\n",
      "optimization finished\n",
      "calling julia optimization model\n",
      "optimization finished\n",
      "calling julia optimization model\n",
      "optimization finished\n",
      "calling julia optimization model\n",
      "optimization finished\n",
      "calling julia optimization model\n",
      "optimization finished\n",
      "calling julia optimization model\n",
      "optimization finished\n",
      "calling julia optimization model\n",
      "optimization finished\n",
      "calling julia optimization model\n",
      "optimization finished\n",
      "calling julia optimization model\n",
      "optimization finished\n",
      "calling julia optimization model\n",
      "optimization finished\n",
      "calling julia optimization model\n",
      "optimization finished\n",
      "calling julia optimization model\n",
      "optimization finished\n",
      "calling julia optimization model\n",
      "optimization finished\n",
      "calling julia optimization model\n",
      "optimization finished\n",
      "calling julia optimization model\n",
      "optimization finished\n",
      "calling julia optimization model\n",
      "optimization finished\n",
      "calling julia optimization model\n",
      "optimization finished\n",
      "calling julia optimization model\n",
      "optimization finished\n",
      "calling julia optimization model\n",
      "optimization finished\n",
      "calling julia optimization model\n",
      "optimization finished\n",
      "calling julia optimization model\n",
      "optimization finished\n",
      "calling julia optimization model\n",
      "optimization finished\n",
      "calling julia optimization model\n",
      "optimization finished\n",
      "calling julia optimization model\n",
      "optimization finished\n",
      "calling julia optimization model\n",
      "optimization finished\n",
      "calling julia optimization model\n",
      "optimization finished\n",
      "calling julia optimization model\n",
      "optimization finished\n",
      "calling julia optimization model\n",
      "optimization finished\n",
      "calling julia optimization model\n",
      "optimization finished\n",
      "calling julia optimization model\n",
      "optimization finished\n",
      "calling julia optimization model\n",
      "optimization finished\n",
      "calling julia optimization model\n",
      "optimization finished\n",
      "calling julia optimization model\n",
      "optimization finished\n",
      "calling julia optimization model\n",
      "optimization finished\n",
      "calling julia optimization model\n",
      "optimization finished\n",
      "calling julia optimization model\n",
      "optimization finished\n",
      "calling julia optimization model\n",
      "optimization finished\n",
      "Fire detected in  ground sensor time steps by device:  45\n",
      "Time taken to run benchmark on the scenario: 0.43914222717285156 seconds\n"
     ]
    }
   ],
   "source": [
    "# That's very fast to run!\n",
    "time_start = time.time()\n",
    "scenario = load_scenario_npy(\"WideDataset/0001/scenarii/0001_00002.npy\")\n",
    "device, delta_t, _ = run_benchmark_scenario(scenario, RandomSensorPlacementStrategy, DroneRoutingOptimizationSlow, custom_initialization_parameters = {\"burnmap_filename\": \"./WideDataset/0001/burn_map.npy\", \"call_every_n_steps\": 5, \"optimization_horizon\": 10}, custom_step_parameters_function = return_no_custom_parameters, automatic_initialization_parameters_function=my_automatic_layout_parameters, return_history=True)\n",
    "print(\"Fire detected in \", delta_t, \"time steps by device: \", device)\n",
    "print(f\"Time taken to run benchmark on the scenario: {time.time() - time_start} seconds\")\n"
   ]
  },
  {
   "cell_type": "markdown",
   "metadata": {},
   "source": []
  },
  {
   "cell_type": "code",
   "execution_count": 13,
   "metadata": {},
   "outputs": [],
   "source": [
    "# define function to get parameters for optimal drone routing strategy\n",
    "# def get_routing_optimization_parameters(input_dir:str):\n",
    "#     return {\n",
    "#         \"burnmap_filename\": f\"{input_dir}/burn_map.npy\",\n",
    "#         \"call_every_n_steps\": 5,\n",
    "#         \"optimization_horizon\": 10\n",
    "#     }\n",
    "\n",
    "# add the log\n"
   ]
  },
  {
   "cell_type": "code",
   "execution_count": null,
   "metadata": {},
   "outputs": [],
   "source": []
  }
 ],
 "metadata": {
  "kernelspec": {
   "display_name": "base",
   "language": "python",
   "name": "python3"
  },
  "language_info": {
   "codemirror_mode": {
    "name": "ipython",
    "version": 3
   },
   "file_extension": ".py",
   "mimetype": "text/x-python",
   "name": "python",
   "nbconvert_exporter": "python",
   "pygments_lexer": "ipython3",
   "version": "3.12.7"
  }
 },
 "nbformat": 4,
 "nbformat_minor": 2
}
