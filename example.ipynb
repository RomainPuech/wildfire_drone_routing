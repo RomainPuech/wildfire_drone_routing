{
 "cells": [
  {
   "cell_type": "markdown",
   "metadata": {},
   "source": [
    "## Preprocess the Sim2Real dataset\n",
    "\n",
    "The Sim2Real dataset uses jpeg images to represent wildfire masks. This representation is very lightweight but slow to work with. \n",
    "To benchmark faster, we convert them to binary NumPy files. These files are ~100 times heavier and it requires an overhead time to convert from jpeg to them, but once they are created and stored, they allow 50--100x faster operations.\n",
    "\n",
    "1. Download the dataset from [Sim2Real-Fire GitHub repository](https://github.com/TJU-IDVLab/Sim2Real-Fire).\n",
    "2. Extract all files from the dataset into your `Dataset` folder\n",
    "3. Run the preprocessing function to convert from the jpeg representation to the NumPy one, and compute burn maps"
   ]
  },
  {
   "cell_type": "code",
   "execution_count": 1,
   "metadata": {},
   "outputs": [
    {
     "name": "stdout",
     "output_type": "stream",
     "text": [
      "Requirement already satisfied: numpy in /Users/puech/.julia/conda/3/aarch64/lib/python3.12/site-packages (from -r requirements.txt (line 1)) (2.2.1)\n",
      "Requirement already satisfied: opencv-python in /Users/puech/.julia/conda/3/aarch64/lib/python3.12/site-packages (from -r requirements.txt (line 2)) (4.11.0.86)\n",
      "Requirement already satisfied: matplotlib in /Users/puech/.julia/conda/3/aarch64/lib/python3.12/site-packages (from -r requirements.txt (line 3)) (3.10.1)\n",
      "Requirement already satisfied: tqdm in /Users/puech/.julia/conda/3/aarch64/lib/python3.12/site-packages (from -r requirements.txt (line 4)) (4.67.1)\n",
      "Requirement already satisfied: juliacall in /Users/puech/.julia/conda/3/aarch64/lib/python3.12/site-packages (from -r requirements.txt (line 5)) (0.9.24)\n",
      "Requirement already satisfied: shapely in /Users/puech/.julia/conda/3/aarch64/lib/python3.12/site-packages (from -r requirements.txt (line 6)) (2.1.0)\n",
      "Requirement already satisfied: pandas in /Users/puech/.julia/conda/3/aarch64/lib/python3.12/site-packages (from -r requirements.txt (line 7)) (2.2.3)\n",
      "Requirement already satisfied: scipy in /Users/puech/.julia/conda/3/aarch64/lib/python3.12/site-packages (from -r requirements.txt (line 8)) (1.15.2)\n",
      "Requirement already satisfied: contourpy>=1.0.1 in /Users/puech/.julia/conda/3/aarch64/lib/python3.12/site-packages (from matplotlib->-r requirements.txt (line 3)) (1.3.1)\n",
      "Requirement already satisfied: cycler>=0.10 in /Users/puech/.julia/conda/3/aarch64/lib/python3.12/site-packages (from matplotlib->-r requirements.txt (line 3)) (0.12.1)\n",
      "Requirement already satisfied: fonttools>=4.22.0 in /Users/puech/.julia/conda/3/aarch64/lib/python3.12/site-packages (from matplotlib->-r requirements.txt (line 3)) (4.57.0)\n",
      "Requirement already satisfied: kiwisolver>=1.3.1 in /Users/puech/.julia/conda/3/aarch64/lib/python3.12/site-packages (from matplotlib->-r requirements.txt (line 3)) (1.4.8)\n",
      "Requirement already satisfied: packaging>=20.0 in /Users/puech/.julia/conda/3/aarch64/lib/python3.12/site-packages (from matplotlib->-r requirements.txt (line 3)) (24.2)\n",
      "Requirement already satisfied: pillow>=8 in /Users/puech/.julia/conda/3/aarch64/lib/python3.12/site-packages (from matplotlib->-r requirements.txt (line 3)) (11.1.0)\n",
      "Requirement already satisfied: pyparsing>=2.3.1 in /Users/puech/.julia/conda/3/aarch64/lib/python3.12/site-packages (from matplotlib->-r requirements.txt (line 3)) (3.2.3)\n",
      "Requirement already satisfied: python-dateutil>=2.7 in /Users/puech/.julia/conda/3/aarch64/lib/python3.12/site-packages (from matplotlib->-r requirements.txt (line 3)) (2.9.0.post0)\n",
      "Requirement already satisfied: juliapkg~=0.1.8 in /Users/puech/.julia/conda/3/aarch64/lib/python3.12/site-packages (from juliacall->-r requirements.txt (line 5)) (0.1.16)\n",
      "Requirement already satisfied: pytz>=2020.1 in /Users/puech/.julia/conda/3/aarch64/lib/python3.12/site-packages (from pandas->-r requirements.txt (line 7)) (2025.2)\n",
      "Requirement already satisfied: tzdata>=2022.7 in /Users/puech/.julia/conda/3/aarch64/lib/python3.12/site-packages (from pandas->-r requirements.txt (line 7)) (2025.2)\n",
      "Requirement already satisfied: filelock<4.0,>=3.16 in /Users/puech/.julia/conda/3/aarch64/lib/python3.12/site-packages (from juliapkg~=0.1.8->juliacall->-r requirements.txt (line 5)) (3.18.0)\n",
      "Requirement already satisfied: semver<4.0,>=3.0 in /Users/puech/.julia/conda/3/aarch64/lib/python3.12/site-packages (from juliapkg~=0.1.8->juliacall->-r requirements.txt (line 5)) (3.0.4)\n",
      "Requirement already satisfied: six>=1.5 in /Users/puech/.julia/conda/3/aarch64/lib/python3.12/site-packages (from python-dateutil>=2.7->matplotlib->-r requirements.txt (line 3)) (1.16.0)\n",
      "Note: you may need to restart the kernel to use updated packages.\n"
     ]
    }
   ],
   "source": [
    "pip install -r requirements.txt"
   ]
  },
  {
   "cell_type": "code",
   "execution_count": 2,
   "metadata": {},
   "outputs": [
    {
     "name": "stdout",
     "output_type": "stream",
     "text": [
      "Detected IPython. Loading juliacall extension. See https://juliapy.github.io/PythonCall.jl/stable/compat/#IPython\n",
      "Initializing the Julia session. This can take up to 1 minute.\n",
      "initializing the ground sensor julia module\n",
      "installing packages\n",
      "initializing the drone julia module\n",
      "Julia session initialized.\n",
      "=== TEST PRINT: Entered RandomPlacementStrategy class definition ===\n",
      "=== TEST PRINT: Entered DroneRoutingOptimizationModelReuseIndex class definition ===\n",
      "=== TEST PRINT: Entered DroneRoutingOptimizationModelReuseIndex class definition ===\n"
     ]
    }
   ],
   "source": [
    "# import requred modules\n",
    "import sys\n",
    "import os\n",
    "import time\n",
    "import numpy as np\n",
    "\n",
    "# Add code to path\n",
    "module_path = os.path.abspath(\".\") + \"/code\"\n",
    "if module_path not in sys.path:\n",
    "    sys.path.append(module_path)\n",
    "\n",
    "from dataset import preprocess_sim2real_dataset, load_scenario_npy, compute_and_save_burn_maps_sim2real_dataset\n",
    "from Strategy import RandomDroneRoutingStrategy, return_no_custom_parameters, SensorPlacementOptimization, RandomSensorPlacementStrategy, LoggedOptimizationSensorPlacementStrategy,DroneRoutingOptimizationSlow, DroneRoutingOptimizationModelReuse, DroneRoutingOptimizationModelReuseIndex, LoggedDroneRoutingStrategy, LogWrapperDrone, LogWrapperSensor, DroneRoutingOptimizationModelReuseIndexRegularized\n",
    "from benchmark import run_benchmark_scenario,run_benchmark_scenarii_sequential, get_burnmap_parameters,run_benchmark_scenarii_sequential_precompute, benchmark_on_sim2real_dataset_precompute\n",
    "from displays import create_scenario_video\n",
    "from new_clustering import get_wrapped_strategy\n",
    "from wrappers import wrap_log_sensor_strategy, wrap_log_drone_strategy"
   ]
  },
  {
   "cell_type": "markdown",
   "metadata": {},
   "source": [
    "Uncomment the cell below to preprocess the dataset.\n",
    "- `n_max_scenarii_per_layout` controls the number of scenarios we convert from jpeg to NumPy files for each layout.\n",
    "- If executed on all ~50 layouts of the dataset, the code below takes ~15mins to run and generates **400 GB** of data. Make sure to have the space."
   ]
  },
  {
   "cell_type": "code",
   "execution_count": 2,
   "metadata": {},
   "outputs": [],
   "source": [
    "# preprocess_sim2real_dataset(\"WideDataset/\", n_max_scenarii_per_layout=100) "
   ]
  },
  {
   "cell_type": "markdown",
   "metadata": {},
   "source": [
    "We can now run the benchmark function on any scenario.\n",
    "1. We load the scenario using `load_scenario_npy` since it is in preprocessed `npy` format\n",
    "2. Werun the benchmark using `run_benchmark_scenario` that takes as input:\n",
    "    - The `scenario`, \n",
    "    - The sensor placement strategy and the drone routing strategy\n",
    "    - A dictionary `custom_initialization_parameters` that contains any custom initialization inputs for your strategy functions (such as the burn map if your strategy needs a burn map as input)\n",
    "    - A python function `custom_step_parameters_function` that returns a dictionary of custom inputs for your routing function. This function is executed by the benchmarking code at each time step. Your routing function will be called with: `routing(custom_step_parameters_function())` internally"
   ]
  },
  {
   "cell_type": "code",
   "execution_count": 3,
   "metadata": {},
   "outputs": [],
   "source": [
    "# change values here to change benchmarking parameters\n",
    "def my_automatic_layout_parameters(scenario:np.ndarray,b,c):\n",
    "    return {\n",
    "        \"N\": scenario.shape[1],\n",
    "        \"M\": scenario.shape[2],\n",
    "        \"max_battery_distance\": -1,\n",
    "        \"max_battery_time\": 20,\n",
    "        \"n_drones\": 20,\n",
    "        \"n_ground_stations\": 12,\n",
    "        \"n_charging_stations\": 8,\n",
    "    }"
   ]
  },
  {
   "cell_type": "code",
   "execution_count": null,
   "metadata": {},
   "outputs": [
    {
     "name": "stdout",
     "output_type": "stream",
     "text": [
      "starting benchmark\n",
      "{'delta_t': 43, 'device': 'drone', 'avg_execution_time': np.float64(5.4060026656749635e-06), 'fire_size_cells': np.int64(361), 'fire_size_percentage': np.float64(1.0843445872882373), 'percentage_map_explored': 1.1354079058031958, 'total_distance_traveled': 1096, 'avg_drone_entropy': np.float64(2.9280295256853446), 'sensor_entropy': np.float64(2.484906649788001)}\n",
      "Time taken to run benchmark on the scenario: 0.025416135787963867 seconds\n"
     ]
    }
   ],
   "source": [
    "# That's very fast to run!\n",
    "print(\"starting benchmark\")\n",
    "time_start = time.time()\n",
    "scenario = load_scenario_npy(\"WideDataset/0001/scenarii/0001_00002.npy\")\n",
    "results, (position_history, ground, charging)  = run_benchmark_scenario(scenario, wrap_log_sensor_strategy(RandomSensorPlacementStrategy), wrap_log_drone_strategy(get_wrapped_strategy(DroneRoutingOptimizationModelReuseIndexRegularized)), custom_initialization_parameters = {\"burnmap_filename\": \"./WideDataset/0001/burn_map.npy\", \"load_from_logfile\": False, \"reevaluation_step\": 6, \"optimization_horizon\":6, \"strategy_drone\": DroneRoutingOptimizationModelReuseIndexRegularized, \"strategy_sensor\": RandomSensorPlacementStrategy, \"regularization_param\": 0.0001}, custom_step_parameters_function = return_no_custom_parameters, automatic_initialization_parameters_function=my_automatic_layout_parameters, return_history=True)\n",
    "print(results)\n",
    "print(f\"Time taken to run benchmark on the scenario: {time.time() - time_start} seconds\")\n",
    "\n",
    "\n"
   ]
  },
  {
   "cell_type": "code",
   "execution_count": 5,
   "metadata": {},
   "outputs": [
    {
     "ename": "TypeError",
     "evalue": "custom_initialization_parameters_function() takes 1 positional argument but 2 were given",
     "output_type": "error",
     "traceback": [
      "\u001b[0;31m---------------------------------------------------------------------------\u001b[0m",
      "\u001b[0;31mTypeError\u001b[0m                                 Traceback (most recent call last)",
      "Cell \u001b[0;32mIn[5], line 5\u001b[0m\n\u001b[1;32m      3\u001b[0m     \u001b[38;5;28;01mreturn\u001b[39;00m {\u001b[38;5;124m\"\u001b[39m\u001b[38;5;124mburnmap_filename\u001b[39m\u001b[38;5;124m\"\u001b[39m: \u001b[38;5;124mf\u001b[39m\u001b[38;5;124m\"\u001b[39m\u001b[38;5;132;01m{\u001b[39;00m\u001b[38;5;124m'\u001b[39m\u001b[38;5;124m/\u001b[39m\u001b[38;5;124m'\u001b[39m\u001b[38;5;241m.\u001b[39mjoin(input_dir\u001b[38;5;241m.\u001b[39mstrip(\u001b[38;5;124m'\u001b[39m\u001b[38;5;124m/\u001b[39m\u001b[38;5;124m'\u001b[39m)\u001b[38;5;241m.\u001b[39msplit(\u001b[38;5;124m'\u001b[39m\u001b[38;5;124m/\u001b[39m\u001b[38;5;124m'\u001b[39m)[:\u001b[38;5;241m-\u001b[39m\u001b[38;5;241m1\u001b[39m])\u001b[38;5;132;01m}\u001b[39;00m\u001b[38;5;124m/burn_map.npy\u001b[39m\u001b[38;5;124m\"\u001b[39m, \u001b[38;5;124m\"\u001b[39m\u001b[38;5;124mreevaluation_step\u001b[39m\u001b[38;5;124m\"\u001b[39m: \u001b[38;5;241m5\u001b[39m, \u001b[38;5;124m\"\u001b[39m\u001b[38;5;124moptimization_horizon\u001b[39m\u001b[38;5;124m\"\u001b[39m:\u001b[38;5;241m5\u001b[39m, \u001b[38;5;124m\"\u001b[39m\u001b[38;5;124mstrategy_drone\u001b[39m\u001b[38;5;124m\"\u001b[39m: DroneRoutingOptimizationModelReuseIndex, \u001b[38;5;124m\"\u001b[39m\u001b[38;5;124mstrategy_sensor\u001b[39m\u001b[38;5;124m\"\u001b[39m: RandomSensorPlacementStrategy}\n\u001b[1;32m      4\u001b[0m \u001b[38;5;66;03m#run_benchmark_scenarii_sequential_precompute(input_dir=\"WideDataset/0001/scenarii/\", sensor_placement_strategy=LogWrapperSensor, drone_routing_strategy=LogWrapperDrone, custom_initialization_parameters_function=custom_initialization_parameters_function, custom_step_parameters_function = return_no_custom_parameters, starting_time=0, max_n_scenarii=100)\u001b[39;00m\n\u001b[0;32m----> 5\u001b[0m benchmark_on_sim2real_dataset(\u001b[38;5;124m\"\u001b[39m\u001b[38;5;124mWideDataset/\u001b[39m\u001b[38;5;124m\"\u001b[39m, LogWrapperSensor, LogWrapperDrone, custom_initialization_parameters_function, return_no_custom_parameters, max_n_scenarii\u001b[38;5;241m=\u001b[39m\u001b[38;5;241m100\u001b[39m, starting_time\u001b[38;5;241m=\u001b[39m\u001b[38;5;241m0\u001b[39m)\n",
      "File \u001b[0;32m~/Desktop/Climate/wildfire_drone_routing/code/benchmark.py:606\u001b[0m, in \u001b[0;36mbenchmark_on_sim2real_dataset\u001b[0;34m(dataset_folder_name, ground_placement_strategy, drone_routing_strategy, custom_initialization_parameters_function, custom_step_parameters_function, max_n_scenarii, starting_time)\u001b[0m\n\u001b[1;32m    604\u001b[0m \u001b[38;5;28;01mfor\u001b[39;00m layout_folder \u001b[38;5;129;01min\u001b[39;00m os\u001b[38;5;241m.\u001b[39mlistdir(dataset_folder_name):\n\u001b[1;32m    605\u001b[0m     \u001b[38;5;28;01mif\u001b[39;00m \u001b[38;5;129;01mnot\u001b[39;00m os\u001b[38;5;241m.\u001b[39mpath\u001b[38;5;241m.\u001b[39mexists(dataset_folder_name \u001b[38;5;241m+\u001b[39m layout_folder \u001b[38;5;241m+\u001b[39m \u001b[38;5;124m\"\u001b[39m\u001b[38;5;124m/scenarii/\u001b[39m\u001b[38;5;124m\"\u001b[39m):\u001b[38;5;28;01mcontinue\u001b[39;00m\n\u001b[0;32m--> 606\u001b[0m     run_benchmark_scenarii_sequential(dataset_folder_name \u001b[38;5;241m+\u001b[39m layout_folder \u001b[38;5;241m+\u001b[39m \u001b[38;5;124m\"\u001b[39m\u001b[38;5;124m/scenarii/\u001b[39m\u001b[38;5;124m\"\u001b[39m,\n\u001b[1;32m    607\u001b[0m                                       ground_placement_strategy, \n\u001b[1;32m    608\u001b[0m                                       drone_routing_strategy, \n\u001b[1;32m    609\u001b[0m                                       custom_initialization_parameters_function, \n\u001b[1;32m    610\u001b[0m                                       custom_step_parameters_function, \n\u001b[1;32m    611\u001b[0m                                       starting_time\u001b[38;5;241m=\u001b[39mstarting_time, \n\u001b[1;32m    612\u001b[0m                                       max_n_scenarii\u001b[38;5;241m=\u001b[39mmax_n_scenarii)\n",
      "File \u001b[0;32m~/Desktop/Climate/wildfire_drone_routing/code/benchmark.py:472\u001b[0m, in \u001b[0;36mrun_benchmark_scenarii_sequential\u001b[0;34m(input_dir, sensor_placement_strategy, drone_routing_strategy, custom_initialization_parameters_function, custom_step_parameters_function, starting_time, max_n_scenarii, file_format)\u001b[0m\n\u001b[1;32m    468\u001b[0m drone_entropies \u001b[38;5;241m=\u001b[39m []\n\u001b[1;32m    469\u001b[0m sensor_entropies \u001b[38;5;241m=\u001b[39m []\n\u001b[0;32m--> 472\u001b[0m custom_initialization_parameters \u001b[38;5;241m=\u001b[39m custom_initialization_parameters_function(input_dir, \u001b[38;5;124m\"\u001b[39m\u001b[38;5;124mlayoutA\u001b[39m\u001b[38;5;124m\"\u001b[39m) \u001b[38;5;66;03m#NEED TO CHANGE LATER TO NOT say LayoutA everytime\u001b[39;00m\n\u001b[1;32m    474\u001b[0m \u001b[38;5;28;01mfor\u001b[39;00m file \u001b[38;5;129;01min\u001b[39;00m tqdm\u001b[38;5;241m.\u001b[39mtqdm(iterable, total \u001b[38;5;241m=\u001b[39m N_SCENARII):\n\u001b[1;32m    475\u001b[0m     \u001b[38;5;66;03m#print(f\"Processing scenario {file}\")\u001b[39;00m\n\u001b[1;32m    476\u001b[0m     scenario \u001b[38;5;241m=\u001b[39m load_scenario_fn(file)\n",
      "\u001b[0;31mTypeError\u001b[0m: custom_initialization_parameters_function() takes 1 positional argument but 2 were given"
     ]
    }
   ],
   "source": [
    "def custom_initialization_parameters_function(input_dir:str):\n",
    "    print(f\"input_dir: {input_dir}\")\n",
    "    return {\"burnmap_filename\": f\"{'/'.join(input_dir.strip('/').split('/')[:-1])}/burn_map.npy\", \"reevaluation_step\": 5, \"optimization_horizon\":5, \"strategy_drone\": DroneRoutingOptimizationModelReuseIndex, \"strategy_sensor\": RandomSensorPlacementStrategy}\n",
    "#run_benchmark_scenarii_sequential_precompute(input_dir=\"WideDataset/0001/scenarii/\", sensor_placement_strategy=LogWrapperSensor, drone_routing_strategy=LogWrapperDrone, custom_initialization_parameters_function=custom_initialization_parameters_function, custom_step_parameters_function = return_no_custom_parameters, starting_time=0, max_n_scenarii=100)\n",
    "benchmark_on_sim2real_dataset_precompute(\"WideDataset/\", LogWrapperSensor, LogWrapperDrone, custom_initialization_parameters_function, return_no_custom_parameters, max_n_scenarii=100, starting_time=0)\n",
    "    "
   ]
  },
  {
   "cell_type": "code",
   "execution_count": 8,
   "metadata": {},
   "outputs": [
    {
     "name": "stdout",
     "output_type": "stream",
     "text": [
      "Video saved at: display_test_simulation/test_simulation.mp4\n"
     ]
    }
   ],
   "source": [
    "create_scenario_video(scenario[:len(position_history)],drone_locations_history=position_history,starting_time=0,out_filename='test_simulation', ground_sensor_locations = ground, charging_stations_locations = charging)"
   ]
  },
  {
   "cell_type": "markdown",
   "metadata": {},
   "source": [
    "We can visualize the strategy in action by creating a video of the scenario. \n",
    "1. Use the `return_history` parameter or `run_benchmark_scenario` to output the log of ground sensor and drone positions during the benchmark\n",
    "2. Use the `create_scenario_video` function to compile the video. This can take a couple seconds"
   ]
  },
  {
   "cell_type": "code",
   "execution_count": 4,
   "metadata": {},
   "outputs": [
    {
     "name": "stdout",
     "output_type": "stream",
     "text": [
      "calling julia optimization model\n",
      "In julia fuinction\n",
      "Set parameter Username\n",
      "Set parameter LicenseID to value 2612529\n",
      "Academic license - for non-commercial use only - expires 2026-01-21\n",
      "Took 8.259267374873161 seconds\n",
      "optimization finished\n",
      "Video saved at: display_test_simulation/test_simulation.mp4\n"
     ]
    }
   ],
   "source": [
    "delta , device , (position_history, ground, charging)  = run_benchmark_scenario(scenario, SensorPlacementOptimization, RandomDroneRoutingStrategy, custom_initialization_parameters = {\"burnmap_filename\": \"./WideDataset/0001/burn_map.npy\"}, custom_step_parameters_function = return_no_custom_parameters, automatic_initialization_parameters_function=my_automatic_layout_parameters, return_history=True)\n",
    "create_scenario_video(scenario[:len(position_history)],drone_locations_history=position_history,starting_time=0,out_filename='test_simulation', ground_sensor_locations = ground, charging_stations_locations = charging)"
   ]
  },
  {
   "cell_type": "markdown",
   "metadata": {},
   "source": [
    "Instead of running a benchmark on a single scenario, we are interested in running the benchmark on all scenarii of a given layout (potentially in parallel!)\n",
    "\n",
    "1. We use `run_benchmark_scenarii_sequential`"
   ]
  },
  {
   "cell_type": "code",
   "execution_count": 3,
   "metadata": {},
   "outputs": [
    {
     "name": "stderr",
     "output_type": "stream",
     "text": [
      "100%|██████████| 3/3 [00:00<00:00, 91.85it/s]\n"
     ]
    },
    {
     "name": "stdout",
     "output_type": "stream",
     "text": [
      "Processing scenario MinimalDataset/0001/scenarii/0001_00033.npy\n",
      "Processing scenario MinimalDataset/0001/scenarii/0001_00034.npy\n",
      "Processing scenario MinimalDataset/0001/scenarii/0001_00005.npy\n",
      "Avg time steps to fire detection: 0.0\n",
      "Fire found 0.0% of the time by ground sensor\n",
      "Fire found 0.0% of the time by charging station\n",
      "Fire found 0.0% of the time by drone\n",
      "Fire found 100.0% of the time by undetected\n",
      "Avg routing execution time: 0.0000 sec\n",
      "Avg fire size at detection (cells): 0.00\n",
      "Avg fire size at detection (% of map): 0.00%\n",
      "Avg percentage of map explored by drones: 0.20%\n",
      "Avg total distance traveled by drones: 357.33 units\n",
      "Avg drone entropy per timestep: 0.0000\n",
      "Avg sensor placement entropy: 0.0000\n"
     ]
    },
    {
     "name": "stderr",
     "output_type": "stream",
     "text": [
      "100%|██████████| 3/3 [00:00<00:00, 23.72it/s]"
     ]
    },
    {
     "name": "stdout",
     "output_type": "stream",
     "text": [
      "Processing scenario MinimalDataset/0001/Satellite_Images_Mask/0001_00005\n",
      "Processing scenario MinimalDataset/0001/Satellite_Images_Mask/0001_00002\n",
      "Processing scenario MinimalDataset/0001/Satellite_Images_Mask/0001_00003\n",
      "Avg time steps to fire detection: 0.0\n",
      "Fire found 0.0% of the time by ground sensor\n",
      "Fire found 0.0% of the time by charging station\n",
      "Fire found 0.0% of the time by drone\n",
      "Fire found 100.0% of the time by undetected\n",
      "Avg routing execution time: 0.0000 sec\n",
      "Avg fire size at detection (cells): 0.00\n",
      "Avg fire size at detection (% of map): 0.00%\n",
      "Avg percentage of map explored by drones: 0.20%\n",
      "Avg total distance traveled by drones: 373.33 units\n",
      "Avg drone entropy per timestep: 0.0000\n",
      "Avg sensor placement entropy: 0.0000\n"
     ]
    },
    {
     "name": "stderr",
     "output_type": "stream",
     "text": [
      "\n"
     ]
    }
   ],
   "source": [
    "run_benchmark_scenarii_sequential(\"MinimalDataset/0001/scenarii/\", RandomSensorPlacementStrategy, RandomDroneRoutingStrategy, custom_initialization_parameters_function = get_burnmap_parameters, custom_step_parameters_function = return_no_custom_parameters, starting_time=0, max_n_scenarii=3)\n",
    "run_benchmark_scenarii_sequential(\"MinimalDataset/0001/Satellite_Images_Mask/\", RandomSensorPlacementStrategy, RandomDroneRoutingStrategy, custom_initialization_parameters_function = get_burnmap_parameters, custom_step_parameters_function = return_no_custom_parameters, starting_time=0, max_n_scenarii=3, file_format=\"jpg\")"
   ]
  },
  {
   "cell_type": "markdown",
   "metadata": {},
   "source": [
    "On all of the dataset!"
   ]
  },
  {
   "cell_type": "code",
   "execution_count": null,
   "metadata": {},
   "outputs": [],
   "source": [
    "benchmark_on_sim2real_dataset(\"WideDataset/\", SensorPlacementStrategy, DroneRoutingStrategy, custom_initialization_parameters_function = lambda x: None, custom_step_parameters_function = return_no_custom_parameters, max_n_scenarii=100, starting_time=0)"
   ]
  },
  {
   "cell_type": "code",
   "execution_count": 4,
   "metadata": {},
   "outputs": [
    {
     "name": "stdout",
     "output_type": "stream",
     "text": [
      "calling julia optimization model\n",
      "optimization finished\n",
      "calling julia optimization model\n",
      "optimization finished\n",
      "calling julia optimization model\n",
      "optimization finished\n",
      "calling julia optimization model\n",
      "optimization finished\n",
      "calling julia optimization model\n",
      "optimization finished\n",
      "calling julia optimization model\n",
      "optimization finished\n",
      "calling julia optimization model\n",
      "optimization finished\n",
      "calling julia optimization model\n",
      "optimization finished\n",
      "calling julia optimization model\n",
      "optimization finished\n",
      "calling julia optimization model\n",
      "optimization finished\n",
      "calling julia optimization model\n",
      "optimization finished\n",
      "calling julia optimization model\n",
      "optimization finished\n",
      "calling julia optimization model\n",
      "optimization finished\n",
      "calling julia optimization model\n",
      "optimization finished\n",
      "calling julia optimization model\n",
      "optimization finished\n",
      "calling julia optimization model\n",
      "optimization finished\n",
      "calling julia optimization model\n",
      "optimization finished\n",
      "calling julia optimization model\n",
      "optimization finished\n",
      "calling julia optimization model\n",
      "optimization finished\n",
      "calling julia optimization model\n",
      "optimization finished\n",
      "calling julia optimization model\n",
      "optimization finished\n",
      "calling julia optimization model\n",
      "optimization finished\n",
      "calling julia optimization model\n",
      "optimization finished\n",
      "calling julia optimization model\n",
      "optimization finished\n",
      "calling julia optimization model\n",
      "optimization finished\n",
      "calling julia optimization model\n",
      "optimization finished\n",
      "calling julia optimization model\n",
      "optimization finished\n",
      "calling julia optimization model\n",
      "optimization finished\n",
      "calling julia optimization model\n",
      "optimization finished\n",
      "calling julia optimization model\n",
      "optimization finished\n",
      "calling julia optimization model\n",
      "optimization finished\n",
      "calling julia optimization model\n",
      "optimization finished\n",
      "calling julia optimization model\n",
      "optimization finished\n",
      "calling julia optimization model\n",
      "optimization finished\n",
      "calling julia optimization model\n",
      "optimization finished\n",
      "calling julia optimization model\n",
      "optimization finished\n",
      "calling julia optimization model\n",
      "optimization finished\n",
      "calling julia optimization model\n",
      "optimization finished\n",
      "calling julia optimization model\n",
      "optimization finished\n",
      "calling julia optimization model\n",
      "optimization finished\n",
      "calling julia optimization model\n",
      "optimization finished\n",
      "calling julia optimization model\n",
      "optimization finished\n",
      "calling julia optimization model\n",
      "optimization finished\n",
      "calling julia optimization model\n",
      "optimization finished\n",
      "calling julia optimization model\n",
      "optimization finished\n",
      "Fire detected in  ground sensor time steps by device:  45\n",
      "Time taken to run benchmark on the scenario: 0.43914222717285156 seconds\n"
     ]
    }
   ],
   "source": [
    "# That's very fast to run!\n",
    "time_start = time.time()\n",
    "scenario = load_scenario_npy(\"WideDataset/0001/scenarii/0001_00002.npy\")\n",
    "device, delta_t, _ = run_benchmark_scenario(scenario, RandomSensorPlacementStrategy, DroneRoutingOptimizationSlow, custom_initialization_parameters = {\"burnmap_filename\": \"./WideDataset/0001/burn_map.npy\", \"call_every_n_steps\": 5, \"optimization_horizon\": 10}, custom_step_parameters_function = return_no_custom_parameters, automatic_initialization_parameters_function=my_automatic_layout_parameters, return_history=True)\n",
    "print(\"Fire detected in \", delta_t, \"time steps by device: \", device)\n",
    "print(f\"Time taken to run benchmark on the scenario: {time.time() - time_start} seconds\")\n"
   ]
  },
  {
   "cell_type": "markdown",
   "metadata": {},
   "source": []
  },
  {
   "cell_type": "code",
   "execution_count": 13,
   "metadata": {},
   "outputs": [],
   "source": [
    "# define function to get parameters for optimal drone routing strategy\n",
    "# def get_routing_optimization_parameters(input_dir:str):\n",
    "#     return {\n",
    "#         \"burnmap_filename\": f\"{input_dir}/burn_map.npy\",\n",
    "#         \"call_every_n_steps\": 5,\n",
    "#         \"optimization_horizon\": 10\n",
    "#     }\n",
    "\n",
    "# add the log\n"
   ]
  },
  {
   "cell_type": "code",
   "execution_count": null,
   "metadata": {},
   "outputs": [],
   "source": []
  }
 ],
 "metadata": {
  "kernelspec": {
   "display_name": "Python 3",
   "language": "python",
   "name": "python3"
  },
  "language_info": {
   "codemirror_mode": {
    "name": "ipython",
    "version": 3
   },
   "file_extension": ".py",
   "mimetype": "text/x-python",
   "name": "python",
   "nbconvert_exporter": "python",
   "pygments_lexer": "ipython3",
   "version": "3.12.8"
  }
 },
 "nbformat": 4,
 "nbformat_minor": 2
}
