{
 "cells": [
  {
   "cell_type": "markdown",
   "metadata": {},
   "source": [
    "## Preprocess the Sim2Real dataset\n",
    "\n",
    "The Sim2Real dataset uses jpeg images to represent wildfire masks. This representation is very lightweight but slow to work with. \n",
    "To benchmark faster, we convert them to binary NumPy files. These files are ~100 times heavier and it requires an overhead time to convert from jpeg to them, but once they are created and stored, they allow 50--100x faster operations.\n",
    "\n",
    "1. Download the dataset from [Sim2Real-Fire GitHub repository](https://github.com/TJU-IDVLab/Sim2Real-Fire).\n",
    "2. Extract all files from the dataset into your `Dataset` folder\n",
    "3. Run the preprocessing function to convert from the jpeg representation to the NumPy one, and compute burn maps"
   ]
  },
  {
   "cell_type": "code",
   "execution_count": 1,
   "metadata": {},
   "outputs": [
    {
     "name": "stdout",
     "output_type": "stream",
     "text": [
      "Requirement already satisfied: numpy in /opt/anaconda3/lib/python3.12/site-packages (from -r requirements.txt (line 1)) (1.26.4)\n",
      "Requirement already satisfied: opencv-python in /opt/anaconda3/lib/python3.12/site-packages (from -r requirements.txt (line 2)) (4.10.0.84)\n",
      "Requirement already satisfied: matplotlib in /opt/anaconda3/lib/python3.12/site-packages (from -r requirements.txt (line 3)) (3.9.2)\n",
      "Requirement already satisfied: tqdm in /opt/anaconda3/lib/python3.12/site-packages (from -r requirements.txt (line 4)) (4.66.5)\n",
      "Requirement already satisfied: juliacall in /opt/anaconda3/lib/python3.12/site-packages (from -r requirements.txt (line 5)) (0.9.24)\n",
      "Requirement already satisfied: contourpy>=1.0.1 in /opt/anaconda3/lib/python3.12/site-packages (from matplotlib->-r requirements.txt (line 3)) (1.2.0)\n",
      "Requirement already satisfied: cycler>=0.10 in /opt/anaconda3/lib/python3.12/site-packages (from matplotlib->-r requirements.txt (line 3)) (0.11.0)\n",
      "Requirement already satisfied: fonttools>=4.22.0 in /opt/anaconda3/lib/python3.12/site-packages (from matplotlib->-r requirements.txt (line 3)) (4.51.0)\n",
      "Requirement already satisfied: kiwisolver>=1.3.1 in /opt/anaconda3/lib/python3.12/site-packages (from matplotlib->-r requirements.txt (line 3)) (1.4.4)\n",
      "Requirement already satisfied: packaging>=20.0 in /opt/anaconda3/lib/python3.12/site-packages (from matplotlib->-r requirements.txt (line 3)) (24.1)\n",
      "Requirement already satisfied: pillow>=8 in /opt/anaconda3/lib/python3.12/site-packages (from matplotlib->-r requirements.txt (line 3)) (10.4.0)\n",
      "Requirement already satisfied: pyparsing>=2.3.1 in /opt/anaconda3/lib/python3.12/site-packages (from matplotlib->-r requirements.txt (line 3)) (3.1.2)\n",
      "Requirement already satisfied: python-dateutil>=2.7 in /opt/anaconda3/lib/python3.12/site-packages (from matplotlib->-r requirements.txt (line 3)) (2.9.0.post0)\n",
      "Requirement already satisfied: juliapkg~=0.1.8 in /opt/anaconda3/lib/python3.12/site-packages (from juliacall->-r requirements.txt (line 5)) (0.1.15)\n",
      "Requirement already satisfied: semver~=3.0 in /opt/anaconda3/lib/python3.12/site-packages (from juliapkg~=0.1.8->juliacall->-r requirements.txt (line 5)) (3.0.2)\n",
      "Requirement already satisfied: six>=1.5 in /opt/anaconda3/lib/python3.12/site-packages (from python-dateutil>=2.7->matplotlib->-r requirements.txt (line 3)) (1.16.0)\n",
      "Note: you may need to restart the kernel to use updated packages.\n"
     ]
    }
   ],
   "source": [
    "pip install -r requirements.txt"
   ]
  },
  {
   "cell_type": "code",
   "execution_count": 1,
   "metadata": {},
   "outputs": [
    {
     "name": "stdout",
     "output_type": "stream",
     "text": [
      "Detected IPython. Loading juliacall extension. See https://juliapy.github.io/PythonCall.jl/stable/compat/#IPython\n",
      "Initializing the Julia session. This can take up to 1 minute.\n",
      "initializing the ground sensor julia module\n",
      "installing packages\n",
      "initializing the drone julia module\n",
      "Julia session initialized.\n"
     ]
    }
   ],
   "source": [
    "# import requred modules\n",
    "import sys\n",
    "import os\n",
    "import time\n",
    "import numpy as np\n",
    "\n",
    "# Add code to path\n",
    "module_path = os.path.abspath(\".\") + \"/code\"\n",
    "if module_path not in sys.path:\n",
    "    sys.path.append(module_path)\n",
    "\n",
    "from dataset import preprocess_sim2real_dataset, load_scenario_npy, compute_and_save_burn_maps_sim2real_dataset\n",
    "from Strategy import RandomDroneRoutingStrategy, return_no_custom_parameters, SensorPlacementOptimization, RandomSensorPlacementStrategy, LoggedOptimizationSensorPlacementStrategy,DroneRoutingOptimizationSlow, DroneRoutingOptimizationModelReuse, DroneRoutingOptimizationModelReuseIndex\n",
    "from benchmark import run_benchmark_scenario,run_benchmark_scenarii_sequential, benchmark_on_sim2real_dataset, get_burnmap_parameters\n",
    "from displays import create_scenario_video"
   ]
  },
  {
   "cell_type": "markdown",
   "metadata": {},
   "source": [
    "Uncomment the cell below to preprocess the dataset.\n",
    "- `n_max_scenarii_per_layout` controls the number of scenarios we convert from jpeg to NumPy files for each layout.\n",
    "- If executed on all ~50 layouts of the dataset, the code below takes ~15mins to run and generates **400 GB** of data. Make sure to have the space."
   ]
  },
  {
   "cell_type": "code",
   "execution_count": 2,
   "metadata": {},
   "outputs": [],
   "source": [
    "# preprocess_sim2real_dataset(\"WideDataset/\", n_max_scenarii_per_layout=100) "
   ]
  },
  {
   "cell_type": "markdown",
   "metadata": {},
   "source": [
    "We can now run the benchmark function on any scenario.\n",
    "1. We load the scenario using `load_scenario_npy` since it is in preprocessed `npy` format\n",
    "2. Werun the benchmark using `run_benchmark_scenario` that takes as input:\n",
    "    - The `scenario`, \n",
    "    - The sensor placement strategy and the drone routing strategy\n",
    "    - A dictionary `custom_initialization_parameters` that contains any custom initialization inputs for your strategy functions (such as the burn map if your strategy needs a burn map as input)\n",
    "    - A python function `custom_step_parameters_function` that returns a dictionary of custom inputs for your routing function. This function is executed by the benchmarking code at each time step. Your routing function will be called with: `routing(custom_step_parameters_function())` internally"
   ]
  },
  {
   "cell_type": "code",
   "execution_count": 12,
   "metadata": {},
   "outputs": [],
   "source": [
    "# change values here to change benchmarking parameters\n",
    "def my_automatic_layout_parameters(scenario:np.ndarray):\n",
    "    return {\n",
    "        \"N\": scenario.shape[1],\n",
    "        \"M\": scenario.shape[2],\n",
    "        \"max_battery_distance\": -10,\n",
    "        \"max_battery_time\": 20,\n",
    "        \"n_drones\": 5,\n",
    "        \"n_ground_stations\": 10,\n",
    "        \"n_charging_stations\": 4,\n",
    "    }"
   ]
  },
  {
   "cell_type": "code",
   "execution_count": null,
   "metadata": {},
   "outputs": [],
   "source": [
    "# That's very fast to run!\n",
    "print(\"starting benchmark\")\n",
    "time_start = time.time()\n",
    "scenario = load_scenario_npy(\"WideDataset/0001/scenarii/0001_00002.npy\")\n",
    "results, (position_history, ground, charging)  = run_benchmark_scenario(scenario, LoggedOptimizationSensorPlacementStrategy, DroneRoutingOptimizationModelReuseIndex, custom_initialization_parameters = {\"burnmap_filename\": \"./WideDataset/0001/burn_map.npy\", \"load_from_logfile\": True, \"reevaluation_step\": 5, \"optimization_horizon\":5}, custom_step_parameters_function = return_no_custom_parameters, automatic_initialization_parameters_function=my_automatic_layout_parameters, return_history=True)\n",
    "print(results)\n",
    "print(f\"Time taken to run benchmark on the scenario: {time.time() - time_start} seconds\")\n",
    "\n"
   ]
  },
  {
   "cell_type": "code",
   "execution_count": 17,
   "metadata": {},
   "outputs": [
    {
     "name": "stdout",
     "output_type": "stream",
     "text": [
      "Video saved at: display_test_simulation/test_simulation.mp4\n"
     ]
    }
   ],
   "source": [
    "create_scenario_video(scenario[:len(position_history)],drone_locations_history=position_history,starting_time=0,out_filename='test_simulation', ground_sensor_locations = ground, charging_stations_locations = charging)"
   ]
  },
  {
   "cell_type": "markdown",
   "metadata": {},
   "source": [
    "We can visualize the strategy in action by creating a video of the scenario. \n",
    "1. Use the `return_history` parameter or `run_benchmark_scenario` to output the log of ground sensor and drone positions during the benchmark\n",
    "2. Use the `create_scenario_video` function to compile the video. This can take a couple seconds"
   ]
  },
  {
   "cell_type": "code",
   "execution_count": 4,
   "metadata": {},
   "outputs": [
    {
     "name": "stdout",
     "output_type": "stream",
     "text": [
      "calling julia optimization model\n",
      "In julia fuinction\n",
      "Set parameter Username\n",
      "Set parameter LicenseID to value 2612529\n",
      "Academic license - for non-commercial use only - expires 2026-01-21\n",
      "Took 8.259267374873161 seconds\n",
      "optimization finished\n",
      "Video saved at: display_test_simulation/test_simulation.mp4\n"
     ]
    }
   ],
   "source": [
    "delta , device , (position_history, ground, charging)  = run_benchmark_scenario(scenario, SensorPlacementOptimization, RandomDroneRoutingStrategy, custom_initialization_parameters = {\"burnmap_filename\": \"./WideDataset/0001/burn_map.npy\"}, custom_step_parameters_function = return_no_custom_parameters, automatic_initialization_parameters_function=my_automatic_layout_parameters, return_history=True)\n",
    "create_scenario_video(scenario[:len(position_history)],drone_locations_history=position_history,starting_time=0,out_filename='test_simulation', ground_sensor_locations = ground, charging_stations_locations = charging)"
   ]
  },
  {
   "cell_type": "markdown",
   "metadata": {},
   "source": [
    "Instead of running a benchmark on a single scenario, we are interested in running the benchmark on all scenarii of a given layout (potentially in parallel!)\n",
    "\n",
    "1. We use `run_benchmark_scenarii_sequential`"
   ]
  },
  {
   "cell_type": "code",
   "execution_count": 3,
   "metadata": {},
   "outputs": [
    {
     "name": "stderr",
     "output_type": "stream",
     "text": [
      "100%|██████████| 3/3 [00:00<00:00, 91.85it/s]\n"
     ]
    },
    {
     "name": "stdout",
     "output_type": "stream",
     "text": [
      "Processing scenario MinimalDataset/0001/scenarii/0001_00033.npy\n",
      "Processing scenario MinimalDataset/0001/scenarii/0001_00034.npy\n",
      "Processing scenario MinimalDataset/0001/scenarii/0001_00005.npy\n",
      "Avg time steps to fire detection: 0.0\n",
      "Fire found 0.0% of the time by ground sensor\n",
      "Fire found 0.0% of the time by charging station\n",
      "Fire found 0.0% of the time by drone\n",
      "Fire found 100.0% of the time by undetected\n",
      "Avg routing execution time: 0.0000 sec\n",
      "Avg fire size at detection (cells): 0.00\n",
      "Avg fire size at detection (% of map): 0.00%\n",
      "Avg percentage of map explored by drones: 0.20%\n",
      "Avg total distance traveled by drones: 357.33 units\n",
      "Avg drone entropy per timestep: 0.0000\n",
      "Avg sensor placement entropy: 0.0000\n"
     ]
    },
    {
     "name": "stderr",
     "output_type": "stream",
     "text": [
      "100%|██████████| 3/3 [00:00<00:00, 23.72it/s]"
     ]
    },
    {
     "name": "stdout",
     "output_type": "stream",
     "text": [
      "Processing scenario MinimalDataset/0001/Satellite_Images_Mask/0001_00005\n",
      "Processing scenario MinimalDataset/0001/Satellite_Images_Mask/0001_00002\n",
      "Processing scenario MinimalDataset/0001/Satellite_Images_Mask/0001_00003\n",
      "Avg time steps to fire detection: 0.0\n",
      "Fire found 0.0% of the time by ground sensor\n",
      "Fire found 0.0% of the time by charging station\n",
      "Fire found 0.0% of the time by drone\n",
      "Fire found 100.0% of the time by undetected\n",
      "Avg routing execution time: 0.0000 sec\n",
      "Avg fire size at detection (cells): 0.00\n",
      "Avg fire size at detection (% of map): 0.00%\n",
      "Avg percentage of map explored by drones: 0.20%\n",
      "Avg total distance traveled by drones: 373.33 units\n",
      "Avg drone entropy per timestep: 0.0000\n",
      "Avg sensor placement entropy: 0.0000\n"
     ]
    },
    {
     "name": "stderr",
     "output_type": "stream",
     "text": [
      "\n"
     ]
    }
   ],
   "source": [
    "run_benchmark_scenarii_sequential(\"MinimalDataset/0001/scenarii/\", RandomSensorPlacementStrategy, RandomDroneRoutingStrategy, custom_initialization_parameters_function = get_burnmap_parameters, custom_step_parameters_function = return_no_custom_parameters, starting_time=0, max_n_scenarii=3)\n",
    "run_benchmark_scenarii_sequential(\"MinimalDataset/0001/Satellite_Images_Mask/\", RandomSensorPlacementStrategy, RandomDroneRoutingStrategy, custom_initialization_parameters_function = get_burnmap_parameters, custom_step_parameters_function = return_no_custom_parameters, starting_time=0, max_n_scenarii=3, file_format=\"jpg\")"
   ]
  },
  {
   "cell_type": "markdown",
   "metadata": {},
   "source": [
    "On all of the dataset!"
   ]
  },
  {
   "cell_type": "code",
   "execution_count": null,
   "metadata": {},
   "outputs": [],
   "source": [
    "benchmark_on_sim2real_dataset(\"WideDataset/\", SensorPlacementStrategy, DroneRoutingStrategy, custom_initialization_parameters_function = lambda x: None, custom_step_parameters_function = return_no_custom_parameters, max_n_scenarii=100, starting_time=0)"
   ]
  },
  {
   "cell_type": "code",
   "execution_count": 4,
   "metadata": {},
   "outputs": [
    {
     "name": "stdout",
     "output_type": "stream",
     "text": [
      "calling julia optimization model\n",
      "optimization finished\n",
      "calling julia optimization model\n",
      "optimization finished\n",
      "calling julia optimization model\n",
      "optimization finished\n",
      "calling julia optimization model\n",
      "optimization finished\n",
      "calling julia optimization model\n",
      "optimization finished\n",
      "calling julia optimization model\n",
      "optimization finished\n",
      "calling julia optimization model\n",
      "optimization finished\n",
      "calling julia optimization model\n",
      "optimization finished\n",
      "calling julia optimization model\n",
      "optimization finished\n",
      "calling julia optimization model\n",
      "optimization finished\n",
      "calling julia optimization model\n",
      "optimization finished\n",
      "calling julia optimization model\n",
      "optimization finished\n",
      "calling julia optimization model\n",
      "optimization finished\n",
      "calling julia optimization model\n",
      "optimization finished\n",
      "calling julia optimization model\n",
      "optimization finished\n",
      "calling julia optimization model\n",
      "optimization finished\n",
      "calling julia optimization model\n",
      "optimization finished\n",
      "calling julia optimization model\n",
      "optimization finished\n",
      "calling julia optimization model\n",
      "optimization finished\n",
      "calling julia optimization model\n",
      "optimization finished\n",
      "calling julia optimization model\n",
      "optimization finished\n",
      "calling julia optimization model\n",
      "optimization finished\n",
      "calling julia optimization model\n",
      "optimization finished\n",
      "calling julia optimization model\n",
      "optimization finished\n",
      "calling julia optimization model\n",
      "optimization finished\n",
      "calling julia optimization model\n",
      "optimization finished\n",
      "calling julia optimization model\n",
      "optimization finished\n",
      "calling julia optimization model\n",
      "optimization finished\n",
      "calling julia optimization model\n",
      "optimization finished\n",
      "calling julia optimization model\n",
      "optimization finished\n",
      "calling julia optimization model\n",
      "optimization finished\n",
      "calling julia optimization model\n",
      "optimization finished\n",
      "calling julia optimization model\n",
      "optimization finished\n",
      "calling julia optimization model\n",
      "optimization finished\n",
      "calling julia optimization model\n",
      "optimization finished\n",
      "calling julia optimization model\n",
      "optimization finished\n",
      "calling julia optimization model\n",
      "optimization finished\n",
      "calling julia optimization model\n",
      "optimization finished\n",
      "calling julia optimization model\n",
      "optimization finished\n",
      "calling julia optimization model\n",
      "optimization finished\n",
      "calling julia optimization model\n",
      "optimization finished\n",
      "calling julia optimization model\n",
      "optimization finished\n",
      "calling julia optimization model\n",
      "optimization finished\n",
      "calling julia optimization model\n",
      "optimization finished\n",
      "calling julia optimization model\n",
      "optimization finished\n",
      "Fire detected in  ground sensor time steps by device:  45\n",
      "Time taken to run benchmark on the scenario: 0.43914222717285156 seconds\n"
     ]
    }
   ],
   "source": [
    "# That's very fast to run!\n",
    "time_start = time.time()\n",
    "scenario = load_scenario_npy(\"WideDataset/0001/scenarii/0001_00002.npy\")\n",
    "device, delta_t, _ = run_benchmark_scenario(scenario, RandomSensorPlacementStrategy, DroneRoutingOptimizationSlow, custom_initialization_parameters = {\"burnmap_filename\": \"./WideDataset/0001/burn_map.npy\", \"call_every_n_steps\": 5, \"optimization_horizon\": 10}, custom_step_parameters_function = return_no_custom_parameters, automatic_initialization_parameters_function=my_automatic_layout_parameters, return_history=True)\n",
    "print(\"Fire detected in \", delta_t, \"time steps by device: \", device)\n",
    "print(f\"Time taken to run benchmark on the scenario: {time.time() - time_start} seconds\")\n"
   ]
  },
  {
   "cell_type": "markdown",
   "metadata": {},
   "source": []
  },
  {
   "cell_type": "code",
   "execution_count": 13,
   "metadata": {},
   "outputs": [],
   "source": [
    "# define function to get parameters for optimal drone routing strategy\n",
    "# def get_routing_optimization_parameters(input_dir:str):\n",
    "#     return {\n",
    "#         \"burnmap_filename\": f\"{input_dir}/burn_map.npy\",\n",
    "#         \"call_every_n_steps\": 5,\n",
    "#         \"optimization_horizon\": 10\n",
    "#     }\n",
    "\n",
    "# add the log\n"
   ]
  },
  {
   "cell_type": "code",
   "execution_count": null,
   "metadata": {},
   "outputs": [],
   "source": []
  }
 ],
 "metadata": {
  "kernelspec": {
   "display_name": "base",
   "language": "python",
   "name": "python3"
  },
  "language_info": {
   "codemirror_mode": {
    "name": "ipython",
    "version": 3
   },
   "file_extension": ".py",
   "mimetype": "text/x-python",
   "name": "python",
   "nbconvert_exporter": "python",
   "pygments_lexer": "ipython3",
   "version": "3.12.7"
  }
 },
 "nbformat": 4,
 "nbformat_minor": 2
}
