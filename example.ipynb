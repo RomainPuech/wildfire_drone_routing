{
 "cells": [
  {
   "cell_type": "markdown",
   "metadata": {},
   "source": [
    "## Preprocess the Sim2Real dataset\n",
    "\n",
    "The Sim2Real dataset uses jpeg images to represent wildfire masks. This representation is very lightweight but slow to work with. \n",
    "To benchmark faster, we convert them to binary NumPy files. These files are ~100 times heavier and it requires an overhead time to convert from jpeg to them, but once they are created and stored, they allow 50--100x faster operations.\n",
    "\n",
    "1. Download the dataset from [Sim2Real-Fire GitHub repository](https://github.com/TJU-IDVLab/Sim2Real-Fire).\n",
    "2. Extract all files from the dataset into your `Dataset` folder\n",
    "3. Run the preprocessing function to convert from the jpeg representation to the NumPy one, and compute burn maps"
   ]
  },
  {
   "cell_type": "code",
   "execution_count": null,
   "metadata": {},
   "outputs": [],
   "source": [
    "pip install -r requirements.txt"
   ]
  },
  {
   "cell_type": "code",
   "execution_count": null,
   "metadata": {},
   "outputs": [],
   "source": [
    "# import requred modules\n",
    "import sys\n",
    "import os\n",
    "import time\n",
    "\n",
    "# Add code to path\n",
    "module_path = os.path.abspath(\".\") + \"/code\"\n",
    "if module_path not in sys.path:\n",
    "    sys.path.append(module_path)\n",
    "\n",
    "from dataset import preprocess_sim2real_dataset, load_scenario_npy, compute_and_save_burn_maps_sim2real_dataset\n",
    "from Strategy import SensorPlacementStrategy, DroneRoutingStrategy, return_no_custom_parameters, SensorPlacementOptimization\n",
    "from benchmark import run_benchmark_scenario,run_benchmark_scenarii_sequential, benchmark_on_sim2real_dataset\n",
    "from displays import create_scenario_video"
   ]
  },
  {
   "cell_type": "markdown",
   "metadata": {},
   "source": [
    "Uncomment the cell below to preprocess the dataset.\n",
    "- `n_max_scenarii_per_layout` controls the number of scenarios we convert from jpeg to NumPy files for each layout.\n",
    "- If executed on all ~50 layouts of the dataset, the code below takes ~15mins to run and generates **400 GB** of data. Make sure to have the space."
   ]
  },
  {
   "cell_type": "code",
   "execution_count": null,
   "metadata": {},
   "outputs": [
    {
     "name": "stdout",
     "output_type": "stream",
     "text": [
      "Computing burn map for WideDataset/0012_02094/scenarii/ and files with extension .npy\n"
     ]
    },
    {
     "name": "stderr",
     "output_type": "stream",
     "text": [
      "100%|██████████| 100/100 [00:02<00:00, 43.46it/s]\n"
     ]
    },
    {
     "name": "stdout",
     "output_type": "stream",
     "text": [
      "Computing burn map for WideDataset/0004_01191/scenarii/ and files with extension .npy\n"
     ]
    },
    {
     "name": "stderr",
     "output_type": "stream",
     "text": [
      "100%|██████████| 100/100 [00:02<00:00, 35.75it/s]\n"
     ]
    },
    {
     "name": "stdout",
     "output_type": "stream",
     "text": [
      "Computing burn map for WideDataset/0051_00362/scenarii/ and files with extension .npy\n"
     ]
    },
    {
     "name": "stderr",
     "output_type": "stream",
     "text": [
      "100%|██████████| 100/100 [00:00<00:00, 104.60it/s]\n"
     ]
    },
    {
     "name": "stdout",
     "output_type": "stream",
     "text": [
      "Computing burn map for WideDataset/0018_02440/scenarii/ and files with extension .npy\n"
     ]
    },
    {
     "name": "stderr",
     "output_type": "stream",
     "text": [
      "100%|██████████| 100/100 [00:01<00:00, 92.85it/s]\n"
     ]
    },
    {
     "name": "stdout",
     "output_type": "stream",
     "text": [
      "Computing burn map for WideDataset/0002/scenarii/ and files with extension .npy\n"
     ]
    },
    {
     "name": "stderr",
     "output_type": "stream",
     "text": [
      "100%|██████████| 100/100 [00:00<00:00, 162.50it/s]\n"
     ]
    },
    {
     "name": "stdout",
     "output_type": "stream",
     "text": [
      "Computing burn map for WideDataset/0055_02555/scenarii/ and files with extension .npy\n"
     ]
    },
    {
     "name": "stderr",
     "output_type": "stream",
     "text": [
      "100%|██████████| 100/100 [00:01<00:00, 93.95it/s]\n"
     ]
    },
    {
     "name": "stdout",
     "output_type": "stream",
     "text": [
      "Computing burn map for WideDataset/0015_02986/scenarii/ and files with extension .npy\n"
     ]
    },
    {
     "name": "stderr",
     "output_type": "stream",
     "text": [
      "100%|██████████| 100/100 [00:03<00:00, 28.84it/s]\n"
     ]
    },
    {
     "name": "stdout",
     "output_type": "stream",
     "text": [
      "Computing burn map for WideDataset/0019_01316/scenarii/ and files with extension .npy\n"
     ]
    },
    {
     "name": "stderr",
     "output_type": "stream",
     "text": [
      "100%|██████████| 100/100 [00:03<00:00, 32.91it/s]\n"
     ]
    },
    {
     "name": "stdout",
     "output_type": "stream",
     "text": [
      "Computing burn map for WideDataset/0049_01289/scenarii/ and files with extension .npy\n"
     ]
    },
    {
     "name": "stderr",
     "output_type": "stream",
     "text": [
      "100%|██████████| 100/100 [00:13<00:00,  7.57it/s]\n"
     ]
    },
    {
     "name": "stdout",
     "output_type": "stream",
     "text": [
      "Computing burn map for WideDataset/0050_01447/scenarii/ and files with extension .npy\n"
     ]
    },
    {
     "name": "stderr",
     "output_type": "stream",
     "text": [
      "100%|██████████| 100/100 [00:01<00:00, 55.26it/s]\n"
     ]
    },
    {
     "name": "stdout",
     "output_type": "stream",
     "text": [
      "Computing burn map for WideDataset/0035_00642/scenarii/ and files with extension .npy\n"
     ]
    },
    {
     "name": "stderr",
     "output_type": "stream",
     "text": [
      "100%|██████████| 100/100 [00:01<00:00, 54.66it/s]\n"
     ]
    },
    {
     "name": "stdout",
     "output_type": "stream",
     "text": [
      "Computing burn map for WideDataset/0033_01077/scenarii/ and files with extension .npy\n"
     ]
    },
    {
     "name": "stderr",
     "output_type": "stream",
     "text": [
      "100%|██████████| 100/100 [00:03<00:00, 26.87it/s]\n"
     ]
    },
    {
     "name": "stdout",
     "output_type": "stream",
     "text": [
      "Computing burn map for WideDataset/0023_00995/scenarii/ and files with extension .npy\n"
     ]
    },
    {
     "name": "stderr",
     "output_type": "stream",
     "text": [
      "100%|██████████| 100/100 [00:02<00:00, 36.39it/s]\n"
     ]
    },
    {
     "name": "stdout",
     "output_type": "stream",
     "text": [
      "Computing burn map for WideDataset/0052_00798/scenarii/ and files with extension .npy\n"
     ]
    },
    {
     "name": "stderr",
     "output_type": "stream",
     "text": [
      "100%|██████████| 100/100 [00:01<00:00, 64.22it/s]\n"
     ]
    },
    {
     "name": "stdout",
     "output_type": "stream",
     "text": [
      "Computing burn map for WideDataset/0047_05424/scenarii/ and files with extension .npy\n"
     ]
    },
    {
     "name": "stderr",
     "output_type": "stream",
     "text": [
      "100%|██████████| 13/13 [00:03<00:00,  3.65it/s]\n"
     ]
    },
    {
     "name": "stdout",
     "output_type": "stream",
     "text": [
      "Computing burn map for WideDataset/0014_00426/scenarii/ and files with extension .npy\n"
     ]
    },
    {
     "name": "stderr",
     "output_type": "stream",
     "text": [
      "100%|██████████| 100/100 [00:00<00:00, 240.57it/s]\n"
     ]
    },
    {
     "name": "stdout",
     "output_type": "stream",
     "text": [
      "Computing burn map for WideDataset/0003_01715/scenarii/ and files with extension .npy\n"
     ]
    },
    {
     "name": "stderr",
     "output_type": "stream",
     "text": [
      "100%|██████████| 100/100 [00:02<00:00, 49.50it/s]\n"
     ]
    },
    {
     "name": "stdout",
     "output_type": "stream",
     "text": [
      "Computing burn map for WideDataset/0037_01578/scenarii/ and files with extension .npy\n"
     ]
    },
    {
     "name": "stderr",
     "output_type": "stream",
     "text": [
      "100%|██████████| 100/100 [00:04<00:00, 24.41it/s]\n"
     ]
    },
    {
     "name": "stdout",
     "output_type": "stream",
     "text": [
      "Computing burn map for WideDataset/0005_00725/scenarii/ and files with extension .npy\n"
     ]
    },
    {
     "name": "stderr",
     "output_type": "stream",
     "text": [
      "100%|██████████| 100/100 [00:01<00:00, 64.25it/s]\n"
     ]
    },
    {
     "name": "stdout",
     "output_type": "stream",
     "text": [
      "Computing burn map for WideDataset/0054_01387/scenarii/ and files with extension .npy\n"
     ]
    },
    {
     "name": "stderr",
     "output_type": "stream",
     "text": [
      "100%|██████████| 100/100 [00:02<00:00, 49.71it/s]\n"
     ]
    },
    {
     "name": "stdout",
     "output_type": "stream",
     "text": [
      "Computing burn map for WideDataset/0041_02386/scenarii/ and files with extension .npy\n"
     ]
    },
    {
     "name": "stderr",
     "output_type": "stream",
     "text": [
      "100%|██████████| 100/100 [00:03<00:00, 26.20it/s]\n"
     ]
    },
    {
     "name": "stdout",
     "output_type": "stream",
     "text": [
      "Computing burn map for WideDataset/0021_01232/scenarii/ and files with extension .npy\n"
     ]
    },
    {
     "name": "stderr",
     "output_type": "stream",
     "text": [
      "100%|██████████| 97/97 [00:02<00:00, 36.29it/s]\n"
     ]
    },
    {
     "name": "stdout",
     "output_type": "stream",
     "text": [
      "Computing burn map for WideDataset/0024_02655/scenarii/ and files with extension .npy\n"
     ]
    },
    {
     "name": "stderr",
     "output_type": "stream",
     "text": [
      "100%|██████████| 100/100 [00:02<00:00, 36.74it/s]\n"
     ]
    },
    {
     "name": "stdout",
     "output_type": "stream",
     "text": [
      "Computing burn map for WideDataset/0036_00212/scenarii/ and files with extension .npy\n"
     ]
    },
    {
     "name": "stderr",
     "output_type": "stream",
     "text": [
      "100%|██████████| 98/98 [00:00<00:00, 124.91it/s]\n"
     ]
    },
    {
     "name": "stdout",
     "output_type": "stream",
     "text": [
      "Computing burn map for WideDataset/0017_02731/scenarii/ and files with extension .npy\n"
     ]
    },
    {
     "name": "stderr",
     "output_type": "stream",
     "text": [
      "100%|██████████| 100/100 [00:01<00:00, 84.95it/s]\n"
     ]
    },
    {
     "name": "stdout",
     "output_type": "stream",
     "text": [
      "Computing burn map for WideDataset/0013_01466/scenarii/ and files with extension .npy\n"
     ]
    },
    {
     "name": "stderr",
     "output_type": "stream",
     "text": [
      "100%|██████████| 100/100 [00:01<00:00, 55.29it/s]\n"
     ]
    },
    {
     "name": "stdout",
     "output_type": "stream",
     "text": [
      "Computing burn map for WideDataset/0001/scenarii/ and files with extension .npy\n"
     ]
    },
    {
     "name": "stderr",
     "output_type": "stream",
     "text": [
      "100%|██████████| 100/100 [00:00<00:00, 226.37it/s]\n"
     ]
    },
    {
     "name": "stdout",
     "output_type": "stream",
     "text": [
      "Computing burn map for WideDataset/0025_02019/scenarii/ and files with extension .npy\n"
     ]
    },
    {
     "name": "stderr",
     "output_type": "stream",
     "text": [
      "100%|██████████| 100/100 [00:02<00:00, 44.54it/s]\n"
     ]
    },
    {
     "name": "stdout",
     "output_type": "stream",
     "text": [
      "Computing burn map for WideDataset/0020_00970/scenarii/ and files with extension .npy\n"
     ]
    },
    {
     "name": "stderr",
     "output_type": "stream",
     "text": [
      "100%|██████████| 100/100 [00:03<00:00, 32.94it/s]\n"
     ]
    },
    {
     "name": "stdout",
     "output_type": "stream",
     "text": [
      "Computing burn map for WideDataset/0053_02689/scenarii/ and files with extension .npy\n"
     ]
    },
    {
     "name": "stderr",
     "output_type": "stream",
     "text": [
      "100%|██████████| 100/100 [00:02<00:00, 36.69it/s]\n"
     ]
    },
    {
     "name": "stdout",
     "output_type": "stream",
     "text": [
      "Computing burn map for WideDataset/0016_03070/scenarii/ and files with extension .npy\n"
     ]
    },
    {
     "name": "stderr",
     "output_type": "stream",
     "text": [
      "100%|██████████| 100/100 [00:03<00:00, 29.41it/s]\n"
     ]
    },
    {
     "name": "stdout",
     "output_type": "stream",
     "text": [
      "Computing burn map for WideDataset/0034_01801/scenarii/ and files with extension .npy\n"
     ]
    },
    {
     "name": "stderr",
     "output_type": "stream",
     "text": [
      "100%|██████████| 100/100 [00:02<00:00, 34.86it/s]\n"
     ]
    },
    {
     "name": "stdout",
     "output_type": "stream",
     "text": [
      "Computing burn map for WideDataset/0039_01770/scenarii/ and files with extension .npy\n"
     ]
    },
    {
     "name": "stderr",
     "output_type": "stream",
     "text": [
      "100%|██████████| 100/100 [00:01<00:00, 79.05it/s]\n"
     ]
    },
    {
     "name": "stdout",
     "output_type": "stream",
     "text": [
      "Computing burn map for WideDataset/0048_01141/scenarii/ and files with extension .npy\n"
     ]
    },
    {
     "name": "stderr",
     "output_type": "stream",
     "text": [
      "100%|██████████| 100/100 [00:18<00:00,  5.44it/s]\n"
     ]
    },
    {
     "name": "stdout",
     "output_type": "stream",
     "text": [
      "Computing burn map for WideDataset/0040_01688/scenarii/ and files with extension .npy\n"
     ]
    },
    {
     "name": "stderr",
     "output_type": "stream",
     "text": [
      "100%|██████████| 100/100 [00:01<00:00, 54.16it/s]\n"
     ]
    }
   ],
   "source": [
    "# preprocess_sim2real_dataset(\"WideDataset/\", n_max_scenarii_per_layout=100) "
   ]
  },
  {
   "cell_type": "markdown",
   "metadata": {},
   "source": [
    "We can now run the benchmark function on any scenario.\n",
    "1. We load the scenario using `load_scenario_npy` since it is in preprocessed `npy` format\n",
    "2. Werun the benchmark using `run_benchmark_scenario` that takes as input:\n",
    "    - The `scenario`, \n",
    "    - The sensor placement strategy and the drone routing strategy\n",
    "    - A dictionary `custom_initialization_parameters` that contains any custom initialization inputs for your strategy functions (such as the burn map if your strategy needs a burn map as input)\n",
    "    - A python function `custom_step_parameters_function` that returns a dictionary of custom inputs for your routing function. This function is executed by the benchmarking code at each time step. Your routing function will be called with: `routing(custom_step_parameters_function())` internally"
   ]
  },
  {
   "cell_type": "code",
   "execution_count": null,
   "metadata": {},
   "outputs": [
    {
     "name": "stdout",
     "output_type": "stream",
     "text": [
      "getting sensor locations\n",
      "initializing sensor placement optimization\n",
      "calling julia optimization model\n"
     ]
    }
   ],
   "source": [
    "# That's very fast to run!\n",
    "time_start = time.time()\n",
    "scenario = load_scenario_npy(\"WideDataset/0001/scenarii/0001_00002.npy\")\n",
    "device, delta_t, _ = run_benchmark_scenario(scenario, SensorPlacementOptimization, DroneRoutingStrategy, custom_initialization_parameters = {\"burnmap_filename\": \"./WideDataset/0001/burn_map.npy\"}, custom_step_parameters_function = return_no_custom_parameters)\n",
    "print(\"Fire detected in \", delta_t, \"time steps by device: \", device)\n",
    "print(f\"Time taken to run benchmark on the scenario: {time.time() - time_start} seconds\")\n"
   ]
  },
  {
   "cell_type": "code",
   "execution_count": 9,
   "metadata": {},
   "outputs": [
    {
     "data": {
      "text/plain": [
       "array([[[0.0000000e+00, 0.0000000e+00, 0.0000000e+00, ...,\n",
       "         0.0000000e+00, 0.0000000e+00, 0.0000000e+00],\n",
       "        [0.0000000e+00, 0.0000000e+00, 0.0000000e+00, ...,\n",
       "         0.0000000e+00, 0.0000000e+00, 0.0000000e+00],\n",
       "        [0.0000000e+00, 0.0000000e+00, 0.0000000e+00, ...,\n",
       "         0.0000000e+00, 0.0000000e+00, 0.0000000e+00],\n",
       "        ...,\n",
       "        [0.0000000e+00, 0.0000000e+00, 0.0000000e+00, ...,\n",
       "         0.0000000e+00, 0.0000000e+00, 0.0000000e+00],\n",
       "        [0.0000000e+00, 0.0000000e+00, 0.0000000e+00, ...,\n",
       "         0.0000000e+00, 0.0000000e+00, 0.0000000e+00],\n",
       "        [0.0000000e+00, 0.0000000e+00, 0.0000000e+00, ...,\n",
       "         0.0000000e+00, 0.0000000e+00, 0.0000000e+00]],\n",
       "\n",
       "       [[0.0000000e+00, 0.0000000e+00, 0.0000000e+00, ...,\n",
       "         0.0000000e+00, 0.0000000e+00, 0.0000000e+00],\n",
       "        [0.0000000e+00, 0.0000000e+00, 0.0000000e+00, ...,\n",
       "         0.0000000e+00, 0.0000000e+00, 0.0000000e+00],\n",
       "        [0.0000000e+00, 0.0000000e+00, 0.0000000e+00, ...,\n",
       "         0.0000000e+00, 0.0000000e+00, 0.0000000e+00],\n",
       "        ...,\n",
       "        [0.0000000e+00, 0.0000000e+00, 0.0000000e+00, ...,\n",
       "         0.0000000e+00, 0.0000000e+00, 0.0000000e+00],\n",
       "        [0.0000000e+00, 0.0000000e+00, 0.0000000e+00, ...,\n",
       "         0.0000000e+00, 0.0000000e+00, 0.0000000e+00],\n",
       "        [0.0000000e+00, 0.0000000e+00, 0.0000000e+00, ...,\n",
       "         0.0000000e+00, 0.0000000e+00, 0.0000000e+00]],\n",
       "\n",
       "       [[0.0000000e+00, 0.0000000e+00, 0.0000000e+00, ...,\n",
       "         0.0000000e+00, 0.0000000e+00, 0.0000000e+00],\n",
       "        [0.0000000e+00, 0.0000000e+00, 0.0000000e+00, ...,\n",
       "         0.0000000e+00, 0.0000000e+00, 0.0000000e+00],\n",
       "        [0.0000000e+00, 0.0000000e+00, 0.0000000e+00, ...,\n",
       "         0.0000000e+00, 0.0000000e+00, 0.0000000e+00],\n",
       "        ...,\n",
       "        [0.0000000e+00, 0.0000000e+00, 0.0000000e+00, ...,\n",
       "         0.0000000e+00, 0.0000000e+00, 0.0000000e+00],\n",
       "        [0.0000000e+00, 0.0000000e+00, 0.0000000e+00, ...,\n",
       "         0.0000000e+00, 0.0000000e+00, 0.0000000e+00],\n",
       "        [0.0000000e+00, 0.0000000e+00, 0.0000000e+00, ...,\n",
       "         0.0000000e+00, 0.0000000e+00, 0.0000000e+00]],\n",
       "\n",
       "       ...,\n",
       "\n",
       "       [[2.5065359e-01, 5.1699346e-01, 5.1952612e-01, ...,\n",
       "         1.6617647e-01, 1.8733659e-01, 2.1160131e-02],\n",
       "        [4.9779412e-01, 5.4142159e-01, 5.4117650e-01, ...,\n",
       "         1.8553922e-01, 1.8717320e-01, 1.4575164e-01],\n",
       "        [4.9942809e-01, 5.3978759e-01, 5.4084969e-01, ...,\n",
       "         1.8741830e-01, 1.8733659e-01, 1.8668300e-01],\n",
       "        ...,\n",
       "        [2.0833333e-01, 2.0816994e-01, 2.0833333e-01, ...,\n",
       "         2.0751635e-02, 2.0833334e-02, 2.0751635e-02],\n",
       "        [1.2500000e-01, 2.0751634e-01, 2.0718955e-01, ...,\n",
       "         0.0000000e+00, 2.0669935e-02, 1.6339870e-04],\n",
       "        [2.0915033e-02, 1.8750000e-01, 2.0767973e-01, ...,\n",
       "         2.0833334e-02, 2.0669935e-02, 4.0849674e-04]],\n",
       "\n",
       "       [[2.0657440e-01, 5.2560556e-01, 5.2814305e-01, ...,\n",
       "         2.0519032e-01, 2.3529412e-01, 2.9642446e-02],\n",
       "        [4.9803922e-01, 5.5847752e-01, 5.5801612e-01, ...,\n",
       "         2.3252594e-01, 2.3483276e-01, 2.0565167e-01],\n",
       "        [4.9884659e-01, 5.5697811e-01, 5.5778545e-01, ...,\n",
       "         2.3517878e-01, 2.3506343e-01, 2.3414071e-01],\n",
       "        ...,\n",
       "        [2.0588236e-01, 2.0565167e-01, 2.0588236e-01, ...,\n",
       "         2.9296424e-02, 2.9411765e-02, 2.9296424e-02],\n",
       "        [1.4705883e-01, 2.0495963e-01, 2.0507497e-01, ...,\n",
       "         0.0000000e+00, 2.9181084e-02, 2.3068053e-04],\n",
       "        [2.9527105e-02, 1.7647059e-01, 2.0542099e-01, ...,\n",
       "         2.9411765e-02, 2.9181084e-02, 5.7670131e-04]],\n",
       "\n",
       "       [[1.9291101e-01, 5.7269984e-01, 5.3740573e-01, ...,\n",
       "         1.5369533e-01, 1.9230770e-01, 3.8461540e-02],\n",
       "        [4.9819005e-01, 5.7692307e-01, 5.7601810e-01, ...,\n",
       "         1.8974359e-01, 1.9170438e-01, 1.5384616e-01],\n",
       "        [4.9879336e-01, 5.7481146e-01, 5.7601810e-01, ...,\n",
       "         1.9215687e-01, 1.9230770e-01, 1.9185521e-01],\n",
       "        ...,\n",
       "        [2.3076923e-01, 2.3046757e-01, 2.3076923e-01, ...,\n",
       "         3.8310710e-02, 3.8461540e-02, 3.8310710e-02],\n",
       "        [1.5384616e-01, 2.2956260e-01, 2.2971343e-01, ...,\n",
       "         0.0000000e+00, 3.8159881e-02, 3.0165914e-04],\n",
       "        [1.5082957e-04, 1.9230770e-01, 2.3016591e-01, ...,\n",
       "         3.8461540e-02, 3.8159881e-02, 7.5414783e-04]]], dtype=float32)"
      ]
     },
     "execution_count": 9,
     "metadata": {},
     "output_type": "execute_result"
    }
   ],
   "source": [
    "import numpy as np\n",
    "np.load(\"./WideDataset/0001/burn_map.npy\", allow_pickle=True)"
   ]
  },
  {
   "cell_type": "markdown",
   "metadata": {},
   "source": [
    "We can visualize the strategy in action by creating a video of the scenario. \n",
    "1. Use the `return_history` parameter or `run_benchmark_scenario` to output the log of ground sensor and drone positions during the benchmark\n",
    "2. Use the `create_scenario_video` function to compile the video. This can take a couple seconds"
   ]
  },
  {
   "cell_type": "code",
   "execution_count": 4,
   "metadata": {},
   "outputs": [
    {
     "name": "stdout",
     "output_type": "stream",
     "text": [
      "Video saved at: display_test_simulation/test_simulation.mp4\n"
     ]
    }
   ],
   "source": [
    "delta , device , (position_history, ground, charging)  = run_benchmark_scenario(scenario, SensorPlacementStrategy, DroneRoutingStrategy, custom_initialization_parameters = None, custom_step_parameters_function = return_no_custom_parameters, return_history=True)\n",
    "create_scenario_video(scenario[:len(position_history)],drone_locations_history=position_history,starting_time=0,out_filename='test_simulation', ground_sensor_locations = ground, charging_stations_locations = charging)"
   ]
  },
  {
   "cell_type": "markdown",
   "metadata": {},
   "source": [
    "Instead of running a benchmark on a single scenario, we are interested in running the benchmark on all scenarii of a given layout (potentially in parallel!)\n",
    "\n",
    "1. We use `run_benchmark_scenarii_sequential`"
   ]
  },
  {
   "cell_type": "code",
   "execution_count": 5,
   "metadata": {},
   "outputs": [
    {
     "name": "stderr",
     "output_type": "stream",
     "text": [
      "100%|██████████| 100/100 [00:00<00:00, 141.79it/s]"
     ]
    },
    {
     "name": "stdout",
     "output_type": "stream",
     "text": [
      "This strategy took on average 11.909090909090908 time steps to find the fire.\n",
      "Fire found 29.0% of the time by ground sensor\n",
      "Fire found 27.0% of the time by charging station\n",
      "Fire found 43.0% of the time by drone\n",
      "Fire found 1.0% of the time by undetected\n"
     ]
    },
    {
     "name": "stderr",
     "output_type": "stream",
     "text": [
      "\n"
     ]
    }
   ],
   "source": [
    "run_benchmark_scenarii_sequential(\"WideDataset/0001/scenarii/\", SensorPlacementStrategy, DroneRoutingStrategy, custom_initialization_parameters_function = lambda x: None, custom_step_parameters_function = return_no_custom_parameters, starting_time=0, max_n_scenarii=100)"
   ]
  },
  {
   "cell_type": "markdown",
   "metadata": {},
   "source": [
    "On all of the dataset!"
   ]
  },
  {
   "cell_type": "code",
   "execution_count": null,
   "metadata": {},
   "outputs": [],
   "source": [
    "benchmark_on_sim2real_dataset(\"WideDataset/\", SensorPlacementStrategy, DroneRoutingStrategy, custom_initialization_parameters_function = lambda x: None, custom_step_parameters_function = return_no_custom_parameters, max_n_scenarii=100, starting_time=0)"
   ]
  },
  {
   "cell_type": "code",
   "execution_count": null,
   "metadata": {},
   "outputs": [],
   "source": [
    "# That's very fast to run!\n",
    "time_start = time.time()\n",
    "scenario = load_scenario_npy(\"WideDataset/0001/scenarii/0001_00002.npy\")\n",
    "device, delta_t, _ = run_benchmark_scenario(scenario, SensorPlacementStrategy, SensorPlacementOptimization, custom_initialization_parameters = None, custom_step_parameters_function = return_no_custom_parameters)\n",
    "print(\"Fire detected in \", delta_t, \"time steps by device: \", device)\n",
    "print(f\"Time taken to run benchmark on the scenario: {time.time() - time_start} seconds\")\n"
   ]
  },
  {
   "cell_type": "markdown",
   "metadata": {},
   "source": []
  }
 ],
 "metadata": {
  "kernelspec": {
   "display_name": "base",
   "language": "python",
   "name": "python3"
  },
  "language_info": {
   "codemirror_mode": {
    "name": "ipython",
    "version": 3
   },
   "file_extension": ".py",
   "mimetype": "text/x-python",
   "name": "python",
   "nbconvert_exporter": "python",
   "pygments_lexer": "ipython3",
   "version": "3.12.7"
  }
 },
 "nbformat": 4,
 "nbformat_minor": 2
}
