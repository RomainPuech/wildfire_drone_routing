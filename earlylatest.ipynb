{
 "cells": [
  {
   "cell_type": "code",
   "execution_count": 1,
   "metadata": {},
   "outputs": [],
   "source": [
    "import os, sys, shutil\n",
    "\n",
    "from glob import glob\n",
    "\n",
    "module_path = os.path.abspath(\".\") + \"/code\"\n",
    "if module_path not in sys.path:\n",
    "    sys.path.append(module_path)\n"
   ]
  },
  {
   "cell_type": "code",
   "execution_count": 4,
   "metadata": {},
   "outputs": [],
   "source": [
    "from datetime import datetime\n",
    "def return_first_scenario(path):\n",
    "    chosen_subfolder = None\n",
    "    with os.scandir(path) as it:\n",
    "        for entry in it:\n",
    "            if entry.is_dir() and entry.name != '.DS_Store':\n",
    "                chosen_subfolder = entry.name\n",
    "                break\n",
    "    if chosen_subfolder is None:\n",
    "        raise ValueError(\"No subfolder found\")\n",
    "    return chosen_subfolder\n",
    "\n",
    "\n",
    "\n",
    "def find_earliest_latest_dates(layout_path):\n",
    "    \"\"\"\n",
    "    Find the earliest and latest dates in a layout folder.\n",
    "    \"\"\"\n",
    "    earliest_date = None\n",
    "    latest_date = None\n",
    "    for filename in os.listdir(os.path.join(layout_path, \"Weather_Data\")):\n",
    "        if filename.endswith(\".txt\"):\n",
    "            with open(os.path.join(layout_path, \"Weather_Data\", filename), \"r\") as f:\n",
    "                lines = f.readlines()\n",
    "                first_date = lines[0][:15]\n",
    "                last_date = lines[-1][:15]\n",
    "                first_date = datetime.strptime(first_date, \"%Y %m %d %H%M\")\n",
    "                last_date = datetime.strptime(last_date, \"%Y %m %d %H%M\")\n",
    "                if earliest_date is None or first_date < earliest_date:\n",
    "                    earliest_date = first_date\n",
    "                if latest_date is None or last_date > latest_date:\n",
    "                    latest_date = last_date\n",
    "    return earliest_date, latest_date"
   ]
  },
  {
   "cell_type": "code",
   "execution_count": null,
   "metadata": {},
   "outputs": [
    {
     "name": "stdout",
     "output_type": "stream",
     "text": [
      "Processing layout: .DS_Store\n",
      "Processing layout: 0002\n",
      "Processing layout: 0001\n",
      "Saved layout date ranges to layout_date_ranges.csv\n"
     ]
    }
   ],
   "source": [
    "import os\n",
    "import pandas as pd\n",
    "\n",
    "# Root folder containing all layout folders\n",
    "LAYOUTS_ROOT = \"./WideDataset\"\n",
    "\n",
    "layout_dates = []\n",
    "\n",
    "for layout_id in os.listdir(LAYOUTS_ROOT):\n",
    "    print(f\"Processing layout: {layout_id}\")\n",
    "    layout_path = os.path.join(LAYOUTS_ROOT, layout_id)\n",
    "    if not os.path.isdir(layout_path):\n",
    "        continue\n",
    "\n",
    "    try:\n",
    "        start_day, end_day = find_earliest_latest_dates(layout_path)\n",
    "        layout_dates.append({\n",
    "            \"layout_id\": layout_id,\n",
    "            \"start_day\": start_day,\n",
    "            \"end_day\": end_day\n",
    "        })\n",
    "    except Exception as e:\n",
    "        print(f\"Skipping {layout_id} due to error: {e}\")\n",
    "\n",
    "# Convert to DataFrame\n",
    "df = pd.DataFrame(layout_dates)\n",
    "\n",
    "# Sort by start_day\n",
    "df = df.sort_values(\"start_day\")\n",
    "\n",
    "# Save to CSV\n",
    "df.to_csv(\"layout_date_ranges.csv\", index=False)\n",
    "\n",
    "print(\"Saved layout date ranges to layout_date_ranges.csv\")\n"
   ]
  }
 ],
 "metadata": {
  "kernelspec": {
   "display_name": "Python 3",
   "language": "python",
   "name": "python3"
  },
  "language_info": {
   "codemirror_mode": {
    "name": "ipython",
    "version": 3
   },
   "file_extension": ".py",
   "mimetype": "text/x-python",
   "name": "python",
   "nbconvert_exporter": "python",
   "pygments_lexer": "ipython3",
   "version": "3.10.7"
  }
 },
 "nbformat": 4,
 "nbformat_minor": 2
}
