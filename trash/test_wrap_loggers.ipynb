{
 "cells": [
  {
   "cell_type": "code",
   "execution_count": null,
   "metadata": {},
   "outputs": [],
   "source": [
    "# === 1. Import ===\n",
    "import sys\n",
    "import os\n",
    "\n",
    "# Add the folder where wrappers.py is located\n",
    "sys.path.append('/Users/josephye/Desktop/wildfire_drone_routing/code')  # <== update this path\n",
    "\n",
    "from wrappers import wrap_log_strategy\n",
    "\n",
    "# If you have strategies in a different file:\n",
    "from Strategy import LoggedSensorPlacementStrategy\n"
   ]
  },
  {
   "cell_type": "code",
   "execution_count": null,
   "metadata": {},
   "outputs": [],
   "source": [
    "# === 2. Set up parameters ===\n",
    "\n",
    "automatic_params = {\n",
    "    \"N\": 10,\n",
    "    \"M\": 10,\n",
    "    \"n_ground_stations\": 5,\n",
    "    \"n_charging_stations\": 5\n",
    "}\n",
    "\n",
    "custom_params = {\n",
    "    \"log_file\": \"./MinimalDataset/0001/custom_params/\",  # base dir\n",
    "    \"layout_name\": \"layout_A\",\n",
    "    \"burnmap_filename\": \"./MinimalDataset/0001/burn_map.npy\"\n",
    "}\n",
    "\n",
    "# make sure logs directory exists\n",
    "os.makedirs('./MinimalDataset/0001/logs', exist_ok=True)\n"
   ]
  },
  {
   "cell_type": "code",
   "execution_count": null,
   "metadata": {},
   "outputs": [
    {
     "name": "stdout",
     "output_type": "stream",
     "text": [
      "First run (should compute and save):\n",
      "[wrap_log_strategy] Log not found, running LoggedSensorPlacementStrategy...\n",
      "[LoggedSensorPlacementStrategy] Log file not found at ./MinimalDataset/0001/logs/layout_A_WrappedStrategy_5_sensors.json. Running dummy optimization...\n",
      "[LoggedSensorPlacementStrategy] Dummy optimization done. Results saved to ./MinimalDataset/0001/logs/layout_A_WrappedStrategy_5_sensors.json\n",
      "[wrap_log_strategy] Placements saved to: ./MinimalDataset/0001/logs/_LoggedSensorPlacementStrategy_10N_10M_5ground_5charge.json\n",
      "\n",
      "Ground sensor locations: [(7, 2), (1, 6), (9, 0), (6, 4), (8, 7)]\n",
      "Charging station locations: [(1, 1), (0, 2), (3, 8), (2, 8), (9, 5)]\n"
     ]
    }
   ],
   "source": [
    "# === 3. Wrap the strategy ===\n",
    "\n",
    "WrappedStrategy = wrap_log_strategy(LoggedSensorPlacementStrategy)\n",
    "\n",
    "# === 4. Instantiate and run ===\n",
    "print(\"First run (should compute and save):\")\n",
    "strategy_instance_1 = WrappedStrategy(automatic_params, custom_params)\n",
    "ground_1, charge_1 = strategy_instance_1.get_locations()\n",
    "\n",
    "print(\"\\nGround sensor locations:\", ground_1)\n",
    "print(\"Charging station locations:\", charge_1)\n"
   ]
  },
  {
   "cell_type": "code",
   "execution_count": null,
   "metadata": {},
   "outputs": [
    {
     "name": "stdout",
     "output_type": "stream",
     "text": [
      "Second run (should load from cache):\n",
      "[wrap_log_strategy] Loading placement from: ./MinimalDataset/0001/logs/_LoggedSensorPlacementStrategy_10N_10M_5ground_5charge.json\n",
      "\n",
      "Ground sensor locations (second run): [(7, 2), (1, 6), (9, 0), (6, 4), (8, 7)]\n",
      "Charging station locations (second run): [(1, 1), (0, 2), (3, 8), (2, 8), (9, 5)]\n"
     ]
    }
   ],
   "source": [
    "# === 5. Run again (should load from log) ===\n",
    "print(\"Second run (should load from cache):\")\n",
    "strategy_instance_2 = WrappedStrategy(automatic_params, custom_params)\n",
    "ground_2, charge_2 = strategy_instance_2.get_locations()\n",
    "\n",
    "print(\"\\nGround sensor locations (second run):\", ground_2)\n",
    "print(\"Charging station locations (second run):\", charge_2)\n"
   ]
  }
 ],
 "metadata": {
  "kernelspec": {
   "display_name": "Python 3",
   "language": "python",
   "name": "python3"
  },
  "language_info": {
   "codemirror_mode": {
    "name": "ipython",
    "version": 3
   },
   "file_extension": ".py",
   "mimetype": "text/x-python",
   "name": "python",
   "nbconvert_exporter": "python",
   "pygments_lexer": "ipython3",
   "version": "3.10.7"
  }
 },
 "nbformat": 4,
 "nbformat_minor": 2
}
